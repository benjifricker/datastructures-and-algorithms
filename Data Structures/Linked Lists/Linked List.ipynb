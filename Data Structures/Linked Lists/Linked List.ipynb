{
 "cells": [
  {
   "cell_type": "markdown",
   "metadata": {},
   "source": [
    "# Linked List"
   ]
  },
  {
   "cell_type": "markdown",
   "metadata": {},
   "source": [
    "## Introduction"
   ]
  },
  {
   "cell_type": "markdown",
   "metadata": {},
   "source": [
    "Similar to the array, the linked list is also a linear data structure"
   ]
  },
  {
   "cell_type": "markdown",
   "metadata": {},
   "source": [
    "There are two types of linked list: singly linked list and doubly linked list"
   ]
  },
  {
   "cell_type": "markdown",
   "metadata": {},
   "source": [
    "## Singly Linked List"
   ]
  },
  {
   "cell_type": "markdown",
   "metadata": {},
   "source": [
    "#### **Add Operation**"
   ]
  },
  {
   "cell_type": "markdown",
   "metadata": {},
   "source": [
    "Unlike an array, we don’t need to move all elements past the inserted element. Therefore, you can insert a new node into a linked list in O(1) time complexity, which is very efficient"
   ]
  },
  {
   "cell_type": "markdown",
   "metadata": {},
   "source": [
    "#### **Delete Operation**"
   ]
  },
  {
   "cell_type": "markdown",
   "metadata": {},
   "source": [
    "In our first step, we need to find out prev and next. It is easy to find out next using the reference field of cur. However, we have to traverse the linked list from the head node to find out prev which will take O(N) time on average, where N is the length of the linked list. So the time complexity of deleting a node will be O(N).  \n",
    "The space complexity is O(1) because we only need constant space to store our pointers."
   ]
  },
  {
   "cell_type": "markdown",
   "metadata": {},
   "source": [
    "#### **Design: Singly Linked List**"
   ]
  },
  {
   "cell_type": "code",
   "execution_count": null,
   "metadata": {},
   "outputs": [],
   "source": [
    "class ListNode:\n",
    "    def __init__(self, val):\n",
    "        self.val = val\n",
    "        self.next = None\n",
    "\n",
    "\n",
    "class LinkedList:\n",
    "    def __init__(self):\n",
    "        \"\"\"\n",
    "        Initialize your data structure here.\n",
    "        \"\"\"\n",
    "        self.size = 0\n",
    "        self.head = ListNode(0) # Sentinel node as pseudo-head\n",
    "\n",
    "        \n",
    "    def get(self, index: int) -> int:\n",
    "        \"\"\"\n",
    "        Get the value of the index-th node in the linked list. If the index is invalid, return -1.\n",
    "        \"\"\"\n",
    "        # Invalid index\n",
    "        if index < 0 or index >= self.size:\n",
    "            return -1\n",
    "        \n",
    "        curr = self.head\n",
    "        # Index + 1 steps needed to get to index from\n",
    "        # sentinel node\n",
    "        for _ in range(index + 1):\n",
    "            curr = curr.next\n",
    "        return curr.val\n",
    "\n",
    "    \n",
    "    def addAtHead(self, val: int) -> None:\n",
    "        \"\"\"\n",
    "        Add a node of value val before the first element of the linked list. After the insertion, the new node will be the first node of the linked list.\n",
    "        \"\"\"\n",
    "        self.addAtIndex(0, val)\n",
    "    \n",
    "    \n",
    "    def addAtTail(self, val: int) -> None:\n",
    "        \"\"\"\n",
    "        Append a node of value val to the last element of the linked list.\n",
    "        \"\"\"\n",
    "        self.addAtIndex(self.size, val)\n",
    "\n",
    "\n",
    "    def addAtIndex(self, index: int, val: int) -> None:\n",
    "        \"\"\"\n",
    "        Add a node of value val before the index-th node in the linked list. If index equals to the length of linked list, the node will be appended to the end of linked list. If index is greater than the length, the node will not be inserted.\n",
    "        \"\"\"\n",
    "        # Invalid index\n",
    "        if index > self.size:\n",
    "            return\n",
    "        # Negative index is inserted at head\n",
    "        if index < 0:\n",
    "            index = 0\n",
    "        \n",
    "        self.size += 1\n",
    "        prev = self.head\n",
    "        for _ in range(index):\n",
    "            prev = prev.next\n",
    "            \n",
    "        # New node\n",
    "        to_add = ListNode(val)\n",
    "        # Insertion\n",
    "        to_add.next = prev.next\n",
    "        prev.next = to_add\n",
    "        \n",
    "\n",
    "    def deleteAtIndex(self, index: int) -> None:\n",
    "        \"\"\"\n",
    "        Delete the index-th node in the linked list, if the index is valid.\n",
    "        \"\"\"\n",
    "        # Invalid index\n",
    "        if index < 0 or index >= self.size:\n",
    "            return\n",
    "        \n",
    "        self.size -= 1\n",
    "        # Prev is predecessor to index-th node\n",
    "        prev = self.head\n",
    "        for _ in range(index):\n",
    "            prev = prev.next\n",
    "        \n",
    "        prev.next = prev.next.next\n",
    "\n",
    "\n",
    "ll = LinkedList()\n",
    "ll.addAtHead(1)\n",
    "ll.addAtTail(2)\n",
    "ll.get(1)"
   ]
  },
  {
   "cell_type": "markdown",
   "metadata": {},
   "source": [
    "## Two Pointer Technique"
   ]
  },
  {
   "cell_type": "markdown",
   "metadata": {},
   "source": [
    "Scenarios to use the two-pointer technique:\n",
    "\n",
    "- Two pointers starts at different position: One starts at the beginning while another starts at the end\n",
    "- Two pointers are moved at different speed: One is faster while another one might be slower\n",
    "\n",
    "Since Singly Linked Lists can only be traversed in one direction, the second scenario, also called **slow-pointer and fast-pointer technique**, is really useful."
   ]
  },
  {
   "cell_type": "markdown",
   "metadata": {},
   "source": [
    "#### **Linked List Cycle**"
   ]
  },
  {
   "cell_type": "markdown",
   "metadata": {},
   "source": [
    "Given head, the head of a linked list, determine if the linked list has a cycle in it.\n",
    "\n",
    "There is a cycle in a linked list if there is some node in the list that can be reached again by continuously following the next pointer. Internally, pos is used to denote the index of the node that tail's next pointer is connected to. Note that pos is not passed as a parameter.\n",
    "\n",
    "Return true if there is a cycle in the linked list. Otherwise, return false."
   ]
  },
  {
   "cell_type": "markdown",
   "metadata": {},
   "source": [
    "- Two-pointer technique has lower space complexity than a hash table implementation, which keeps track of previously visited nodes"
   ]
  },
  {
   "cell_type": "code",
   "execution_count": null,
   "metadata": {},
   "outputs": [],
   "source": [
    "class ListNode:\n",
    "    def __init__(self, val):\n",
    "        self.val = val\n",
    "        self.next = None\n",
    "        \n",
    "# Instantiate nodes\n",
    "n1 = ListNode(1)\n",
    "n2 = ListNode(2)\n",
    "n3 = ListNode(3)\n",
    "n4 = ListNode(4)\n",
    "n5 = ListNode(5)\n",
    "\n",
    "# Set next pointers\n",
    "# pos = 1\n",
    "n1.next = n2\n",
    "n2.next = n3\n",
    "n3.next = n4\n",
    "n4.next = n5\n",
    "n5.next = n2\n",
    "\n",
    "def has_cycle(head: ListNode) -> bool:\n",
    "    if not head:\n",
    "        return False\n",
    "    # Two-pointer technique\n",
    "    slow = head\n",
    "    fast = head\n",
    "    # Loop until fast pointer reaches end\n",
    "    while fast != None and fast.next != None:\n",
    "        # Move pointers forward\n",
    "        slow = slow.next\n",
    "        fast = fast.next.next\n",
    "        # Pointers met\n",
    "        if slow == fast:\n",
    "            return True\n",
    "    # Fast pointer reached end\n",
    "    return False\n",
    "\n",
    "has_cycle(n1)"
   ]
  },
  {
   "cell_type": "markdown",
   "metadata": {},
   "source": [
    "Time complexity: O(n)  \n",
    "Space complexity: O(1)"
   ]
  },
  {
   "cell_type": "markdown",
   "metadata": {},
   "source": [
    "#### **Linked List Cycle II**"
   ]
  },
  {
   "cell_type": "markdown",
   "metadata": {},
   "source": [
    "Given a linked list, return the node where the cycle begins. If there is no cycle, return null."
   ]
  },
  {
   "cell_type": "markdown",
   "metadata": {},
   "source": [
    "- **Floyd's Tortoise and Hare** (reduces space complexity compared to hash table)"
   ]
  },
  {
   "cell_type": "code",
   "execution_count": null,
   "metadata": {},
   "outputs": [],
   "source": [
    "class ListNode:\n",
    "    def __init__(self, val):\n",
    "        self.val = val\n",
    "        self.next = None\n",
    "        \n",
    "# Instantiate nodes\n",
    "n1 = ListNode(1)\n",
    "n2 = ListNode(2)\n",
    "n3 = ListNode(3)\n",
    "n4 = ListNode(4)\n",
    "n5 = ListNode(5)\n",
    "\n",
    "# Set next pointers\n",
    "# pos = 1\n",
    "n1.next = n2\n",
    "n2.next = n3\n",
    "n3.next = n4\n",
    "n4.next = n5\n",
    "n5.next = n2\n",
    "\n",
    "def detect_cycle(head: ListNode) -> ListNode:\n",
    "    def get_intersect(head): \n",
    "        slow = head\n",
    "        fast = head\n",
    "        # Loop until both pointers intersect or end is reached\n",
    "        while fast is not None and fast.next is not None:\n",
    "            slow = slow.next\n",
    "            fast = fast.next.next\n",
    "            if slow is fast:\n",
    "                return slow\n",
    "        # List is acyclic\n",
    "        return None\n",
    "    \n",
    "    def cycle_entrance(head):\n",
    "        if head is None:\n",
    "            return None\n",
    "        \n",
    "        intersect = get_intersect(head)\n",
    "        if intersect is None:\n",
    "            return None\n",
    "        ptr1 = head\n",
    "        ptr2 = intersect\n",
    "        # Loop until pointers intersect which reveals entrance to cycle\n",
    "        while ptr1 is not ptr2:\n",
    "            ptr1 = ptr1.next\n",
    "            ptr2 = ptr2.next\n",
    "        # ptr1 and ptr2 are both at entrance to cycle\n",
    "        return ptr1\n",
    "    \n",
    "    return cycle_entrance(head)\n",
    "\n",
    "detect_cycle(n1)"
   ]
  },
  {
   "cell_type": "markdown",
   "metadata": {},
   "source": [
    "Time complexity: O(n)  \n",
    "Space complexity: O(1)"
   ]
  }
 ],
 "metadata": {
  "kernelspec": {
   "display_name": "Python 3.7.4 64-bit",
   "language": "python",
   "name": "python37464bit6fc5c9ee3ddc4409a96e8a8d945e3dcc"
  },
  "language_info": {
   "codemirror_mode": {
    "name": "ipython",
    "version": 3
   },
   "file_extension": ".py",
   "mimetype": "text/x-python",
   "name": "python",
   "nbconvert_exporter": "python",
   "pygments_lexer": "ipython3",
   "version": "3.7.4"
  }
 },
 "nbformat": 4,
 "nbformat_minor": 4
}
