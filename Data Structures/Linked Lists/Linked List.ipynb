{
 "cells": [
  {
   "cell_type": "markdown",
   "metadata": {},
   "source": [
    "# Linked List"
   ]
  },
  {
   "cell_type": "markdown",
   "metadata": {},
   "source": [
    "## Introduction"
   ]
  },
  {
   "cell_type": "markdown",
   "metadata": {},
   "source": [
    "Similar to the array, the linked list is also a linear data structure"
   ]
  },
  {
   "cell_type": "markdown",
   "metadata": {},
   "source": [
    "There are two types of linked list: singly linked list and doubly linked list"
   ]
  },
  {
   "cell_type": "markdown",
   "metadata": {},
   "source": [
    "## Singly Linked List"
   ]
  },
  {
   "cell_type": "markdown",
   "metadata": {},
   "source": [
    "#### **Add Operation**"
   ]
  },
  {
   "cell_type": "markdown",
   "metadata": {},
   "source": [
    "Unlike an array, we don’t need to move all elements past the inserted element. Therefore, you can insert a new node into a linked list in O(1) time complexity, which is very efficient"
   ]
  },
  {
   "cell_type": "markdown",
   "metadata": {},
   "source": [
    "#### **Delete Operation**"
   ]
  },
  {
   "cell_type": "markdown",
   "metadata": {},
   "source": [
    "In our first step, we need to find out prev and next. It is easy to find out next using the reference field of cur. However, we have to traverse the linked list from the head node to find out prev which will take O(N) time on average, where N is the length of the linked list. So the time complexity of deleting a node will be O(N).  \n",
    "The space complexity is O(1) because we only need constant space to store our pointers."
   ]
  },
  {
   "cell_type": "markdown",
   "metadata": {},
   "source": [
    "#### **Design: Singly Linked List**"
   ]
  },
  {
   "cell_type": "code",
   "execution_count": null,
   "metadata": {},
   "outputs": [],
   "source": [
    "class ListNode:\n",
    "    def __init__(self, val):\n",
    "        self.val = val\n",
    "        self.next = None\n",
    "\n",
    "\n",
    "class LinkedList:\n",
    "    def __init__(self):\n",
    "        \"\"\"\n",
    "        Initialize your data structure here.\n",
    "        \"\"\"\n",
    "        self.size = 0\n",
    "        self.head = ListNode(0) # Sentinel node as pseudo-head\n",
    "\n",
    "        \n",
    "    def get(self, index: int) -> int:\n",
    "        \"\"\"\n",
    "        Get the value of the index-th node in the linked list. If the index is invalid, return -1.\n",
    "        \"\"\"\n",
    "        # Invalid index\n",
    "        if index < 0 or index >= self.size:\n",
    "            return -1\n",
    "        \n",
    "        curr = self.head\n",
    "        # Index + 1 steps needed to get to index from\n",
    "        # sentinel node\n",
    "        for _ in range(index + 1):\n",
    "            curr = curr.next\n",
    "        return curr.val\n",
    "\n",
    "    \n",
    "    def addAtHead(self, val: int) -> None:\n",
    "        \"\"\"\n",
    "        Add a node of value val before the first element of the linked list. After the insertion, the new node will be the first node of the linked list.\n",
    "        \"\"\"\n",
    "        self.addAtIndex(0, val)\n",
    "    \n",
    "    \n",
    "    def addAtTail(self, val: int) -> None:\n",
    "        \"\"\"\n",
    "        Append a node of value val to the last element of the linked list.\n",
    "        \"\"\"\n",
    "        self.addAtIndex(self.size, val)\n",
    "\n",
    "\n",
    "    def addAtIndex(self, index: int, val: int) -> None:\n",
    "        \"\"\"\n",
    "        Add a node of value val before the index-th node in the linked list. If index equals to the length of linked list, the node will be appended to the end of linked list. If index is greater than the length, the node will not be inserted.\n",
    "        \"\"\"\n",
    "        # Invalid index\n",
    "        if index > self.size:\n",
    "            return\n",
    "        # Negative index is inserted at head\n",
    "        if index < 0:\n",
    "            index = 0\n",
    "        \n",
    "        self.size += 1\n",
    "        prev = self.head\n",
    "        for _ in range(index):\n",
    "            prev = prev.next\n",
    "            \n",
    "        # New node\n",
    "        to_add = ListNode(val)\n",
    "        # Insertion\n",
    "        to_add.next = prev.next\n",
    "        prev.next = to_add\n",
    "        \n",
    "\n",
    "    def deleteAtIndex(self, index: int) -> None:\n",
    "        \"\"\"\n",
    "        Delete the index-th node in the linked list, if the index is valid.\n",
    "        \"\"\"\n",
    "        # Invalid index\n",
    "        if index < 0 or index >= self.size:\n",
    "            return\n",
    "        \n",
    "        self.size -= 1\n",
    "        # Prev is predecessor to index-th node\n",
    "        prev = self.head\n",
    "        for _ in range(index):\n",
    "            prev = prev.next\n",
    "        \n",
    "        prev.next = prev.next.next\n",
    "\n",
    "\n",
    "ll = LinkedList()\n",
    "ll.addAtHead(1)\n",
    "ll.addAtTail(2)\n",
    "ll.get(1)"
   ]
  },
  {
   "cell_type": "markdown",
   "metadata": {},
   "source": [
    "## Two Pointer Technique"
   ]
  },
  {
   "cell_type": "markdown",
   "metadata": {},
   "source": [
    "Scenarios to use the two-pointer technique:\n",
    "\n",
    "- Two pointers starts at different position: One starts at the beginning while another starts at the end\n",
    "- Two pointers are moved at different speed: One is faster while another one might be slower\n",
    "\n",
    "Since Singly Linked Lists can only be traversed in one direction, the second scenario, also called **slow-pointer and fast-pointer technique**, is really useful."
   ]
  },
  {
   "cell_type": "markdown",
   "metadata": {},
   "source": [
    "#### **Linked List Cycle**"
   ]
  },
  {
   "cell_type": "markdown",
   "metadata": {},
   "source": [
    "Given head, the head of a linked list, determine if the linked list has a cycle in it.\n",
    "\n",
    "There is a cycle in a linked list if there is some node in the list that can be reached again by continuously following the next pointer. Internally, pos is used to denote the index of the node that tail's next pointer is connected to. Note that pos is not passed as a parameter.\n",
    "\n",
    "Return true if there is a cycle in the linked list. Otherwise, return false."
   ]
  },
  {
   "cell_type": "markdown",
   "metadata": {},
   "source": [
    "- Two-pointer technique has lower space complexity than a hash table implementation, which keeps track of previously visited nodes"
   ]
  },
  {
   "cell_type": "code",
   "execution_count": null,
   "metadata": {},
   "outputs": [],
   "source": [
    "class ListNode:\n",
    "    def __init__(self, val):\n",
    "        self.val = val\n",
    "        self.next = None\n",
    "        \n",
    "# Instantiate nodes\n",
    "n1 = ListNode(1)\n",
    "n2 = ListNode(2)\n",
    "n3 = ListNode(3)\n",
    "n4 = ListNode(4)\n",
    "n5 = ListNode(5)\n",
    "\n",
    "# Set next pointers\n",
    "# pos = 1\n",
    "n1.next = n2\n",
    "n2.next = n3\n",
    "n3.next = n4\n",
    "n4.next = n5\n",
    "n5.next = n2\n",
    "\n",
    "def has_cycle(head: ListNode) -> bool:\n",
    "    if not head:\n",
    "        return False\n",
    "    # Two-pointer technique\n",
    "    slow = head\n",
    "    fast = head\n",
    "    # Loop until fast pointer reaches end\n",
    "    while fast != None and fast.next != None:\n",
    "        # Move pointers forward\n",
    "        slow = slow.next\n",
    "        fast = fast.next.next\n",
    "        # Pointers met\n",
    "        if slow == fast:\n",
    "            return True\n",
    "    # Fast pointer reached end\n",
    "    return False\n",
    "\n",
    "has_cycle(n1)"
   ]
  },
  {
   "cell_type": "markdown",
   "metadata": {},
   "source": [
    "Time complexity: O(n)  \n",
    "Space complexity: O(1)"
   ]
  },
  {
   "cell_type": "markdown",
   "metadata": {},
   "source": [
    "#### **Linked List Cycle II**"
   ]
  },
  {
   "cell_type": "markdown",
   "metadata": {},
   "source": [
    "Given a linked list, return the node where the cycle begins. If there is no cycle, return null."
   ]
  },
  {
   "cell_type": "markdown",
   "metadata": {},
   "source": [
    "- **Floyd's Tortoise and Hare** (reduces space complexity compared to hash table)"
   ]
  },
  {
   "cell_type": "code",
   "execution_count": null,
   "metadata": {},
   "outputs": [],
   "source": [
    "class ListNode:\n",
    "    def __init__(self, val):\n",
    "        self.val = val\n",
    "        self.next = None\n",
    "        \n",
    "# Instantiate nodes\n",
    "n1 = ListNode(1)\n",
    "n2 = ListNode(2)\n",
    "n3 = ListNode(3)\n",
    "n4 = ListNode(4)\n",
    "n5 = ListNode(5)\n",
    "\n",
    "# Set next pointers\n",
    "# pos = 1\n",
    "n1.next = n2\n",
    "n2.next = n3\n",
    "n3.next = n4\n",
    "n4.next = n5\n",
    "n5.next = n2\n",
    "\n",
    "def detect_cycle(head: ListNode) -> ListNode:\n",
    "    def get_intersect(head): \n",
    "        slow = head\n",
    "        fast = head\n",
    "        # Loop until both pointers intersect or end is reached\n",
    "        while fast is not None and fast.next is not None:\n",
    "            slow = slow.next\n",
    "            fast = fast.next.next\n",
    "            if slow is fast:\n",
    "                return slow\n",
    "        # List is acyclic\n",
    "        return None\n",
    "    \n",
    "    def cycle_entrance(head):\n",
    "        if head is None:\n",
    "            return None\n",
    "        \n",
    "        intersect = get_intersect(head)\n",
    "        if intersect is None:\n",
    "            return None\n",
    "        ptr1 = head\n",
    "        ptr2 = intersect\n",
    "        # Loop until pointers intersect which reveals entrance to cycle\n",
    "        while ptr1 is not ptr2:\n",
    "            ptr1 = ptr1.next\n",
    "            ptr2 = ptr2.next\n",
    "        # ptr1 and ptr2 are both at entrance to cycle\n",
    "        return ptr1\n",
    "    \n",
    "    return cycle_entrance(head)\n",
    "\n",
    "detect_cycle(n1)"
   ]
  },
  {
   "cell_type": "markdown",
   "metadata": {},
   "source": [
    "Time complexity: O(n)  \n",
    "Space complexity: O(1)"
   ]
  },
  {
   "cell_type": "markdown",
   "metadata": {},
   "source": [
    "#### **Intersection of Two Linked Lists**"
   ]
  },
  {
   "cell_type": "markdown",
   "metadata": {},
   "source": [
    "Write a program to find the node at which the intersection of two singly linked lists begins."
   ]
  },
  {
   "cell_type": "code",
   "execution_count": null,
   "metadata": {},
   "outputs": [],
   "source": [
    "class ListNode:\n",
    "    def __init__(self, val):\n",
    "        self.val = val\n",
    "        self.next = None\n",
    "        \n",
    "# Linked List 1\n",
    "a1 = ListNode(4)\n",
    "a2 = ListNode(1)\n",
    "a1.next = a2\n",
    "# Linked List 2\n",
    "b1 = ListNode(5)\n",
    "b2 = ListNode(6)\n",
    "b3 = ListNode(1)\n",
    "b1.next = b2\n",
    "b2.next = b3\n",
    "# Common part\n",
    "c1 = ListNode(8)\n",
    "c2 = ListNode(4)\n",
    "c3 = ListNode(5)\n",
    "a2.next = c1\n",
    "b3.next = c1\n",
    "c1.next = c2\n",
    "c2.next = c3\n",
    "\n",
    "def get_intersection_node(head1: ListNode, head2: ListNode) -> ListNode:\n",
    "    def ll_length(head):\n",
    "        length = 0\n",
    "        while head != None:\n",
    "            length +=1 \n",
    "            head = head.next\n",
    "        return length\n",
    "    # Lengths of both linked lists\n",
    "    l1 = ll_length(head1)\n",
    "    l2 = ll_length(head2)\n",
    "    \n",
    "    # Traverse longer linked list until both have the same end length\n",
    "    if l1 > l2:\n",
    "        for _ in range(l1 - l2):\n",
    "            head1 = head1.next\n",
    "    elif l2 > l1:\n",
    "        for _ in range(l2 - l1):\n",
    "            head2 = head2.next\n",
    "            \n",
    "    # Traverse both linked lists until common node is found or end is reached\n",
    "    while head1 != None:\n",
    "        if head1 == head2:\n",
    "            return head1\n",
    "        head1 = head1.next\n",
    "        head2 = head2.next\n",
    "    \n",
    "    # No common node was found\n",
    "    return None\n",
    "\n",
    "get_intersection_node(a1, b1)"
   ]
  },
  {
   "cell_type": "markdown",
   "metadata": {},
   "source": [
    "Time complexity: O(m + n)  \n",
    "Space complexity: O(1)"
   ]
  },
  {
   "cell_type": "markdown",
   "metadata": {},
   "source": [
    "- Approach 2: Shorter"
   ]
  },
  {
   "cell_type": "code",
   "execution_count": null,
   "metadata": {},
   "outputs": [],
   "source": [
    "class ListNode:\n",
    "    def __init__(self, val):\n",
    "        self.val = val\n",
    "        self.next = None\n",
    "        \n",
    "# Linked List 1\n",
    "a1 = ListNode(4)\n",
    "a2 = ListNode(1)\n",
    "a1.next = a2\n",
    "# Linked List 2\n",
    "b1 = ListNode(5)\n",
    "b2 = ListNode(6)\n",
    "b3 = ListNode(1)\n",
    "b1.next = b2\n",
    "b2.next = b3\n",
    "# Common part\n",
    "c1 = ListNode(8)\n",
    "c2 = ListNode(4)\n",
    "c3 = ListNode(5)\n",
    "a2.next = c1\n",
    "b3.next = c1\n",
    "c1.next = c2\n",
    "c2.next = c3\n",
    "\n",
    "def get_intersection_node(head1: ListNode, head2: ListNode) -> ListNode:\n",
    "    ptr1 = head1\n",
    "    ptr2 = head2\n",
    "    while ptr1 != ptr2:\n",
    "        ptr1 = head2 if ptr1 == None else ptr1.next\n",
    "        ptr2 = head1 if ptr2 == None else ptr2.next\n",
    "        \n",
    "    return ptr1\n",
    "\n",
    "get_intersection_node(a1, b1)"
   ]
  },
  {
   "cell_type": "markdown",
   "metadata": {},
   "source": [
    "Time complexity: O(m + n)  \n",
    "Space complexity: O(1)"
   ]
  },
  {
   "cell_type": "markdown",
   "metadata": {},
   "source": [
    "#### **Remove Nth Node From End of List**"
   ]
  },
  {
   "cell_type": "markdown",
   "metadata": {},
   "source": [
    "Given the head of a linked list, remove the nth node from the end of the list and return its head."
   ]
  },
  {
   "cell_type": "markdown",
   "metadata": {},
   "source": [
    "- Approach 1: Computing the length of the linked list"
   ]
  },
  {
   "cell_type": "code",
   "execution_count": null,
   "metadata": {},
   "outputs": [],
   "source": [
    "class ListNode:\n",
    "    def __init__(self, val):\n",
    "        self.val = val\n",
    "        self.next = None\n",
    "        \n",
    "# Instantiate nodes\n",
    "n1 = ListNode(1)\n",
    "n2 = ListNode(2)\n",
    "n3 = ListNode(3)\n",
    "n4 = ListNode(4)\n",
    "n5 = ListNode(5)\n",
    "\n",
    "# Set next pointers\n",
    "n1.next = n2\n",
    "n2.next = n3\n",
    "n3.next = n4\n",
    "n4.next = n5\n",
    "\n",
    "def remove_nth_from_end(head: ListNode, n: int) -> ListNode:\n",
    "    # Compute the length of a linked list\n",
    "    def get_length(head):\n",
    "        ll_length = 0\n",
    "        ptr = head\n",
    "        while ptr != None:\n",
    "            ll_length += 1\n",
    "            ptr = ptr.next\n",
    "        return ll_length\n",
    "    \n",
    "    ll_length = get_length(head)\n",
    "    ptr = head\n",
    "    # Move pointer to node preceding the one to be removed\n",
    "    for _ in range(ll_length - n - 1):\n",
    "        ptr = ptr.next\n",
    "    # Change pointer of preceding node to the node which\n",
    "    # follows the to be removed node\n",
    "    ptr.next = ptr.next.next\n",
    "\n",
    "remove_nth_from_end(n1, 2)"
   ]
  },
  {
   "cell_type": "markdown",
   "metadata": {},
   "source": [
    "Time complexity: O(n)  \n",
    "Space complexity: O(1)"
   ]
  },
  {
   "cell_type": "markdown",
   "metadata": {},
   "source": [
    "- Approach 2: Two pointers with a gap of n nodes"
   ]
  },
  {
   "cell_type": "code",
   "execution_count": null,
   "metadata": {},
   "outputs": [],
   "source": [
    "class ListNode:\n",
    "    def __init__(self, val):\n",
    "        self.val = val\n",
    "        self.next = None\n",
    "        \n",
    "# Instantiate nodes\n",
    "n1 = ListNode(1)\n",
    "n2 = ListNode(2)\n",
    "n3 = ListNode(3)\n",
    "n4 = ListNode(4)\n",
    "n5 = ListNode(5)\n",
    "\n",
    "# Set next pointers\n",
    "n1.next = n2\n",
    "n2.next = n3\n",
    "n3.next = n4\n",
    "n4.next = n5\n",
    "\n",
    "def remove_nth_from_end(head: ListNode, n: int) -> ListNode:\n",
    "    # Dummy node which points to head\n",
    "    dummy = ListNode(0)\n",
    "    dummy.next = head\n",
    "    ptr1 = dummy\n",
    "    ptr2 = dummy\n",
    "\n",
    "    # Move first pointer so that gap between first\n",
    "    # and second is n nodes\n",
    "    for _ in range(n + 1):\n",
    "        ptr1 = ptr1.next\n",
    "\n",
    "    # Move both pointers until first reaches the end\n",
    "    # The second pointer will be at node length - 1 - n, which\n",
    "    # precedes the one to be removed\n",
    "    while ptr1 != None:\n",
    "        ptr1 = ptr1.next\n",
    "        ptr2 = ptr2.next\n",
    "    # Remove node after ptr2\n",
    "    ptr2.next = ptr2.next.next\n",
    "\n",
    "    return dummy.next\n",
    "\n",
    "remove_nth_from_end(n1, 2)"
   ]
  },
  {
   "cell_type": "markdown",
   "metadata": {},
   "source": [
    "Time complexity: O(n)  \n",
    "Space complexity: O(1)"
   ]
  },
  {
   "cell_type": "markdown",
   "metadata": {},
   "source": [
    "## Classic Problems"
   ]
  },
  {
   "cell_type": "markdown",
   "metadata": {},
   "source": [
    "#### **Reverse Linked List**"
   ]
  },
  {
   "cell_type": "markdown",
   "metadata": {},
   "source": [
    "Reverse a singly linked list."
   ]
  },
  {
   "cell_type": "markdown",
   "metadata": {},
   "source": [
    "- Approach 1: Iterative"
   ]
  },
  {
   "cell_type": "code",
   "execution_count": null,
   "metadata": {},
   "outputs": [],
   "source": [
    "class ListNode:\n",
    "    def __init__(self, val):\n",
    "        self.val = val\n",
    "        self.next = None\n",
    "        \n",
    "# Instantiate nodes\n",
    "n1 = ListNode(1)\n",
    "n2 = ListNode(2)\n",
    "n3 = ListNode(3)\n",
    "n4 = ListNode(4)\n",
    "n5 = ListNode(5)\n",
    "\n",
    "# Set next pointers\n",
    "n1.next = n2\n",
    "n2.next = n3\n",
    "n3.next = n4\n",
    "n4.next = n5\n",
    "\n",
    "def reverse_linked_list(head: ListNode) -> ListNode:\n",
    "    prev = None\n",
    "    curr = head\n",
    "    while curr != None:\n",
    "        # Store current next pointer temporarily\n",
    "        next = curr.next\n",
    "        # Flip pointer\n",
    "        curr.next = prev\n",
    "        # Forward both pointers\n",
    "        prev = curr\n",
    "        curr = next\n",
    "    \n",
    "    return prev\n",
    "\n",
    "reverse_linked_list(n1)"
   ]
  },
  {
   "cell_type": "markdown",
   "metadata": {},
   "source": [
    "Time complexity: O(n)  \n",
    "Space complexity: O(1)"
   ]
  },
  {
   "cell_type": "markdown",
   "metadata": {},
   "source": [
    "- Approach 2: Recursive"
   ]
  },
  {
   "cell_type": "code",
   "execution_count": null,
   "metadata": {},
   "outputs": [],
   "source": [
    "class ListNode:\n",
    "    def __init__(self, val):\n",
    "        self.val = val\n",
    "        self.next = None\n",
    "        \n",
    "# Instantiate nodes\n",
    "n1 = ListNode(1)\n",
    "n2 = ListNode(2)\n",
    "n3 = ListNode(3)\n",
    "n4 = ListNode(4)\n",
    "n5 = ListNode(5)\n",
    "\n",
    "# Set next pointers\n",
    "n1.next = n2\n",
    "n2.next = n3\n",
    "n3.next = n4\n",
    "n4.next = n5\n",
    "\n",
    "def reverse_ll(head: ListNode) -> ListNode:\n",
    "    if head == None or head.next == None:\n",
    "        return head\n",
    "    # Reverse rest of list\n",
    "    rest = reverse_ll(head.next)\n",
    "    # Append head at end of rest of list\n",
    "    head.next.next = head\n",
    "    head.next = None\n",
    "    \n",
    "    return rest\n",
    "\n",
    "reverse_ll(n1)"
   ]
  },
  {
   "cell_type": "markdown",
   "metadata": {},
   "source": [
    "Time complexity: O(n)  \n",
    "Space complexity: O(n) due to the call stack"
   ]
  },
  {
   "cell_type": "markdown",
   "metadata": {},
   "source": [
    "#### **Remove Linked List Element**"
   ]
  },
  {
   "cell_type": "markdown",
   "metadata": {},
   "source": [
    "Remove all elements from a linked list of integers that have value val."
   ]
  },
  {
   "cell_type": "code",
   "execution_count": null,
   "metadata": {},
   "outputs": [],
   "source": [
    "class ListNode:\n",
    "    def __init__(self, val):\n",
    "        self.val = val\n",
    "        self.next = None\n",
    "        \n",
    "# Instantiate nodes\n",
    "n1 = ListNode(1)\n",
    "n2 = ListNode(4)\n",
    "n3 = ListNode(3)\n",
    "n4 = ListNode(4)\n",
    "n5 = ListNode(5)\n",
    "\n",
    "# Set next pointers\n",
    "n1.next = n2\n",
    "n2.next = n3\n",
    "n3.next = n4\n",
    "n4.next = n5\n",
    "\n",
    "def remove_elements(head: ListNode, val: int) -> ListNode:\n",
    "    # Pseudo-head\n",
    "    sentinel = ListNode(None)\n",
    "    sentinel.next = head\n",
    "    \n",
    "    prev, curr = sentinel, head\n",
    "    while curr:\n",
    "        if curr.val == val:\n",
    "            # Make previous pointer point to current's next \n",
    "            # to remove the current node\n",
    "            prev.next = curr.next\n",
    "        else:\n",
    "            prev = curr\n",
    "        curr = curr.next\n",
    "        \n",
    "    return sentinel.next\n",
    "\n",
    "remove_elements(n1, 4)"
   ]
  },
  {
   "cell_type": "markdown",
   "metadata": {},
   "source": [
    "Time complexity: O(n)  \n",
    "Space complexity: O(1)"
   ]
  },
  {
   "cell_type": "markdown",
   "metadata": {},
   "source": [
    "#### **Odd Even Linked List**"
   ]
  },
  {
   "cell_type": "markdown",
   "metadata": {},
   "source": [
    "Given a singly linked list, group all odd nodes together followed by the even nodes. Please note here we are talking about the node number and not the value in the nodes.  \n",
    "You should try to do it in place. The program should run in O(1) space complexity and O(nodes) time complexity."
   ]
  },
  {
   "cell_type": "code",
   "execution_count": null,
   "metadata": {},
   "outputs": [],
   "source": [
    "class ListNode:\n",
    "    def __init__(self, val):\n",
    "        self.val = val\n",
    "        self.next = None\n",
    "        \n",
    "# Instantiate nodes\n",
    "n1 = ListNode(1)\n",
    "n2 = ListNode(2)\n",
    "n3 = ListNode(3)\n",
    "n4 = ListNode(4)\n",
    "n5 = ListNode(5)\n",
    "\n",
    "# Set next pointers\n",
    "n1.next = n2\n",
    "n2.next = n3\n",
    "n3.next = n4\n",
    "n4.next = n5\n",
    "\n",
    "def odd_even_ll(head: ListNode) -> ListNode:\n",
    "    if not head:\n",
    "        return None\n",
    "    # Two pointers for iteration\n",
    "    odd, even = head, head.next\n",
    "    # Head pointer to even sublist\n",
    "    even_head = even\n",
    "    \n",
    "    while even != None and even.next != None:\n",
    "        odd.next = even.next\n",
    "        odd = odd.next\n",
    "        even.next = odd.next\n",
    "        even = even.next\n",
    "    # Make last odd node point to head of even sublist\n",
    "    odd.next = even_head\n",
    "    return head\n",
    "    \n",
    "odd_even_ll(n1)"
   ]
  },
  {
   "cell_type": "markdown",
   "metadata": {},
   "source": [
    "Time complexity: O(n)  \n",
    "Space complexity: O(1)"
   ]
  },
  {
   "cell_type": "markdown",
   "metadata": {},
   "source": [
    "#### **Palindrome Linked List**"
   ]
  },
  {
   "cell_type": "markdown",
   "metadata": {},
   "source": [
    "- Approach 1: Copy into Array List and use two pointer technique"
   ]
  },
  {
   "cell_type": "markdown",
   "metadata": {},
   "source": [
    "Given a singly linked list, determine if it is a palindrome."
   ]
  },
  {
   "cell_type": "code",
   "execution_count": null,
   "metadata": {},
   "outputs": [],
   "source": [
    "class ListNode:\n",
    "    def __init__(self, val):\n",
    "        self.val = val\n",
    "        self.next = None\n",
    "        \n",
    "# Instantiate nodes\n",
    "n1 = ListNode(1)\n",
    "n2 = ListNode(2)\n",
    "n3 = ListNode(2)\n",
    "n4 = ListNode(1)\n",
    "\n",
    "# Set next pointers\n",
    "n1.next = n2\n",
    "n2.next = n3\n",
    "n3.next = n4\n",
    "\n",
    "def is_palindrome(head: ListNode) -> bool:    \n",
    "    ptr = head\n",
    "    values = []\n",
    "    # Insert ll values into array\n",
    "    while ptr is not None:\n",
    "        values.append(ptr.val)\n",
    "        ptr = ptr.next\n",
    "    # Compare array to its reversed\n",
    "    return values == values[::-1]\n",
    "    \n",
    "is_palindrome(n1)"
   ]
  },
  {
   "cell_type": "markdown",
   "metadata": {},
   "source": [
    "Time complexity: O(n)  \n",
    "Space complexity: O(n)"
   ]
  },
  {
   "cell_type": "markdown",
   "metadata": {},
   "source": [
    "- Approach 2: Recursive"
   ]
  },
  {
   "cell_type": "code",
   "execution_count": null,
   "metadata": {},
   "outputs": [],
   "source": [
    "class ListNode:\n",
    "    def __init__(self, val):\n",
    "        self.val = val\n",
    "        self.next = None\n",
    "        \n",
    "# Instantiate nodes\n",
    "n1 = ListNode(1)\n",
    "n2 = ListNode(2)\n",
    "n3 = ListNode(2)\n",
    "n4 = ListNode(1)\n",
    "\n",
    "# Set next pointers\n",
    "n1.next = n2\n",
    "n2.next = n3\n",
    "n3.next = n4\n",
    "\n",
    "class Palindrome:\n",
    "    def is_palindrome(self, head: ListNode) -> bool:\n",
    "        self.front = head\n",
    "        def recursive_check(curr=head):\n",
    "            if curr is not None:\n",
    "                if not recursive_check(curr.next):\n",
    "                    return False\n",
    "                if self.front.val != curr.val:\n",
    "                    return False\n",
    "                self.front = self.front.next\n",
    "            return True\n",
    "        \n",
    "        return recursive_check()\n",
    "\n",
    "Palindrome().is_palindrome(n1)"
   ]
  },
  {
   "cell_type": "markdown",
   "metadata": {},
   "source": [
    "Time complexity: O(n)  \n",
    "Space complexity: O(n) due to the stack frame"
   ]
  }
 ],
 "metadata": {
  "kernelspec": {
   "display_name": "Python 3.7.4 64-bit",
   "language": "python",
   "name": "python37464bit6fc5c9ee3ddc4409a96e8a8d945e3dcc"
  },
  "language_info": {
   "codemirror_mode": {
    "name": "ipython",
    "version": 3
   },
   "file_extension": ".py",
   "mimetype": "text/x-python",
   "name": "python",
   "nbconvert_exporter": "python",
   "pygments_lexer": "ipython3",
   "version": "3.7.4"
  }
 },
 "nbformat": 4,
 "nbformat_minor": 4
}
