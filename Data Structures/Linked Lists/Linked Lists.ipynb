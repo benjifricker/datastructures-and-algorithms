{
 "cells": [
  {
   "cell_type": "markdown",
   "metadata": {},
   "source": [
    "# Linked Lists"
   ]
  },
  {
   "cell_type": "markdown",
   "metadata": {},
   "source": [
    "#### **Merge Two Sorted Lists**"
   ]
  },
  {
   "cell_type": "markdown",
   "metadata": {},
   "source": [
    "Write a program that takes two lists, assumed to be sorted, and returns their merge. The only field your program can change in a node is its next field."
   ]
  },
  {
   "cell_type": "code",
   "execution_count": null,
   "metadata": {},
   "outputs": [],
   "source": [
    "class ListNode:\n",
    "    def __init__(self, val):\n",
    "        self.val = val\n",
    "        self.next = None\n",
    "        self.prev = None\n",
    "        \n",
    "# Linked List 1\n",
    "n1_1 = ListNode(1)\n",
    "n1_2 = ListNode(2)\n",
    "n1_3 = ListNode(4)\n",
    "n1_1.next = n1_2\n",
    "n1_2.next = n1_3\n",
    "\n",
    "# Linked List 2\n",
    "n2_1 = ListNode(1)\n",
    "n2_2 = ListNode(3)\n",
    "n2_3 = ListNode(4)\n",
    "n2_1.next = n2_2\n",
    "n2_2.next = n2_3\n",
    "\n",
    "def merge_two_sorted_lists(l1: ListNode, l2: ListNode) -> ListNode:\n",
    "    # Sentinel head and pointer for result list\n",
    "    l3, ptr3 = ListNode(None), l3\n",
    "    # Progress and merge both lists until one pointer reaches\n",
    "    # the end of its list\n",
    "    while l1 and l2:\n",
    "        if l1.val <= l2.val:\n",
    "            # Append node and progress pointer\n",
    "            ptr3.next, l1 = l1, l1.next\n",
    "        else:\n",
    "            # Append node and progress pointer\n",
    "            ptr3.next, l2 = l2, l2.next\n",
    "        ptr3 = ptr3.next\n",
    "    \n",
    "    # Add remaining list to tail\n",
    "    if l1:\n",
    "        ptr3.next = l1\n",
    "    elif l2:\n",
    "        ptr3.next = l2\n",
    "\n",
    "    return l3.next\n",
    "\n",
    "merge_two_sorted_lists(n1_1, n2_2)"
   ]
  },
  {
   "cell_type": "markdown",
   "metadata": {},
   "source": [
    "Time complexity: O(n + m) where n and m are the lengths of each sublist  \n",
    "Space complexity: O(1) since we're only using pointers"
   ]
  }
 ],
 "metadata": {
  "kernelspec": {
   "display_name": "Python 3.7.4 64-bit",
   "language": "python",
   "name": "python37464bit6fc5c9ee3ddc4409a96e8a8d945e3dcc"
  },
  "language_info": {
   "codemirror_mode": {
    "name": "ipython",
    "version": 3
   },
   "file_extension": ".py",
   "mimetype": "text/x-python",
   "name": "python",
   "nbconvert_exporter": "python",
   "pygments_lexer": "ipython3",
   "version": "3.7.4"
  }
 },
 "nbformat": 4,
 "nbformat_minor": 4
}
