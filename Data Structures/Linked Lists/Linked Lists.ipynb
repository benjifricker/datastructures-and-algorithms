{
 "cells": [
  {
   "cell_type": "markdown",
   "metadata": {},
   "source": [
    "# Linked Lists"
   ]
  },
  {
   "cell_type": "markdown",
   "metadata": {},
   "source": [
    "#### **Merge Two Sorted Lists**"
   ]
  },
  {
   "cell_type": "markdown",
   "metadata": {},
   "source": [
    "Write a program that takes two lists, assumed to be sorted, and returns their merge. The only field your program can change in a node is its next field."
   ]
  },
  {
   "cell_type": "code",
   "execution_count": null,
   "metadata": {},
   "outputs": [],
   "source": [
    "class ListNode:\n",
    "    def __init__(self, val):\n",
    "        self.val = val\n",
    "        self.next = None\n",
    "        self.prev = None\n",
    "        \n",
    "# Linked List 1\n",
    "n1_1 = ListNode(1)\n",
    "n1_2 = ListNode(2)\n",
    "n1_3 = ListNode(4)\n",
    "n1_1.next = n1_2\n",
    "n1_2.next = n1_3\n",
    "\n",
    "# Linked List 2\n",
    "n2_1 = ListNode(1)\n",
    "n2_2 = ListNode(3)\n",
    "n2_3 = ListNode(4)\n",
    "n2_1.next = n2_2\n",
    "n2_2.next = n2_3\n",
    "\n",
    "def merge_two_sorted_lists(l1: ListNode, l2: ListNode) -> ListNode:\n",
    "    # Sentinel head and pointer for result list\n",
    "    l3, ptr3 = ListNode(None), l3\n",
    "    # Progress and merge both lists until one pointer reaches\n",
    "    # the end of its list\n",
    "    while l1 and l2:\n",
    "        if l1.val <= l2.val:\n",
    "            # Append node and progress pointer\n",
    "            ptr3.next, l1 = l1, l1.next\n",
    "        else:\n",
    "            # Append node and progress pointer\n",
    "            ptr3.next, l2 = l2, l2.next\n",
    "        ptr3 = ptr3.next\n",
    "    \n",
    "    # Add remaining list to tail\n",
    "    if l1:\n",
    "        ptr3.next = l1\n",
    "    elif l2:\n",
    "        ptr3.next = l2\n",
    "\n",
    "    return l3.next\n",
    "\n",
    "merge_two_sorted_lists(n1_1, n2_2)"
   ]
  },
  {
   "cell_type": "markdown",
   "metadata": {},
   "source": [
    "Time complexity: O(n + m) where n and m are the lengths of each sublist  \n",
    "Space complexity: O(1) since we're only using pointers"
   ]
  },
  {
   "cell_type": "markdown",
   "metadata": {},
   "source": [
    "#### **Reverse A Single Sublist**"
   ]
  },
  {
   "cell_type": "markdown",
   "metadata": {},
   "source": [
    "Write a program which takes a singly linked list L and two integers s and f as arguments, and reverses the order of the nodes from the sth node to fth node, inclusive. The numbering begins at 1., i.e., the head node is the first node. Do not allocate additional nodes."
   ]
  },
  {
   "cell_type": "code",
   "execution_count": null,
   "metadata": {},
   "outputs": [],
   "source": [
    "class ListNode:\n",
    "    def __init__(self, val):\n",
    "        self.val = val\n",
    "        self.next = None\n",
    "        self.prev = None\n",
    "        \n",
    "# Linked List 1\n",
    "n1 = ListNode(1)\n",
    "n2 = ListNode(2)\n",
    "n3 = ListNode(3)\n",
    "n4 = ListNode(4)\n",
    "n1.next = n2\n",
    "n2.next = n3\n",
    "n3.next = n4\n",
    "\n",
    "def reverse_sublist(L: ListNode, start: int, finish: int) -> ListNode:\n",
    "    # Sentinel head and sublist head\n",
    "    sentinel_head = s_head = ListNode(None)\n",
    "    sentinel_head.next = L\n",
    "    # s_head will be node preceeding sublist\n",
    "    for _ in range(1, start):\n",
    "        s_head = s_head.next\n",
    "    # Reverse sublist\n",
    "    ptr = s_head.next\n",
    "    for _ in range(finish - start):\n",
    "        temp = ptr.next\n",
    "        ptr.next = temp.next\n",
    "        temp.next = s_head.next\n",
    "        s_head.next = temp\n",
    "        \n",
    "    return sentinel_head.next\n",
    "\n",
    "reverse_sublist(n1, 2, 3)"
   ]
  },
  {
   "cell_type": "markdown",
   "metadata": {},
   "source": [
    "Time complexity: O(f), where f is the tail of the sublist  \n",
    "Space complexity: O(1)"
   ]
  }
 ],
 "metadata": {
  "kernelspec": {
   "display_name": "Python 3.7.4 64-bit",
   "language": "python",
   "name": "python37464bit6fc5c9ee3ddc4409a96e8a8d945e3dcc"
  },
  "language_info": {
   "codemirror_mode": {
    "name": "ipython",
    "version": 3
   },
   "file_extension": ".py",
   "mimetype": "text/x-python",
   "name": "python",
   "nbconvert_exporter": "python",
   "pygments_lexer": "ipython3",
   "version": "3.7.4"
  }
 },
 "nbformat": 4,
 "nbformat_minor": 4
}
