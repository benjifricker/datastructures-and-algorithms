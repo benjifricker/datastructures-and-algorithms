{
 "cells": [
  {
   "cell_type": "markdown",
   "metadata": {},
   "source": [
    "# Linked Lists"
   ]
  },
  {
   "cell_type": "markdown",
   "metadata": {},
   "source": [
    "#### **Merge Two Sorted Lists**"
   ]
  },
  {
   "cell_type": "markdown",
   "metadata": {},
   "source": [
    "Write a program that takes two lists, assumed to be sorted, and returns their merge. The only field your program can change in a node is its next field."
   ]
  },
  {
   "cell_type": "code",
   "execution_count": null,
   "metadata": {},
   "outputs": [],
   "source": [
    "class ListNode:\n",
    "    def __init__(self, val):\n",
    "        self.val = val\n",
    "        self.next = None\n",
    "        self.prev = None\n",
    "        \n",
    "# Linked List 1\n",
    "n1_1 = ListNode(1)\n",
    "n1_2 = ListNode(2)\n",
    "n1_3 = ListNode(4)\n",
    "n1_1.next = n1_2\n",
    "n1_2.next = n1_3\n",
    "\n",
    "# Linked List 2\n",
    "n2_1 = ListNode(1)\n",
    "n2_2 = ListNode(3)\n",
    "n2_3 = ListNode(4)\n",
    "n2_1.next = n2_2\n",
    "n2_2.next = n2_3\n",
    "\n",
    "def merge_two_sorted_lists(l1: ListNode, l2: ListNode) -> ListNode:\n",
    "    # Sentinel head and pointer for result list\n",
    "    l3, ptr3 = ListNode(None), l3\n",
    "    # Progress and merge both lists until one pointer reaches\n",
    "    # the end of its list\n",
    "    while l1 and l2:\n",
    "        if l1.val <= l2.val:\n",
    "            # Append node and progress pointer\n",
    "            ptr3.next, l1 = l1, l1.next\n",
    "        else:\n",
    "            # Append node and progress pointer\n",
    "            ptr3.next, l2 = l2, l2.next\n",
    "        ptr3 = ptr3.next\n",
    "    \n",
    "    # Add remaining list to tail\n",
    "    if l1:\n",
    "        ptr3.next = l1\n",
    "    elif l2:\n",
    "        ptr3.next = l2\n",
    "\n",
    "    return l3.next\n",
    "\n",
    "merge_two_sorted_lists(n1_1, n2_2)"
   ]
  },
  {
   "cell_type": "markdown",
   "metadata": {},
   "source": [
    "Time complexity: O(n + m) where n and m are the lengths of each sublist  \n",
    "Space complexity: O(1) since we're only using pointers"
   ]
  },
  {
   "cell_type": "markdown",
   "metadata": {},
   "source": [
    "#### **Reverse A Single Sublist**"
   ]
  },
  {
   "cell_type": "markdown",
   "metadata": {},
   "source": [
    "Write a program which takes a singly linked list L and two integers s and f as arguments, and reverses the order of the nodes from the sth node to fth node, inclusive. The numbering begins at 1., i.e., the head node is the first node. Do not allocate additional nodes."
   ]
  },
  {
   "cell_type": "code",
   "execution_count": null,
   "metadata": {},
   "outputs": [],
   "source": [
    "class ListNode:\n",
    "    def __init__(self, val):\n",
    "        self.val = val\n",
    "        self.next = None\n",
    "        self.prev = None\n",
    "        \n",
    "# Linked List 1\n",
    "n1 = ListNode(1)\n",
    "n2 = ListNode(2)\n",
    "n3 = ListNode(3)\n",
    "n4 = ListNode(4)\n",
    "n1.next = n2\n",
    "n2.next = n3\n",
    "n3.next = n4\n",
    "\n",
    "def reverse_sublist(L: ListNode, start: int, finish: int) -> ListNode:\n",
    "    # Sentinel head and sublist head\n",
    "    sentinel_head = s_head = ListNode(None)\n",
    "    sentinel_head.next = L\n",
    "    # s_head will be node preceeding sublist\n",
    "    for _ in range(1, start):\n",
    "        s_head = s_head.next\n",
    "    # Reverse sublist\n",
    "    ptr = s_head.next\n",
    "    for _ in range(finish - start):\n",
    "        temp = ptr.next\n",
    "        ptr.next = temp.next\n",
    "        temp.next = s_head.next\n",
    "        s_head.next = temp\n",
    "        \n",
    "    return sentinel_head.next\n",
    "\n",
    "reverse_sublist(n1, 2, 3)"
   ]
  },
  {
   "cell_type": "markdown",
   "metadata": {},
   "source": [
    "Time complexity: O(f), where f is the tail of the sublist  \n",
    "Space complexity: O(1)"
   ]
  },
  {
   "cell_type": "markdown",
   "metadata": {},
   "source": [
    "#### **Test for Cyclicity**"
   ]
  },
  {
   "cell_type": "markdown",
   "metadata": {},
   "source": [
    "Write a program that takes the head of a singly linked list and returns null if there does not exist a cycle, and the node at the start of the cycle, if a cycle is present. (You do not know the length of the list in advance.)"
   ]
  },
  {
   "cell_type": "code",
   "execution_count": null,
   "metadata": {},
   "outputs": [],
   "source": [
    "class ListNode:\n",
    "    def __init__(self, val):\n",
    "        self.val = val\n",
    "        self.next = None\n",
    "        self.prev = None\n",
    "        \n",
    "# Linked List 1\n",
    "n1 = ListNode(1)\n",
    "n2 = ListNode(2)\n",
    "n3 = ListNode(3)\n",
    "n4 = ListNode(4)\n",
    "n1.next = n2\n",
    "n2.next = n3\n",
    "n3.next = n4\n",
    "n4.next = n2  # Cycle\n",
    "\n",
    "def has_cycle(head: ListNode):\n",
    "    # Slow and fast pointer\n",
    "    slow = fast = head\n",
    "    # Detect cycle\n",
    "    while fast and fast.next and fast.next.next:\n",
    "        # Progress pointers\n",
    "        slow, fast = slow.next, fast.next.next\n",
    "        # Cycle exists since pointers met\n",
    "        if fast is slow:\n",
    "            ptr = head\n",
    "            # ptr and slow will meet at beginning of cycle\n",
    "            while ptr is not slow:\n",
    "                ptr, slow = ptr.next, slow.next\n",
    "            return ptr\n",
    "    # No cycle\n",
    "    return None\n",
    "\n",
    "has_cycle(n1)"
   ]
  },
  {
   "cell_type": "markdown",
   "metadata": {},
   "source": [
    "Time complexity: O(F) + O(C) = O(n) - O(F), where F is the length before the cycle and C the length of the cycle. The total complexity will be **O(F) + 2*O(C)**  \n",
    "Space complexity: O(1)"
   ]
  },
  {
   "cell_type": "markdown",
   "metadata": {},
   "source": [
    "#### **Test for Overlapping Lists - Lists are Cycle-Free**"
   ]
  },
  {
   "cell_type": "markdown",
   "metadata": {},
   "source": [
    "Write a Program that takes two cycle-free singly linked lists, and determines if there exists a node that is corunon to both lists."
   ]
  },
  {
   "cell_type": "code",
   "execution_count": null,
   "metadata": {},
   "outputs": [],
   "source": [
    "class ListNode:\n",
    "    def __init__(self, val):\n",
    "        self.val = val\n",
    "        self.next = None\n",
    "        self.prev = None\n",
    "        \n",
    "# Linked List 1\n",
    "n1_1 = ListNode(1)\n",
    "n1_2 = ListNode(2)\n",
    "n1_3 = ListNode(3)\n",
    "n1_4 = ListNode(4)\n",
    "\n",
    "# Linked List 2\n",
    "n2_1 = ListNode(5)\n",
    "n2_2 = ListNode(6)\n",
    "n2_3 = ListNode(7)\n",
    "\n",
    "n1_1.next = n1_2\n",
    "n1_2.next = n1_3\n",
    "n1_3.next = n1_4\n",
    "n1_4.next = n2_2 # Overlap\n",
    "n2_1.next = n2_2\n",
    "n2_2.next = n2_3\n",
    "\n",
    "def find_overlap(l1: ListNode, l2: ListNode) -> bool:\n",
    "    def get_ll_length(head):\n",
    "        length = 0\n",
    "        while head:\n",
    "            length += 1\n",
    "            head = head.next\n",
    "        return length\n",
    "    # Get length of both lists\n",
    "    len1 = get_ll_length(l1)\n",
    "    len2 = get_ll_length(l2)\n",
    "    # Set pointers to shorter and longer list\n",
    "    shorter = l1 if len1 <= len2 else l2\n",
    "    longer = l2 if len2 >= len1 else l1\n",
    "    # Progress pointer of longer list to make both lists equal length\n",
    "    for _ in range(abs(len1 - len2)):\n",
    "        longer = longer.next\n",
    "    # Progress both pointers until they meet\n",
    "    while shorter is not longer:\n",
    "        shorter, longer = shorter.next, longer.next\n",
    "    # Return intersection\n",
    "    return shorter\n",
    "    \n",
    "find_overlap(n1_1, n2_1)"
   ]
  },
  {
   "cell_type": "markdown",
   "metadata": {},
   "source": [
    "Time complexity: O(n)  \n",
    "Space complexity: O(1)"
   ]
  },
  {
   "cell_type": "markdown",
   "metadata": {},
   "source": [
    "#### **Test for Overlapping Lists - Lists May Have Cycles**"
   ]
  },
  {
   "cell_type": "markdown",
   "metadata": {},
   "source": [
    "Solve Problem 7.4 on the previous page for the case where the lists may each or both have a cycle. If such a node exists, return a node that appears first when traversing the lists. This node may not be unique - if one node ends in a cycle, the first cycle node encountered when traversing it may be different from the first cycle node encountered when traversing the second list, even though the cycle is the same. In such cases, you may retum either of the two nodes."
   ]
  },
  {
   "cell_type": "code",
   "execution_count": null,
   "metadata": {},
   "outputs": [],
   "source": [
    "class ListNode:\n",
    "    def __init__(self, val):\n",
    "        self.val = val\n",
    "        self.next = None\n",
    "        self.prev = None\n",
    "        \n",
    "# Linked List 1\n",
    "n1_1 = ListNode(1)\n",
    "n1_2 = ListNode(2)\n",
    "\n",
    "# Linked List 2\n",
    "n2_1 = ListNode(3)\n",
    "n2_2 = ListNode(4)\n",
    "n2_3 = ListNode(5)\n",
    "n2_4 = ListNode(6)\n",
    "\n",
    "n1_1.next = n1_2\n",
    "n1_2.next = n2_2\n",
    "n2_1.next = n2_2\n",
    "n2_2.next = n2_3\n",
    "n2_3.next = n2_4\n",
    "n2_4.next = n2_1 # Cycle\n",
    "\n",
    "def find_overlap(l1: ListNode, l2: ListNode) -> bool:\n",
    "    def has_cycle(head: ListNode):\n",
    "        \"\"\"\n",
    "        This helper functions returns the beginning node of a cycle,\n",
    "        if one exists\n",
    "        \"\"\"\n",
    "        # Slow and fast pointer\n",
    "        slow = fast = head\n",
    "        # Detect cycle\n",
    "        while fast and fast.next and fast.next.next:\n",
    "            # Progress pointers\n",
    "            slow, fast = slow.next, fast.next.next\n",
    "            # Cycle exists since pointers met\n",
    "            if fast is slow:\n",
    "                ptr = head\n",
    "                # ptr and slow will meet at beginning of cycle\n",
    "                while ptr is not slow:\n",
    "                    ptr, slow = ptr.next, slow.next\n",
    "                return ptr\n",
    "        # No cycle\n",
    "        return None\n",
    "\n",
    "    def find_overlap(l1: ListNode, l2: ListNode) -> bool:\n",
    "        \"\"\"\n",
    "        This helper function returns the overlap of two linked\n",
    "        lists without cycles\n",
    "        \"\"\"\n",
    "        def get_ll_length(head):\n",
    "            length = 0\n",
    "            while head:\n",
    "                length += 1\n",
    "                head = head.next\n",
    "            return length\n",
    "        # Get length of both lists\n",
    "        len1 = get_ll_length(l1)\n",
    "        len2 = get_ll_length(l2)\n",
    "        # Set pointers to shorter and longer list\n",
    "        shorter = l1 if len1 <= len2 else l2\n",
    "        longer = l2 if len2 >= len1 else l1\n",
    "        # Progress pointer of longer list to make both lists equal length\n",
    "        for _ in range(abs(len1 - len2)):\n",
    "            longer = longer.next\n",
    "        # Progress both pointers until they meet\n",
    "        while shorter is not longer:\n",
    "            shorter, longer = shorter.next, longer.next\n",
    "        # Return intersection\n",
    "        return shorter\n",
    "\n",
    "    # Start of cycles if any\n",
    "    root1, root2 = has_cycle(l1), has_cycle(l2)\n",
    "    # Both lists don't have cycles\n",
    "    if not root1 and not root2:\n",
    "        return find_overlap(l1, l2)\n",
    "    # One Tist has cycle, one list has no cycle. \n",
    "    elif (root1 and not root2) or (not root1 and root2):\n",
    "        return None\n",
    "    # Both lists have cycles\n",
    "    temp = root2\n",
    "    while True:\n",
    "        temp = temp.next\n",
    "        if temp is root1 or temp is root2:\n",
    "            break\n",
    "            \n",
    "    # l1 and l2 do not end in the same cycle\n",
    "    if temp is not root1:\n",
    "        return None  # Cycles are disjoint\n",
    "    \n",
    "    # Calculates the distance between a and b\n",
    "    def distance(a, b):\n",
    "        dis = 0\n",
    "        while a is not b:\n",
    "            a = a.next\n",
    "            dis += 1\n",
    "        return dis\n",
    "    \n",
    "    # l1 and l2 end in the same cycle, locate the overlapping node if they \n",
    "    # first overlap before cycle starts.\n",
    "    stem1_length, stem2_length = distance(l1, root1), distance(l2, root2)\n",
    "    if stem1_length > stem2_length: \n",
    "        l2, l1 = l1, l2\n",
    "        root1, root2 = root2, root1\n",
    "    \n",
    "    for _ in range(abs(stem1_length - stem2_length)):\n",
    "        l2 = l2.next\n",
    "    while l1 is not l2 and l1 is not root1 and l2 is not root2:\n",
    "        l1, l2 = l1.next, l2.next\n",
    "        \n",
    "    # If l1 == l2 before reaching root1, it means the overlap first occurs \n",
    "    # before the cycle starts; otherwise, the first overlapping node is not \n",
    "    # unique, we can return any node on the cycle.\n",
    "    return l1 if l1 is l2 else root1\n",
    "    \n",
    "find_overlap(n1_1, n2_1)"
   ]
  },
  {
   "cell_type": "markdown",
   "metadata": {},
   "source": [
    "Time complexity: O(n + m), where n and m are the lengths of the lists  \n",
    "Space complexity: O(1)"
   ]
  }
 ],
 "metadata": {
  "kernelspec": {
   "display_name": "Python 3.7.4 64-bit",
   "language": "python",
   "name": "python37464bit6fc5c9ee3ddc4409a96e8a8d945e3dcc"
  },
  "language_info": {
   "codemirror_mode": {
    "name": "ipython",
    "version": 3
   },
   "file_extension": ".py",
   "mimetype": "text/x-python",
   "name": "python",
   "nbconvert_exporter": "python",
   "pygments_lexer": "ipython3",
   "version": "3.7.4"
  }
 },
 "nbformat": 4,
 "nbformat_minor": 4
}
