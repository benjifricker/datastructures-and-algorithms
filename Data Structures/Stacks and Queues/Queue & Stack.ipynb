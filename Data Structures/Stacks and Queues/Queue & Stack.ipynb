{
 "cells": [
  {
   "cell_type": "markdown",
   "metadata": {},
   "source": [
    "# Queue & Stack"
   ]
  },
  {
   "cell_type": "markdown",
   "metadata": {},
   "source": [
    "## Introduction"
   ]
  },
  {
   "cell_type": "markdown",
   "metadata": {},
   "source": [
    "In this card, we introduce two different processing orders, **First-in-First-out (FIFO)** and **Last-in-First-out (LIFO)** and its two corresponding linear data structures, **Queue** and **Stack**."
   ]
  },
  {
   "cell_type": "markdown",
   "metadata": {},
   "source": [
    "## Queue: First-in-first-out Data Structure"
   ]
  },
  {
   "cell_type": "markdown",
   "metadata": {},
   "source": [
    "#### **First-in-first-out Data Structure**"
   ]
  },
  {
   "cell_type": "markdown",
   "metadata": {},
   "source": [
    "- The **queue** is a typical FIFO data stucture\n",
    "- The insert operation is also called **enqueue** and the new element is always added at the end of the queue\n",
    "- The delete operation is called **dequeue**. You are only allowed to remove the first element."
   ]
  },
  {
   "cell_type": "markdown",
   "metadata": {},
   "source": [
    "#### **Queue - Implementation**"
   ]
  },
  {
   "cell_type": "markdown",
   "metadata": {},
   "source": [
    "Deque with a list: Removing element at index 0 requires O(n) time to shift all remaining elements."
   ]
  },
  {
   "cell_type": "code",
   "execution_count": null,
   "metadata": {},
   "outputs": [],
   "source": [
    "# Implementing a queue using a list\n",
    "queue = []\n",
    "queue.append('a') # Enque: Append\n",
    "queue.append('b')\n",
    "queue.pop(0) # Deque: Pop index 0\n",
    "\n",
    "print(queue)"
   ]
  },
  {
   "cell_type": "code",
   "execution_count": null,
   "metadata": {},
   "outputs": [],
   "source": [
    "class Queue:\n",
    "    def __init__(self):\n",
    "        self.queue = []\n",
    "    def enque(self, val):\n",
    "        self.queue.append(val)\n",
    "    def deque(self):\n",
    "        if not self.queue:\n",
    "            return False\n",
    "        else:\n",
    "            return self.queue.pop(0)\n",
    "    def __repr__(self):\n",
    "        return str(self.queue)\n",
    "        \n",
    "queue = Queue()\n",
    "queue.enque(1)\n",
    "queue.enque(2)\n",
    "queue.deque()\n",
    "queue"
   ]
  }
 ],
 "metadata": {
  "kernelspec": {
   "display_name": "Python 3",
   "language": "python",
   "name": "python3"
  },
  "language_info": {
   "codemirror_mode": {
    "name": "ipython",
    "version": 3
   },
   "file_extension": ".py",
   "mimetype": "text/x-python",
   "name": "python",
   "nbconvert_exporter": "python",
   "pygments_lexer": "ipython3",
   "version": "3.6.10"
  }
 },
 "nbformat": 4,
 "nbformat_minor": 4
}
