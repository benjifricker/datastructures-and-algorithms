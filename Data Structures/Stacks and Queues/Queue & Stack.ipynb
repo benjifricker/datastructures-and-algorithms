{
 "cells": [
  {
   "cell_type": "markdown",
   "metadata": {},
   "source": [
    "# Queue & Stack"
   ]
  },
  {
   "cell_type": "markdown",
   "metadata": {},
   "source": [
    "## Introduction"
   ]
  },
  {
   "cell_type": "markdown",
   "metadata": {},
   "source": [
    "In this card, we introduce two different processing orders, **First-in-First-out (FIFO)** and **Last-in-First-out (LIFO)** and its two corresponding linear data structures, **Queue** and **Stack**."
   ]
  },
  {
   "cell_type": "markdown",
   "metadata": {},
   "source": [
    "## Queue: First-in-first-out Data Structure"
   ]
  },
  {
   "cell_type": "markdown",
   "metadata": {},
   "source": [
    "#### **First-in-first-out Data Structure**"
   ]
  },
  {
   "cell_type": "markdown",
   "metadata": {},
   "source": [
    "- The **queue** is a typical FIFO data stucture\n",
    "- The insert operation is also called **enqueue** and the new element is always added at the end of the queue\n",
    "- The delete operation is called **dequeue**. You are only allowed to remove the first element."
   ]
  },
  {
   "cell_type": "markdown",
   "metadata": {},
   "source": [
    "#### **Queue - Implementation**"
   ]
  },
  {
   "cell_type": "markdown",
   "metadata": {},
   "source": [
    "Deque with a list: Removing element at index 0 requires O(n) time to shift all remaining elements."
   ]
  },
  {
   "cell_type": "code",
   "execution_count": null,
   "metadata": {},
   "outputs": [],
   "source": [
    "# Implementing a queue using a list\n",
    "queue = []\n",
    "queue.append('a') # Enque: Append\n",
    "queue.append('b')\n",
    "queue.pop(0) # Deque: Pop index 0\n",
    "\n",
    "print(queue)"
   ]
  },
  {
   "cell_type": "code",
   "execution_count": null,
   "metadata": {},
   "outputs": [],
   "source": [
    "class Queue:\n",
    "    def __init__(self):\n",
    "        self.queue = []\n",
    "    def enque(self, val):\n",
    "        self.queue.append(val)\n",
    "    def deque(self):\n",
    "        if not self.queue:\n",
    "            return False\n",
    "        else:\n",
    "            return self.queue.pop(0)\n",
    "    def __repr__(self):\n",
    "        return str(self.queue)\n",
    "        \n",
    "queue = Queue()\n",
    "queue.enque(1)\n",
    "queue.enque(2)\n",
    "queue.deque()\n",
    "queue"
   ]
  },
  {
   "cell_type": "markdown",
   "metadata": {},
   "source": [
    "#### **Circular Queue**"
   ]
  },
  {
   "cell_type": "markdown",
   "metadata": {},
   "source": [
    "General (not Python related): A more efficient way is to use a **circular queue**. Specifically, we may use a fixed-size array and two pointers to indicate the starting position and the ending position. And the goal is to reuse the wasted storage we mentioned previously."
   ]
  },
  {
   "cell_type": "markdown",
   "metadata": {},
   "source": [
    "#### **Design Circular Queue**"
   ]
  },
  {
   "cell_type": "markdown",
   "metadata": {},
   "source": [
    "The circular queue is a **linear data structure** in which the operations are performed based on FIFO (First In First Out) principle and the last position is connected back to the first position to make a circle. It is also called **\"Ring Buffer\"**.\n",
    "\n",
    "One of the benefits of the circular queue is that we can make use of the spaces in front of the queue. In a normal queue, once the queue becomes full, we cannot insert the next element even if there is a space in front of the queue. But using the circular queue, we can use the space to store new values."
   ]
  },
  {
   "cell_type": "markdown",
   "metadata": {},
   "source": [
    "- **Approach 1: Array**"
   ]
  },
  {
   "cell_type": "code",
   "execution_count": null,
   "metadata": {},
   "outputs": [],
   "source": [
    "class CircularQueue:\n",
    "    def __init__(self, k: int):\n",
    "        \"\"\"\n",
    "        Initialize queue with attributes and set its size to k.\n",
    "        \"\"\"\n",
    "        self.queue = [None] * k\n",
    "        self.capacity = k # Total fixed capacity of queue\n",
    "        self.count = 0 # Number of elements in queue\n",
    "        self.head = 0 # Head pointer\n",
    "        \n",
    "    def enqueue(self, val: int) -> bool:\n",
    "        \"\"\"\n",
    "        Insert element into circular queue and adjust queue attributes.\n",
    "        Return True on success, False otherwise.\n",
    "        \"\"\"\n",
    "        if self.count == self.capacity:\n",
    "            # Queue is full\n",
    "            return False\n",
    "        # Insert at position one after tail\n",
    "        self.queue[(self.head + self.count) % self.capacity] = val\n",
    "        self.count += 1\n",
    "        return True\n",
    "    \n",
    "    def dequeue(self) -> bool:\n",
    "        \"\"\"\n",
    "        Remove element at top of queue.\n",
    "        Return True on success, False otherwise.\n",
    "        \"\"\"\n",
    "        if self.count == 0:\n",
    "            # Queue is empty\n",
    "            return False\n",
    "        self.queue[self.head] = None\n",
    "        self.head = (self.head + 1) % self.capacity\n",
    "        self.count -= 1\n",
    "        return True\n",
    "    \n",
    "    def front(self) -> int:\n",
    "        \"\"\"\n",
    "        Return the front element or -1 if queue is empty.\n",
    "        \"\"\"\n",
    "        if self.count == 0:\n",
    "            # Queue is empty\n",
    "            return -1\n",
    "        return self.queue[self.head]\n",
    "    \n",
    "    def rear(self) -> int:\n",
    "        \"\"\"\n",
    "        Return the rear element or -1 if queue is empty.\n",
    "        \"\"\"\n",
    "        if self.count == 0:\n",
    "            # Queue is empty\n",
    "            return -1\n",
    "        return self.queue[(self.head + self.count - 1) % self.capacity]\n",
    "    \n",
    "    def is_empty(self) -> bool:\n",
    "        \"\"\"\n",
    "        Return True if queue is empty, False otherwise.\n",
    "        \"\"\"\n",
    "        return self.count == 0\n",
    "    \n",
    "    def is_full(self) -> bool:\n",
    "        \"\"\"\n",
    "        Return True if queue is full, False otherwise.\n",
    "        \"\"\"\n",
    "        return self.count == self.capacity\n",
    "\n",
    "# Testing\n",
    "cq = CircularQueue(3)\n",
    "cq.enqueue(1)\n",
    "cq.enqueue(2)\n",
    "cq.enqueue(3)\n",
    "print(f'Head: {cq.front()}')\n",
    "print(f'Tail: {cq.rear()}')\n",
    "print(f'Is full: {cq.is_full()}')\n",
    "print('Dequeuing all elements...')\n",
    "cq.dequeue()\n",
    "cq.dequeue()\n",
    "cq.dequeue()\n",
    "print(f'Is empty: {cq.is_empty()}')"
   ]
  },
  {
   "cell_type": "markdown",
   "metadata": {},
   "source": [
    "**Time complexity: O(1)** since all methods are of constant time complexity  \n",
    "**Space Complexity: O(n)** where n is the pre-assigned capacity of the queue"
   ]
  },
  {
   "cell_type": "markdown",
   "metadata": {},
   "source": [
    "#### **Queue - Usage**"
   ]
  },
  {
   "cell_type": "markdown",
   "metadata": {},
   "source": [
    "Most popular languages provide built-in Queue library so you don't have to reinvent the wheel.  \n",
    "Python has **deque** as part of the **collections** library."
   ]
  },
  {
   "cell_type": "code",
   "execution_count": null,
   "metadata": {},
   "outputs": [],
   "source": [
    "# Important methods for deque\n",
    "\n",
    "from collections import deque\n",
    "\n",
    "queue = deque()      # Initialize\n",
    "queue.append(1)      # Append right\n",
    "queue.appendleft(2)  # Append left\n",
    "queue.pop()          # Pop right\n",
    "queue.popleft()      # Pop left\n",
    "queue.clear()        # Clear"
   ]
  },
  {
   "cell_type": "markdown",
   "metadata": {},
   "source": [
    "#### **Moving Average from Data Stream**"
   ]
  },
  {
   "cell_type": "markdown",
   "metadata": {},
   "source": [
    "Given a stream of integers and a window size, calculate the moving average of all integers in the sliding window."
   ]
  },
  {
   "cell_type": "markdown",
   "metadata": {},
   "source": [
    "- **Approach 1: Array or List**"
   ]
  },
  {
   "cell_type": "code",
   "execution_count": null,
   "metadata": {},
   "outputs": [],
   "source": [
    "class MovingAverage:\n",
    "    def __init__(self, size: int):\n",
    "        self.size = size\n",
    "        self.queue = []\n",
    "        \n",
    "    def next(self, val: int) -> float:\n",
    "        queue, size = self.queue, self.size\n",
    "        queue.append(val)\n",
    "        window_sum = sum(queue[-size:])\n",
    "        \n",
    "        return window_sum / min(len(queue), size)\n",
    "    \n",
    "mv = MovingAverage(3)\n",
    "mv.next(1)\n",
    "mv.next(10)\n",
    "mv.next(3)\n",
    "mv.next(5)"
   ]
  },
  {
   "cell_type": "markdown",
   "metadata": {},
   "source": [
    "**Time complexity: O(n)**, where n is the size of the window.  \n",
    "**Space Complexity: O(m)**, where m is the size of the queue."
   ]
  },
  {
   "cell_type": "markdown",
   "metadata": {},
   "source": [
    "- **Approach 2: Double-ended Queue**"
   ]
  },
  {
   "cell_type": "markdown",
   "metadata": {},
   "source": [
    "- We do not need to keep all values from the data stream, but rather the last n values which fall into the moving window. We can use a **deque (double-ended queue)**.\n",
    "- A deque allows for **O(1) time to add or remove an element at both ends**.\n",
    "- This approach **reduces the space complexity to O(n), where n is the size of the moving window**.\n",
    "- It also **reduces the time complexity to O(1)**, since we do not need to reiterate the elements in the moving window to calculate the sum."
   ]
  },
  {
   "cell_type": "code",
   "execution_count": null,
   "metadata": {},
   "outputs": [],
   "source": [
    "from collections import deque\n",
    "\n",
    "class MovingAverage:\n",
    "    def __init__(self, size: int):\n",
    "        self.size = size\n",
    "        self.queue = deque()\n",
    "        self.window_sum = 0\n",
    "        \n",
    "    def next(self, val: int) -> float:\n",
    "        if len(self.queue) == 3:\n",
    "            # Remove oldest element if queue full\n",
    "            oldest = self.queue.popleft()\n",
    "            self.window_sum -= oldest\n",
    "        self.queue.append(val)\n",
    "        self.window_sum += val\n",
    "        return self.window_sum / min(len(self.queue), self.size)\n",
    "    \n",
    "mv = MovingAverage(3)\n",
    "mv.next(1)\n",
    "mv.next(10)\n",
    "mv.next(3)\n",
    "mv.next(5)"
   ]
  },
  {
   "cell_type": "markdown",
   "metadata": {},
   "source": [
    "**Time complexity: O(1)**  \n",
    "**Space Complexity: O(n)**, where n is the size of the moving window."
   ]
  },
  {
   "cell_type": "markdown",
   "metadata": {},
   "source": [
    "- **Approach 3: Circular Queue with Array**"
   ]
  },
  {
   "cell_type": "markdown",
   "metadata": {},
   "source": [
    "- Unlike a deque, we don **not need to explicitly remove the oldest element** since it is simply overwritten in a circular queue.\n",
    "- Also, a single index suffices to keep track of both ends of the queue as opposed to two."
   ]
  },
  {
   "cell_type": "code",
   "execution_count": null,
   "metadata": {},
   "outputs": [],
   "source": [
    "class MovingAverage:\n",
    "    def __init__(self, size: int):\n",
    "        self.size = size\n",
    "        self.queue = [None] * size # Queue as fixed-sized array\n",
    "        self.head = 0\n",
    "        self.window_sum = 0\n",
    "        self.count = 0\n",
    "        \n",
    "    def next(self, val: int) -> float:\n",
    "        if self.count == self.size:\n",
    "            # Remove oldest element\n",
    "            self.window_sum -= self.queue[self.head]\n",
    "            self.head = (self.head + 1) % self.size\n",
    "            self.count -= 1\n",
    "        \n",
    "        # Add element to tail\n",
    "        tail = (self.head + self.count) % self.size\n",
    "        self.queue[tail] = val\n",
    "        self.window_sum += val\n",
    "        self.count += 1\n",
    "        \n",
    "        return self.window_sum / self.count\n",
    "    \n",
    "mv = MovingAverage(3)\n",
    "mv.next(1)\n",
    "mv.next(10)\n",
    "mv.next(3)\n",
    "mv.next(5)"
   ]
  },
  {
   "cell_type": "markdown",
   "metadata": {},
   "source": [
    "**Time complexity: O(1)**  \n",
    "**Space Complexity: O(n)**, where n is the size of the circular queue."
   ]
  },
  {
   "cell_type": "markdown",
   "metadata": {},
   "source": [
    "## Queue and BFS"
   ]
  },
  {
   "cell_type": "markdown",
   "metadata": {},
   "source": [
    "BFS (Breadth-first search) can be used to do **level-order traversal in a tree**.  \n",
    "We can also use BFS to **traverse a graph**. For example, we can use BFS to find a path, especially the shortest path, from a start node to a target node."
   ]
  },
  {
   "cell_type": "markdown",
   "metadata": {},
   "source": [
    "#### **Queue and BFS**"
   ]
  },
  {
   "cell_type": "markdown",
   "metadata": {},
   "source": [
    "Similar to tree's level-order traversal, the nodes closer to the root node will be traversed earlier. If a node X is added to the queue in the kth round, the length of the shortest path between the root node and X is exactly k. That is to say, you are already in the shortest path the first time you find the target node.\n",
    "\n",
    "It is worth noting that the newly-added nodes will not be traversed immediately but will be processed in the next round. The processing order of the nodes is the exact same order as how they were added to the queue, which is First-in-First-out (FIFO). That's why we use a queue in BFS."
   ]
  },
  {
   "cell_type": "markdown",
   "metadata": {},
   "source": [
    "#### **BFS - Template**"
   ]
  },
  {
   "cell_type": "markdown",
   "metadata": {},
   "source": [
    "Typically, the node will be an actual node or a status while the edge will be an actual edge or a possible transition."
   ]
  },
  {
   "cell_type": "code",
   "execution_count": null,
   "metadata": {},
   "outputs": [],
   "source": [
    "class TreeNode:\n",
    "    def __init__(self, value):\n",
    "        self.value = value\n",
    "        self.children = []\n",
    "    \n",
    "    def add_child(self, node):\n",
    "        self.children.append(node)\n",
    "    \n",
    "    def __repr__(self):\n",
    "        return str(self.val)"
   ]
  },
  {
   "cell_type": "markdown",
   "metadata": {},
   "source": [
    "**Templete for tree:**"
   ]
  },
  {
   "cell_type": "code",
   "execution_count": null,
   "metadata": {},
   "outputs": [],
   "source": [
    "from collections import deque\n",
    "        \n",
    "n1 = TreeNode(1)\n",
    "n2 = TreeNode(2)\n",
    "n3 = TreeNode(3)\n",
    "n4 = TreeNode(4)\n",
    "n5 = TreeNode(5)\n",
    "n1.add_child(n2)\n",
    "n1.add_child(n3)\n",
    "n2.add_child(n4)\n",
    "n3.add_child(n5)\n",
    "\n",
    "def bfs(root: TreeNode, target: TreeNode) -> bool:\n",
    "    queue = deque()\n",
    "    queue.append(root)\n",
    "    while queue:\n",
    "        # First in queue\n",
    "        curr = queue.popleft()\n",
    "        if curr is target:\n",
    "            # Target is found\n",
    "            return True\n",
    "        # Enqueue children of current node\n",
    "        for child in curr.children:\n",
    "            queue.append(child)\n",
    "    # Target not in tree\n",
    "    return False\n",
    "\n",
    "bfs(n1, n5)"
   ]
  },
  {
   "cell_type": "markdown",
   "metadata": {},
   "source": [
    "**Templete for graph (since graphs can have cycles we store visited nodes in a hash table or hash set):**"
   ]
  },
  {
   "cell_type": "code",
   "execution_count": null,
   "metadata": {},
   "outputs": [],
   "source": [
    "class GraphNode:\n",
    "    def __init__(self, value):\n",
    "        self.value = value\n",
    "        self.edges = []\n",
    "    \n",
    "    def add_edge(self, node):\n",
    "        self.edges.append(node)\n",
    "    \n",
    "    def __repr__(self):\n",
    "        return str(self.val)"
   ]
  },
  {
   "cell_type": "code",
   "execution_count": null,
   "metadata": {},
   "outputs": [],
   "source": [
    "from collections import deque\n",
    "        \n",
    "n1 = GraphNode(1)\n",
    "n2 = GraphNode(2)\n",
    "n3 = GraphNode(3)\n",
    "n4 = GraphNode(4)\n",
    "n5 = GraphNode(5)\n",
    "n1.add_edge(n2)\n",
    "n2.add_edge(n3)\n",
    "n3.add_edge(n1)\n",
    "\n",
    "def bfs(root: GraphNode, target: GraphNode) -> bool:\n",
    "    queue = deque()\n",
    "    visited = set() # Hash set with unique elements\n",
    "    queue.append(root)\n",
    "    visited.add(root)\n",
    "    while queue:\n",
    "        # First in queue\n",
    "        curr = queue.popleft()\n",
    "        if curr is target:\n",
    "            # Target is found\n",
    "            return True\n",
    "        # Enqueue unvisited children of current node only\n",
    "        for child in curr.edges:\n",
    "            if child not in visited:\n",
    "                queue.append(child)\n",
    "                visited.add(child)\n",
    "    # Target not in tree\n",
    "    return False\n",
    "\n",
    "bfs(n1, n5)"
   ]
  },
  {
   "cell_type": "markdown",
   "metadata": {},
   "source": [
    "#### **Walls and Gates**"
   ]
  },
  {
   "cell_type": "markdown",
   "metadata": {},
   "source": [
    "You are given a m x n 2D grid initialized with these three possible values.\n",
    "\n",
    "1) -1: A wall or an obstacle  \n",
    "2) 0: A gate  \n",
    "3) INF: Infinity means an empty room. We use the value 2<sup>31</sup> - 1 = 2147483647 to represent INF as you may assume that the distance to a gate is less than 2147483647\n",
    "\n",
    "Fill each empty room with the distance to its nearest gate. If it is impossible to reach a gate, it should be filled with INF."
   ]
  },
  {
   "cell_type": "markdown",
   "metadata": {},
   "source": [
    "- **Approach: Initiating breadth-first search (BFS) from all gates at the same time. Since BFS guarantees that we search all rooms of distance d before searching rooms of distance d + 1, the distance to an empty room must be the shortest.**"
   ]
  },
  {
   "cell_type": "code",
   "execution_count": null,
   "metadata": {},
   "outputs": [],
   "source": [
    "from collections import deque\n",
    "from typing import List\n",
    "\n",
    "EMPTY = 2147483647\n",
    "WALL = -1\n",
    "GATE = 0\n",
    "rooms = [[EMPTY, WALL, GATE, EMPTY],\n",
    "         [EMPTY, EMPTY, EMPTY, WALL],\n",
    "         [EMPTY, WALL, EMPTY, WALL],\n",
    "         [GATE, WALL, EMPTY, EMPTY]]\n",
    "\n",
    "def walls_and_gates(rooms: List[List[int]]) -> None:\n",
    "    m = len(rooms) # Row length\n",
    "    if m == 0:\n",
    "        return\n",
    "    n = len(rooms[0]) # Column length\n",
    "    \n",
    "    queue = deque()\n",
    "    # Enque all GATES\n",
    "    for i in range(m):\n",
    "        for j in range(n):\n",
    "            if rooms[i][j] == GATE:\n",
    "                queue.append((i, j))\n",
    "    # Directions: up, down, right, left\n",
    "    directions = [(1, 0), (-1, 0), (0, 1), (0, -1)]\n",
    "    \n",
    "    while queue:\n",
    "        point = queue.popleft()\n",
    "        row = point[0]\n",
    "        col = point[1]\n",
    "        for direction in directions:\n",
    "            r = row + direction[0]\n",
    "            c = col + direction[1]\n",
    "            if r < 0 or c < 0 or r >= m or c >= n or rooms[r][c] != EMPTY:\n",
    "                # Ignore out of bound indices\n",
    "                continue\n",
    "            rooms[r][c] = rooms[row][col] + 1\n",
    "            queue.append((r, c))\n",
    "\n",
    "walls_and_gates(rooms)\n",
    "\n",
    "# Print modified matrix for testing\n",
    "for row in rooms:\n",
    "    print(row)"
   ]
  },
  {
   "cell_type": "markdown",
   "metadata": {},
   "source": [
    "**Time complexity: O(mn)**. Time complexity does not depend on the number of gates since each room is visited at most once.  \n",
    "**Space Complexity: O(mn)**, the size of the queue."
   ]
  },
  {
   "cell_type": "markdown",
   "metadata": {},
   "source": [
    "#### **Number of Islands**"
   ]
  },
  {
   "cell_type": "markdown",
   "metadata": {},
   "source": [
    "Given an m x n 2d grid map of '1's (land) and '0's (water), return the number of islands.\n",
    "\n",
    "An island is surrounded by water and is formed by connecting adjacent lands horizontally or vertically. You may assume all four edges of the grid are all surrounded by water."
   ]
  },
  {
   "cell_type": "markdown",
   "metadata": {},
   "source": [
    "- **Approach 1: BFS**"
   ]
  },
  {
   "cell_type": "code",
   "execution_count": null,
   "metadata": {},
   "outputs": [],
   "source": [
    "from collections import deque\n",
    "from typing import List\n",
    "\n",
    "# 3 islands (diagnoal is not adjecent)\n",
    "grid = [\n",
    "  ['1','1','1','0','0'],\n",
    "  ['1','1','0','0','0'],\n",
    "  ['0','0','1','0','0'],\n",
    "  ['0','0','0','1','1']\n",
    "]\n",
    "\n",
    "def num_islands(grid: List[List[int]]) -> int:\n",
    "    directions = [(1, 0),(-1, 0),(0, 1),(0, -1)]\n",
    "    m = len(grid) # Rows\n",
    "    n = len(grid[0]) # Columns\n",
    "    \n",
    "    num_islands = 0\n",
    "    for i in range(m):\n",
    "        for j in range(n):\n",
    "            # Enqueue if position is part of an island\n",
    "            if grid[i][j] == '1':\n",
    "                num_islands += 1\n",
    "                # Mark all adjacent island parts as visited to ignore\n",
    "                # from counting\n",
    "                queue = deque()\n",
    "                queue.append((i, j))\n",
    "                while queue:\n",
    "                    curr = queue.popleft()\n",
    "                    row = curr[0]\n",
    "                    col = curr[1]\n",
    "                    grid[row][col] = '0' # Mark as visited\n",
    "                    for direction in directions:\n",
    "                        r = row + direction[0]\n",
    "                        c = col + direction[1]\n",
    "                        if r < 0 or c < 0 or r >= m or c >= n or grid[r][c] == '0':\n",
    "                            # Ignore water or invalid locations\n",
    "                            continue\n",
    "                        # Enqueue neighboring island parts\n",
    "                        queue.append((r, c))\n",
    "    \n",
    "    return num_islands\n",
    "\n",
    "num_islands(grid)"
   ]
  },
  {
   "cell_type": "markdown",
   "metadata": {},
   "source": [
    "**Time complexity: O(mn)**, since already visited positions are not visited again in the next iteration.  \n",
    "**Space Complexity: O(min(m,n))**, since in the worst case where the grid is filled with lands, the enqueued positions form a diagonal from the bottom left to the top right. This diagonal can only be as large as the minimum width or height of the grid."
   ]
  },
  {
   "cell_type": "markdown",
   "metadata": {},
   "source": [
    "#### **Open the Lock**"
   ]
  },
  {
   "cell_type": "markdown",
   "metadata": {},
   "source": [
    "You have a lock in front of you with 4 circular wheels. Each wheel has 10 slots: '0', '1', '2', '3', '4', '5', '6', '7', '8', '9'. The wheels can rotate freely and wrap around: for example we can turn '9' to be '0', or '0' to be '9'. Each move consists of turning one wheel one slot.\n",
    "\n",
    "The lock initially starts at '0000', a string representing the state of the 4 wheels.\n",
    "\n",
    "You are given a list of dead ends, meaning if the lock displays any of these codes, the wheels of the lock will stop turning and you will be unable to open it.\n",
    "\n",
    "Given a target representing the value of the wheels that will unlock the lock, return the minimum total number of turns required to open the lock, or -1 if it is impossible."
   ]
  },
  {
   "cell_type": "markdown",
   "metadata": {},
   "source": [
    "**Hint: This is a shortest path problem which can be implemented with a graph.**"
   ]
  },
  {
   "cell_type": "code",
   "execution_count": null,
   "metadata": {},
   "outputs": [],
   "source": [
    "from collections import deque\n",
    "from typing import List\n",
    "\n",
    "deadends = ['0201', '0101', '0102', '1212', '2002']\n",
    "target = '0202'\n",
    "\n",
    "def open_lock(deadends: List[str], target: str) -> int:\n",
    "    def neighbors(node):\n",
    "        # Create all neigbors by adding or subtracting\n",
    "        # one from each digit\n",
    "        for i in range(4):\n",
    "            x = int(node[i])\n",
    "            for d in (-1, 1):\n",
    "                y = (x + d) % 10 # Avoid nums larger than 9\n",
    "                yield node[:i] + str(y) + node[i + 1:]\n",
    "                \n",
    "    dead = set(deadends)\n",
    "    queue = deque([('0000', 0)])\n",
    "    seen = {'0000'}\n",
    "    \n",
    "    while queue:\n",
    "        node, depth = queue.popleft()\n",
    "        if node == target:\n",
    "            return depth\n",
    "        if node in dead:\n",
    "            continue\n",
    "        for neighbor in neighbors(node):\n",
    "            if neighbor not in seen:\n",
    "                queue.append((neighbor, depth + 1))\n",
    "                seen.add(neighbor)\n",
    "                \n",
    "    return -1 # Cannot reach target\n",
    "\n",
    "# Answer should be 6: '0000' -> '1000' -> '1100' -> '1200' -> '1201' -> '1202' -> '0202'\n",
    "open_lock(deadends, target)"
   ]
  },
  {
   "cell_type": "markdown",
   "metadata": {},
   "source": [
    "**Time Complexity: O(N<sup>2</sup> * A<sup>N</sup> + D)** where A is the number of digits in the number system (10), N is the number of digits in the lock, and D is the size of deadends, since we need to initiate deadends. Every lock combination requires N<sup>2</sup> time constructing its neighbors.  \n",
    "**Space Complexity: O(A<sup>N</sup> + D)** for the queue and the deadends set."
   ]
  },
  {
   "cell_type": "markdown",
   "metadata": {},
   "source": [
    "#### **Perfect Squares**"
   ]
  },
  {
   "cell_type": "markdown",
   "metadata": {},
   "source": [
    "Given a positive integer n, find the least number of perfect square numbers (for example, 1, 4, 9, 16, ...) which sum to n.  \n",
    "Example: 12 -> 4 + 4 + 4 -> Output should be 3."
   ]
  },
  {
   "cell_type": "markdown",
   "metadata": {},
   "source": [
    "- **Approach 1: Brute-force enumeration**"
   ]
  },
  {
   "cell_type": "code",
   "execution_count": null,
   "metadata": {},
   "outputs": [],
   "source": [
    "import math\n",
    "\n",
    "def num_squares(n: int) -> int:\n",
    "    # Enumerate all squares up to the root of n\n",
    "    square_nums = [i**2 for i in range(1, int(math.sqrt(n)) + 1)]\n",
    "    def min_num_squares(k):\n",
    "        if k in square_nums:\n",
    "            # Input is a square itself\n",
    "            return 1\n",
    "        min_num = float('inf')\n",
    "        for square_num in square_nums:\n",
    "            if k < square_num:\n",
    "                break\n",
    "            new_num = min_num_squares(k - square_num) + 1\n",
    "            min_num = min(min_num, new_num)\n",
    "        return min_num\n",
    "    \n",
    "    return min_num_squares(n)\n",
    "\n",
    "num_squares(12)"
   ]
  },
  {
   "cell_type": "markdown",
   "metadata": {},
   "source": [
    "This solution only works for small numbers, since **time and space grow exponentially**. A **stack overflow** might also be encountered due to the excessive recursion."
   ]
  },
  {
   "cell_type": "markdown",
   "metadata": {},
   "source": [
    "- **Approach 2: Dynamic Programming**"
   ]
  },
  {
   "cell_type": "code",
   "execution_count": null,
   "metadata": {},
   "outputs": [],
   "source": [
    "import math\n",
    "\n",
    "def num_squares(n: int) -> int:\n",
    "    squares = [i**2 for i in range(1, int(math.sqrt(n)) + 1)]\n",
    "    # Array for storing intermediate sub-results\n",
    "    dp = [float('inf')] * (n + 1)\n",
    "    dp[0] = 0\n",
    "    for i in range(1, n + 1):\n",
    "            for square in squares:\n",
    "                if i < square:\n",
    "                    break\n",
    "                dp[i] = min(dp[i], dp[i-square] + 1)\n",
    "    return dp[-1]\n",
    "    \n",
    "num_squares(12)"
   ]
  },
  {
   "cell_type": "markdown",
   "metadata": {},
   "source": [
    "By applying the **Dynamic Programming (DP)** technique, which is built upon the idea of reusing the results of intermediate sub-solutions to calculate the final solution, we can reduce the time and space complexity."
   ]
  },
  {
   "cell_type": "markdown",
   "metadata": {},
   "source": [
    "**Time Complexity: O(n * $\\sqrt{n}$)** considering both nested loops.  \n",
    "**Space Complexity: O(n)** due to the storage of intermediate sub-solutions."
   ]
  }
 ],
 "metadata": {
  "kernelspec": {
   "display_name": "Python 3",
   "language": "python",
   "name": "python3"
  },
  "language_info": {
   "codemirror_mode": {
    "name": "ipython",
    "version": 3
   },
   "file_extension": ".py",
   "mimetype": "text/x-python",
   "name": "python",
   "nbconvert_exporter": "python",
   "pygments_lexer": "ipython3",
   "version": "3.6.10"
  }
 },
 "nbformat": 4,
 "nbformat_minor": 4
}
