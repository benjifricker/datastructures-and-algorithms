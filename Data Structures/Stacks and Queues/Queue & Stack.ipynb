{
 "cells": [
  {
   "cell_type": "markdown",
   "metadata": {},
   "source": [
    "# Queue & Stack"
   ]
  },
  {
   "cell_type": "markdown",
   "metadata": {},
   "source": [
    "## Introduction"
   ]
  },
  {
   "cell_type": "markdown",
   "metadata": {},
   "source": [
    "In this card, we introduce two different processing orders, **First-in-First-out (FIFO)** and **Last-in-First-out (LIFO)** and its two corresponding linear data structures, **Queue** and **Stack**."
   ]
  },
  {
   "cell_type": "markdown",
   "metadata": {},
   "source": [
    "## Queue: First-in-first-out Data Structure"
   ]
  },
  {
   "cell_type": "markdown",
   "metadata": {},
   "source": [
    "#### **First-in-first-out Data Structure**"
   ]
  },
  {
   "cell_type": "markdown",
   "metadata": {},
   "source": [
    "- The **queue** is a typical FIFO data stucture\n",
    "- The insert operation is also called **enqueue** and the new element is always added at the end of the queue\n",
    "- The delete operation is called **dequeue**. You are only allowed to remove the first element."
   ]
  },
  {
   "cell_type": "markdown",
   "metadata": {},
   "source": [
    "#### **Queue - Implementation**"
   ]
  },
  {
   "cell_type": "markdown",
   "metadata": {},
   "source": [
    "Deque with a list: Removing element at index 0 requires O(n) time to shift all remaining elements."
   ]
  },
  {
   "cell_type": "code",
   "execution_count": null,
   "metadata": {},
   "outputs": [],
   "source": [
    "# Implementing a queue using a list\n",
    "queue = []\n",
    "queue.append('a') # Enque: Append\n",
    "queue.append('b')\n",
    "queue.pop(0) # Deque: Pop index 0\n",
    "\n",
    "print(queue)"
   ]
  },
  {
   "cell_type": "code",
   "execution_count": null,
   "metadata": {},
   "outputs": [],
   "source": [
    "class Queue:\n",
    "    def __init__(self):\n",
    "        self.queue = []\n",
    "    def enque(self, val):\n",
    "        self.queue.append(val)\n",
    "    def deque(self):\n",
    "        if not self.queue:\n",
    "            return False\n",
    "        else:\n",
    "            return self.queue.pop(0)\n",
    "    def __repr__(self):\n",
    "        return str(self.queue)\n",
    "        \n",
    "queue = Queue()\n",
    "queue.enque(1)\n",
    "queue.enque(2)\n",
    "queue.deque()\n",
    "queue"
   ]
  },
  {
   "cell_type": "markdown",
   "metadata": {},
   "source": [
    "#### **Circular Queue**"
   ]
  },
  {
   "cell_type": "markdown",
   "metadata": {},
   "source": [
    "General (not Python related): A more efficient way is to use a **circular queue**. Specifically, we may use a fixed-size array and two pointers to indicate the starting position and the ending position. And the goal is to reuse the wasted storage we mentioned previously."
   ]
  },
  {
   "cell_type": "markdown",
   "metadata": {},
   "source": [
    "#### **Design Circular Queue**"
   ]
  },
  {
   "cell_type": "markdown",
   "metadata": {},
   "source": [
    "The circular queue is a **linear data structure** in which the operations are performed based on FIFO (First In First Out) principle and the last position is connected back to the first position to make a circle. It is also called **\"Ring Buffer\"**.\n",
    "\n",
    "One of the benefits of the circular queue is that we can make use of the spaces in front of the queue. In a normal queue, once the queue becomes full, we cannot insert the next element even if there is a space in front of the queue. But using the circular queue, we can use the space to store new values."
   ]
  },
  {
   "cell_type": "markdown",
   "metadata": {},
   "source": [
    "- **Approach 1: Array**"
   ]
  },
  {
   "cell_type": "code",
   "execution_count": null,
   "metadata": {},
   "outputs": [],
   "source": [
    "class CircularQueue:\n",
    "    def __init__(self, k: int):\n",
    "        \"\"\"\n",
    "        Initialize queue with attributes and set its size to k.\n",
    "        \"\"\"\n",
    "        self.queue = [None] * k\n",
    "        self.capacity = k # Total fixed capacity of queue\n",
    "        self.count = 0 # Number of elements in queue\n",
    "        self.head = 0 # Head pointer\n",
    "        \n",
    "    def enqueue(self, val: int) -> bool:\n",
    "        \"\"\"\n",
    "        Insert element into circular queue and adjust queue attributes.\n",
    "        Return True on success, False otherwise.\n",
    "        \"\"\"\n",
    "        if self.count == self.capacity:\n",
    "            # Queue is full\n",
    "            return False\n",
    "        # Insert at position one after tail\n",
    "        self.queue[(self.head + self.count) % self.capacity] = val\n",
    "        self.count += 1\n",
    "        return True\n",
    "    \n",
    "    def dequeue(self) -> bool:\n",
    "        \"\"\"\n",
    "        Remove element at top of queue.\n",
    "        Return True on success, False otherwise.\n",
    "        \"\"\"\n",
    "        if self.count == 0:\n",
    "            # Queue is empty\n",
    "            return False\n",
    "        self.queue[self.head] = None\n",
    "        self.head = (self.head + 1) % self.capacity\n",
    "        self.count -= 1\n",
    "        return True\n",
    "    \n",
    "    def front(self) -> int:\n",
    "        \"\"\"\n",
    "        Return the front element or -1 if queue is empty.\n",
    "        \"\"\"\n",
    "        if self.count == 0:\n",
    "            # Queue is empty\n",
    "            return -1\n",
    "        return self.queue[self.head]\n",
    "    \n",
    "    def rear(self) -> int:\n",
    "        \"\"\"\n",
    "        Return the rear element or -1 if queue is empty.\n",
    "        \"\"\"\n",
    "        if self.count == 0:\n",
    "            # Queue is empty\n",
    "            return -1\n",
    "        return self.queue[(self.head + self.count - 1) % self.capacity]\n",
    "    \n",
    "    def is_empty(self) -> bool:\n",
    "        \"\"\"\n",
    "        Return True if queue is empty, False otherwise.\n",
    "        \"\"\"\n",
    "        return self.count == 0\n",
    "    \n",
    "    def is_full(self) -> bool:\n",
    "        \"\"\"\n",
    "        Return True if queue is full, False otherwise.\n",
    "        \"\"\"\n",
    "        return self.count == self.capacity\n",
    "\n",
    "# Testing\n",
    "cq = CircularQueue(3)\n",
    "cq.enqueue(1)\n",
    "cq.enqueue(2)\n",
    "cq.enqueue(3)\n",
    "print(f'Head: {cq.front()}')\n",
    "print(f'Tail: {cq.rear()}')\n",
    "print(f'Is full: {cq.is_full()}')\n",
    "print('Dequeuing all elements...')\n",
    "cq.dequeue()\n",
    "cq.dequeue()\n",
    "cq.dequeue()\n",
    "print(f'Is empty: {cq.is_empty()}')"
   ]
  },
  {
   "cell_type": "markdown",
   "metadata": {},
   "source": [
    "**Time complexity: O(1)** since all methods are of constant time complexity  \n",
    "**Space Complexity: O(n)** where n is the pre-assigned capacity of the queue"
   ]
  },
  {
   "cell_type": "markdown",
   "metadata": {},
   "source": [
    "#### **Queue - Usage**"
   ]
  },
  {
   "cell_type": "markdown",
   "metadata": {},
   "source": [
    "Most popular languages provide built-in Queue library so you don't have to reinvent the wheel.  \n",
    "Python has **deque** as part of the **collections** library."
   ]
  },
  {
   "cell_type": "code",
   "execution_count": null,
   "metadata": {},
   "outputs": [],
   "source": [
    "# Important methods for deque\n",
    "\n",
    "from collections import deque\n",
    "\n",
    "queue = deque()      # Initialize\n",
    "queue.append(1)      # Append right\n",
    "queue.appendleft(2)  # Append left\n",
    "queue.pop()          # Pop right\n",
    "queue.popleft()      # Pop left\n",
    "queue.clear()        # Clear"
   ]
  },
  {
   "cell_type": "markdown",
   "metadata": {},
   "source": [
    "#### **Moving Average from Data Stream**"
   ]
  },
  {
   "cell_type": "markdown",
   "metadata": {},
   "source": [
    "Given a stream of integers and a window size, calculate the moving average of all integers in the sliding window."
   ]
  },
  {
   "cell_type": "markdown",
   "metadata": {},
   "source": [
    "- **Approach 1: Array or List**"
   ]
  },
  {
   "cell_type": "code",
   "execution_count": null,
   "metadata": {},
   "outputs": [],
   "source": [
    "class MovingAverage:\n",
    "    def __init__(self, size: int):\n",
    "        self.size = size\n",
    "        self.queue = []\n",
    "        \n",
    "    def next(self, val: int) -> float:\n",
    "        queue, size = self.queue, self.size\n",
    "        queue.append(val)\n",
    "        window_sum = sum(queue[-size:])\n",
    "        \n",
    "        return window_sum / min(len(queue), size)\n",
    "    \n",
    "mv = MovingAverage(3)\n",
    "mv.next(1)\n",
    "mv.next(10)\n",
    "mv.next(3)\n",
    "mv.next(5)"
   ]
  },
  {
   "cell_type": "markdown",
   "metadata": {},
   "source": [
    "**Time complexity: O(n)**, where n is the size of the window.  \n",
    "**Space Complexity: O(m)**, where m is the size of the queue."
   ]
  },
  {
   "cell_type": "markdown",
   "metadata": {},
   "source": [
    "- **Approach 2: Double-ended Queue**"
   ]
  },
  {
   "cell_type": "markdown",
   "metadata": {},
   "source": [
    "- We do not need to keep all values from the data stream, but rather the last n values which fall into the moving window. We can use a **deque (double-ended queue)**.\n",
    "- A deque allows for **O(1) time to add or remove an element at both ends**.\n",
    "- This approach **reduces the space complexity to O(n), where n is the size of the moving window**.\n",
    "- It also **reduces the time complexity to O(1)**, since we do not need to reiterate the elements in the moving window to calculate the sum."
   ]
  },
  {
   "cell_type": "code",
   "execution_count": null,
   "metadata": {},
   "outputs": [],
   "source": [
    "from collections import deque\n",
    "\n",
    "class MovingAverage:\n",
    "    def __init__(self, size: int):\n",
    "        self.size = size\n",
    "        self.queue = deque()\n",
    "        self.window_sum = 0\n",
    "        \n",
    "    def next(self, val: int) -> float:\n",
    "        if len(self.queue) == 3:\n",
    "            # Remove oldest element if queue full\n",
    "            oldest = self.queue.popleft()\n",
    "            self.window_sum -= oldest\n",
    "        self.queue.append(val)\n",
    "        self.window_sum += val\n",
    "        return self.window_sum / min(len(self.queue), self.size)\n",
    "    \n",
    "mv = MovingAverage(3)\n",
    "mv.next(1)\n",
    "mv.next(10)\n",
    "mv.next(3)\n",
    "mv.next(5)"
   ]
  },
  {
   "cell_type": "markdown",
   "metadata": {},
   "source": [
    "**Time complexity: O(1)**  \n",
    "**Space Complexity: O(n)**, where n is the size of the moving window."
   ]
  },
  {
   "cell_type": "markdown",
   "metadata": {},
   "source": [
    "- **Approach 3: Circular Queue with Array**"
   ]
  },
  {
   "cell_type": "markdown",
   "metadata": {},
   "source": [
    "- Unlike a deque, we don **not need to explicitly remove the oldest element** since it is simply overwritten in a circular queue.\n",
    "- Also, a single index suffices to keep track of both ends of the queue as opposed to two."
   ]
  },
  {
   "cell_type": "code",
   "execution_count": null,
   "metadata": {},
   "outputs": [],
   "source": [
    "class MovingAverage:\n",
    "    def __init__(self, size: int):\n",
    "        self.size = size\n",
    "        self.queue = [None] * size # Queue as fixed-sized array\n",
    "        self.head = 0\n",
    "        self.window_sum = 0\n",
    "        self.count = 0\n",
    "        \n",
    "    def next(self, val: int) -> float:\n",
    "        if self.count == self.size:\n",
    "            # Remove oldest element\n",
    "            self.window_sum -= self.queue[self.head]\n",
    "            self.head = (self.head + 1) % self.size\n",
    "            self.count -= 1\n",
    "        \n",
    "        # Add element to tail\n",
    "        tail = (self.head + self.count) % self.size\n",
    "        self.queue[tail] = val\n",
    "        self.window_sum += val\n",
    "        self.count += 1\n",
    "        \n",
    "        return self.window_sum / self.count\n",
    "    \n",
    "mv = MovingAverage(3)\n",
    "mv.next(1)\n",
    "mv.next(10)\n",
    "mv.next(3)\n",
    "mv.next(5)"
   ]
  },
  {
   "cell_type": "markdown",
   "metadata": {},
   "source": [
    "**Time complexity: O(1)**  \n",
    "**Space Complexity: O(n)**, where n is the size of the circular queue."
   ]
  },
  {
   "cell_type": "markdown",
   "metadata": {},
   "source": [
    "## Queue and BFS"
   ]
  },
  {
   "cell_type": "markdown",
   "metadata": {},
   "source": [
    "BFS (Breadth-first search) can be used to do **level-order traversal in a tree**.  \n",
    "We can also use BFS to **traverse a graph**. For example, we can use BFS to find a path, especially the shortest path, from a start node to a target node."
   ]
  },
  {
   "cell_type": "markdown",
   "metadata": {},
   "source": [
    "#### **Queue and BFS**"
   ]
  },
  {
   "cell_type": "markdown",
   "metadata": {},
   "source": [
    "Similar to tree's level-order traversal, the nodes closer to the root node will be traversed earlier. If a node X is added to the queue in the kth round, the length of the shortest path between the root node and X is exactly k. That is to say, you are already in the shortest path the first time you find the target node.\n",
    "\n",
    "It is worth noting that the newly-added nodes will not be traversed immediately but will be processed in the next round. The processing order of the nodes is the exact same order as how they were added to the queue, which is First-in-First-out (FIFO). That's why we use a queue in BFS."
   ]
  },
  {
   "cell_type": "markdown",
   "metadata": {},
   "source": [
    "#### **BFS - Template**"
   ]
  },
  {
   "cell_type": "markdown",
   "metadata": {},
   "source": [
    "Typically, the node will be an actual node or a status while the edge will be an actual edge or a possible transition."
   ]
  },
  {
   "cell_type": "code",
   "execution_count": null,
   "metadata": {},
   "outputs": [],
   "source": [
    "class TreeNode:\n",
    "    def __init__(self, value):\n",
    "        self.value = value\n",
    "        self.children = []\n",
    "    \n",
    "    def add_child(self, node):\n",
    "        self.children.append(node)\n",
    "    \n",
    "    def __repr__(self):\n",
    "        return str(self.val)"
   ]
  },
  {
   "cell_type": "markdown",
   "metadata": {},
   "source": [
    "**Templete for tree:**"
   ]
  },
  {
   "cell_type": "code",
   "execution_count": null,
   "metadata": {},
   "outputs": [],
   "source": [
    "from collections import deque\n",
    "        \n",
    "n1 = TreeNode(1)\n",
    "n2 = TreeNode(2)\n",
    "n3 = TreeNode(3)\n",
    "n4 = TreeNode(4)\n",
    "n5 = TreeNode(5)\n",
    "n1.add_child(n2)\n",
    "n1.add_child(n3)\n",
    "n2.add_child(n4)\n",
    "n3.add_child(n5)\n",
    "\n",
    "def bfs(root: TreeNode, target: TreeNode) -> bool:\n",
    "    queue = deque()\n",
    "    queue.append(root)\n",
    "    while queue:\n",
    "        # First in queue\n",
    "        curr = queue.popleft()\n",
    "        if curr is target:\n",
    "            # Target is found\n",
    "            return True\n",
    "        # Enqueue children of current node\n",
    "        for child in curr.children:\n",
    "            queue.append(child)\n",
    "    # Target not in tree\n",
    "    return False\n",
    "\n",
    "bfs(n1, n5)"
   ]
  },
  {
   "cell_type": "markdown",
   "metadata": {},
   "source": [
    "**Templete for graph (since graphs can have cycles we store visited nodes in a hash table or hash set):**"
   ]
  },
  {
   "cell_type": "code",
   "execution_count": null,
   "metadata": {},
   "outputs": [],
   "source": [
    "class GraphNode:\n",
    "    def __init__(self, value):\n",
    "        self.value = value\n",
    "        self.edges = []\n",
    "    \n",
    "    def add_edge(self, node):\n",
    "        self.edges.append(node)\n",
    "    \n",
    "    def __repr__(self):\n",
    "        return str(self.val)"
   ]
  },
  {
   "cell_type": "code",
   "execution_count": null,
   "metadata": {},
   "outputs": [],
   "source": [
    "from collections import deque\n",
    "        \n",
    "n1 = GraphNode(1)\n",
    "n2 = GraphNode(2)\n",
    "n3 = GraphNode(3)\n",
    "n4 = GraphNode(4)\n",
    "n5 = GraphNode(5)\n",
    "n1.add_edge(n2)\n",
    "n2.add_edge(n3)\n",
    "n3.add_edge(n1)\n",
    "\n",
    "def bfs(root: GraphNode, target: GraphNode) -> bool:\n",
    "    queue = deque()\n",
    "    visited = set() # Hash set with unique elements\n",
    "    queue.append(root)\n",
    "    visited.add(root)\n",
    "    while queue:\n",
    "        # First in queue\n",
    "        curr = queue.popleft()\n",
    "        if curr is target:\n",
    "            # Target is found\n",
    "            return True\n",
    "        # Enqueue unvisited children of current node only\n",
    "        for child in curr.edges:\n",
    "            if child not in visited:\n",
    "                queue.append(child)\n",
    "                visited.add(child)\n",
    "    # Target not in tree\n",
    "    return False\n",
    "\n",
    "bfs(n1, n5)"
   ]
  },
  {
   "cell_type": "markdown",
   "metadata": {},
   "source": [
    "#### **Walls and Gates**"
   ]
  },
  {
   "cell_type": "markdown",
   "metadata": {},
   "source": [
    "You are given a m x n 2D grid initialized with these three possible values.\n",
    "\n",
    "1) -1: A wall or an obstacle  \n",
    "2) 0: A gate  \n",
    "3) INF: Infinity means an empty room. We use the value 2<sup>31</sup> - 1 = 2147483647 to represent INF as you may assume that the distance to a gate is less than 2147483647\n",
    "\n",
    "Fill each empty room with the distance to its nearest gate. If it is impossible to reach a gate, it should be filled with INF."
   ]
  },
  {
   "cell_type": "markdown",
   "metadata": {},
   "source": [
    "- **Approach: Initiating breadth-first search (BFS) from all gates at the same time. Since BFS guarantees that we search all rooms of distance d before searching rooms of distance d + 1, the distance to an empty room must be the shortest.**"
   ]
  },
  {
   "cell_type": "code",
   "execution_count": null,
   "metadata": {},
   "outputs": [],
   "source": [
    "from collections import deque\n",
    "from typing import List\n",
    "\n",
    "EMPTY = 2147483647\n",
    "WALL = -1\n",
    "GATE = 0\n",
    "rooms = [[EMPTY, WALL, GATE, EMPTY],\n",
    "         [EMPTY, EMPTY, EMPTY, WALL],\n",
    "         [EMPTY, WALL, EMPTY, WALL],\n",
    "         [GATE, WALL, EMPTY, EMPTY]]\n",
    "\n",
    "def walls_and_gates(rooms: List[List[int]]) -> None:\n",
    "    m = len(rooms) # Row length\n",
    "    if m == 0:\n",
    "        return\n",
    "    n = len(rooms[0]) # Column length\n",
    "    \n",
    "    queue = deque()\n",
    "    # Enque all GATES\n",
    "    for i in range(m):\n",
    "        for j in range(n):\n",
    "            if rooms[i][j] == GATE:\n",
    "                queue.append((i, j))\n",
    "    # Directions: up, down, right, left\n",
    "    directions = [(1, 0), (-1, 0), (0, 1), (0, -1)]\n",
    "    \n",
    "    while queue:\n",
    "        point = queue.popleft()\n",
    "        row = point[0]\n",
    "        col = point[1]\n",
    "        for direction in directions:\n",
    "            r = row + direction[0]\n",
    "            c = col + direction[1]\n",
    "            if r < 0 or c < 0 or r >= m or c >= n or rooms[r][c] != EMPTY:\n",
    "                # Ignore out of bound indices\n",
    "                continue\n",
    "            rooms[r][c] = rooms[row][col] + 1\n",
    "            queue.append((r, c))\n",
    "\n",
    "walls_and_gates(rooms)\n",
    "\n",
    "# Print modified matrix for testing\n",
    "for row in rooms:\n",
    "    print(row)"
   ]
  },
  {
   "cell_type": "markdown",
   "metadata": {},
   "source": [
    "**Time complexity: O(mn)**. Time complexity does not depend on the number of gates since each room is visited at most once.  \n",
    "**Space Complexity: O(mn)**, the size of the queue."
   ]
  },
  {
   "cell_type": "markdown",
   "metadata": {},
   "source": [
    "#### **Number of Islands**"
   ]
  },
  {
   "cell_type": "markdown",
   "metadata": {},
   "source": [
    "Given an m x n 2d grid map of '1's (land) and '0's (water), return the number of islands.\n",
    "\n",
    "An island is surrounded by water and is formed by connecting adjacent lands horizontally or vertically. You may assume all four edges of the grid are all surrounded by water."
   ]
  },
  {
   "cell_type": "markdown",
   "metadata": {},
   "source": [
    "- **Approach 1: BFS**"
   ]
  },
  {
   "cell_type": "code",
   "execution_count": null,
   "metadata": {},
   "outputs": [],
   "source": [
    "from collections import deque\n",
    "from typing import List\n",
    "\n",
    "# 3 islands (diagnoal is not adjecent)\n",
    "grid = [\n",
    "  ['1','1','1','0','0'],\n",
    "  ['1','1','0','0','0'],\n",
    "  ['0','0','1','0','0'],\n",
    "  ['0','0','0','1','1']\n",
    "]\n",
    "\n",
    "def num_islands(grid: List[List[int]]) -> int:\n",
    "    directions = [(1, 0),(-1, 0),(0, 1),(0, -1)]\n",
    "    m = len(grid) # Rows\n",
    "    n = len(grid[0]) # Columns\n",
    "    \n",
    "    num_islands = 0\n",
    "    for i in range(m):\n",
    "        for j in range(n):\n",
    "            # Enqueue if position is part of an island\n",
    "            if grid[i][j] == '1':\n",
    "                num_islands += 1\n",
    "                # Mark all adjacent island parts as visited to ignore\n",
    "                # from counting\n",
    "                queue = deque()\n",
    "                queue.append((i, j))\n",
    "                while queue:\n",
    "                    curr = queue.popleft()\n",
    "                    row = curr[0]\n",
    "                    col = curr[1]\n",
    "                    grid[row][col] = '0' # Mark as visited\n",
    "                    for direction in directions:\n",
    "                        r = row + direction[0]\n",
    "                        c = col + direction[1]\n",
    "                        if r < 0 or c < 0 or r >= m or c >= n or grid[r][c] == '0':\n",
    "                            # Ignore water or invalid locations\n",
    "                            continue\n",
    "                        # Enqueue neighboring island parts\n",
    "                        queue.append((r, c))\n",
    "    \n",
    "    return num_islands\n",
    "\n",
    "num_islands(grid)"
   ]
  },
  {
   "cell_type": "markdown",
   "metadata": {},
   "source": [
    "**Time complexity: O(mn)**, since already visited positions are not visited again in the next iteration.  \n",
    "**Space Complexity: O(min(m,n))**, since in the worst case where the grid is filled with lands, the enqueued positions form a diagonal from the bottom left to the top right. This diagonal can only be as large as the minimum width or height of the grid."
   ]
  },
  {
   "cell_type": "markdown",
   "metadata": {},
   "source": [
    "#### **Open the Lock**"
   ]
  },
  {
   "cell_type": "markdown",
   "metadata": {},
   "source": [
    "You have a lock in front of you with 4 circular wheels. Each wheel has 10 slots: '0', '1', '2', '3', '4', '5', '6', '7', '8', '9'. The wheels can rotate freely and wrap around: for example we can turn '9' to be '0', or '0' to be '9'. Each move consists of turning one wheel one slot.\n",
    "\n",
    "The lock initially starts at '0000', a string representing the state of the 4 wheels.\n",
    "\n",
    "You are given a list of dead ends, meaning if the lock displays any of these codes, the wheels of the lock will stop turning and you will be unable to open it.\n",
    "\n",
    "Given a target representing the value of the wheels that will unlock the lock, return the minimum total number of turns required to open the lock, or -1 if it is impossible."
   ]
  },
  {
   "cell_type": "markdown",
   "metadata": {},
   "source": [
    "**Hint: This is a shortest path problem which can be implemented with a graph.**"
   ]
  },
  {
   "cell_type": "code",
   "execution_count": null,
   "metadata": {},
   "outputs": [],
   "source": [
    "from collections import deque\n",
    "from typing import List\n",
    "\n",
    "deadends = ['0201', '0101', '0102', '1212', '2002']\n",
    "target = '0202'\n",
    "\n",
    "def open_lock(deadends: List[str], target: str) -> int:\n",
    "    def neighbors(node):\n",
    "        # Create all neigbors by adding or subtracting\n",
    "        # one from each digit\n",
    "        for i in range(4):\n",
    "            x = int(node[i])\n",
    "            for d in (-1, 1):\n",
    "                y = (x + d) % 10 # Avoid nums larger than 9\n",
    "                yield node[:i] + str(y) + node[i + 1:]\n",
    "                \n",
    "    dead = set(deadends)\n",
    "    queue = deque([('0000', 0)])\n",
    "    seen = {'0000'}\n",
    "    \n",
    "    while queue:\n",
    "        node, depth = queue.popleft()\n",
    "        if node == target:\n",
    "            return depth\n",
    "        if node in dead:\n",
    "            continue\n",
    "        for neighbor in neighbors(node):\n",
    "            if neighbor not in seen:\n",
    "                queue.append((neighbor, depth + 1))\n",
    "                seen.add(neighbor)\n",
    "                \n",
    "    return -1 # Cannot reach target\n",
    "\n",
    "# Answer should be 6: '0000' -> '1000' -> '1100' -> '1200' -> '1201' -> '1202' -> '0202'\n",
    "open_lock(deadends, target)"
   ]
  },
  {
   "cell_type": "markdown",
   "metadata": {},
   "source": [
    "**Time Complexity: O(N<sup>2</sup> * A<sup>N</sup> + D)** where A is the number of digits in the number system (10), N is the number of digits in the lock, and D is the size of deadends, since we need to initiate deadends. Every lock combination requires N<sup>2</sup> time constructing its neighbors.  \n",
    "**Space Complexity: O(A<sup>N</sup> + D)** for the queue and the deadends set."
   ]
  },
  {
   "cell_type": "markdown",
   "metadata": {},
   "source": [
    "#### **Perfect Squares**"
   ]
  },
  {
   "cell_type": "markdown",
   "metadata": {},
   "source": [
    "Given a positive integer n, find the least number of perfect square numbers (for example, 1, 4, 9, 16, ...) which sum to n.  \n",
    "Example: 12 -> 4 + 4 + 4 -> Output should be 3."
   ]
  },
  {
   "cell_type": "markdown",
   "metadata": {},
   "source": [
    "- **Approach 1: Brute-force enumeration**"
   ]
  },
  {
   "cell_type": "code",
   "execution_count": null,
   "metadata": {},
   "outputs": [],
   "source": [
    "import math\n",
    "\n",
    "def num_squares(n: int) -> int:\n",
    "    # Enumerate all squares up to the root of n\n",
    "    square_nums = [i**2 for i in range(1, int(math.sqrt(n)) + 1)]\n",
    "    def min_num_squares(k):\n",
    "        if k in square_nums:\n",
    "            # Input is a square itself\n",
    "            return 1\n",
    "        min_num = float('inf')\n",
    "        for square_num in square_nums:\n",
    "            if k < square_num:\n",
    "                break\n",
    "            new_num = min_num_squares(k - square_num) + 1\n",
    "            min_num = min(min_num, new_num)\n",
    "        return min_num\n",
    "    \n",
    "    return min_num_squares(n)\n",
    "\n",
    "num_squares(12)"
   ]
  },
  {
   "cell_type": "markdown",
   "metadata": {},
   "source": [
    "This solution only works for small numbers, since **time and space grow exponentially**. A **stack overflow** might also be encountered due to the excessive recursion."
   ]
  },
  {
   "cell_type": "markdown",
   "metadata": {},
   "source": [
    "- **Approach 2: Dynamic Programming**"
   ]
  },
  {
   "cell_type": "code",
   "execution_count": null,
   "metadata": {},
   "outputs": [],
   "source": [
    "import math\n",
    "\n",
    "def num_squares(n: int) -> int:\n",
    "    squares = [i**2 for i in range(1, int(math.sqrt(n)) + 1)]\n",
    "    # Array for storing intermediate sub-results\n",
    "    dp = [float('inf')] * (n + 1)\n",
    "    dp[0] = 0\n",
    "    for i in range(1, n + 1):\n",
    "            for square in squares:\n",
    "                if i < square:\n",
    "                    break\n",
    "                dp[i] = min(dp[i], dp[i-square] + 1)\n",
    "    return dp[-1]\n",
    "    \n",
    "num_squares(12)"
   ]
  },
  {
   "cell_type": "markdown",
   "metadata": {},
   "source": [
    "By applying the **Dynamic Programming (DP)** technique, which is built upon the idea of reusing the results of intermediate sub-solutions to calculate the final solution, we can reduce the time and space complexity."
   ]
  },
  {
   "cell_type": "markdown",
   "metadata": {},
   "source": [
    "**Time Complexity: O(n * $\\sqrt{n}$)** considering both nested loops.  \n",
    "**Space Complexity: O(n)** due to the storage of intermediate sub-solutions."
   ]
  },
  {
   "cell_type": "markdown",
   "metadata": {},
   "source": [
    "- **Approach 3: Greedy Enumeration**"
   ]
  },
  {
   "cell_type": "code",
   "execution_count": null,
   "metadata": {},
   "outputs": [],
   "source": [
    "def num_squares(n: int) -> int:\n",
    "    def is_divided_by(n, count):\n",
    "        \"\"\"\n",
    "        Return True if n can be decomposed into count number\n",
    "        of perfect square numbers.\n",
    "        \"\"\"\n",
    "        if count == 1:\n",
    "            return n in squares\n",
    "        for k in squares:\n",
    "            if is_divided_by(n - k, count - 1):\n",
    "                return True\n",
    "        return False\n",
    "    \n",
    "    # All square numbers smaller than n\n",
    "    squares = set([i**2 for i in range(1, int(n ** 0.5) + 1)])\n",
    "    \n",
    "    for count in range(1, n + 1):\n",
    "        if is_divided_by(n, count):\n",
    "            return count\n",
    "\n",
    "num_squares(12)"
   ]
  },
  {
   "cell_type": "markdown",
   "metadata": {},
   "source": [
    "**Time Complexity: O(n<sup>h/2</sup>)** where h is the maximal number of recursion that could happen.  \n",
    "**Space Complexity: O($\\sqrt{n}$)** for the list of square numbers. The size of the call stack never exceeds 4."
   ]
  },
  {
   "cell_type": "markdown",
   "metadata": {},
   "source": [
    "- **Approach 4: Greedy + BFS**"
   ]
  },
  {
   "cell_type": "markdown",
   "metadata": {},
   "source": [
    "Intuition: Given a N-ary tree, where each node represents a remainder of the number n subtracting a combination of square numbers, our task is to find a node in the tree, which should meet two conditions: \n",
    "1) The value of the node (i.e. the remainder) should be a square number  \n",
    "2) The distance between the node and the root should be minimal among all nodes that meet the condition (1)"
   ]
  },
  {
   "cell_type": "code",
   "execution_count": null,
   "metadata": {},
   "outputs": [],
   "source": [
    "def num_squares(n: int) -> int:\n",
    "    # All square numbers smaller than n\n",
    "    square_nums = [i**2 for i in range(1, int(n ** 0.5) + 1)]\n",
    "\n",
    "    level = 0\n",
    "    queue = {n}\n",
    "    while queue:\n",
    "        level += 1\n",
    "        # Using set() instead of list() to eliminate the redundancy,\n",
    "        # which would even provide a 5-times speedup, 200ms vs. 1000ms.\n",
    "        next_queue = set()\n",
    "        # Construct the queue for the next level\n",
    "        for remainder in queue:\n",
    "            for square_num in square_nums:    \n",
    "                if remainder == square_num:\n",
    "                    return level # Node found\n",
    "                elif remainder < square_num:\n",
    "                    break\n",
    "                else:\n",
    "                    next_queue.add(remainder - square_num)\n",
    "        queue = next_queue\n",
    "    return level\n",
    "\n",
    "num_squares(12)"
   ]
  },
  {
   "cell_type": "markdown",
   "metadata": {},
   "source": [
    "**Time Complexity: O(n<sup>h/2</sup>)** where h is the height of the N-ary tree.  \n",
    "**Space Complexity: O(($\\sqrt{n}$)<sup>h</sup>)** which is also the maximal number of nodes that can appear at the level h"
   ]
  },
  {
   "cell_type": "markdown",
   "metadata": {},
   "source": [
    "## Stack: Last-in-first-out Data Structure"
   ]
  },
  {
   "cell_type": "markdown",
   "metadata": {},
   "source": [
    "#### **Last-in-first-out Data Structure**"
   ]
  },
  {
   "cell_type": "markdown",
   "metadata": {},
   "source": [
    "- In a **LIFO** data structure, the newest element added to the queue will be processed first\n",
    "- Different from the queue, the **stack** is a LIFO data structure\n",
    "- Typically, the insert operation is called **push** in a stack. Similar to the queue, a new element is always added at the end of the stack. However, the delete operation, **pop**, will always remove the last element which is opposite from the queue."
   ]
  },
  {
   "cell_type": "markdown",
   "metadata": {},
   "source": [
    "#### **Stack - Implementation**"
   ]
  },
  {
   "cell_type": "markdown",
   "metadata": {},
   "source": [
    "A dynamic array is sufficient to implement a stack structure"
   ]
  },
  {
   "cell_type": "code",
   "execution_count": null,
   "metadata": {},
   "outputs": [],
   "source": [
    "class Stack:\n",
    "    def __init__(self):\n",
    "        self.stack = []\n",
    "    def push(self, val):\n",
    "        self.stack.append(val)\n",
    "    def pop(self):\n",
    "        if self.is_empty():\n",
    "            return False\n",
    "        return self.stack.pop()\n",
    "    def is_empty(self):\n",
    "        return not self.stack\n",
    "    def top(self):\n",
    "        if self.stack:\n",
    "            return self.stack[-1]\n",
    "\n",
    "stack = Stack()\n",
    "\n",
    "stack.push(1)\n",
    "stack.push(2)\n",
    "stack.pop()\n",
    "stack.push(3)\n",
    "stack.top()"
   ]
  },
  {
   "cell_type": "markdown",
   "metadata": {},
   "source": [
    "#### **Min Stack**"
   ]
  },
  {
   "cell_type": "markdown",
   "metadata": {},
   "source": [
    "Design a stack that supports push, pop, top, and retrieving the minimum element in constant time.\n",
    "- push(x) -- Push element x onto stack.\n",
    "- pop() -- Removes the element on top of the stack.\n",
    "- top() -- Get the top element.\n",
    "- get_min() -- Retrieve the minimum element in the stack."
   ]
  },
  {
   "cell_type": "markdown",
   "metadata": {},
   "source": [
    "- **Approach 1: Stack of Value/Minimum Pairs**"
   ]
  },
  {
   "cell_type": "code",
   "execution_count": null,
   "metadata": {},
   "outputs": [],
   "source": [
    "class MinStack:\n",
    "    def __init__(self):\n",
    "        # Stores elements as a tuple of the element and local minimum\n",
    "        self.stack = []\n",
    "        \n",
    "    def push(self, val: int) -> None:\n",
    "        if not self.stack:\n",
    "            # Empty stack guarantees val to be minimum\n",
    "            self.stack.append((val, val))\n",
    "        else:\n",
    "            curr_min = self.stack[-1][1]\n",
    "            self.stack.append((val, min(val, curr_min)))\n",
    "            \n",
    "    def pop(self) -> None:\n",
    "        self.stack.pop()\n",
    "        \n",
    "    def top(self) -> int:\n",
    "        return self.stack[-1][0]\n",
    "        \n",
    "    def get_min(self) -> int:\n",
    "        return self.stack[-1][1]\n",
    "\n",
    "min_stack = MinStack()\n",
    "min_stack.push(3)\n",
    "min_stack.push(1)\n",
    "min_stack.push(2)\n",
    "\n",
    "# Testing\n",
    "print('Stack:', min_stack.stack)\n",
    "print('Top:', min_stack.top())\n",
    "print('Min element:', min_stack.get_min())"
   ]
  },
  {
   "cell_type": "markdown",
   "metadata": {},
   "source": [
    "**Time Complexity: O(1)** for all operations.  \n",
    "**Space Complexity: O(n)**"
   ]
  },
  {
   "cell_type": "markdown",
   "metadata": {},
   "source": [
    "- **Approach 2: Two Stacks**"
   ]
  },
  {
   "cell_type": "code",
   "execution_count": null,
   "metadata": {},
   "outputs": [],
   "source": [
    "class MinStack:\n",
    "    def __init__(self):\n",
    "        self.stack = []\n",
    "        self.min = []\n",
    "    \n",
    "    def push(self, val):\n",
    "        self.stack.append(val)\n",
    "        # Add to min array if val is new minimum\n",
    "        if not self.min or val <= self.min[-1]:\n",
    "            self.min.append(val)\n",
    "        \n",
    "    def pop(self):\n",
    "        if not self.stack:\n",
    "            return False\n",
    "        val = self.stack.pop()\n",
    "        # Remove from min array if val is minimum\n",
    "        if val == self.min[-1]:\n",
    "            self.min.pop()\n",
    "        return val\n",
    "    \n",
    "    def top(self):\n",
    "        if not self.stack:\n",
    "            return False\n",
    "        return self.stack[-1]\n",
    "    \n",
    "    def get_min(self):\n",
    "        return self.min[-1]\n",
    "    \n",
    "min_stack = MinStack()\n",
    "min_stack.push(3)\n",
    "min_stack.push(1)\n",
    "min_stack.push(2)\n",
    "\n",
    "# Testing\n",
    "print('Stack:', min_stack.stack)\n",
    "print('Top:', min_stack.top())\n",
    "print('Min element:', min_stack.get_min())"
   ]
  },
  {
   "cell_type": "markdown",
   "metadata": {},
   "source": [
    "**Time Complexity: O(1)** for all operations.  \n",
    "**Space Complexity: O(n)**"
   ]
  },
  {
   "cell_type": "markdown",
   "metadata": {},
   "source": [
    "- **Approach 3: Improved Two Stacks**"
   ]
  },
  {
   "cell_type": "code",
   "execution_count": null,
   "metadata": {},
   "outputs": [],
   "source": [
    "class MinStack:\n",
    "    def __init__(self):\n",
    "        self.stack = []\n",
    "        self.min = []\n",
    "    \n",
    "    def push(self, val):\n",
    "        self.stack.append(val)\n",
    "        # Add to min array if val is new minimum\n",
    "        # On repetition, increase occurance of minimum\n",
    "        if not self.min or val < self.min[-1][0]:\n",
    "            self.min.append([val, 1])\n",
    "        elif val == self.min[-1][0]:\n",
    "            self.min[-1][1] += 1\n",
    "        \n",
    "    def pop(self):\n",
    "        if not self.stack:\n",
    "            return False\n",
    "        val = self.stack.pop()\n",
    "        # Remove from min array or decrease occurance if val is minimum\n",
    "        if val == self.min[-1][0]:\n",
    "            if self.min[-1][1] > 1:\n",
    "                self.min[-1][1] -= 1\n",
    "            else:\n",
    "                self.min.pop()\n",
    "        return val\n",
    "    \n",
    "    def top(self):\n",
    "        if not self.stack:\n",
    "            return False\n",
    "        return self.stack[-1]\n",
    "    \n",
    "    def get_min(self):\n",
    "        return self.min[-1][0]\n",
    "    \n",
    "min_stack = MinStack()\n",
    "min_stack.push(3)\n",
    "min_stack.push(1)\n",
    "min_stack.push(2)\n",
    "min_stack.push(1)\n",
    "\n",
    "# Testing\n",
    "print('Stack:', min_stack.stack)\n",
    "print('Top:', min_stack.top())\n",
    "print('Min element:', min_stack.get_min())\n",
    "print('Min stack:', min_stack.min)"
   ]
  },
  {
   "cell_type": "markdown",
   "metadata": {},
   "source": [
    "**Time Complexity: O(1)** for all operations.  \n",
    "**Space Complexity: O(n)**"
   ]
  },
  {
   "cell_type": "markdown",
   "metadata": {},
   "source": [
    "#### **Valid Parentheses**"
   ]
  },
  {
   "cell_type": "markdown",
   "metadata": {},
   "source": [
    "Given a string s containing just the characters '(', ')', '{', '}', '[' and ']', determine if the input string is valid.\n",
    "\n",
    "An input string is valid if:\n",
    "1) Open brackets are closed by the same type of brackets  \n",
    "2) Open brackets are closed in the correct order"
   ]
  },
  {
   "cell_type": "code",
   "execution_count": null,
   "metadata": {},
   "outputs": [],
   "source": [
    "s1 = '({[]()})' # Valid\n",
    "s2 = '({(]})' # Invalid\n",
    "\n",
    "def is_valid(s: str) -> bool:\n",
    "    stack = []\n",
    "    mapping = {')':'(', '}':'{', ']':'['}\n",
    "    for c in s:\n",
    "        # Adding opening brackets to the stack\n",
    "        if c in mapping:\n",
    "            if not stack:\n",
    "                return False\n",
    "            top = stack.pop() # Last opening bracket\n",
    "            if mapping[c] != top:\n",
    "                # Brackets do not match\n",
    "                return False\n",
    "        else:\n",
    "            # Add opening bracket to stack\n",
    "            stack.append(c)\n",
    "            \n",
    "    # Valid string if the stack is empty\n",
    "    return not stack\n",
    " \n",
    "r1 = is_valid(s1)\n",
    "r2 = is_valid(s2)\n",
    "\n",
    "# Testing\n",
    "print(f'{s1}, {r1}')\n",
    "print(f'{s2}, {r2}')"
   ]
  },
  {
   "cell_type": "markdown",
   "metadata": {},
   "source": [
    "**Time Complexity: O(n)** since we traverse the entire string.  \n",
    "**Space Complexity: O(n)** since, in the worst case, the string may contain all opening brackets."
   ]
  },
  {
   "cell_type": "markdown",
   "metadata": {},
   "source": [
    "#### **Daily Temperatures**"
   ]
  },
  {
   "cell_type": "markdown",
   "metadata": {},
   "source": [
    "Given a list of daily temperatures T, return a list such that, for each day in the input, tells you how many days you would have to wait until a warmer temperature. If there is no future day for which this is possible, put 0 instead.\n",
    "\n",
    "For example, given the list of temperatures T = [73, 74, 75, 71, 69, 72, 76, 73], your output should be [1, 1, 4, 2, 1, 1, 0, 0].\n",
    "\n",
    "Note: The length of temperatures will be in the range [1, 30000]. Each temperature will be an integer in the range [30, 100]."
   ]
  },
  {
   "cell_type": "markdown",
   "metadata": {},
   "source": [
    "- **Approach 2: Stack**"
   ]
  },
  {
   "cell_type": "code",
   "execution_count": null,
   "metadata": {},
   "outputs": [],
   "source": [
    "from typing import List\n",
    "\n",
    "T = [73, 74, 75, 71, 69, 72, 76, 73]\n",
    "\n",
    "def daily_temperatures(T: List[int]) -> List[int]:\n",
    "    result = [0] * len(T)\n",
    "    stack = []\n",
    "    for i in range(len(T) - 1, -1, -1):\n",
    "        while stack and T[i] >= T[stack[-1]]:\n",
    "            stack.pop()\n",
    "        if stack:\n",
    "            result[i] = stack[-1] - i\n",
    "        stack.append(i)\n",
    "    \n",
    "    return result\n",
    "\n",
    "daily_temperatures(T)"
   ]
  },
  {
   "cell_type": "markdown",
   "metadata": {},
   "source": [
    "**Time Complexity: O(N)** where N is the length of T.  \n",
    "**Space Complexity: O(W)** where W is the size of the stack, bounded by strictly increasing temparatures."
   ]
  },
  {
   "cell_type": "markdown",
   "metadata": {},
   "source": [
    "#### **Evaluate Reverse Polish Notation**"
   ]
  },
  {
   "cell_type": "markdown",
   "metadata": {},
   "source": [
    "Evaluate the value of an arithmetic expression in Reverse Polish Notation.  \n",
    "Valid operators are +, -, *, /. Each operand may be an integer or another expression.\n",
    "\n",
    "Note:\n",
    "- Division between two integers should truncate toward zero.\n",
    "- The given RPN expression is always valid. That means the expression would always evaluate to a result and there won't be any divide by zero operation."
   ]
  },
  {
   "cell_type": "code",
   "execution_count": null,
   "metadata": {},
   "outputs": [],
   "source": [
    "from typing import List\n",
    "\n",
    "tokens = ['10', '6', '9', '3', '+', '-11', '*', '/', '*', '17', '+', '5', '+']\n",
    "\n",
    "def eval_rpn(tokens: List[str]) -> int:\n",
    "    operations = {\n",
    "        '+': lambda a, b: a + b,\n",
    "        '-': lambda a, b: a - b,\n",
    "        '*': lambda a, b: a * b,\n",
    "        '/': lambda a, b: int(a / b)\n",
    "    }\n",
    "    stack = []\n",
    "    for token in tokens:\n",
    "        if token in operations:\n",
    "            # Element on top of stack is second operand\n",
    "            op2 = stack.pop()\n",
    "            op1 = stack.pop()\n",
    "            operation = operations[token]\n",
    "            stack.append(operation(op1, op2))\n",
    "        else:\n",
    "            stack.append(int(token))\n",
    "            \n",
    "    return stack.pop()\n",
    "\n",
    "eval_rpn(tokens)"
   ]
  },
  {
   "cell_type": "markdown",
   "metadata": {},
   "source": [
    "**Time Complexity: O(n)**  \n",
    "**Space Complexity: O(n)**"
   ]
  },
  {
   "cell_type": "markdown",
   "metadata": {},
   "source": [
    "## Stack and DFS"
   ]
  },
  {
   "cell_type": "markdown",
   "metadata": {},
   "source": [
    "As mentioned in tree traversal, we can use DFS to do **pre-order**, **in-order** and **post-order** traversal. There is a common feature among these three traversal orders: we never trace back unless we reach the deepest node. That is also the largest difference between DFS and BFS, BFS never go deeper unless it has already visited all nodes at the current level. Typically, we implement DFS using **recursion**. Stack plays an important role in recursion. There are two ways to implement DFS: **Recursively** and **iteratively**."
   ]
  },
  {
   "cell_type": "markdown",
   "metadata": {},
   "source": [
    "#### **DFS - Template I**"
   ]
  },
  {
   "cell_type": "markdown",
   "metadata": {},
   "source": [
    "Different from BFS, the nodes you visit earlier might not be the nodes which are closer to the root node. As a result, the **first path you found in DFS might not be the shortest path**."
   ]
  },
  {
   "cell_type": "code",
   "execution_count": null,
   "metadata": {},
   "outputs": [],
   "source": [
    "class Node:\n",
    "    def __init__(self, val):\n",
    "        self.val = val\n",
    "        self.left = None\n",
    "        self.right = None\n",
    "        \n",
    "    def __repr__(self):\n",
    "        return str(self.val)\n",
    "        \n",
    "# Initialize tree\n",
    "n1 = Node(1)\n",
    "n2 = Node(2)\n",
    "n3 = Node(3)\n",
    "n4 = Node(4)\n",
    "n5 = Node(5)\n",
    "n6 = Node(6)\n",
    "n7 = Node(7)\n",
    "n1.left = n2\n",
    "n1.right = n3\n",
    "n2.left = n4\n",
    "n2.right = n5\n",
    "n3.left = n6\n",
    "n3.right = n7"
   ]
  },
  {
   "cell_type": "code",
   "execution_count": null,
   "metadata": {},
   "outputs": [],
   "source": [
    "# DFS in a tree structure (only two child nodes)\n",
    "def dfs(head: Node, target: Node, visited=set()) -> bool:\n",
    "    visited.add(head)\n",
    "    if head is target:\n",
    "        return True\n",
    "    if head.left:\n",
    "        if dfs(head.left, target):\n",
    "            return True\n",
    "    if head.right:\n",
    "        if dfs(head.right, target):\n",
    "            return True\n",
    "    return False\n",
    "\n",
    "dfs(n1, n7)"
   ]
  },
  {
   "cell_type": "markdown",
   "metadata": {},
   "source": [
    "The above implementation is using the **implicit stack** provided by the system, also known as the **call stack**."
   ]
  },
  {
   "cell_type": "markdown",
   "metadata": {},
   "source": [
    "**Space Complexity: O(h)**, since the size of the stack is exactly the depth of DFS. So in the worst case, it costs **O(h)** to maintain the system stack, where h is the maximum depth of DFS."
   ]
  },
  {
   "cell_type": "markdown",
   "metadata": {},
   "source": [
    "#### **Number of Islands**"
   ]
  },
  {
   "cell_type": "markdown",
   "metadata": {},
   "source": [
    "Given an m x n 2d grid map of '1's (land) and '0's (water), return the number of islands.  \n",
    "An island is surrounded by water and is formed by connecting adjacent lands horizontally or vertically. You may assume all four edges of the grid are all surrounded by water."
   ]
  },
  {
   "cell_type": "code",
   "execution_count": null,
   "metadata": {},
   "outputs": [],
   "source": [
    "from typing import List\n",
    "\n",
    "grid = [\n",
    "  ['1','1','0','0','0'],\n",
    "  ['1','1','0','0','0'],\n",
    "  ['0','0','1','0','0'],\n",
    "  ['0','0','0','1','1']\n",
    "]\n",
    "\n",
    "grid = [\n",
    "  ['1','1','1','1','1'],\n",
    "  ['1','1','1','1','1'],\n",
    "  ['1','1','1','1','1'],\n",
    "  ['1','1','1','1','1']\n",
    "]\n",
    "\n",
    "def num_islands(grid: List[List[str]]) -> int:\n",
    "    m = len(grid) # Rows\n",
    "    n = len(grid[0]) # Columns\n",
    "    directions = [(-1, 0), (1, 0), (0, -1), (0, 1)]\n",
    "    result = 0\n",
    "    for i in range(m):\n",
    "        for j in range(n):\n",
    "            if grid[i][j] == '1':\n",
    "                result += 1\n",
    "                stack = [(i, j)]\n",
    "                while stack:\n",
    "                    print(stack)\n",
    "                    curr = stack.pop()\n",
    "                    grid[curr[0]][curr[1]] = '0' # Mark as visited\n",
    "                    for direction in directions:\n",
    "                        row = curr[0] + direction[0]\n",
    "                        col = curr[1] + direction[1]\n",
    "                        # Avoid water or out of bound positions\n",
    "                        if row < 0 or col < 0 or row >= m or col >= n or grid[row][col] == '0':\n",
    "                            continue\n",
    "                        # Mark land as visited and push onto stack\n",
    "                        grid[row][col] = '0'\n",
    "                        stack.append((row, col))\n",
    "                        \n",
    "    return result\n",
    "\n",
    "num_islands(grid)"
   ]
  },
  {
   "cell_type": "markdown",
   "metadata": {},
   "source": [
    "**Time Complexity: O(mn)**  \n",
    "**Space Complexity: O(mn)** since, in the worst case, the grid is filled with land."
   ]
  },
  {
   "cell_type": "markdown",
   "metadata": {},
   "source": [
    "#### **Clone Graph**"
   ]
  },
  {
   "cell_type": "markdown",
   "metadata": {},
   "source": [
    "Given a reference of a node in a connected undirected graph.  \n",
    "Return a **deep copy (clone)** of the graph.  \n",
    "Each node in the graph contains a val (int) and a list (List[Node]) of its neighbors.  \n",
    "\n",
    "```python\n",
    "class Node:\n",
    "    def __init__(self, val, neighbors):\n",
    "        self.val = val\n",
    "        self.neighbors = []\n",
    "```\n",
    "\n",
    "For simplicity sake, each node's value is the same as the node's index (1-indexed). For example, the first node with val = 1, the second node with val = 2, and so on. The graph is represented in the test case using an adjacency list.\n",
    "\n",
    "**Adjacency list** is a collection of unordered lists used to represent a finite graph. Each list describes the set of neighbors of a node in the graph.  \n",
    "The given node will always be the first node with val = 1. You must return the copy of the given node as a reference to the cloned graph."
   ]
  },
  {
   "cell_type": "code",
   "execution_count": null,
   "metadata": {},
   "outputs": [],
   "source": [
    "class Node:\n",
    "    def __init__(self, val=0, neighbors=None):\n",
    "        self.val = val\n",
    "        self.neighbors = neighbors if neighbors is not None else []"
   ]
  },
  {
   "cell_type": "code",
   "execution_count": null,
   "metadata": {},
   "outputs": [],
   "source": [
    "# Adjecency list for 4 nodes\n",
    "a_list = [[2,4],[1,3],[2,4],[1,3]]\n",
    "\n",
    "# Create each node\n",
    "nodes = []\n",
    "for i in range(1, len(a_list) + 1):\n",
    "    nodes.append(Node(i))\n",
    "# Add edges\n",
    "for i in range(len(a_list)):\n",
    "    for neighbor in a_list[i]:\n",
    "        n_node = nodes[neighbor - 1]\n",
    "        nodes[i].neighbors.append(n_node)\n",
    "    \n",
    "head = nodes[0]"
   ]
  },
  {
   "cell_type": "markdown",
   "metadata": {},
   "source": [
    "- **Approach 1: Depth First Search**"
   ]
  },
  {
   "cell_type": "code",
   "execution_count": null,
   "metadata": {},
   "outputs": [],
   "source": [
    "def clone_graph(node: Node, visited={}) -> Node:\n",
    "    if not node:\n",
    "        return node\n",
    "    if node in visited:\n",
    "        return visited[node] # Return clone\n",
    "    \n",
    "    clone = Node(node.val, [])\n",
    "    visited[node] = clone\n",
    "    \n",
    "    clone.neighbors = [clone_graph(n) for n in node.neighbors]\n",
    "    \n",
    "    return clone\n",
    "\n",
    "clone_graph(head)"
   ]
  },
  {
   "cell_type": "markdown",
   "metadata": {},
   "source": [
    "**Time Complexity: O(n + m)**, where n is the number of nodes(vertices) and m the number of edges.  \n",
    "**Space Complexity: O(n)** due to the visited hash map. The maximum space of the recursion stack would be the height of the tree, but the overall space complexity reduces to just O(n)."
   ]
  },
  {
   "cell_type": "markdown",
   "metadata": {},
   "source": [
    "- **Approach 2: Breadth First Search**"
   ]
  },
  {
   "cell_type": "code",
   "execution_count": null,
   "metadata": {},
   "outputs": [],
   "source": [
    "from collections import deque\n",
    "\n",
    "def clone_graph(node: Node) -> Node:\n",
    "    if not node:\n",
    "        return node\n",
    "    visited = {}\n",
    "    queue = deque([node])\n",
    "    visited[node] = Node(node.val, []) # Clone of first node\n",
    "    \n",
    "    while queue:\n",
    "        n = queue.popleft()\n",
    "        for neighbor in n.neighbors:\n",
    "            if neighbor not in visited:\n",
    "                visited[neighbor] = Node(neighbor.val, []) # Clone neighbor\n",
    "                queue.append(neighbor)\n",
    "            visited[n].neighbors.append(visited[neighbor]) # Add clone to neighbors\n",
    "    \n",
    "    # Return first visited clone\n",
    "    return visited[node]\n",
    "        \n",
    "clone_graph(head)"
   ]
  },
  {
   "cell_type": "markdown",
   "metadata": {},
   "source": [
    "**Time Complexity: O(n)**, where n is the number of nodes(vertices) and m the number of edges.  \n",
    "**Space Complexity: O(n)**, which is occupied by the visited dictionary. The space occupied by the queue would be equal to O(W) where W is the width of the graph. Overall, the space complexity would be O(N)."
   ]
  },
  {
   "cell_type": "markdown",
   "metadata": {},
   "source": [
    "#### **Target Sum**"
   ]
  },
  {
   "cell_type": "markdown",
   "metadata": {},
   "source": [
    "You are given a list of non-negative integers, a1, a2, ..., an, and a target, S. Now you have 2 symbols + and -. For each integer, you should choose one from + and - as its new symbol.  \n",
    "Find out how many ways to assign symbols to make sum of integers equal to target S."
   ]
  },
  {
   "cell_type": "markdown",
   "metadata": {},
   "source": [
    "- **Approach 1: Brute force**"
   ]
  },
  {
   "cell_type": "code",
   "execution_count": null,
   "metadata": {},
   "outputs": [],
   "source": [
    "from typing import List\n",
    "\n",
    "nums = [1, 1, 1, 1, 1]\n",
    "S = 3\n",
    "\n",
    "def find_target_sum_ways(nums: List[int], target: int) -> int:\n",
    "    def calculate(nums, idx, sum, target):\n",
    "        if idx == len(nums):\n",
    "            if sum == target:\n",
    "                return 1\n",
    "            else:\n",
    "                return 0\n",
    "        else:\n",
    "            s1 = calculate(nums, idx + 1, sum + nums[idx], target)\n",
    "            s2 = calculate(nums, idx + 1, sum - nums[idx], target)\n",
    "        return s1 + s2\n",
    "    \n",
    "    return calculate(nums, 0, 0, target)\n",
    "\n",
    "find_target_sum_ways(nums, S)"
   ]
  },
  {
   "cell_type": "markdown",
   "metadata": {},
   "source": [
    "**Time Complexity: O(2<sup>n</sup>)**, since the size of the recursion tree is 2<sup>n</sup>.\\\n",
    "**Space Complexity: O(n)**, since the depth of the recursion tree is at maximum n."
   ]
  },
  {
   "cell_type": "markdown",
   "metadata": {},
   "source": [
    "- **Approach 2: Recursion with Memoization**"
   ]
  },
  {
   "cell_type": "code",
   "execution_count": null,
   "metadata": {},
   "outputs": [],
   "source": [
    "from typing import List\n",
    "\n",
    "nums = [1, 1, 1, 1, 1]\n",
    "S = 3\n",
    "\n",
    "def find_target_sum_ways(nums: List[int], target: int) -> int:\n",
    "    def calculate(nums, idx, sum, target, memo):\n",
    "        if idx == len(nums):\n",
    "            if sum == target:\n",
    "                return 1\n",
    "            else:\n",
    "                return 0\n",
    "        else:\n",
    "            if (idx, sum) in memo:\n",
    "                return memo[(idx, sum)]\n",
    "            add = calculate(nums, idx + 1, sum + nums[idx], target, memo)\n",
    "            subtract = calculate(nums, idx + 1, sum - nums[idx], target, memo)\n",
    "            memo[(idx, sum)] = add + subtract\n",
    "            \n",
    "            return memo[(idx, sum)]\n",
    "        \n",
    "    memo = {}\n",
    "    \n",
    "    return calculate(nums, 0, 0, target, memo)\n",
    "\n",
    "find_target_sum_ways(nums, S)"
   ]
  },
  {
   "cell_type": "markdown",
   "metadata": {},
   "source": [
    "#### **Binary Tree Inorder Traversal**"
   ]
  },
  {
   "cell_type": "markdown",
   "metadata": {},
   "source": [
    "Given the root of a binary tree, return the inorder traversal of its nodes' values."
   ]
  },
  {
   "cell_type": "markdown",
   "metadata": {},
   "source": [
    "- **Approach 1: Recursion**"
   ]
  },
  {
   "cell_type": "code",
   "execution_count": null,
   "metadata": {},
   "outputs": [],
   "source": [
    "# Tree node\n",
    "class Node:\n",
    "    def __init__(self, val):\n",
    "        self.val = val\n",
    "        self.left = None\n",
    "        self.right = None\n",
    "        \n",
    "# Initialize tree\n",
    "n1 = Node(1)\n",
    "n2 = Node(2)\n",
    "n3 = Node(3)\n",
    "n4 = Node(4)\n",
    "n5 = Node(5)\n",
    "n6 = Node(6)\n",
    "n7 = Node(7)\n",
    "n1.left = n2\n",
    "n1.right = n3\n",
    "n2.left = n4\n",
    "n2.right = n5\n",
    "n3.left = n6\n",
    "n3.right = n7\n",
    "\n",
    "def inorder_traversal(head: Node) -> List[int]:\n",
    "    def recursive_traversal(node, result) -> None:\n",
    "        if node != None:\n",
    "            if node.left != None:\n",
    "                recursive_traversal(node.left, result)\n",
    "            result.append(node.val)\n",
    "            if node.right != None:\n",
    "                recursive_traversal(node.right, result)\n",
    "        \n",
    "    result = []\n",
    "    recursive_traversal(head, result)\n",
    "    return result\n",
    "\n",
    "inorder_traversal(n1)"
   ]
  },
  {
   "cell_type": "markdown",
   "metadata": {},
   "source": [
    "**Time Complexity: O(n)**  \n",
    "**Space Complexity: O(n)**. This worst case occurs if the tree is unbalanced. On average the space complexity is O(log n), which is the height of the tree."
   ]
  }
 ],
 "metadata": {
  "kernelspec": {
   "display_name": "Python 3",
   "language": "python",
   "name": "python3"
  },
  "language_info": {
   "codemirror_mode": {
    "name": "ipython",
    "version": 3
   },
   "file_extension": ".py",
   "mimetype": "text/x-python",
   "name": "python",
   "nbconvert_exporter": "python",
   "pygments_lexer": "ipython3",
   "version": "3.6.10"
  }
 },
 "nbformat": 4,
 "nbformat_minor": 4
}
