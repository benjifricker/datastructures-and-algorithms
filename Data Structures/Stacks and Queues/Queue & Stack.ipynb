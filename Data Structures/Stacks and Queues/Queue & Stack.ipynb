{
 "cells": [
  {
   "cell_type": "markdown",
   "metadata": {},
   "source": [
    "# Queue & Stack"
   ]
  },
  {
   "cell_type": "markdown",
   "metadata": {},
   "source": [
    "## Introduction"
   ]
  },
  {
   "cell_type": "markdown",
   "metadata": {},
   "source": [
    "In this card, we introduce two different processing orders, **First-in-First-out (FIFO)** and **Last-in-First-out (LIFO)** and its two corresponding linear data structures, **Queue** and **Stack**."
   ]
  },
  {
   "cell_type": "markdown",
   "metadata": {},
   "source": [
    "## Queue: First-in-first-out Data Structure"
   ]
  },
  {
   "cell_type": "markdown",
   "metadata": {},
   "source": [
    "#### **First-in-first-out Data Structure**"
   ]
  },
  {
   "cell_type": "markdown",
   "metadata": {},
   "source": [
    "- The **queue** is a typical FIFO data stucture\n",
    "- The insert operation is also called **enqueue** and the new element is always added at the end of the queue\n",
    "- The delete operation is called **dequeue**. You are only allowed to remove the first element."
   ]
  },
  {
   "cell_type": "markdown",
   "metadata": {},
   "source": [
    "#### **Queue - Implementation**"
   ]
  },
  {
   "cell_type": "markdown",
   "metadata": {},
   "source": [
    "Deque with a list: Removing element at index 0 requires O(n) time to shift all remaining elements."
   ]
  },
  {
   "cell_type": "code",
   "execution_count": null,
   "metadata": {},
   "outputs": [],
   "source": [
    "# Implementing a queue using a list\n",
    "queue = []\n",
    "queue.append('a') # Enque: Append\n",
    "queue.append('b')\n",
    "queue.pop(0) # Deque: Pop index 0\n",
    "\n",
    "print(queue)"
   ]
  },
  {
   "cell_type": "code",
   "execution_count": null,
   "metadata": {},
   "outputs": [],
   "source": [
    "class Queue:\n",
    "    def __init__(self):\n",
    "        self.queue = []\n",
    "    def enque(self, val):\n",
    "        self.queue.append(val)\n",
    "    def deque(self):\n",
    "        if not self.queue:\n",
    "            return False\n",
    "        else:\n",
    "            return self.queue.pop(0)\n",
    "    def __repr__(self):\n",
    "        return str(self.queue)\n",
    "        \n",
    "queue = Queue()\n",
    "queue.enque(1)\n",
    "queue.enque(2)\n",
    "queue.deque()\n",
    "queue"
   ]
  },
  {
   "cell_type": "markdown",
   "metadata": {},
   "source": [
    "#### **Circular Queue**"
   ]
  },
  {
   "cell_type": "markdown",
   "metadata": {},
   "source": [
    "General (not Python related): A more efficient way is to use a **circular queue**. Specifically, we may use a fixed-size array and two pointers to indicate the starting position and the ending position. And the goal is to reuse the wasted storage we mentioned previously."
   ]
  },
  {
   "cell_type": "markdown",
   "metadata": {},
   "source": [
    "#### **Design Circular Queue**"
   ]
  },
  {
   "cell_type": "markdown",
   "metadata": {},
   "source": [
    "The circular queue is a **linear data structure** in which the operations are performed based on FIFO (First In First Out) principle and the last position is connected back to the first position to make a circle. It is also called **\"Ring Buffer\"**.\n",
    "\n",
    "One of the benefits of the circular queue is that we can make use of the spaces in front of the queue. In a normal queue, once the queue becomes full, we cannot insert the next element even if there is a space in front of the queue. But using the circular queue, we can use the space to store new values."
   ]
  },
  {
   "cell_type": "markdown",
   "metadata": {},
   "source": [
    "- **Approach 1: Array**"
   ]
  },
  {
   "cell_type": "code",
   "execution_count": null,
   "metadata": {},
   "outputs": [],
   "source": [
    "class CircularQueue:\n",
    "    def __init__(self, k: int):\n",
    "        \"\"\"\n",
    "        Initialize queue with attributes and set its size to k.\n",
    "        \"\"\"\n",
    "        self.queue = [None] * k\n",
    "        self.capacity = k # Total fixed capacity of queue\n",
    "        self.count = 0 # Number of elements in queue\n",
    "        self.head = 0 # Head pointer\n",
    "        \n",
    "    def enqueue(self, val: int) -> bool:\n",
    "        \"\"\"\n",
    "        Insert element into circular queue and adjust queue attributes.\n",
    "        Return True on success, False otherwise.\n",
    "        \"\"\"\n",
    "        if self.count == self.capacity:\n",
    "            # Queue is full\n",
    "            return False\n",
    "        # Insert at position one after tail\n",
    "        self.queue[(self.head + self.count) % self.capacity] = val\n",
    "        self.count += 1\n",
    "        return True\n",
    "    \n",
    "    def dequeue(self) -> bool:\n",
    "        \"\"\"\n",
    "        Remove element at top of queue.\n",
    "        Return True on success, False otherwise.\n",
    "        \"\"\"\n",
    "        if self.count == 0:\n",
    "            # Queue is empty\n",
    "            return False\n",
    "        self.queue[self.head] = None\n",
    "        self.head = (self.head + 1) % self.capacity\n",
    "        self.count -= 1\n",
    "        return True\n",
    "    \n",
    "    def front(self) -> int:\n",
    "        \"\"\"\n",
    "        Return the front element or -1 if queue is empty.\n",
    "        \"\"\"\n",
    "        if self.count == 0:\n",
    "            # Queue is empty\n",
    "            return -1\n",
    "        return self.queue[self.head]\n",
    "    \n",
    "    def rear(self) -> int:\n",
    "        \"\"\"\n",
    "        Return the rear element or -1 if queue is empty.\n",
    "        \"\"\"\n",
    "        if self.count == 0:\n",
    "            # Queue is empty\n",
    "            return -1\n",
    "        return self.queue[(self.head + self.count - 1) % self.capacity]\n",
    "    \n",
    "    def is_empty(self) -> bool:\n",
    "        \"\"\"\n",
    "        Return True if queue is empty, False otherwise.\n",
    "        \"\"\"\n",
    "        return self.count == 0\n",
    "    \n",
    "    def is_full(self) -> bool:\n",
    "        \"\"\"\n",
    "        Return True if queue is full, False otherwise.\n",
    "        \"\"\"\n",
    "        return self.count == self.capacity\n",
    "\n",
    "# Testing\n",
    "cq = CircularQueue(3)\n",
    "cq.enqueue(1)\n",
    "cq.enqueue(2)\n",
    "cq.enqueue(3)\n",
    "print(f'Head: {cq.front()}')\n",
    "print(f'Tail: {cq.rear()}')\n",
    "print(f'Is full: {cq.is_full()}')\n",
    "print('Dequeuing all elements...')\n",
    "cq.dequeue()\n",
    "cq.dequeue()\n",
    "cq.dequeue()\n",
    "print(f'Is empty: {cq.is_empty()}')"
   ]
  },
  {
   "cell_type": "markdown",
   "metadata": {},
   "source": [
    "Time complexity: O(1) since all methods are of constant time complexity  \n",
    "Space Complexity: O(n) where n is the pre-assigned capacity of the queue"
   ]
  },
  {
   "cell_type": "markdown",
   "metadata": {},
   "source": [
    "#### **Queue - Usage**"
   ]
  },
  {
   "cell_type": "markdown",
   "metadata": {},
   "source": [
    "Most popular languages provide built-in Queue library so you don't have to reinvent the wheel.  \n",
    "Python has **deque** as part of the **collections** library."
   ]
  },
  {
   "cell_type": "code",
   "execution_count": null,
   "metadata": {},
   "outputs": [],
   "source": [
    "# Important methods for deque\n",
    "\n",
    "from collections import deque\n",
    "\n",
    "queue = deque()      # Initialize\n",
    "queue.append(1)      # Append right\n",
    "queue.appendleft(2)  # Append left\n",
    "queue.pop()          # Pop right\n",
    "queue.popleft()      # Pop left\n",
    "queue.clear()        # Clear"
   ]
  },
  {
   "cell_type": "markdown",
   "metadata": {},
   "source": [
    "#### **Moving Average from Data Stream**"
   ]
  },
  {
   "cell_type": "markdown",
   "metadata": {},
   "source": [
    "Given a stream of integers and a window size, calculate the moving average of all integers in the sliding window."
   ]
  },
  {
   "cell_type": "markdown",
   "metadata": {},
   "source": [
    "- **Approach 1: Array or List**"
   ]
  },
  {
   "cell_type": "code",
   "execution_count": null,
   "metadata": {},
   "outputs": [],
   "source": [
    "class MovingAverage:\n",
    "    def __init__(self, size: int):\n",
    "        self.size = size\n",
    "        self.queue = []\n",
    "        \n",
    "    def next(self, val: int) -> float:\n",
    "        queue, size = self.queue, self.size\n",
    "        queue.append(val)\n",
    "        window_sum = sum(queue[-size:])\n",
    "        \n",
    "        return window_sum / min(len(queue), size)\n",
    "    \n",
    "mv = MovingAverage(3)\n",
    "mv.next(1)\n",
    "mv.next(10)\n",
    "mv.next(3)\n",
    "mv.next(5)"
   ]
  },
  {
   "cell_type": "markdown",
   "metadata": {},
   "source": [
    "Time complexity: O(n), where n is the size of the window.  \n",
    "Space Complexity: O(m), where m is the size of the queue."
   ]
  },
  {
   "cell_type": "markdown",
   "metadata": {},
   "source": [
    "- **Approach 2: Double-ended Queue**"
   ]
  },
  {
   "cell_type": "markdown",
   "metadata": {},
   "source": [
    "- We do not need to keep all values from the data stream, but rather the last n values which fall into the moving window. We can use a **deque (double-ended queue)**.\n",
    "- A deque allows for **O(1) time to add or remove an element at both ends**.\n",
    "- This approach **reduces the space complexity to O(n), where n is the size of the moving window**.\n",
    "- It also **reduces the time complexity to O(1)**, since we do not need to reiterate the elements in the moving window to calculate the sum."
   ]
  },
  {
   "cell_type": "code",
   "execution_count": null,
   "metadata": {},
   "outputs": [],
   "source": [
    "from collections import deque\n",
    "\n",
    "class MovingAverage:\n",
    "    def __init__(self, size: int):\n",
    "        self.size = size\n",
    "        self.queue = deque()\n",
    "        self.window_sum = 0\n",
    "        \n",
    "    def next(self, val: int) -> float:\n",
    "        if len(self.queue) == 3:\n",
    "            # Remove oldest element if queue full\n",
    "            oldest = self.queue.popleft()\n",
    "            self.window_sum -= oldest\n",
    "        self.queue.append(val)\n",
    "        self.window_sum += val\n",
    "        return self.window_sum / min(len(self.queue), self.size)\n",
    "    \n",
    "mv = MovingAverage(3)\n",
    "mv.next(1)\n",
    "mv.next(10)\n",
    "mv.next(3)\n",
    "mv.next(5)"
   ]
  },
  {
   "cell_type": "markdown",
   "metadata": {},
   "source": [
    "Time complexity: O(1)  \n",
    "Space Complexity: O(n), where n is the size of the moving window."
   ]
  },
  {
   "cell_type": "markdown",
   "metadata": {},
   "source": [
    "- **Approach 3: Circular Queue with Array**"
   ]
  },
  {
   "cell_type": "markdown",
   "metadata": {},
   "source": [
    "- Unlike a deque, we don **not need to explicitly remove the oldest element** since it is simply overwritten in a circular queue.\n",
    "- Also, a single index suffices to keep track of both ends of the queue as opposed to two."
   ]
  },
  {
   "cell_type": "code",
   "execution_count": null,
   "metadata": {},
   "outputs": [],
   "source": [
    "class MovingAverage:\n",
    "    def __init__(self, size: int):\n",
    "        self.size = size\n",
    "        self.queue = [None] * size # Queue as fixed-sized array\n",
    "        self.head = 0\n",
    "        self.window_sum = 0\n",
    "        self.count = 0\n",
    "        \n",
    "    def next(self, val: int) -> float:\n",
    "        if self.count == self.size:\n",
    "            # Remove oldest element\n",
    "            self.window_sum -= self.queue[self.head]\n",
    "            self.head = (self.head + 1) % self.size\n",
    "            self.count -= 1\n",
    "        \n",
    "        # Add element to tail\n",
    "        tail = (self.head + self.count) % self.size\n",
    "        self.queue[tail] = val\n",
    "        self.window_sum += val\n",
    "        self.count += 1\n",
    "        \n",
    "        return self.window_sum / self.count\n",
    "    \n",
    "mv = MovingAverage(3)\n",
    "mv.next(1)\n",
    "mv.next(10)\n",
    "mv.next(3)\n",
    "mv.next(5)"
   ]
  },
  {
   "cell_type": "markdown",
   "metadata": {},
   "source": [
    "Time complexity: O(1)  \n",
    "Space Complexity: O(n), where n is the size of the circular queue."
   ]
  },
  {
   "cell_type": "markdown",
   "metadata": {},
   "source": [
    "## Queue and BFS"
   ]
  },
  {
   "cell_type": "markdown",
   "metadata": {},
   "source": [
    "BFS (Breadth-first search) can be used to do **level-order traversal in a tree**.  \n",
    "We can also use BFS to **traverse a graph**. For example, we can use BFS to find a path, especially the shortest path, from a start node to a target node."
   ]
  },
  {
   "cell_type": "markdown",
   "metadata": {},
   "source": [
    "#### **Queue and BFS**"
   ]
  },
  {
   "cell_type": "markdown",
   "metadata": {},
   "source": [
    "Similar to tree's level-order traversal, the nodes closer to the root node will be traversed earlier. If a node X is added to the queue in the kth round, the length of the shortest path between the root node and X is exactly k. That is to say, you are already in the shortest path the first time you find the target node.\n",
    "\n",
    "It is worth noting that the newly-added nodes will not be traversed immediately but will be processed in the next round. The processing order of the nodes is the exact same order as how they were added to the queue, which is First-in-First-out (FIFO). That's why we use a queue in BFS."
   ]
  }
 ],
 "metadata": {
  "kernelspec": {
   "display_name": "Python 3",
   "language": "python",
   "name": "python3"
  },
  "language_info": {
   "codemirror_mode": {
    "name": "ipython",
    "version": 3
   },
   "file_extension": ".py",
   "mimetype": "text/x-python",
   "name": "python",
   "nbconvert_exporter": "python",
   "pygments_lexer": "ipython3",
   "version": "3.6.10"
  }
 },
 "nbformat": 4,
 "nbformat_minor": 4
}
