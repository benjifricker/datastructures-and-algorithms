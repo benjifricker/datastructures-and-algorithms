{
 "cells": [
  {
   "cell_type": "markdown",
   "metadata": {},
   "source": [
    "# Stacks and Queues"
   ]
  },
  {
   "cell_type": "markdown",
   "metadata": {},
   "source": [
    "#### **Implement a Stack With Max API**"
   ]
  },
  {
   "cell_type": "markdown",
   "metadata": {},
   "source": [
    "Design a stack that includes a max operation, in addition to push and pop. The max method should return the maximum value stored in the stack."
   ]
  },
  {
   "cell_type": "code",
   "execution_count": null,
   "metadata": {},
   "outputs": [],
   "source": [
    "class Stack:\n",
    "    def __init__(self):\n",
    "        self.vals = []\n",
    "        self.max = []\n",
    "    \n",
    "    def push(self, val):\n",
    "        if not self.vals:\n",
    "            self.max.append([val, 0])\n",
    "        elif val > self.max[-1][0]:\n",
    "            self.max.append([val, 1])\n",
    "        elif val == self.max[-1][0]:\n",
    "            self.max[-1][1] += 1\n",
    "        self.vals.append(val)\n",
    "            \n",
    "    def pop(self):\n",
    "        val = self.vals.pop()\n",
    "        if val == self.max[-1][0]:\n",
    "            if self.max[-1][1] > 1:\n",
    "                self.max[-1][1] -= 1\n",
    "            else:\n",
    "                self.max.pop()\n",
    "        return val\n",
    "    \n",
    "    def empty(self):\n",
    "        if not self.vals:\n",
    "            return True\n",
    "        return False\n",
    "    \n",
    "    def maximum(self):\n",
    "        if not self.max:\n",
    "            return False\n",
    "        return self.max[-1][0]\n",
    "\n",
    "# Testing\n",
    "stack = Stack()\n",
    "print('Pushing 1...')\n",
    "stack.push(1)\n",
    "print(f'Stack is empty: {stack.empty()}')\n",
    "print('Pushing 2...')\n",
    "stack.push(2)\n",
    "print(f'Max: {stack.maximum()}')\n",
    "print('Pushing 1...')\n",
    "stack.push(1)\n",
    "print('Pushing 2...')\n",
    "stack.push(2)\n",
    "print('Pushing 2...')\n",
    "stack.push(2)\n",
    "print(f'Popping top: {stack.pop()}')\n",
    "print(f'Popping top: {stack.pop()}')\n",
    "print(f'Popping top: {stack.pop()}')\n",
    "print(f'Popping top: {stack.pop()}')\n",
    "print(f'Popping top: {stack.pop()}')\n",
    "print(f'Stack is empty: {stack.empty()}')"
   ]
  },
  {
   "cell_type": "markdown",
   "metadata": {},
   "source": [
    "**Time complexity: O(1)**  \n",
    "**Space Complexity: O(n)**"
   ]
  },
  {
   "cell_type": "markdown",
   "metadata": {},
   "source": [
    "#### **Evaluate RPN Expressions**"
   ]
  },
  {
   "cell_type": "markdown",
   "metadata": {},
   "source": [
    "A string is said to be an arithmetical expression in Reverse Polish notation (RPN) if:  \n",
    "(1.) It is a single digit or a sequence of digits, prefixed with an option -,e.g.,\"6\",\"129\",\"-42\".  \n",
    "(2.) It is of the form \"A,B,o\" where A and B are RPN expressions and o is one of +,-,x,/.  \n",
    "For example, the following strings satisfy these rules: \"1729\", \"3,4,+,2,x,1,+\", \"1,1,+,-,2,x\", \"-641,6,/,28,/\".  \n",
    "An RPN expression can be evaluated uniquely to an integer, which is determined recursively.\n",
    "The base case corresponds to Rule (1.), which is an integer expressed in base-10 positional system.\n",
    "Rule (2.) corresponds to the recursive case, and the RPNs are evaluated in the natural way, e.g., if A evaluates to 2 and B evaluates to 3, then \"A,B,x\" evaluates to 6.\n",
    "\n",
    "Write a program that takes an arithmetical expression in RPN and returns the number that the expression evaluates to."
   ]
  },
  {
   "cell_type": "code",
   "execution_count": null,
   "metadata": {},
   "outputs": [],
   "source": [
    "rpn_expression = '-10,2,/,5,x,10,+'\n",
    "\n",
    "def evaluate(rpn: str):\n",
    "    operators = {'+': lambda x, y: x + y, '-': lambda x, y: x - a, \n",
    "                  'x': lambda x, y: x * y, '/': lambda x, y: x / y}\n",
    "    stack = []\n",
    "    for expression in rpn.split(','):\n",
    "        if expression in operators:\n",
    "            # Get both operands and do operation\n",
    "            op2, op1 = stack.pop(), stack.pop()\n",
    "            # Push result back onto stack\n",
    "            stack.append(operators[expression](op1, op2))\n",
    "        else:\n",
    "            # Current expression is a number\n",
    "            stack.append(int(expression))\n",
    "            \n",
    "    return stack[-1]\n",
    "\n",
    "evaluate(rpn_expression)"
   ]
  },
  {
   "cell_type": "markdown",
   "metadata": {},
   "source": [
    "**Time complexity: O(n)**  \n",
    "**Space Complexity: O(n)**"
   ]
  }
 ],
 "metadata": {
  "kernelspec": {
   "display_name": "Python 3.7.4 64-bit",
   "language": "python",
   "name": "python37464bit6fc5c9ee3ddc4409a96e8a8d945e3dcc"
  },
  "language_info": {
   "codemirror_mode": {
    "name": "ipython",
    "version": 3
   },
   "file_extension": ".py",
   "mimetype": "text/x-python",
   "name": "python",
   "nbconvert_exporter": "python",
   "pygments_lexer": "ipython3",
   "version": "3.7.4"
  }
 },
 "nbformat": 4,
 "nbformat_minor": 4
}
