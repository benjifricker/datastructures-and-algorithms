{
 "cells": [
  {
   "cell_type": "markdown",
   "metadata": {},
   "source": [
    "# Stacks and Queues"
   ]
  },
  {
   "cell_type": "markdown",
   "metadata": {},
   "source": [
    "#### **Implement a Stack With Max API**"
   ]
  },
  {
   "cell_type": "markdown",
   "metadata": {},
   "source": [
    "Design a stack that includes a max operation, in addition to push and pop. The max method should return the maximum value stored in the stack."
   ]
  },
  {
   "cell_type": "code",
   "execution_count": null,
   "metadata": {},
   "outputs": [],
   "source": [
    "class Stack:\n",
    "    def __init__(self):\n",
    "        self.vals = []\n",
    "        self.max = []\n",
    "    \n",
    "    def push(self, val):\n",
    "        if not self.vals:\n",
    "            self.max.append([val, 0])\n",
    "        elif val > self.max[-1][0]:\n",
    "            self.max.append([val, 1])\n",
    "        elif val == self.max[-1][0]:\n",
    "            self.max[-1][1] += 1\n",
    "        self.vals.append(val)\n",
    "            \n",
    "    def pop(self):\n",
    "        val = self.vals.pop()\n",
    "        if val == self.max[-1][0]:\n",
    "            if self.max[-1][1] > 1:\n",
    "                self.max[-1][1] -= 1\n",
    "            else:\n",
    "                self.max.pop()\n",
    "        return val\n",
    "    \n",
    "    def empty(self):\n",
    "        if not self.vals:\n",
    "            return True\n",
    "        return False\n",
    "    \n",
    "    def maximum(self):\n",
    "        if not self.max:\n",
    "            return False\n",
    "        return self.max[-1][0]\n",
    "\n",
    "# Testing\n",
    "stack = Stack()\n",
    "print('Pushing 1...')\n",
    "stack.push(1)\n",
    "print(f'Stack is empty: {stack.empty()}')\n",
    "print('Pushing 2...')\n",
    "stack.push(2)\n",
    "print(f'Max: {stack.maximum()}')\n",
    "print('Pushing 1...')\n",
    "stack.push(1)\n",
    "print('Pushing 2...')\n",
    "stack.push(2)\n",
    "print('Pushing 2...')\n",
    "stack.push(2)\n",
    "print(f'Popping top: {stack.pop()}')\n",
    "print(f'Popping top: {stack.pop()}')\n",
    "print(f'Popping top: {stack.pop()}')\n",
    "print(f'Popping top: {stack.pop()}')\n",
    "print(f'Popping top: {stack.pop()}')\n",
    "print(f'Stack is empty: {stack.empty()}')"
   ]
  },
  {
   "cell_type": "markdown",
   "metadata": {},
   "source": [
    "**Time complexity: O(1)**  \n",
    "**Space Complexity: O(n)**"
   ]
  },
  {
   "cell_type": "markdown",
   "metadata": {},
   "source": [
    "#### **Evaluate RPN Expressions**"
   ]
  },
  {
   "cell_type": "markdown",
   "metadata": {},
   "source": [
    "A string is said to be an arithmetical expression in Reverse Polish notation (RPN) if:  \n",
    "(1.) It is a single digit or a sequence of digits, prefixed with an option -,e.g.,\"6\",\"129\",\"-42\".  \n",
    "(2.) It is of the form \"A,B,o\" where A and B are RPN expressions and o is one of +,-,x,/.  \n",
    "For example, the following strings satisfy these rules: \"1729\", \"3,4,+,2,x,1,+\", \"1,1,+,-,2,x\", \"-641,6,/,28,/\".  \n",
    "An RPN expression can be evaluated uniquely to an integer, which is determined recursively.\n",
    "The base case corresponds to Rule (1.), which is an integer expressed in base-10 positional system.\n",
    "Rule (2.) corresponds to the recursive case, and the RPNs are evaluated in the natural way, e.g., if A evaluates to 2 and B evaluates to 3, then \"A,B,x\" evaluates to 6.\n",
    "\n",
    "Write a program that takes an arithmetical expression in RPN and returns the number that the expression evaluates to."
   ]
  },
  {
   "cell_type": "code",
   "execution_count": null,
   "metadata": {},
   "outputs": [],
   "source": [
    "rpn_expression = '-10,2,/,5,x,10,+'\n",
    "\n",
    "def evaluate(rpn: str):\n",
    "    operators = {'+': lambda x, y: x + y, '-': lambda x, y: x - a, \n",
    "                  'x': lambda x, y: x * y, '/': lambda x, y: x / y}\n",
    "    stack = []\n",
    "    for expression in rpn.split(','):\n",
    "        if expression in operators:\n",
    "            # Get both operands and do operation\n",
    "            op2, op1 = stack.pop(), stack.pop()\n",
    "            # Push result back onto stack\n",
    "            stack.append(operators[expression](op1, op2))\n",
    "        else:\n",
    "            # Current expression is a number\n",
    "            stack.append(int(expression))\n",
    "            \n",
    "    return stack[-1]\n",
    "\n",
    "evaluate(rpn_expression)"
   ]
  },
  {
   "cell_type": "markdown",
   "metadata": {},
   "source": [
    "**Time complexity: O(n)**  \n",
    "**Space Complexity: O(n)**"
   ]
  },
  {
   "cell_type": "markdown",
   "metadata": {},
   "source": [
    "#### **Test A String Over \"{,},(,),[,]\" For Well-Formedness**"
   ]
  },
  {
   "cell_type": "markdown",
   "metadata": {},
   "source": [
    "A string over the characters \"{,},(,),[,]\" is said to be well-formed if the different types of brackets match in the correct order.\n",
    "For example, \"([]){()}\" is well-formed, as is \"[()[]{()()}]\". However, \"{)\" and \"[()[]{()()\" are not well-formed.\n",
    "Write a program that tests if a string made up of the characters '(', ')' ,'[' ,']' '{' and '}' is well-formed."
   ]
  },
  {
   "cell_type": "code",
   "execution_count": null,
   "metadata": {},
   "outputs": [],
   "source": [
    "string = '[()[]{()()}]'\n",
    "\n",
    "def is_well_formed(string: str) -> bool:\n",
    "    elements = {')': '(', '}': '{', ']': '['}\n",
    "    stack = []\n",
    "    for char in string:\n",
    "        if char in elements and stack:\n",
    "            # Closing bracket encountered. Compare to last opening bracket on stack.\n",
    "            if stack.pop() != elements[char]:\n",
    "                return False\n",
    "        else:\n",
    "            # Push opening bracket onto stack\n",
    "            stack.append(char)\n",
    "            \n",
    "    return not stack\n",
    "\n",
    "is_well_formed(string)"
   ]
  },
  {
   "cell_type": "markdown",
   "metadata": {},
   "source": [
    "**Time complexity: O(n)**, where n is the length of the string.  \n",
    "**Space Complexity: O(n)**, which represents the worst case of having only opening brackets or mismatches."
   ]
  },
  {
   "cell_type": "markdown",
   "metadata": {},
   "source": [
    "#### **Normalize Pathnames**"
   ]
  },
  {
   "cell_type": "markdown",
   "metadata": {},
   "source": [
    "A file or directory can be specified via a string called the pathname. This string may specify an absolute path, starting from the root, e.g., /usr/bin/gcc, or a path relative to the current working directory, e.g., scripts/awkscripts.  \n",
    "The same directory may be specified by multiple directory paths. For example, /usr/lib/../bin/gcc and scripts//./../scripts/awkscripts/././ specify equivalent absolute and relative pathnames.\n",
    "\n",
    "Write a program which takes a pathname, and returns the shortest equivalent pathname. Assume individual directories and files have names that use only alphanumeric characters. Subdirectory names may be combined using forward slashes (/), the current directory (.) and parent directory (..)."
   ]
  },
  {
   "cell_type": "code",
   "execution_count": null,
   "metadata": {},
   "outputs": [],
   "source": [
    "path = '/usr/lib/../bin/gcc'\n",
    "\n",
    "def shortest_equivalent_path(path: str) -> str:\n",
    "    if not path:\n",
    "        # Empty string\n",
    "        raise ValueError('Invalid path')\n",
    "    stack = []\n",
    "    # Absolute path\n",
    "    if path[0] == '/':\n",
    "        stack.append('/')\n",
    "    \n",
    "    for token in path.split('/'):\n",
    "        # Only process relevant tokens\n",
    "        if token not in ('', '.'):\n",
    "            if token == '..':\n",
    "                if not stack or stack[-1] == '..':\n",
    "                    stack.append(token)\n",
    "                else:\n",
    "                    if stack[-1] == '/':\n",
    "                        raise ValueError('Path error')\n",
    "                    stack.pop()\n",
    "            else:\n",
    "                stack.append(token)\n",
    "                \n",
    "    result = '/'.join(stack)\n",
    "    return result[result.startswith('//'):] # Avoid '//' at beginning\n",
    "        \n",
    "shortest_equivalent_path(path)"
   ]
  },
  {
   "cell_type": "markdown",
   "metadata": {},
   "source": [
    "**Time complexity: O(n)**, where n is the length of the string.  \n",
    "**Space Complexity: O(n)**"
   ]
  },
  {
   "cell_type": "markdown",
   "metadata": {},
   "source": [
    "#### **Compute Buildings With a Sunset View**"
   ]
  },
  {
   "cell_type": "markdown",
   "metadata": {},
   "source": [
    "You are given a series of buildings that have windows facing west. The buildings are in a straight line, and any building which is to the east of a building of equal or greater height cannot view the sunset.  \n",
    "Design an algorithm that processes buildings in east-to-west order and returns the set of buildings which view the sunset. Each building is specified by its height."
   ]
  },
  {
   "cell_type": "code",
   "execution_count": null,
   "metadata": {},
   "outputs": [],
   "source": [
    "from typing import List\n",
    "from collections import namedtuple\n",
    "\n",
    "buildings = [1, 4, 3, 2, 2, 1, 2]\n",
    "\n",
    "def can_view_sunset(buildings: List[int]) -> List[int]:\n",
    "    BuildingsWithHeight = namedtuple('BuildingsWithHeight', ('id', 'height'))\n",
    "    stack = []\n",
    "    for idx, height in enumerate(buildings):\n",
    "        while stack and height >= stack[-1].height:\n",
    "            # Pop all previous buildings with equal or smaller height\n",
    "            stack.pop()\n",
    "        stack.append(BuildingsWithHeight(idx, height))\n",
    "        \n",
    "    return [building.id for building in stack]\n",
    "\n",
    "can_view_sunset(buildings)"
   ]
  },
  {
   "cell_type": "markdown",
   "metadata": {},
   "source": [
    "**Time complexity: O(n)**  \n",
    "**Space Complexity: O(n)**"
   ]
  }
 ],
 "metadata": {
  "kernelspec": {
   "display_name": "Python 3.7.4 64-bit",
   "language": "python",
   "name": "python37464bit6fc5c9ee3ddc4409a96e8a8d945e3dcc"
  },
  "language_info": {
   "codemirror_mode": {
    "name": "ipython",
    "version": 3
   },
   "file_extension": ".py",
   "mimetype": "text/x-python",
   "name": "python",
   "nbconvert_exporter": "python",
   "pygments_lexer": "ipython3",
   "version": "3.7.4"
  }
 },
 "nbformat": 4,
 "nbformat_minor": 4
}
