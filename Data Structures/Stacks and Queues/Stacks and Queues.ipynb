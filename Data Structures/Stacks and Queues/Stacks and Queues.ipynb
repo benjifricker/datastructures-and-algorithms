{
 "cells": [
  {
   "cell_type": "markdown",
   "metadata": {},
   "source": [
    "# Stacks and Queues"
   ]
  },
  {
   "cell_type": "markdown",
   "metadata": {},
   "source": [
    "#### **Implement a Stack With Max API**"
   ]
  },
  {
   "cell_type": "markdown",
   "metadata": {},
   "source": [
    "Design a stack that includes a max operation, in addition to push and pop. The max method should return the maximum value stored in the stack."
   ]
  },
  {
   "cell_type": "code",
   "execution_count": null,
   "metadata": {},
   "outputs": [],
   "source": [
    "class Stack:\n",
    "    def __init__(self):\n",
    "        self.vals = []\n",
    "        self.max = []\n",
    "    \n",
    "    def push(self, val):\n",
    "        if not self.vals:\n",
    "            self.max.append([val, 0])\n",
    "        elif val > self.max[-1][0]:\n",
    "            self.max.append([val, 1])\n",
    "        elif val == self.max[-1][0]:\n",
    "            self.max[-1][1] += 1\n",
    "        self.vals.append(val)\n",
    "            \n",
    "    def pop(self):\n",
    "        val = self.vals.pop()\n",
    "        if val == self.max[-1][0]:\n",
    "            if self.max[-1][1] > 1:\n",
    "                self.max[-1][1] -= 1\n",
    "            else:\n",
    "                self.max.pop()\n",
    "        return val\n",
    "    \n",
    "    def empty(self):\n",
    "        if not self.vals:\n",
    "            return True\n",
    "        return False\n",
    "    \n",
    "    def maximum(self):\n",
    "        if not self.max:\n",
    "            return False\n",
    "        return self.max[-1][0]\n",
    "\n",
    "# Testing\n",
    "stack = Stack()\n",
    "print('Pushing 1...')\n",
    "stack.push(1)\n",
    "print(f'Stack is empty: {stack.empty()}')\n",
    "print('Pushing 2...')\n",
    "stack.push(2)\n",
    "print(f'Max: {stack.maximum()}')\n",
    "print('Pushing 1...')\n",
    "stack.push(1)\n",
    "print('Pushing 2...')\n",
    "stack.push(2)\n",
    "print('Pushing 2...')\n",
    "stack.push(2)\n",
    "print(f'Popping top: {stack.pop()}')\n",
    "print(f'Popping top: {stack.pop()}')\n",
    "print(f'Popping top: {stack.pop()}')\n",
    "print(f'Popping top: {stack.pop()}')\n",
    "print(f'Popping top: {stack.pop()}')\n",
    "print(f'Stack is empty: {stack.empty()}')"
   ]
  },
  {
   "cell_type": "markdown",
   "metadata": {},
   "source": [
    "**Time complexity: O(1)**  \n",
    "**Space Complexity: O(n)**"
   ]
  }
 ],
 "metadata": {
  "kernelspec": {
   "display_name": "Python 3.7.4 64-bit",
   "language": "python",
   "name": "python37464bit6fc5c9ee3ddc4409a96e8a8d945e3dcc"
  },
  "language_info": {
   "codemirror_mode": {
    "name": "ipython",
    "version": 3
   },
   "file_extension": ".py",
   "mimetype": "text/x-python",
   "name": "python",
   "nbconvert_exporter": "python",
   "pygments_lexer": "ipython3",
   "version": "3.7.4"
  }
 },
 "nbformat": 4,
 "nbformat_minor": 4
}
