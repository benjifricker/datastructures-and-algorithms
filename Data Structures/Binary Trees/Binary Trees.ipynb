{
 "cells": [
  {
   "cell_type": "markdown",
   "metadata": {},
   "source": [
    "# Binary Trees"
   ]
  },
  {
   "cell_type": "code",
   "execution_count": null,
   "metadata": {},
   "outputs": [],
   "source": [
    "class BinaryTreeNode:\n",
    "    def __init__(self, data=None, left=None, right=None):\n",
    "        self.data = data\n",
    "        self.left = left\n",
    "        self.right = right"
   ]
  },
  {
   "cell_type": "code",
   "execution_count": null,
   "metadata": {},
   "outputs": [],
   "source": [
    "n1 = BinaryTreeNode(1)\n",
    "n2 = BinaryTreeNode(2)\n",
    "n3 = BinaryTreeNode(3)\n",
    "n1.left = n2\n",
    "n1.right = n3"
   ]
  },
  {
   "cell_type": "code",
   "execution_count": null,
   "metadata": {},
   "outputs": [],
   "source": [
    "def traversal(root):\n",
    "    if root:\n",
    "        # Preorder\n",
    "        print('Preorder:  %d' % root.data)\n",
    "        traversal(root.left)\n",
    "        # Inorder\n",
    "        print('Inorder:   %d' % root.data)\n",
    "        traversal(root.right)\n",
    "        # Postorder\n",
    "        print('Postorder: %d' % root.data)\n",
    "        \n",
    "traversal(n1)"
   ]
  }
 ],
 "metadata": {
  "kernelspec": {
   "display_name": "Python 3.7.4 64-bit",
   "language": "python",
   "name": "python37464bit6fc5c9ee3ddc4409a96e8a8d945e3dcc"
  },
  "language_info": {
   "codemirror_mode": {
    "name": "ipython",
    "version": 3
   },
   "file_extension": ".py",
   "mimetype": "text/x-python",
   "name": "python",
   "nbconvert_exporter": "python",
   "pygments_lexer": "ipython3",
   "version": "3.7.4"
  }
 },
 "nbformat": 4,
 "nbformat_minor": 4
}
