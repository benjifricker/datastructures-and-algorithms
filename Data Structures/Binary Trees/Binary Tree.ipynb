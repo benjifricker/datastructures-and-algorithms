{
 "cells": [
  {
   "cell_type": "markdown",
   "metadata": {},
   "source": [
    "# Binary Tree"
   ]
  },
  {
   "cell_type": "markdown",
   "metadata": {},
   "source": [
    "## Introduction"
   ]
  },
  {
   "cell_type": "markdown",
   "metadata": {},
   "source": [
    "A **tree** is a frequently-used data structure to simulate a hierarchical tree structure.\n",
    "\n",
    "Each node of the tree will have a root value and a list of references to other nodes which are called **child nodes**. From a graph view, a tree can also be defined as a **directed acyclic graph** which has **N nodes and N-1 edges**.\n",
    "\n",
    "A Binary Tree is one of the most typical tree structure. As the name suggests, a binary tree is a tree data structure in which each node has at most two children, which are referred to as the left child and the right child."
   ]
  },
  {
   "cell_type": "markdown",
   "metadata": {},
   "source": [
    "## Traverse A Tree"
   ]
  },
  {
   "cell_type": "markdown",
   "metadata": {},
   "source": [
    "#### **Pre-order Traversal**"
   ]
  },
  {
   "cell_type": "markdown",
   "metadata": {},
   "source": [
    "Pre-order traversal is to visit the root first. Then traverse the left subtree. Finally, traverse the right subtree."
   ]
  },
  {
   "cell_type": "markdown",
   "metadata": {},
   "source": [
    "#### **In-order Traversal**"
   ]
  },
  {
   "cell_type": "markdown",
   "metadata": {},
   "source": [
    "In-order traversal is to traverse the left subtree first. Then visit the root. Finally, traverse the right subtree."
   ]
  },
  {
   "cell_type": "markdown",
   "metadata": {},
   "source": [
    "Typically, data can be retrieved from a binary tree in sorted order using in-order traversal."
   ]
  },
  {
   "cell_type": "markdown",
   "metadata": {},
   "source": [
    "#### **Post-order Traversal**"
   ]
  },
  {
   "cell_type": "markdown",
   "metadata": {},
   "source": [
    "Post-order traversal is to traverse the left subtree first. Then traverse the right subtree. Finally, visit the root."
   ]
  },
  {
   "cell_type": "markdown",
   "metadata": {},
   "source": [
    "It is worth noting that when you delete nodes in a tree, **deletion process** will be in post-order. That is to say, when you delete a node, you will delete its left child and its right child before you delete the node itself.\n",
    "\n",
    "Also, post-order is widely use in mathematical expression. It is easier to write a program to parse a post-order expression (using a stack)."
   ]
  },
  {
   "cell_type": "markdown",
   "metadata": {},
   "source": [
    "#### **Recursive or Iterative**"
   ]
  },
  {
   "cell_type": "markdown",
   "metadata": {},
   "source": [
    "Each traversal method can be implemented recursively, as well as iteratively."
   ]
  },
  {
   "cell_type": "markdown",
   "metadata": {},
   "source": [
    "#### **Binary Tree Preorder Traversal**"
   ]
  },
  {
   "cell_type": "markdown",
   "metadata": {},
   "source": [
    "Given the root of a binary tree, return the preorder traversal of its nodes' values."
   ]
  },
  {
   "cell_type": "code",
   "execution_count": null,
   "metadata": {},
   "outputs": [],
   "source": [
    "class TreeNode:\n",
    "    def __init__(self, val):\n",
    "        self.val = val\n",
    "        self.left = None\n",
    "        self.right = None\n",
    "\n",
    "# Tree structure\n",
    "n1 = TreeNode(1)\n",
    "n2 = TreeNode(2)\n",
    "n3 = TreeNode(3)\n",
    "n4 = TreeNode(4)\n",
    "\n",
    "n1.left = n2\n",
    "n1.right = n3\n",
    "n3.left = n4\n",
    "\n",
    "tree = n1"
   ]
  },
  {
   "cell_type": "markdown",
   "metadata": {},
   "source": [
    "- **Approach 1: Iteration**"
   ]
  },
  {
   "cell_type": "code",
   "execution_count": null,
   "metadata": {},
   "outputs": [],
   "source": [
    "from typing import List\n",
    "\n",
    "def preorder_traversal(tree: TreeNode) -> List[int]:\n",
    "    if not tree:\n",
    "        # Empty tree\n",
    "        return []\n",
    "    result = []\n",
    "    stack = [tree]\n",
    "    while stack:\n",
    "        curr = stack.pop()\n",
    "        result.append(curr.val)\n",
    "        if curr.right:\n",
    "            stack.append(curr.right)\n",
    "        if curr.left:\n",
    "            stack.append(curr.left)\n",
    "            \n",
    "    return result\n",
    "\n",
    "preorder_traversal(tree)"
   ]
  },
  {
   "cell_type": "markdown",
   "metadata": {},
   "source": [
    "**Time complexity: O(n)**, since each node is visited exactly once. n represents the size of the tree.  \n",
    "**Space complexity: O(n)**, in the event of an unbalanced tree."
   ]
  },
  {
   "cell_type": "markdown",
   "metadata": {},
   "source": [
    "- **Approach 2: Recursion**"
   ]
  },
  {
   "cell_type": "code",
   "execution_count": null,
   "metadata": {},
   "outputs": [],
   "source": [
    "from typing import List\n",
    "\n",
    "def preorder_traversal(tree: TreeNode, result: List[int] = []) -> List[int]:\n",
    "    if tree:\n",
    "        result.append(tree.val)\n",
    "        if tree.left:\n",
    "            preorder_traversal(tree.left, result)\n",
    "        if tree.right:\n",
    "            preorder_traversal(tree.right, result)\n",
    "            \n",
    "    return result\n",
    "\n",
    "preorder_traversal(tree)"
   ]
  },
  {
   "cell_type": "markdown",
   "metadata": {},
   "source": [
    "**Time complexity: O(n)**  \n",
    "**Space complexity: O(n)**"
   ]
  },
  {
   "cell_type": "markdown",
   "metadata": {},
   "source": [
    "- **Approach 3: Morris Traversal**"
   ]
  },
  {
   "cell_type": "code",
   "execution_count": null,
   "metadata": {},
   "outputs": [],
   "source": [
    "from typing import List\n",
    "\n",
    "def preorder_traversal(tree: TreeNode) -> List[int]:\n",
    "    node = tree\n",
    "    result = []\n",
    "    \n",
    "    while node:\n",
    "        if not node.left:\n",
    "            # No left subtree\n",
    "            result.append(node.val)\n",
    "            node = node.right\n",
    "        else:\n",
    "            predecessor = node.left\n",
    "            while predecessor.right and predecessor.right is not node:\n",
    "                # Traverse to rightmost node of subtree\n",
    "                predecessor = predecessor.right\n",
    "                \n",
    "            if not predecessor.right:\n",
    "                result.append(node.val)\n",
    "                predecessor.right = node # Link from rightmost node to parent of subtree\n",
    "                node = node.left\n",
    "            else:\n",
    "                # Node already points to parent of subtree\n",
    "                predecessor.right = None # Remove link\n",
    "                node = node.right\n",
    "                \n",
    "    return result\n",
    "    \n",
    "preorder_traversal(tree)"
   ]
  },
  {
   "cell_type": "markdown",
   "metadata": {},
   "source": [
    "**Time complexity: O(n)**, since each node is visited exactly twice.  \n",
    "**Space complexity: O(1)**, since the traversal itself does not consume any memory (only result array)."
   ]
  },
  {
   "cell_type": "markdown",
   "metadata": {},
   "source": [
    "#### **Binary Tree Inorder Traversal**"
   ]
  },
  {
   "cell_type": "markdown",
   "metadata": {},
   "source": [
    "Given the root of a binary tree, return the inorder traversal of its nodes' values."
   ]
  },
  {
   "cell_type": "markdown",
   "metadata": {},
   "source": [
    "- **Approach 1: Iteration**"
   ]
  },
  {
   "cell_type": "code",
   "execution_count": null,
   "metadata": {},
   "outputs": [],
   "source": [
    "from typing import List\n",
    "\n",
    "def inorder_traversal(tree: TreeNode) -> List[int]:\n",
    "    if not tree:\n",
    "        # Empty tree\n",
    "        return []\n",
    "    result = []\n",
    "    stack = []\n",
    "    curr = tree\n",
    "    while stack or curr:\n",
    "        if curr:\n",
    "            # Push current node onto stack and traverse to\n",
    "            # left child until leftmost child is reached\n",
    "            stack.append(curr)\n",
    "            curr = curr.left\n",
    "        else:\n",
    "            curr = stack.pop()\n",
    "            result.append(curr.val)\n",
    "            curr = curr.right\n",
    "            \n",
    "    return result\n",
    "\n",
    "inorder_traversal(tree)"
   ]
  },
  {
   "cell_type": "markdown",
   "metadata": {},
   "source": [
    "**Time complexity: O(n)**  \n",
    "**Space complexity: O(n)**"
   ]
  },
  {
   "cell_type": "markdown",
   "metadata": {},
   "source": [
    "- **Approach 2: Recursion**"
   ]
  },
  {
   "cell_type": "code",
   "execution_count": null,
   "metadata": {},
   "outputs": [],
   "source": [
    "from typing import List\n",
    "\n",
    "def inorder_traversal(tree: TreeNode, result: List[int]=[]) -> List[int]:\n",
    "    if tree:\n",
    "        if tree.left:\n",
    "            inorder_traversal(tree.left, result)\n",
    "        result.append(tree.val)\n",
    "        if tree.right:\n",
    "            inorder_traversal(tree.right, result)\n",
    "            \n",
    "    return result\n",
    "\n",
    "inorder_traversal(tree)"
   ]
  },
  {
   "cell_type": "markdown",
   "metadata": {},
   "source": [
    "**Time complexity: O(n)**  \n",
    "**Space complexity: O(n)** in the worst case, and **O(log n)** in the average case."
   ]
  },
  {
   "cell_type": "markdown",
   "metadata": {},
   "source": [
    "- **Approach 3: Morris Traversal**"
   ]
  },
  {
   "cell_type": "code",
   "execution_count": null,
   "metadata": {},
   "outputs": [],
   "source": [
    "from typing import List\n",
    "\n",
    "def inorder_traversal(tree: TreeNode) -> List[int]:\n",
    "    result = []\n",
    "    node = tree\n",
    "    \n",
    "    while node:\n",
    "        if not node.left:\n",
    "            # No left subtree\n",
    "            result.append(node.val)\n",
    "            node = node.right\n",
    "        else:\n",
    "            predecessor = node.left\n",
    "            while predecessor.right:\n",
    "                # Find rightmost node of subtree\n",
    "                predecessor = predecessor.right\n",
    "            # Link rightmost node of subtree link to parent of subtree\n",
    "            predecessor.right = node\n",
    "            temp = node\n",
    "            node = node.left # Make parent of left subtree the new root\n",
    "            temp.left = None # Remove original link to avoid cycles\n",
    "            \n",
    "    return result\n",
    "\n",
    "inorder_traversal(tree)"
   ]
  },
  {
   "cell_type": "markdown",
   "metadata": {},
   "source": [
    "**Time complexity: O(n)**  \n",
    "**Space complexity: O(1)**, ignoring the result list."
   ]
  },
  {
   "cell_type": "markdown",
   "metadata": {},
   "source": [
    "#### **Binary Tree Postorder Traversal**"
   ]
  },
  {
   "cell_type": "markdown",
   "metadata": {},
   "source": [
    "Given the root of a binary tree, return the postorder traversal of its nodes' values."
   ]
  },
  {
   "cell_type": "markdown",
   "metadata": {},
   "source": [
    "- **Approach 1: Iteration**"
   ]
  },
  {
   "cell_type": "code",
   "execution_count": null,
   "metadata": {},
   "outputs": [],
   "source": [
    "from typing import List\n",
    "\n",
    "def postorder_traversal(tree: TreeNode) -> List[int]:\n",
    "    if not tree:\n",
    "        return []\n",
    "    # Two stacks\n",
    "    s1 = [tree]\n",
    "    s2 = []\n",
    "    while s1:\n",
    "        curr = s1.pop()\n",
    "        s2.append(curr.val)\n",
    "        if curr.left:\n",
    "            s1.append(curr.left)\n",
    "        if curr.right:\n",
    "            s1.append(curr.right)\n",
    "            \n",
    "    # Result is reversed second stack\n",
    "    result = []\n",
    "    while s2:\n",
    "        result.append(s2.pop())\n",
    "        \n",
    "    return result\n",
    "        \n",
    "postorder_traversal(tree)"
   ]
  },
  {
   "cell_type": "markdown",
   "metadata": {},
   "source": [
    "**Time complexity: O(n)**, since each node is visited once and the final reversal of the stack is O(n) aswell.  \n",
    "**Space complexity: O(n)**, since the second stack will hold all nodes. The final result list is O(n) aswell."
   ]
  },
  {
   "cell_type": "markdown",
   "metadata": {},
   "source": [
    "- **Approach 2: Recursion**"
   ]
  },
  {
   "cell_type": "code",
   "execution_count": null,
   "metadata": {},
   "outputs": [],
   "source": [
    "from typing import List\n",
    "\n",
    "def postorder_traversal(tree: TreeNode, result: List[int]=[]) -> List[int]:\n",
    "    if not tree:\n",
    "        return\n",
    "    postorder_traversal(tree.left)\n",
    "    postorder_traversal(tree.right)\n",
    "    result.append(tree.val)\n",
    "    \n",
    "    return result\n",
    "        \n",
    "postorder_traversal(tree)"
   ]
  },
  {
   "cell_type": "markdown",
   "metadata": {},
   "source": [
    "**Time complexity: O(n)**, since each node is visited once.    \n",
    "**Space complexity: O(n)**, since in the worst case of an unbalanced tree, the recursion stack contains all n nodes."
   ]
  },
  {
   "cell_type": "markdown",
   "metadata": {},
   "source": [
    "#### **Binary Tree Level Order Traversal**"
   ]
  },
  {
   "cell_type": "markdown",
   "metadata": {},
   "source": [
    "Nodes of a tree can be visited in level order with **breadth-first**."
   ]
  },
  {
   "cell_type": "markdown",
   "metadata": {},
   "source": [
    "- **Approach 1: Iteration**"
   ]
  },
  {
   "cell_type": "code",
   "execution_count": null,
   "metadata": {},
   "outputs": [],
   "source": [
    "from typing import List\n",
    "\n",
    "def level_order(root: TreeNode) -> List[List[int]]:\n",
    "    result = []\n",
    "    queue = [] # Queue for breadth-first search\n",
    "    if root:\n",
    "        queue.append(root)\n",
    "    while queue:\n",
    "        result.append([node.val for node in queue])\n",
    "        # Make queue consist of children of current level\n",
    "        queue = [child for node in queue for child in (node.left, node.right) if child]\n",
    "\n",
    "    return result\n",
    "\n",
    "level_order(tree)"
   ]
  },
  {
   "cell_type": "markdown",
   "metadata": {},
   "source": [
    "**Time complexity: O(n)**, since each node is visited once.  \n",
    "**Space complexity: O(n)**"
   ]
  },
  {
   "cell_type": "markdown",
   "metadata": {},
   "source": [
    "- **Approach 2: Recursion**"
   ]
  },
  {
   "cell_type": "code",
   "execution_count": null,
   "metadata": {},
   "outputs": [],
   "source": [
    "from typing import List\n",
    "\n",
    "def level_order(root: TreeNode) -> List[List[int]]:\n",
    "    if not root:\n",
    "        return []\n",
    "    \n",
    "    def dfs(node, level, result):\n",
    "        if len(result) == level:\n",
    "            # Add sublist for current level with node\n",
    "            result.append([node.val])\n",
    "        else:\n",
    "            # Add node val to already existing level sublist\n",
    "            result[level].append(node.val)\n",
    "        if node.left:\n",
    "            dfs(node.left, level + 1, result)\n",
    "        if node.right:\n",
    "            dfs(node.right, level + 1, result)\n",
    "    \n",
    "    result = []\n",
    "    dfs(root, 0, result)\n",
    "    \n",
    "    return result\n",
    "\n",
    "level_order(tree)"
   ]
  },
  {
   "cell_type": "markdown",
   "metadata": {},
   "source": [
    "**Time complexity: O(n)**, since each node is visited once.  \n",
    "**Space complexity: O(n)**, since in the worst case of an unbalanced tree, the call stack contains all n nodes. Also, the result list stores all n nodes."
   ]
  },
  {
   "cell_type": "markdown",
   "metadata": {},
   "source": [
    "## Solve Tree Problems Recursively"
   ]
  },
  {
   "cell_type": "code",
   "execution_count": null,
   "metadata": {},
   "outputs": [],
   "source": [
    "class TreeNode:\n",
    "    def __init__(self, val):\n",
    "        self.val = val\n",
    "        self.left = None\n",
    "        self.right = None\n",
    "        \n",
    "n1 = TreeNode(1)\n",
    "n2 = TreeNode(2)\n",
    "n3 = TreeNode(3)\n",
    "n4 = TreeNode(4)\n",
    "n5 = TreeNode(5)\n",
    "n6 = TreeNode(6)\n",
    "n7 = TreeNode(7)\n",
    "n8 = TreeNode(8)\n",
    "\n",
    "n1.left = n2\n",
    "n1.right = n3\n",
    "n2.left = n4\n",
    "n2.right = n5\n",
    "n3.left = n6\n",
    "n3.right = n7\n",
    "n6.left = n8\n",
    "\n",
    "tree = n1"
   ]
  },
  {
   "cell_type": "markdown",
   "metadata": {},
   "source": [
    "#### **Top-down approach**"
   ]
  },
  {
   "cell_type": "markdown",
   "metadata": {},
   "source": [
    "Can be considered as sort of a preorder traversal (passing information through parameters to children)."
   ]
  },
  {
   "cell_type": "code",
   "execution_count": null,
   "metadata": {},
   "outputs": [],
   "source": [
    "from typing import List\n",
    "\n",
    "def maximum_depth(node: TreeNode) -> int:\n",
    "    if not tree:\n",
    "        return\n",
    "    def recursive_helper(node: TreeNode, level: int, max_level: List[int]) -> int:\n",
    "        if not node:\n",
    "            return\n",
    "        if max_level and max_level[0] < level:\n",
    "            # Current level is deeper\n",
    "            max_level.pop()\n",
    "            max_level.append(level)\n",
    "        elif not max_level:\n",
    "            max_level.append(level)\n",
    "        recursive_helper(node.left, level + 1, max_level)\n",
    "        recursive_helper(node.right, level + 1, max_level)\n",
    "    # Use a list to make pass by reference possible\n",
    "    max_level = []\n",
    "    recursive_helper(node, 1, max_level)\n",
    "    \n",
    "    return max_level[0]\n",
    "\n",
    "maximum_depth(tree)"
   ]
  },
  {
   "cell_type": "markdown",
   "metadata": {},
   "source": [
    "#### **Bottom-up approach**"
   ]
  },
  {
   "cell_type": "markdown",
   "metadata": {},
   "source": [
    "Can be considered as sort of a postorder traversal (retrieving information from children)."
   ]
  },
  {
   "cell_type": "code",
   "execution_count": null,
   "metadata": {},
   "outputs": [],
   "source": [
    "def maximum_depth(node: TreeNode) -> int:\n",
    "    if not tree:\n",
    "        return 0\n",
    "    \n",
    "    def recursive_helper(node: TreeNode) -> int:\n",
    "        if not node:\n",
    "            return 0\n",
    "        left_depth = recursive_helper(node.left)\n",
    "        right_depth = recursive_helper(node.right)\n",
    "        return max(left_depth, right_depth) + 1\n",
    "    \n",
    "    return recursive_helper(node)\n",
    "\n",
    "maximum_depth(tree)"
   ]
  },
  {
   "cell_type": "markdown",
   "metadata": {},
   "source": [
    "#### **Maximum Depth of Binary Tree**"
   ]
  },
  {
   "cell_type": "markdown",
   "metadata": {},
   "source": [
    "- **Approach 1: Recursion**"
   ]
  },
  {
   "cell_type": "code",
   "execution_count": null,
   "metadata": {},
   "outputs": [],
   "source": [
    "def max_depth(node: TreeNode) -> int:\n",
    "    if not node:\n",
    "        return 0\n",
    "    left = max_depth(node.left)\n",
    "    right = max_depth(node.right)\n",
    "    # Return the left or right subtree's max depth plus the current level\n",
    "    return max(left, right) + 1\n",
    "\n",
    "max_depth(tree)"
   ]
  },
  {
   "cell_type": "markdown",
   "metadata": {},
   "source": [
    "**Time complexity: O(n)**, since each node is visited once.  \n",
    "**Space complexity: O(n)**, in the event of an unbalanced tree."
   ]
  }
 ],
 "metadata": {
  "kernelspec": {
   "display_name": "Python 3.7.4 64-bit",
   "language": "python",
   "name": "python37464bit6fc5c9ee3ddc4409a96e8a8d945e3dcc"
  },
  "language_info": {
   "codemirror_mode": {
    "name": "ipython",
    "version": 3
   },
   "file_extension": ".py",
   "mimetype": "text/x-python",
   "name": "python",
   "nbconvert_exporter": "python",
   "pygments_lexer": "ipython3",
   "version": "3.7.4"
  }
 },
 "nbformat": 4,
 "nbformat_minor": 4
}
