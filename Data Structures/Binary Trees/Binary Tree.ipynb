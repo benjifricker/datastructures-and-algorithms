{
 "cells": [
  {
   "cell_type": "markdown",
   "metadata": {},
   "source": [
    "# Binary Tree"
   ]
  },
  {
   "cell_type": "markdown",
   "metadata": {},
   "source": [
    "## Introduction"
   ]
  },
  {
   "cell_type": "markdown",
   "metadata": {},
   "source": [
    "A **tree** is a frequently-used data structure to simulate a hierarchical tree structure.\n",
    "\n",
    "Each node of the tree will have a root value and a list of references to other nodes which are called **child nodes**. From a graph view, a tree can also be defined as a **directed acyclic graph** which has **N nodes and N-1 edges**.\n",
    "\n",
    "A Binary Tree is one of the most typical tree structure. As the name suggests, a binary tree is a tree data structure in which each node has at most two children, which are referred to as the left child and the right child."
   ]
  },
  {
   "cell_type": "markdown",
   "metadata": {},
   "source": [
    "## Traverse A Tree"
   ]
  },
  {
   "cell_type": "markdown",
   "metadata": {},
   "source": [
    "#### **Pre-order Traversal**"
   ]
  },
  {
   "cell_type": "markdown",
   "metadata": {},
   "source": [
    "Pre-order traversal is to visit the root first. Then traverse the left subtree. Finally, traverse the right subtree."
   ]
  },
  {
   "cell_type": "markdown",
   "metadata": {},
   "source": [
    "#### **In-order Traversal**"
   ]
  },
  {
   "cell_type": "markdown",
   "metadata": {},
   "source": [
    "In-order traversal is to traverse the left subtree first. Then visit the root. Finally, traverse the right subtree."
   ]
  },
  {
   "cell_type": "markdown",
   "metadata": {},
   "source": [
    "Typically, data can be retrieved from a binary tree in sorted order using in-order traversal."
   ]
  },
  {
   "cell_type": "markdown",
   "metadata": {},
   "source": [
    "#### **Post-order Traversal**"
   ]
  },
  {
   "cell_type": "markdown",
   "metadata": {},
   "source": [
    "Post-order traversal is to traverse the left subtree first. Then traverse the right subtree. Finally, visit the root."
   ]
  },
  {
   "cell_type": "markdown",
   "metadata": {},
   "source": [
    "It is worth noting that when you delete nodes in a tree, **deletion process** will be in post-order. That is to say, when you delete a node, you will delete its left child and its right child before you delete the node itself.\n",
    "\n",
    "Also, post-order is widely use in mathematical expression. It is easier to write a program to parse a post-order expression (using a stack)."
   ]
  },
  {
   "cell_type": "markdown",
   "metadata": {},
   "source": [
    "#### **Recursive or Iterative**"
   ]
  },
  {
   "cell_type": "markdown",
   "metadata": {},
   "source": [
    "Each traversal method can be implemented recursively, as well as iteratively."
   ]
  },
  {
   "cell_type": "markdown",
   "metadata": {},
   "source": [
    "#### **Binary Tree Preorder Traversal**"
   ]
  },
  {
   "cell_type": "markdown",
   "metadata": {},
   "source": [
    "Given the root of a binary tree, return the preorder traversal of its nodes' values."
   ]
  },
  {
   "cell_type": "code",
   "execution_count": null,
   "metadata": {},
   "outputs": [],
   "source": [
    "class TreeNode:\n",
    "    def __init__(self, val):\n",
    "        self.val = val\n",
    "        self.left = None\n",
    "        self.right = None\n",
    "\n",
    "# Tree structure\n",
    "n1 = TreeNode(1)\n",
    "n2 = TreeNode(2)\n",
    "n3 = TreeNode(3)\n",
    "n4 = TreeNode(4)\n",
    "\n",
    "n1.left = n2\n",
    "n1.right = n3\n",
    "n3.left = n4\n",
    "\n",
    "tree = n1"
   ]
  },
  {
   "cell_type": "markdown",
   "metadata": {},
   "source": [
    "- **Approach 1: Iteration**"
   ]
  },
  {
   "cell_type": "code",
   "execution_count": null,
   "metadata": {},
   "outputs": [],
   "source": [
    "from typing import List\n",
    "\n",
    "def preorder_traversal(tree: TreeNode) -> List[int]:\n",
    "    if not tree:\n",
    "        # Empty tree\n",
    "        return []\n",
    "    result = []\n",
    "    stack = [tree]\n",
    "    while stack:\n",
    "        curr = stack.pop()\n",
    "        result.append(curr.val)\n",
    "        if curr.right:\n",
    "            stack.append(curr.right)\n",
    "        if curr.left:\n",
    "            stack.append(curr.left)\n",
    "            \n",
    "    return result\n",
    "\n",
    "preorder_traversal(tree)"
   ]
  },
  {
   "cell_type": "markdown",
   "metadata": {},
   "source": [
    "**Time complexity: O(n)**, since each node is visited exactly once. n represents the size of the tree.  \n",
    "**Space complexity: O(n)**, in the event of an unbalanced tree."
   ]
  },
  {
   "cell_type": "markdown",
   "metadata": {},
   "source": [
    "- **Approach 2: Recursion**"
   ]
  },
  {
   "cell_type": "code",
   "execution_count": null,
   "metadata": {},
   "outputs": [],
   "source": [
    "from typing import List\n",
    "\n",
    "def preorder_traversal(tree: TreeNode, result: List[int] = []) -> List[int]:\n",
    "    if tree:\n",
    "        result.append(tree.val)\n",
    "        if tree.left:\n",
    "            preorder_traversal(tree.left, result)\n",
    "        if tree.right:\n",
    "            preorder_traversal(tree.right, result)\n",
    "            \n",
    "    return result\n",
    "\n",
    "preorder_traversal(tree)"
   ]
  },
  {
   "cell_type": "markdown",
   "metadata": {},
   "source": [
    "**Time complexity: O(n)**  \n",
    "**Space complexity: O(n)**"
   ]
  },
  {
   "cell_type": "markdown",
   "metadata": {},
   "source": [
    "- **Approach 3: Morris Traversal**"
   ]
  },
  {
   "cell_type": "code",
   "execution_count": null,
   "metadata": {},
   "outputs": [],
   "source": [
    "from typing import List\n",
    "\n",
    "def preorder_traversal(tree: TreeNode) -> List[int]:\n",
    "    node = tree\n",
    "    result = []\n",
    "    \n",
    "    while node:\n",
    "        if not node.left:\n",
    "            # No left subtree\n",
    "            result.append(node.val)\n",
    "            node = node.right\n",
    "        else:\n",
    "            predecessor = node.left\n",
    "            while predecessor.right and predecessor.right is not node:\n",
    "                # Traverse to rightmost node of subtree\n",
    "                predecessor = predecessor.right\n",
    "                \n",
    "            if not predecessor.right:\n",
    "                result.append(node.val)\n",
    "                predecessor.right = node # Link from rightmost node to parent of subtree\n",
    "                node = node.left\n",
    "            else:\n",
    "                # Node already points to parent of subtree\n",
    "                predecessor.right = None # Remove link\n",
    "                node = node.right\n",
    "                \n",
    "    return result\n",
    "    \n",
    "preorder_traversal(tree)"
   ]
  },
  {
   "cell_type": "markdown",
   "metadata": {},
   "source": [
    "**Time complexity: O(n)**, since each node is visited exactly twice.  \n",
    "**Space complexity: O(1)**, since the traversal itself does not consume any memory (only result array)."
   ]
  }
 ],
 "metadata": {
  "kernelspec": {
   "display_name": "Python 3.7.4 64-bit",
   "language": "python",
   "name": "python37464bit6fc5c9ee3ddc4409a96e8a8d945e3dcc"
  },
  "language_info": {
   "codemirror_mode": {
    "name": "ipython",
    "version": 3
   },
   "file_extension": ".py",
   "mimetype": "text/x-python",
   "name": "python",
   "nbconvert_exporter": "python",
   "pygments_lexer": "ipython3",
   "version": "3.7.4"
  }
 },
 "nbformat": 4,
 "nbformat_minor": 4
}
