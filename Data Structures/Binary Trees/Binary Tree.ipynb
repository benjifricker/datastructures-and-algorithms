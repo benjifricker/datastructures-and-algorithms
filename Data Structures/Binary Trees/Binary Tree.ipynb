{
 "cells": [
  {
   "cell_type": "markdown",
   "metadata": {},
   "source": [
    "# Binary Tree"
   ]
  },
  {
   "cell_type": "markdown",
   "metadata": {},
   "source": [
    "## Introduction"
   ]
  },
  {
   "cell_type": "markdown",
   "metadata": {},
   "source": [
    "A **tree** is a frequently-used data structure to simulate a hierarchical tree structure.\n",
    "\n",
    "Each node of the tree will have a root value and a list of references to other nodes which are called **child nodes**. From a graph view, a tree can also be defined as a **directed acyclic graph** which has **N nodes and N-1 edges**.\n",
    "\n",
    "A Binary Tree is one of the most typical tree structure. As the name suggests, a binary tree is a tree data structure in which each node has at most two children, which are referred to as the left child and the right child."
   ]
  },
  {
   "cell_type": "markdown",
   "metadata": {},
   "source": [
    "## Traverse A Tree"
   ]
  },
  {
   "cell_type": "markdown",
   "metadata": {},
   "source": [
    "#### **Pre-order Traversal**"
   ]
  },
  {
   "cell_type": "markdown",
   "metadata": {},
   "source": [
    "Pre-order traversal is to visit the root first. Then traverse the left subtree. Finally, traverse the right subtree."
   ]
  },
  {
   "cell_type": "markdown",
   "metadata": {},
   "source": [
    "#### **In-order Traversal**"
   ]
  },
  {
   "cell_type": "markdown",
   "metadata": {},
   "source": [
    "In-order traversal is to traverse the left subtree first. Then visit the root. Finally, traverse the right subtree."
   ]
  },
  {
   "cell_type": "markdown",
   "metadata": {},
   "source": [
    "Typically, data can be retrieved from a binary tree in sorted order using in-order traversal."
   ]
  },
  {
   "cell_type": "markdown",
   "metadata": {},
   "source": [
    "#### **Post-order Traversal**"
   ]
  },
  {
   "cell_type": "markdown",
   "metadata": {},
   "source": [
    "Post-order traversal is to traverse the left subtree first. Then traverse the right subtree. Finally, visit the root."
   ]
  },
  {
   "cell_type": "markdown",
   "metadata": {},
   "source": [
    "It is worth noting that when you delete nodes in a tree, **deletion process** will be in post-order. That is to say, when you delete a node, you will delete its left child and its right child before you delete the node itself.\n",
    "\n",
    "Also, post-order is widely use in mathematical expression. It is easier to write a program to parse a post-order expression (using a stack)."
   ]
  },
  {
   "cell_type": "markdown",
   "metadata": {},
   "source": [
    "#### **Recursive or Iterative**"
   ]
  },
  {
   "cell_type": "markdown",
   "metadata": {},
   "source": [
    "Each traversal method can be implemented recursively, as well as iteratively."
   ]
  },
  {
   "cell_type": "markdown",
   "metadata": {},
   "source": [
    "#### **Binary Tree Preorder Traversal**"
   ]
  },
  {
   "cell_type": "markdown",
   "metadata": {},
   "source": [
    "Given the root of a binary tree, return the preorder traversal of its nodes' values."
   ]
  },
  {
   "cell_type": "code",
   "execution_count": null,
   "metadata": {},
   "outputs": [],
   "source": [
    "class TreeNode:\n",
    "    def __init__(self, val):\n",
    "        self.val = val\n",
    "        self.left = None\n",
    "        self.right = None\n",
    "\n",
    "# Tree structure\n",
    "n1 = TreeNode(1)\n",
    "n2 = TreeNode(2)\n",
    "n3 = TreeNode(3)\n",
    "n4 = TreeNode(4)\n",
    "\n",
    "n1.left = n2\n",
    "n1.right = n3\n",
    "n3.left = n4\n",
    "\n",
    "tree = n1"
   ]
  },
  {
   "cell_type": "markdown",
   "metadata": {},
   "source": [
    "- **Approach 1: Iteration**"
   ]
  },
  {
   "cell_type": "code",
   "execution_count": null,
   "metadata": {},
   "outputs": [],
   "source": [
    "from typing import List\n",
    "\n",
    "def preorder_traversal(tree: TreeNode) -> List[int]:\n",
    "    if not tree:\n",
    "        # Empty tree\n",
    "        return []\n",
    "    result = []\n",
    "    stack = [tree]\n",
    "    while stack:\n",
    "        curr = stack.pop()\n",
    "        result.append(curr.val)\n",
    "        if curr.right:\n",
    "            stack.append(curr.right)\n",
    "        if curr.left:\n",
    "            stack.append(curr.left)\n",
    "            \n",
    "    return result\n",
    "\n",
    "preorder_traversal(tree)"
   ]
  },
  {
   "cell_type": "markdown",
   "metadata": {},
   "source": [
    "**Time complexity: O(n)**, since each node is visited exactly once. n represents the size of the tree.  \n",
    "**Space complexity: O(n)**, in the event of an unbalanced tree."
   ]
  },
  {
   "cell_type": "markdown",
   "metadata": {},
   "source": [
    "- **Approach 2: Recursion**"
   ]
  },
  {
   "cell_type": "code",
   "execution_count": null,
   "metadata": {},
   "outputs": [],
   "source": [
    "from typing import List\n",
    "\n",
    "def preorder_traversal(tree: TreeNode, result: List[int] = []) -> List[int]:\n",
    "    if tree:\n",
    "        result.append(tree.val)\n",
    "        if tree.left:\n",
    "            preorder_traversal(tree.left, result)\n",
    "        if tree.right:\n",
    "            preorder_traversal(tree.right, result)\n",
    "            \n",
    "    return result\n",
    "\n",
    "preorder_traversal(tree)"
   ]
  },
  {
   "cell_type": "markdown",
   "metadata": {},
   "source": [
    "**Time complexity: O(n)**  \n",
    "**Space complexity: O(n)**"
   ]
  },
  {
   "cell_type": "markdown",
   "metadata": {},
   "source": [
    "- **Approach 3: Morris Traversal**"
   ]
  },
  {
   "cell_type": "code",
   "execution_count": null,
   "metadata": {},
   "outputs": [],
   "source": [
    "from typing import List\n",
    "\n",
    "def preorder_traversal(tree: TreeNode) -> List[int]:\n",
    "    node = tree\n",
    "    result = []\n",
    "    \n",
    "    while node:\n",
    "        if not node.left:\n",
    "            # No left subtree\n",
    "            result.append(node.val)\n",
    "            node = node.right\n",
    "        else:\n",
    "            predecessor = node.left\n",
    "            while predecessor.right and predecessor.right is not node:\n",
    "                # Traverse to rightmost node of subtree\n",
    "                predecessor = predecessor.right\n",
    "                \n",
    "            if not predecessor.right:\n",
    "                result.append(node.val)\n",
    "                predecessor.right = node # Link from rightmost node to parent of subtree\n",
    "                node = node.left\n",
    "            else:\n",
    "                # Node already points to parent of subtree\n",
    "                predecessor.right = None # Remove link\n",
    "                node = node.right\n",
    "                \n",
    "    return result\n",
    "    \n",
    "preorder_traversal(tree)"
   ]
  },
  {
   "cell_type": "markdown",
   "metadata": {},
   "source": [
    "**Time complexity: O(n)**, since each node is visited exactly twice.  \n",
    "**Space complexity: O(1)**, since the traversal itself does not consume any memory (only result array)."
   ]
  },
  {
   "cell_type": "markdown",
   "metadata": {},
   "source": [
    "#### **Binary Tree Inorder Traversal**"
   ]
  },
  {
   "cell_type": "markdown",
   "metadata": {},
   "source": [
    "Given the root of a binary tree, return the inorder traversal of its nodes' values."
   ]
  },
  {
   "cell_type": "markdown",
   "metadata": {},
   "source": [
    "- **Approach 1: Iteration**"
   ]
  },
  {
   "cell_type": "code",
   "execution_count": null,
   "metadata": {},
   "outputs": [],
   "source": [
    "from typing import List\n",
    "\n",
    "def inorder_traversal(tree: TreeNode) -> List[int]:\n",
    "    if not tree:\n",
    "        # Empty tree\n",
    "        return []\n",
    "    result = []\n",
    "    stack = []\n",
    "    curr = tree\n",
    "    while stack or curr:\n",
    "        if curr:\n",
    "            # Push current node onto stack and traverse to\n",
    "            # left child until leftmost child is reached\n",
    "            stack.append(curr)\n",
    "            curr = curr.left\n",
    "        else:\n",
    "            curr = stack.pop()\n",
    "            result.append(curr.val)\n",
    "            curr = curr.right\n",
    "            \n",
    "    return result\n",
    "\n",
    "inorder_traversal(tree)"
   ]
  },
  {
   "cell_type": "markdown",
   "metadata": {},
   "source": [
    "**Time complexity: O(n)**  \n",
    "**Space complexity: O(n)**"
   ]
  },
  {
   "cell_type": "markdown",
   "metadata": {},
   "source": [
    "- **Approach 2: Recursion**"
   ]
  },
  {
   "cell_type": "code",
   "execution_count": null,
   "metadata": {},
   "outputs": [],
   "source": [
    "from typing import List\n",
    "\n",
    "def inorder_traversal(tree: TreeNode, result: List[int]=[]) -> List[int]:\n",
    "    if tree:\n",
    "        if tree.left:\n",
    "            inorder_traversal(tree.left, result)\n",
    "        result.append(tree.val)\n",
    "        if tree.right:\n",
    "            inorder_traversal(tree.right, result)\n",
    "            \n",
    "    return result\n",
    "\n",
    "inorder_traversal(tree)"
   ]
  },
  {
   "cell_type": "markdown",
   "metadata": {},
   "source": [
    "**Time complexity: O(n)**  \n",
    "**Space complexity: O(n)** in the worst case, and **O(log n)** in the average case."
   ]
  },
  {
   "cell_type": "markdown",
   "metadata": {},
   "source": [
    "- **Approach 3: Morris Traversal**"
   ]
  },
  {
   "cell_type": "code",
   "execution_count": null,
   "metadata": {},
   "outputs": [],
   "source": [
    "from typing import List\n",
    "\n",
    "def inorder_traversal(tree: TreeNode) -> List[int]:\n",
    "    result = []\n",
    "    node = tree\n",
    "    \n",
    "    while node:\n",
    "        if not node.left:\n",
    "            # No left subtree\n",
    "            result.append(node.val)\n",
    "            node = node.right\n",
    "        else:\n",
    "            predecessor = node.left\n",
    "            while predecessor.right:\n",
    "                # Find rightmost node of subtree\n",
    "                predecessor = predecessor.right\n",
    "            # Link rightmost node of subtree link to parent of subtree\n",
    "            predecessor.right = node\n",
    "            temp = node\n",
    "            node = node.left # Make parent of left subtree the new root\n",
    "            temp.left = None # Remove original link to avoid cycles\n",
    "            \n",
    "    return result\n",
    "\n",
    "inorder_traversal(tree)"
   ]
  },
  {
   "cell_type": "markdown",
   "metadata": {},
   "source": [
    "**Time complexity: O(n)**  \n",
    "**Space complexity: O(1)**, ignoring the result list."
   ]
  },
  {
   "cell_type": "markdown",
   "metadata": {},
   "source": [
    "#### **Binary Tree Postorder Traversal**"
   ]
  },
  {
   "cell_type": "markdown",
   "metadata": {},
   "source": [
    "Given the root of a binary tree, return the postorder traversal of its nodes' values."
   ]
  },
  {
   "cell_type": "markdown",
   "metadata": {},
   "source": [
    "- **Approach 1: Iteration**"
   ]
  },
  {
   "cell_type": "code",
   "execution_count": null,
   "metadata": {},
   "outputs": [],
   "source": [
    "from typing import List\n",
    "\n",
    "def postorder_traversal(tree: TreeNode) -> List[int]:\n",
    "    if not tree:\n",
    "        return []\n",
    "    # Two stacks\n",
    "    s1 = [tree]\n",
    "    s2 = []\n",
    "    while s1:\n",
    "        curr = s1.pop()\n",
    "        s2.append(curr.val)\n",
    "        if curr.left:\n",
    "            s1.append(curr.left)\n",
    "        if curr.right:\n",
    "            s1.append(curr.right)\n",
    "            \n",
    "    # Result is reversed second stack\n",
    "    result = []\n",
    "    while s2:\n",
    "        result.append(s2.pop())\n",
    "        \n",
    "    return result\n",
    "        \n",
    "postorder_traversal(tree)"
   ]
  },
  {
   "cell_type": "markdown",
   "metadata": {},
   "source": [
    "**Time complexity: O(n)**, since each node is visited once and the final reversal of the stack is O(n) aswell.  \n",
    "**Space complexity: O(n)**, since the second stack will hold all nodes. The final result list is O(n) aswell."
   ]
  },
  {
   "cell_type": "markdown",
   "metadata": {},
   "source": [
    "- **Approach 2: Recursion**"
   ]
  },
  {
   "cell_type": "code",
   "execution_count": null,
   "metadata": {},
   "outputs": [],
   "source": [
    "from typing import List\n",
    "\n",
    "def postorder_traversal(tree: TreeNode, result: List[int]=[]) -> List[int]:\n",
    "    if not tree:\n",
    "        return\n",
    "    postorder_traversal(tree.left)\n",
    "    postorder_traversal(tree.right)\n",
    "    result.append(tree.val)\n",
    "    \n",
    "    return result\n",
    "        \n",
    "postorder_traversal(tree)"
   ]
  },
  {
   "cell_type": "markdown",
   "metadata": {},
   "source": [
    "**Time complexity: O(n)**, since each node is visited once.    \n",
    "**Space complexity: O(n)**, since in the worst case of an unbalanced tree, the recursion stack contains all n nodes."
   ]
  },
  {
   "cell_type": "markdown",
   "metadata": {},
   "source": [
    "#### **Binary Tree Level Order Traversal**"
   ]
  },
  {
   "cell_type": "markdown",
   "metadata": {},
   "source": [
    "Nodes of a tree can be visited in level order with **breadth-first**."
   ]
  },
  {
   "cell_type": "markdown",
   "metadata": {},
   "source": [
    "- **Approach 1: Iteration**"
   ]
  },
  {
   "cell_type": "code",
   "execution_count": null,
   "metadata": {},
   "outputs": [],
   "source": [
    "from typing import List\n",
    "\n",
    "def level_order(root: TreeNode) -> List[List[int]]:\n",
    "    result = []\n",
    "    queue = [] # Queue for breadth-first search\n",
    "    if root:\n",
    "        queue.append(root)\n",
    "    while queue:\n",
    "        result.append([node.val for node in queue])\n",
    "        # Make queue consist of children of current level\n",
    "        queue = [child for node in queue for child in (node.left, node.right) if child]\n",
    "\n",
    "    return result\n",
    "\n",
    "level_order(tree)"
   ]
  },
  {
   "cell_type": "markdown",
   "metadata": {},
   "source": [
    "**Time complexity: O(n)**, since each node is visited once.  \n",
    "**Space complexity: O(n)**"
   ]
  },
  {
   "cell_type": "markdown",
   "metadata": {},
   "source": [
    "- **Approach 2: Recursion**"
   ]
  },
  {
   "cell_type": "code",
   "execution_count": null,
   "metadata": {},
   "outputs": [],
   "source": [
    "from typing import List\n",
    "\n",
    "def level_order(root: TreeNode) -> List[List[int]]:\n",
    "    if not root:\n",
    "        return []\n",
    "    \n",
    "    def dfs(node, level, result):\n",
    "        if len(result) == level:\n",
    "            # Add sublist for current level with node\n",
    "            result.append([node.val])\n",
    "        else:\n",
    "            # Add node val to already existing level sublist\n",
    "            result[level].append(node.val)\n",
    "        if node.left:\n",
    "            dfs(node.left, level + 1, result)\n",
    "        if node.right:\n",
    "            dfs(node.right, level + 1, result)\n",
    "    \n",
    "    result = []\n",
    "    dfs(root, 0, result)\n",
    "    \n",
    "    return result\n",
    "\n",
    "level_order(tree)"
   ]
  },
  {
   "cell_type": "markdown",
   "metadata": {},
   "source": [
    "**Time complexity: O(n)**, since each node is visited once.  \n",
    "**Space complexity: O(n)**, since in the worst case of an unbalanced tree, the call stack contains all n nodes. Also, the result list stores all n nodes."
   ]
  },
  {
   "cell_type": "markdown",
   "metadata": {},
   "source": [
    "## Solve Tree Problems Recursively"
   ]
  },
  {
   "cell_type": "code",
   "execution_count": null,
   "metadata": {},
   "outputs": [],
   "source": [
    "class TreeNode:\n",
    "    def __init__(self, val):\n",
    "        self.val = val\n",
    "        self.left = None\n",
    "        self.right = None\n",
    "        \n",
    "n1 = TreeNode(1)\n",
    "n2 = TreeNode(2)\n",
    "n3 = TreeNode(3)\n",
    "n4 = TreeNode(4)\n",
    "n5 = TreeNode(5)\n",
    "n6 = TreeNode(6)\n",
    "n7 = TreeNode(7)\n",
    "n8 = TreeNode(8)\n",
    "\n",
    "n1.left = n2\n",
    "n1.right = n3\n",
    "n2.left = n4\n",
    "n2.right = n5\n",
    "n3.left = n6\n",
    "n3.right = n7\n",
    "n6.left = n8\n",
    "\n",
    "tree = n1"
   ]
  },
  {
   "cell_type": "markdown",
   "metadata": {},
   "source": [
    "#### **Top-down approach**"
   ]
  },
  {
   "cell_type": "markdown",
   "metadata": {},
   "source": [
    "Can be considered as sort of a preorder traversal (passing information through parameters to children)."
   ]
  },
  {
   "cell_type": "code",
   "execution_count": null,
   "metadata": {},
   "outputs": [],
   "source": [
    "from typing import List\n",
    "\n",
    "def maximum_depth(node: TreeNode) -> int:\n",
    "    if not tree:\n",
    "        return\n",
    "    def recursive_helper(node: TreeNode, level: int, max_level: List[int]) -> int:\n",
    "        if not node:\n",
    "            return\n",
    "        if max_level and max_level[0] < level:\n",
    "            # Current level is deeper\n",
    "            max_level.pop()\n",
    "            max_level.append(level)\n",
    "        elif not max_level:\n",
    "            max_level.append(level)\n",
    "        recursive_helper(node.left, level + 1, max_level)\n",
    "        recursive_helper(node.right, level + 1, max_level)\n",
    "    # Use a list to make pass by reference possible\n",
    "    max_level = []\n",
    "    recursive_helper(node, 1, max_level)\n",
    "    \n",
    "    return max_level[0]\n",
    "\n",
    "maximum_depth(tree)"
   ]
  },
  {
   "cell_type": "markdown",
   "metadata": {},
   "source": [
    "#### **Bottom-up approach**"
   ]
  },
  {
   "cell_type": "markdown",
   "metadata": {},
   "source": [
    "Can be considered as sort of a postorder traversal (retrieving information from children)."
   ]
  },
  {
   "cell_type": "code",
   "execution_count": null,
   "metadata": {},
   "outputs": [],
   "source": [
    "def maximum_depth(node: TreeNode) -> int:\n",
    "    if not tree:\n",
    "        return 0\n",
    "    \n",
    "    def recursive_helper(node: TreeNode) -> int:\n",
    "        if not node:\n",
    "            return 0\n",
    "        left_depth = recursive_helper(node.left)\n",
    "        right_depth = recursive_helper(node.right)\n",
    "        return max(left_depth, right_depth) + 1\n",
    "    \n",
    "    return recursive_helper(node)\n",
    "\n",
    "maximum_depth(tree)"
   ]
  },
  {
   "cell_type": "markdown",
   "metadata": {},
   "source": [
    "#### **Maximum Depth of Binary Tree**"
   ]
  },
  {
   "cell_type": "markdown",
   "metadata": {},
   "source": [
    "- **Approach 1: Recursion**"
   ]
  },
  {
   "cell_type": "code",
   "execution_count": null,
   "metadata": {},
   "outputs": [],
   "source": [
    "def max_depth(node: TreeNode) -> int:\n",
    "    if not node:\n",
    "        return 0\n",
    "    left = max_depth(node.left)\n",
    "    right = max_depth(node.right)\n",
    "    # Return the left or right subtree's max depth plus the current level\n",
    "    return max(left, right) + 1\n",
    "\n",
    "max_depth(tree)"
   ]
  },
  {
   "cell_type": "markdown",
   "metadata": {},
   "source": [
    "**Time complexity: O(n)**, since each node is visited once.  \n",
    "**Space complexity: O(n)**, in the event of an unbalanced tree."
   ]
  },
  {
   "cell_type": "markdown",
   "metadata": {},
   "source": [
    "#### **Symmetric Tree**"
   ]
  },
  {
   "cell_type": "markdown",
   "metadata": {},
   "source": [
    "Given a binary tree, check whether it is a mirror of itself (ie, symmetric around its center)."
   ]
  },
  {
   "cell_type": "code",
   "execution_count": null,
   "metadata": {},
   "outputs": [],
   "source": [
    "class TreeNode:\n",
    "    def __init__(self, val):\n",
    "        self.val = val\n",
    "        self.left = None\n",
    "        self.right = None\n",
    "        \n",
    "n1 = TreeNode(1)\n",
    "n2 = TreeNode(2)\n",
    "n3 = TreeNode(2)\n",
    "n4 = TreeNode(3)\n",
    "n5 = TreeNode(4)\n",
    "n6 = TreeNode(4)\n",
    "n7 = TreeNode(3)\n",
    "\n",
    "n1.left = n2\n",
    "n1.right = n3\n",
    "n2.left = n4\n",
    "n2.right = n5\n",
    "n3.left = n6\n",
    "n3.right = n7\n",
    "\n",
    "tree = n1"
   ]
  },
  {
   "cell_type": "markdown",
   "metadata": {},
   "source": [
    "- **Approach 1: Recursion**"
   ]
  },
  {
   "cell_type": "code",
   "execution_count": null,
   "metadata": {},
   "outputs": [],
   "source": [
    "from collections import deque\n",
    "\n",
    "def is_symmetric(root: TreeNode) -> bool:\n",
    "    def is_mirror(n1: TreeNode, n2: TreeNode) -> bool:\n",
    "        if n1 == None and n2 == None:\n",
    "            # None of the two mirrored locations contain a node\n",
    "            return True\n",
    "        elif n1 == None or n2 == None:\n",
    "            # Only one of the mirrored locations has a node\n",
    "            return False\n",
    "        return n1.val == n2.val and is_mirror(n1.right, n2.left) and is_mirror(n1.left, n2.right)\n",
    "    \n",
    "    return is_mirror(root, root)\n",
    "\n",
    "is_symmetric(tree)"
   ]
  },
  {
   "cell_type": "markdown",
   "metadata": {},
   "source": [
    "**Time complexity: O(n)**, since each node is visited once.  \n",
    "**Space complexity: O(n)**, in the event of an unbalanced tree."
   ]
  },
  {
   "cell_type": "markdown",
   "metadata": {},
   "source": [
    "#### **Path Sum**"
   ]
  },
  {
   "cell_type": "markdown",
   "metadata": {},
   "source": [
    "Given the root of a binary tree and an integer target_sum, return True if the tree has a **root-to-leaf** path such that adding up all the values along the path equals target_sum."
   ]
  },
  {
   "cell_type": "code",
   "execution_count": null,
   "metadata": {},
   "outputs": [],
   "source": [
    "class TreeNode:\n",
    "    def __init__(self, val):\n",
    "        self.val = val\n",
    "        self.left = None\n",
    "        self.right = None\n",
    "        \n",
    "n1 = TreeNode(5)\n",
    "n2 = TreeNode(4)\n",
    "n3 = TreeNode(8)\n",
    "n4 = TreeNode(11)\n",
    "n5 = TreeNode(13)\n",
    "n6 = TreeNode(4)\n",
    "n7 = TreeNode(7)\n",
    "n8 = TreeNode(2)\n",
    "\n",
    "n1.left = n2\n",
    "n1.right = n3\n",
    "n2.left = n4\n",
    "n3.left = n5\n",
    "n3.right = n6\n",
    "n4.left = n7\n",
    "n4.right = n8\n",
    "\n",
    "tree = n1"
   ]
  },
  {
   "cell_type": "markdown",
   "metadata": {},
   "source": [
    "- **Approach 1: Recursion**"
   ]
  },
  {
   "cell_type": "code",
   "execution_count": null,
   "metadata": {},
   "outputs": [],
   "source": [
    "def has_path_sum(root: TreeNode, target_sum: int) -> bool:\n",
    "    def dfs(node, current_sum, target_sum):\n",
    "        if not node:\n",
    "            return False\n",
    "        if not node.left and not node.right:\n",
    "            # Node is a leaf node\n",
    "            return current_sum + node.val == target_sum\n",
    "        return dfs(node.left, current_sum + node.val, target_sum) or dfs(node.right, current_sum + node.val, target_sum)\n",
    "\n",
    "    return dfs(root, 0, target_sum)\n",
    "\n",
    "has_path_sum(tree, 22)"
   ]
  },
  {
   "cell_type": "markdown",
   "metadata": {},
   "source": [
    "**Time complexity: O(n)**, since each node is visited once.  \n",
    "**Space complexity: O(n)**, in the event of an unbalanced tree."
   ]
  },
  {
   "cell_type": "markdown",
   "metadata": {},
   "source": [
    "#### **Count Univalue Subtrees**"
   ]
  },
  {
   "cell_type": "markdown",
   "metadata": {},
   "source": [
    "Given the root of a binary tree, return the number of uni-value subtrees. A uni-value subtree means all nodes of the subtree have the same value."
   ]
  },
  {
   "cell_type": "code",
   "execution_count": null,
   "metadata": {},
   "outputs": [],
   "source": [
    "class TreeNode:\n",
    "    def __init__(self, val):\n",
    "        self.val = val\n",
    "        self.left = None\n",
    "        self.right = None\n",
    "        \n",
    "n1 = TreeNode(5)\n",
    "n2 = TreeNode(1)\n",
    "n3 = TreeNode(5)\n",
    "n4 = TreeNode(5)\n",
    "n5 = TreeNode(5)\n",
    "n6 = TreeNode(5)\n",
    "\n",
    "n1.left = n2\n",
    "n1.right = n3\n",
    "n2.left = n4\n",
    "n2.right = n5\n",
    "n3.right = n6\n",
    "\n",
    "tree = n1"
   ]
  },
  {
   "cell_type": "code",
   "execution_count": null,
   "metadata": {},
   "outputs": [],
   "source": [
    "def num_univalue_subtrees(root: TreeNode) -> int:\n",
    "    if not root:\n",
    "        return 0\n",
    "    def recursive_helper(node, count):\n",
    "        if node is None:\n",
    "            return True\n",
    "\n",
    "        left = recursive_helper(node.left, count)\n",
    "        right = recursive_helper(node.right, count)\n",
    "\n",
    "        if left == False or right == False:\n",
    "            # Either child is not unival subtree\n",
    "            return False\n",
    "        if node.left and node.val != node.left.val:\n",
    "            # Current node does not match left subtree\n",
    "            return False\n",
    "        if node.right and node.val != node.right.val:\n",
    "            # Current node does not match right subtree\n",
    "            return False\n",
    "        # Current node is unival subtree\n",
    "        count[0] += 1\n",
    "        return True\n",
    "        \n",
    "    count = [0]\n",
    "    recursive_helper(root, count)\n",
    "    return count[0]\n",
    "\n",
    "num_univalue_subtrees(tree)"
   ]
  },
  {
   "cell_type": "markdown",
   "metadata": {},
   "source": [
    "**Time complexity: O(n)**, since each node is visited once.  \n",
    "**Space complexity: O(h)**, since the recursive stack is bound by the longest path from the root to a leaf."
   ]
  },
  {
   "cell_type": "markdown",
   "metadata": {},
   "source": [
    "## Conclusion"
   ]
  },
  {
   "cell_type": "markdown",
   "metadata": {},
   "source": [
    "#### **Construct Binary Tree from Inorder and Postorder Traversal**"
   ]
  },
  {
   "cell_type": "markdown",
   "metadata": {},
   "source": [
    "Given the inorder and postorder traversal of a tree, construct the binary tree."
   ]
  },
  {
   "cell_type": "code",
   "execution_count": null,
   "metadata": {},
   "outputs": [],
   "source": [
    "from typing import List\n",
    "\n",
    "class TreeNode:\n",
    "    def __init__(self, val):\n",
    "        self.val = val\n",
    "        self.left = None\n",
    "        self.right = None\n",
    "\n",
    "inorder = [9, 3, 15, 20, 7]\n",
    "postorder = [9, 15, 7, 20, 3]\n",
    "\n",
    "def construct_tree(inorder: List[int], postorder: List[int]) -> TreeNode:\n",
    "    def recursive_helper(idx_left, idx_right):\n",
    "        if idx_left > idx_right:\n",
    "            # No elements\n",
    "            return None\n",
    "        \n",
    "        val = postorder.pop()\n",
    "        root = TreeNode(val) \n",
    "        index = idx_map[val]\n",
    "        # Construct left and right subtrees\n",
    "        root.right = recursive_helper(index + 1, idx_right)\n",
    "        root.left = recursive_helper(idx_left, index - 1)\n",
    "        \n",
    "        return root\n",
    "        \n",
    "    idx_map = {val: idx for idx, val in enumerate(inorder)}\n",
    "    return recursive_helper(0, len(inorder) - 1)\n",
    "\n",
    "# Testing\n",
    "root = construct_tree(inorder, postorder)\n",
    "def inorder_traversal(root: TreeNode) -> None:\n",
    "    if root.left:\n",
    "        inorder_traversal(root.left)\n",
    "    print(root.val)\n",
    "    if root.right:\n",
    "        inorder_traversal(root.right)\n",
    "        \n",
    "inorder_traversal(root)"
   ]
  },
  {
   "cell_type": "markdown",
   "metadata": {},
   "source": [
    "**Time complexity: O(n)**  \n",
    "**Space complexity: O(n)**"
   ]
  },
  {
   "cell_type": "markdown",
   "metadata": {},
   "source": [
    "#### **Construct Binary Tree from Preorder and Inorder Traversal**"
   ]
  },
  {
   "cell_type": "markdown",
   "metadata": {},
   "source": [
    "Given the preorder and inorder traversal of a tree, construct the binary tree."
   ]
  },
  {
   "cell_type": "code",
   "execution_count": null,
   "metadata": {},
   "outputs": [],
   "source": [
    "from typing import List\n",
    "\n",
    "class TreeNode:\n",
    "    def __init__(self, val):\n",
    "        self.val = val\n",
    "        self.left = None\n",
    "        self.right = None\n",
    "\n",
    "preorder = [3, 9, 20, 15, 7]\n",
    "inorder = [9, 3, 15, 20, 7]\n",
    "\n",
    "def construct_tree(preorder: List[int], inorder: List[int]) -> TreeNode:\n",
    "    def recursive_helper(left_idx, right_idx):\n",
    "        nonlocal root_idx\n",
    "        if left_idx > right_idx:\n",
    "            return None\n",
    "        # Construct root node of current subtree\n",
    "        root_val = preorder[root_idx]\n",
    "        root = TreeNode(root_val)\n",
    "        index = idx_map[root_val]\n",
    "        # Get root of next subtree via index in preorder list\n",
    "        root_idx += 1\n",
    "        root.left = recursive_helper(left_idx, index - 1)\n",
    "        root.right = recursive_helper(index + 1, right_idx)\n",
    "        \n",
    "        return root\n",
    "        \n",
    "    root_idx = 0\n",
    "    idx_map = {val: idx for idx, val in enumerate(inorder)}\n",
    "    return recursive_helper(0, len(inorder) - 1)\n",
    "\n",
    "# Testing\n",
    "root = construct_tree(preorder, inorder)\n",
    "def inorder_traversal(root: TreeNode) -> None:\n",
    "    if not root:\n",
    "        return\n",
    "    inorder_traversal(root.left)\n",
    "    print(root.val)\n",
    "    inorder_traversal(root.right)\n",
    "        \n",
    "inorder_traversal(root)"
   ]
  },
  {
   "cell_type": "markdown",
   "metadata": {},
   "source": [
    "**Time complexity: O(n)**  \n",
    "**Space complexity: O(n)**"
   ]
  },
  {
   "cell_type": "markdown",
   "metadata": {},
   "source": [
    "#### **Populating Next Right Pointers in Each Node**"
   ]
  },
  {
   "cell_type": "markdown",
   "metadata": {},
   "source": [
    "You are given a perfect binary tree where all leaves are on the same level, and every parent has two children. Populate each next pointer to point to its next right node. If there is no next right node, the next pointer should be set to None.\n",
    "\n",
    "Initially, all next pointers are set to None."
   ]
  },
  {
   "cell_type": "markdown",
   "metadata": {},
   "source": [
    "- **Approach 1: Level Order Traversal**"
   ]
  },
  {
   "cell_type": "code",
   "execution_count": null,
   "metadata": {},
   "outputs": [],
   "source": [
    "from collections import deque\n",
    "\n",
    "class Node:\n",
    "    def __init__(self, val: int = 0, left: 'Node' = None, right: 'Node' = None, next: 'Node' = None):\n",
    "        self.val = val\n",
    "        self.left = left\n",
    "        self.right = right\n",
    "        self.next = next\n",
    "\n",
    "# Initialize tree\n",
    "n1 = Node(1)\n",
    "n2 = Node(2)\n",
    "n3 = Node(3)\n",
    "n4 = Node(4)\n",
    "n5 = Node(5)\n",
    "n6 = Node(6)\n",
    "n7 = Node(7)\n",
    "\n",
    "n1.left = n2\n",
    "n1.right = n3\n",
    "n2.left = n4\n",
    "n2.right = n5\n",
    "n3.left = n6\n",
    "n3.right = n7\n",
    "\n",
    "def connect(root: Node) -> Node:\n",
    "    if not root:\n",
    "        return None\n",
    "    level_queue = deque([root])\n",
    "    while level_queue:\n",
    "        # Set right pointer of each node on current level\n",
    "        for i in range(1, len(level_queue)):\n",
    "            level_queue[i - 1].next = level_queue[i] \n",
    "        level_queue = [child for node in level_queue for child in (node.left, node.right) if child]\n",
    "        \n",
    "    return root\n",
    "\n",
    "# Testing\n",
    "root = connect(n1)\n",
    "print(root.left.next.val)\n",
    "print(root.left.left.next.val)"
   ]
  },
  {
   "cell_type": "markdown",
   "metadata": {},
   "source": [
    "**Time complexity: O(n)**  \n",
    "**Space complexity: O(n)**"
   ]
  },
  {
   "cell_type": "markdown",
   "metadata": {},
   "source": [
    "#### **Populating Next Right Pointers in Each Node II**"
   ]
  },
  {
   "cell_type": "markdown",
   "metadata": {},
   "source": [
    "Given a binary tree (**not perfect**), populate each next pointer to point to its next right node. If there is no next right node, the next pointer should be set to None."
   ]
  },
  {
   "cell_type": "code",
   "execution_count": null,
   "metadata": {},
   "outputs": [],
   "source": [
    "from collections import deque\n",
    "\n",
    "class Node:\n",
    "    def __init__(self, val: int = 0, left: 'Node' = None, right: 'Node' = None, next: 'Node' = None):\n",
    "        self.val = val\n",
    "        self.left = left\n",
    "        self.right = right\n",
    "        self.next = next\n",
    "\n",
    "# Initialize tree\n",
    "n1 = Node(1)\n",
    "n2 = Node(2)\n",
    "n3 = Node(3)\n",
    "n4 = Node(4)\n",
    "n5 = Node(5)\n",
    "n7 = Node(7)\n",
    "\n",
    "n1.left = n2\n",
    "n1.right = n3\n",
    "n2.left = n4\n",
    "n2.right = n5\n",
    "n3.right = n7\n",
    "\n",
    "def connect(root: Node) -> Node:\n",
    "    if not root:\n",
    "        return None\n",
    "    level_queue = deque([root])\n",
    "    while level_queue:\n",
    "        for i in range(1, len(level_queue)):\n",
    "            # Make each node on same level point to its right node\n",
    "            level_queue[i - 1].next = level_queue[i]\n",
    "        # Replace queue with next level\n",
    "        level_queue = [child for node in level_queue for child in (node.left, node.right) if child]\n",
    "        \n",
    "    return root\n",
    "\n",
    "# Testing\n",
    "root = connect(n1)\n",
    "print(root.left.next.val)\n",
    "print(root.left.left.next.val)"
   ]
  },
  {
   "cell_type": "markdown",
   "metadata": {},
   "source": [
    "**Time complexity: O(n)**  \n",
    "**Space complexity: O(n)**"
   ]
  },
  {
   "cell_type": "markdown",
   "metadata": {},
   "source": [
    "#### **Lowest Common Ancestor of a Binary Tree**"
   ]
  },
  {
   "cell_type": "markdown",
   "metadata": {},
   "source": [
    "Given a binary tree, find the lowest common ancestor (LCA) of two given nodes in the tree.\n",
    "\n",
    "According to the definition of LCA on Wikipedia: “The lowest common ancestor is defined between two nodes p and q as the lowest node in T that has both p and q as descendants (where we allow a node to be a descendant of itself).”"
   ]
  },
  {
   "cell_type": "markdown",
   "metadata": {},
   "source": [
    "- **Approach 1: Recursive approach**"
   ]
  },
  {
   "cell_type": "code",
   "execution_count": null,
   "metadata": {},
   "outputs": [],
   "source": [
    "class TreeNode:\n",
    "    def __init__(self, val):\n",
    "        self.val = val\n",
    "        self.left = None\n",
    "        self.right = None\n",
    "\n",
    "# Initializing tree\n",
    "n1 = TreeNode(3)\n",
    "n2 = TreeNode(5)\n",
    "n3 = TreeNode(1)\n",
    "n4 = TreeNode(6)\n",
    "n5 = TreeNode(2)\n",
    "n6 = TreeNode(0)\n",
    "n7 = TreeNode(8)\n",
    "n8 = TreeNode(7)\n",
    "n9 = TreeNode(4)\n",
    "\n",
    "n1.left = n2\n",
    "n1.right = n3\n",
    "n2.left = n4\n",
    "n2.right = n5\n",
    "n3.left = n6\n",
    "n3.right = n7\n",
    "n5.left = n8\n",
    "n5.right = n9\n",
    "\n",
    "root = n1\n",
    "\n",
    "def lowest_common_ancestor(root: TreeNode, p: TreeNode, q: TreeNode) -> TreeNode:\n",
    "    def dfs(current_node, answer):\n",
    "        if not current_node:\n",
    "            # End of branch\n",
    "            return False\n",
    "        left = dfs(current_node.left, answer)\n",
    "        right = dfs(current_node.right, answer)\n",
    "        \n",
    "        # Determine whether current node is either p or q\n",
    "        mid = current_node == p or current_node == q\n",
    "        \n",
    "        if mid + left + right >= 2:\n",
    "            # Both nodes have been found\n",
    "            if not answer:\n",
    "                answer.append(current_node)\n",
    "        \n",
    "        # One of the vals has been found\n",
    "        return mid or left or right\n",
    "        \n",
    "    # Store LCA in list to utilize pass by reference \n",
    "    answer = []\n",
    "            \n",
    "    dfs(root, answer)\n",
    "    return answer[0]\n",
    "\n",
    "lowest_common_ancestor(root, n5, n6)"
   ]
  },
  {
   "cell_type": "markdown",
   "metadata": {},
   "source": [
    "**Time complexity: O(n)**  \n",
    "**Space complexity: O(n)**"
   ]
  },
  {
   "cell_type": "markdown",
   "metadata": {},
   "source": [
    "#### **Serialize and Deserialize Binary Tree**"
   ]
  },
  {
   "cell_type": "markdown",
   "metadata": {},
   "source": [
    "Serialization is the process of converting a data structure or object into a sequence of bits so that it can be stored in a file or memory buffer, or transmitted across a network connection link to be reconstructed later in the same or another computer environment.\n",
    "\n",
    "Design an algorithm to serialize and deserialize a binary tree. There is no restriction on how your serialization/deserialization algorithm should work. You just need to ensure that a binary tree can be serialized to a string and this string can be deserialized to the original tree structure."
   ]
  },
  {
   "cell_type": "code",
   "execution_count": null,
   "metadata": {},
   "outputs": [],
   "source": [
    "class TreeNode:\n",
    "    def __init__(self, val):\n",
    "        self.val = val\n",
    "        self.left = None\n",
    "        self.right = None\n",
    "\n",
    "# Initializing tree\n",
    "n1 = TreeNode(1)\n",
    "n2 = TreeNode(2)\n",
    "n3 = TreeNode(3)\n",
    "n4 = TreeNode(4)\n",
    "n5 = TreeNode(5)\n",
    "\n",
    "n1.left = n2\n",
    "n1.right = n3\n",
    "n3.left = n4\n",
    "n3.right = n5\n",
    "\n",
    "root = n1"
   ]
  },
  {
   "cell_type": "code",
   "execution_count": null,
   "metadata": {},
   "outputs": [],
   "source": [
    "from collections import deque\n",
    "\n",
    "def serialize(root: TreeNode) -> str:\n",
    "    \"\"\"Encodes a tree to a single string.\"\"\"\n",
    "    def preorder(node, string):\n",
    "        if not node:\n",
    "            # Base case\n",
    "            string += 'None,'\n",
    "        else:\n",
    "            string += f'{node.val},'\n",
    "            string = preorder(node.left, string)\n",
    "            string = preorder(node.right, string)\n",
    "        return string\n",
    "    \n",
    "    return preorder(root, '')\n",
    "\n",
    "string = serialize(root)\n",
    "print(string)"
   ]
  },
  {
   "cell_type": "markdown",
   "metadata": {},
   "source": [
    "**Time complexity: O(n)**  \n",
    "**Space complexity: O(n)**"
   ]
  },
  {
   "cell_type": "code",
   "execution_count": null,
   "metadata": {},
   "outputs": [],
   "source": [
    "def deserialize(data: str) -> TreeNode:\n",
    "    \"\"\"Decodes your encoded data to tree.\"\"\"\n",
    "    def recursive_helper(data_list):\n",
    "        if data_list[0] == 'None':\n",
    "            # Node has no child \n",
    "            data_list.pop(0)\n",
    "            return None\n",
    "        # Create root for current subtree\n",
    "        root = TreeNode(data_list.pop(0))\n",
    "        root.left = recursive_helper(data_list)\n",
    "        root.right = recursive_helper(data_list)\n",
    "        \n",
    "        return root\n",
    "    \n",
    "    data_list = data.split(',')\n",
    "    return recursive_helper(data_list)\n",
    "    \n",
    "new_root = deserialize(string)\n",
    "\n",
    "# Testing\n",
    "stack = [new_root]\n",
    "while stack:\n",
    "    curr = stack.pop()\n",
    "    print(curr.val)\n",
    "    if curr.right:\n",
    "        stack.append(curr.right)\n",
    "    if curr.left:\n",
    "        stack.append(curr.left)"
   ]
  },
  {
   "cell_type": "markdown",
   "metadata": {},
   "source": [
    "**Time complexity: O(n)**  \n",
    "**Space complexity: O(n)**"
   ]
  }
 ],
 "metadata": {
  "kernelspec": {
   "display_name": "Python 3.7.4 64-bit",
   "language": "python",
   "name": "python37464bit6fc5c9ee3ddc4409a96e8a8d945e3dcc"
  },
  "language_info": {
   "codemirror_mode": {
    "name": "ipython",
    "version": 3
   },
   "file_extension": ".py",
   "mimetype": "text/x-python",
   "name": "python",
   "nbconvert_exporter": "python",
   "pygments_lexer": "ipython3",
   "version": "3.7.4"
  }
 },
 "nbformat": 4,
 "nbformat_minor": 4
}
