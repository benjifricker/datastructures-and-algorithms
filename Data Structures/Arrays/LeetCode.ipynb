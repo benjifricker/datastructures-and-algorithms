{
 "cells": [
  {
   "cell_type": "code",
   "execution_count": null,
   "metadata": {},
   "outputs": [],
   "source": [
    "from typing import List"
   ]
  },
  {
   "cell_type": "markdown",
   "metadata": {},
   "source": [
    "# Arrays"
   ]
  },
  {
   "cell_type": "markdown",
   "metadata": {},
   "source": [
    "## Introduction"
   ]
  },
  {
   "cell_type": "markdown",
   "metadata": {},
   "source": [
    "#### **Max Consecutive Ones**"
   ]
  },
  {
   "cell_type": "markdown",
   "metadata": {},
   "source": [
    "Given a binary array, find the maximum number of consecutive 1s in this array."
   ]
  },
  {
   "cell_type": "code",
   "execution_count": null,
   "metadata": {},
   "outputs": [],
   "source": [
    "numbers = [1, 1, 0, 1, 1, 1]\n",
    "\n",
    "def find_max_consecutive_ones(numbers: List[int]) -> int:\n",
    "    max_so_far = 0\n",
    "    max_total = 0\n",
    "    \n",
    "    for num in numbers:\n",
    "        if num == 1:\n",
    "            max_so_far += 1\n",
    "        else:\n",
    "            max_total = max(max_so_far, max_total)\n",
    "            max_so_far = 0\n",
    "            \n",
    "    return max(max_so_far, max_total)\n",
    "\n",
    "find_max_consecutive_ones(array)"
   ]
  },
  {
   "cell_type": "markdown",
   "metadata": {},
   "source": [
    "Time Complexity: O(n)  \n",
    "Space Complexity: O(1)"
   ]
  },
  {
   "cell_type": "markdown",
   "metadata": {},
   "source": [
    "#### **Find Numbers with Even Number of Digits**"
   ]
  },
  {
   "cell_type": "markdown",
   "metadata": {},
   "source": [
    "Given an array nums of integers, return how many of them contain an even number of digits."
   ]
  },
  {
   "cell_type": "code",
   "execution_count": null,
   "metadata": {},
   "outputs": [],
   "source": [
    "numbers = [12, 345, 2, 6, 7896]\n",
    "\n",
    "def find_numbers(numbers: List[int]) -> int:\n",
    "    total_even_digits = 0\n",
    "    for num in numbers:\n",
    "        if len(str(num)) % 2 == 0:\n",
    "            total_even_digits += 1\n",
    "            \n",
    "    return total_even_digits\n",
    "\n",
    "find_numbers(numbers)"
   ]
  },
  {
   "cell_type": "markdown",
   "metadata": {},
   "source": [
    "Time Complexity: O(n)  \n",
    "Space Complexity: O(1)"
   ]
  },
  {
   "cell_type": "markdown",
   "metadata": {},
   "source": [
    "- One-liner version:"
   ]
  },
  {
   "cell_type": "code",
   "execution_count": null,
   "metadata": {},
   "outputs": [],
   "source": [
    "numbers = [12, 345, 2, 6, 7896]\n",
    "\n",
    "def find_numbers(numbers: List[int]) -> int:\n",
    "    return sum([1 for num in numbers if len(str(num)) % 2 == 0])\n",
    "\n",
    "find_numbers(numbers)"
   ]
  },
  {
   "cell_type": "markdown",
   "metadata": {},
   "source": [
    "Time Complexity: O(n)  \n",
    "Space Complexity: O(1)"
   ]
  },
  {
   "cell_type": "markdown",
   "metadata": {},
   "source": [
    "#### **Squares of a Sorted Array**"
   ]
  },
  {
   "cell_type": "markdown",
   "metadata": {},
   "source": [
    "Given an array of integers A sorted in non-decreasing order, return an array of the squares of each number, also in sorted non-decreasing order."
   ]
  },
  {
   "cell_type": "markdown",
   "metadata": {},
   "source": [
    "- Approach 1: Sort"
   ]
  },
  {
   "cell_type": "code",
   "execution_count": null,
   "metadata": {},
   "outputs": [],
   "source": [
    "numbers = [-4, -1, 0, 3, 10]\n",
    "\n",
    "def sorted_squares(numbers):\n",
    "    return sorted([num ** 2 for num in numbers])\n",
    "\n",
    "sorted_squares(numbers)"
   ]
  },
  {
   "cell_type": "markdown",
   "metadata": {},
   "source": [
    "Time Complexity: O(n log n)  \n",
    "Space Complexity: O(n)"
   ]
  },
  {
   "cell_type": "markdown",
   "metadata": {},
   "source": [
    "- Approach 2: Two Pointer"
   ]
  },
  {
   "cell_type": "code",
   "execution_count": null,
   "metadata": {},
   "outputs": [],
   "source": [
    "numbers = [-4, -1, 0, 3, 10]\n",
    "\n",
    "def sorted_squares(numbers):\n",
    "    # Detect negative and positive subarray\n",
    "    j = 0\n",
    "    while j < len(numbers) and numbers[j] < 0:\n",
    "        j += 1\n",
    "\n",
    "    i = j - 1\n",
    "    \n",
    "    result = []\n",
    "    while i >= 0 and j < len(numbers):\n",
    "        if (numbers[i] ** 2) < (numbers[j] ** 2):\n",
    "            result.append(numbers[i] ** 2)\n",
    "            i -= 1\n",
    "        else:\n",
    "            result.append(numbers[j] ** 2)\n",
    "            j += 1\n",
    "            \n",
    "    while i >= 0:\n",
    "        result.append(numbers[i] ** 2)\n",
    "        i -= 1\n",
    "        \n",
    "    while j < len(numbers):\n",
    "        result.append(numbers[j] ** 2)\n",
    "        j += 1\n",
    "    \n",
    "    return result\n",
    "    \n",
    "sorted_squares(numbers)"
   ]
  },
  {
   "cell_type": "markdown",
   "metadata": {},
   "source": [
    "Time Complexity: O(n)  \n",
    "Space Complexity: O(n)"
   ]
  },
  {
   "cell_type": "markdown",
   "metadata": {},
   "source": [
    "## Inserting Items Into an Array"
   ]
  },
  {
   "cell_type": "markdown",
   "metadata": {},
   "source": [
    "#### **Duplicate Zeros**"
   ]
  },
  {
   "cell_type": "markdown",
   "metadata": {},
   "source": [
    "Given a fixed length array arr of integers, duplicate each occurrence of zero, shifting the remaining elements to the right.\n",
    "\n",
    "Note that elements beyond the length of the original array are not written.\n",
    "\n",
    "Do the above modifications to the input array in place, do not return anything from your function."
   ]
  },
  {
   "cell_type": "code",
   "execution_count": null,
   "metadata": {},
   "outputs": [],
   "source": [
    "numbers = [1, 0, 2, 3, 0, 4, 5, 0]\n",
    "\n",
    "def duplicate_zeros(numbers: List[int]) -> None:\n",
    "    num_dups = 0\n",
    "    last_index = len(numbers)\n",
    "    i = 0\n",
    "    while i < last_index:\n",
    "        if numbers[i] == 0:\n",
    "            num_dups += 1\n",
    "            last_index -= 1\n",
    "        i += 1\n",
    "            \n",
    "    i = len(numbers) - 1\n",
    "    while num_dups:\n",
    "        numbers[i] = numbers[i - num_dups]\n",
    "        if numbers[i] == 0:\n",
    "            numbers[i - 1] = 0\n",
    "            i -= 2\n",
    "            num_dups -= 1\n",
    "        else:\n",
    "            i -= 1\n",
    "            \n",
    "duplicate_zeros(numbers)\n",
    "print(numbers)"
   ]
  },
  {
   "cell_type": "markdown",
   "metadata": {},
   "source": [
    "Time Complexity: O(n)  \n",
    "Space Complexity: O(1)"
   ]
  },
  {
   "cell_type": "markdown",
   "metadata": {},
   "source": [
    "#### **Merge Sorted Array**"
   ]
  },
  {
   "cell_type": "markdown",
   "metadata": {},
   "source": [
    "Given two sorted integer arrays nums1 and nums2, merge nums2 into nums1 as one sorted array."
   ]
  },
  {
   "cell_type": "markdown",
   "metadata": {},
   "source": [
    "- Approach 1: Merge and sort"
   ]
  },
  {
   "cell_type": "code",
   "execution_count": null,
   "metadata": {},
   "outputs": [],
   "source": [
    "nums1 = [1, 2, 3, 0, 0, 0]\n",
    "nums2 = [2, 5, 6]\n",
    "m = 3 # Initialized element in numbers1\n",
    "n = 3 # Initialized elements in numbers2\n",
    "\n",
    "def merge(nums1: List[int], nums2: List[int], m: int, n: int) -> None:\n",
    "    nums1[:] = sorted(nums1[:m] + nums2)\n",
    "\n",
    "merge(nums1, nums2, m, n)\n",
    "print(nums1)"
   ]
  },
  {
   "cell_type": "markdown",
   "metadata": {},
   "source": [
    "Time Complexity: O((m + n) log(m + n))  \n",
    "Space Complexity: O(1)"
   ]
  },
  {
   "cell_type": "markdown",
   "metadata": {},
   "source": [
    "- Approach 2 : Two pointers starting from the beginning"
   ]
  },
  {
   "cell_type": "code",
   "execution_count": null,
   "metadata": {},
   "outputs": [],
   "source": [
    "nums1 = [1, 2, 3, 0, 0, 0]\n",
    "nums2 = [2, 5, 6]\n",
    "m = 3 # Initialized element in numbers1\n",
    "n = 3 # Initialized elements in numbers2\n",
    "\n",
    "def merge(nums1: List[int], nums2: List[int], m: int, n: int) -> None:\n",
    "    nums1_copy = nums1[:]\n",
    "    nums1[:] = []\n",
    "    \n",
    "    p1, p2 = 0, 0\n",
    "    \n",
    "    while p1 < m and p2 < n:\n",
    "        if nums1_copy[p1] < nums2[p2]:\n",
    "            nums1.append(nums1_copy[p1])\n",
    "            p1 += 1\n",
    "        else:\n",
    "            nums1.append(nums2[p2])\n",
    "            p2 += 1\n",
    "            \n",
    "    # Add remaining nums2\n",
    "    while p1 < m:\n",
    "        nums1.append(nums1_copy[p1])\n",
    "        p1 += 1\n",
    "    while p2 < n:\n",
    "        nums1.append(nums2[p2])\n",
    "        p2 += 1\n",
    "    \n",
    "merge(nums1, nums2, m, n)\n",
    "print(nums1)"
   ]
  },
  {
   "cell_type": "markdown",
   "metadata": {},
   "source": [
    "Time Complexity: O(m + n)  \n",
    "Space Complexity: O(m)"
   ]
  },
  {
   "cell_type": "markdown",
   "metadata": {},
   "source": [
    "- Approach 3 : Two pointers starting from the end"
   ]
  },
  {
   "cell_type": "code",
   "execution_count": null,
   "metadata": {},
   "outputs": [],
   "source": [
    "nums1 = [1, 2, 3, 0, 0, 0]\n",
    "nums2 = [2, 5, 6]\n",
    "m = 3 # Initialized element in numbers1\n",
    "n = 3 # Initialized elements in numbers2\n",
    "\n",
    "def merge(nums1: List[int], nums2: List[int], m: int, n: int) -> None:\n",
    "    # Set pointers\n",
    "    p1 = m - 1 # Largest in nums1\n",
    "    p2 = n - 1 # Largest in nums2\n",
    "    p = m + n - 1 # Last non-initialized index\n",
    "    \n",
    "    while p1 >= 0 and p2 >= 0:\n",
    "        if nums1[p1] > nums2[p2]:\n",
    "            nums1[p] = nums1[p1]\n",
    "            p1 -= 1\n",
    "        else:\n",
    "            nums1[p] = nums2[p2]\n",
    "            p2 -= 1\n",
    "        p -= 1\n",
    "    \n",
    "    # Add remaining nums2\n",
    "    nums1[:p2 + 1] = nums2[:p2 + 1]\n",
    "            \n",
    "merge(nums1, nums2, m, n)\n",
    "print(nums1)"
   ]
  },
  {
   "cell_type": "markdown",
   "metadata": {},
   "source": [
    "Time Complexity: O(m + n)  \n",
    "Space Complexity: O(1)"
   ]
  },
  {
   "cell_type": "markdown",
   "metadata": {},
   "source": [
    "## Deleting Items From an Array"
   ]
  },
  {
   "cell_type": "markdown",
   "metadata": {},
   "source": [
    "#### **Remove Element**"
   ]
  },
  {
   "cell_type": "markdown",
   "metadata": {},
   "source": [
    "Given an array nums and a value val, remove all instances of that value in-place and return the new length.\n",
    "\n",
    "Do not allocate extra space for another array, you must do this by modifying the input array in-place with O(1) extra memory.\n",
    "\n",
    "The order of elements can be changed. It doesn't matter what you leave beyond the new length."
   ]
  },
  {
   "cell_type": "markdown",
   "metadata": {},
   "source": [
    "- Approach 1: Two Pointers - slow and fast runner"
   ]
  },
  {
   "cell_type": "code",
   "execution_count": null,
   "metadata": {},
   "outputs": [],
   "source": [
    "nums = [3, 2, 2, 3]\n",
    "val = 3\n",
    "\n",
    "def remove_element(nums: List[int], val: int) -> int:\n",
    "    i = 0\n",
    "    \n",
    "    for j in range(len(nums)):\n",
    "        if nums[j] != val:\n",
    "            nums[i] = nums[j]\n",
    "            i += 1\n",
    "        \n",
    "    return i\n",
    "\n",
    "new_length = remove_element(nums, val)\n",
    "\n",
    "# Print array up to new length\n",
    "new_nums = []\n",
    "for i in range(new_length):\n",
    "    new_nums.append(nums[i])\n",
    "print(new_nums)"
   ]
  },
  {
   "cell_type": "markdown",
   "metadata": {},
   "source": [
    "Time Complexity: O(n)  \n",
    "Space Complexity: O(1)"
   ]
  },
  {
   "cell_type": "markdown",
   "metadata": {},
   "source": [
    "- Approach 2: Two Pointers - when elements to remove are rare"
   ]
  },
  {
   "cell_type": "code",
   "execution_count": null,
   "metadata": {},
   "outputs": [],
   "source": [
    "nums = [3, 2, 2, 3]\n",
    "val = 3\n",
    "\n",
    "def remove_element(nums: List[int], val: int) -> int:\n",
    "    length = len(nums)\n",
    "    i = 0\n",
    "    while i < length:\n",
    "        if nums[i] == val:\n",
    "            nums[i] = nums[length - 1]\n",
    "            length -= 1\n",
    "        else:\n",
    "            i += 1\n",
    "\n",
    "    return length\n",
    "\n",
    "new_length = remove_element(nums, val)\n",
    "\n",
    "# Print array up to new length\n",
    "new_nums = []\n",
    "for i in range(new_length):\n",
    "    new_nums.append(nums[i])\n",
    "print(new_nums)"
   ]
  },
  {
   "cell_type": "markdown",
   "metadata": {},
   "source": [
    "Time Complexity: O(n)  \n",
    "Space Complexity: O(1)"
   ]
  },
  {
   "cell_type": "markdown",
   "metadata": {},
   "source": [
    "#### **Remove Duplicates from Sorted Array**"
   ]
  },
  {
   "cell_type": "code",
   "execution_count": null,
   "metadata": {},
   "outputs": [],
   "source": [
    "nums = [0, 0, 1, 1, 1, 2, 2, 3, 3, 4]\n",
    "\n",
    "def remove_duplicates(nums: List[int]) -> int:\n",
    "    i = 0\n",
    "    for j in range(len(nums)):\n",
    "        if nums[j] != nums[i]:\n",
    "            i += 1\n",
    "            nums[i] = nums[j]\n",
    "    \n",
    "    return i + 1\n",
    "\n",
    "new_length = remove_duplicates(nums)\n",
    "\n",
    "# Print array up to new length\n",
    "new_nums = []\n",
    "for i in range(new_length):\n",
    "    new_nums.append(nums[i])\n",
    "print(new_nums)"
   ]
  },
  {
   "cell_type": "markdown",
   "metadata": {},
   "source": [
    "Time Complexity: O(n)  \n",
    "Space Complexity: O(1)"
   ]
  },
  {
   "cell_type": "markdown",
   "metadata": {},
   "source": [
    "## Searching for Items in an Array"
   ]
  },
  {
   "cell_type": "markdown",
   "metadata": {},
   "source": [
    "#### **Check If N and Its Double Exist**"
   ]
  },
  {
   "cell_type": "markdown",
   "metadata": {},
   "source": [
    "Given an array nums of integers, check if there exists two integers N and M such that N is the double of M ( i.e. N = 2 * M)."
   ]
  },
  {
   "cell_type": "code",
   "execution_count": null,
   "metadata": {},
   "outputs": [],
   "source": [
    "nums = [-2, 0, 10, -19, 4, 6, -8]\n",
    "\n",
    "def check_if_exist(nums: List[int]) -> bool:\n",
    "    seen = set()\n",
    "    for num in nums:\n",
    "        if num * 2 in seen:\n",
    "            return True\n",
    "        elif (num % 2 == 0) and (num // 2 in seen):\n",
    "            return True\n",
    "        seen.add(num)\n",
    "    return False\n",
    "\n",
    "check_if_exist(nums)"
   ]
  },
  {
   "cell_type": "markdown",
   "metadata": {},
   "source": [
    "Time Complexity: O(n)  \n",
    "Space Complexity: O(n)"
   ]
  },
  {
   "cell_type": "markdown",
   "metadata": {},
   "source": [
    "#### **Valid Mountain Array**"
   ]
  },
  {
   "cell_type": "markdown",
   "metadata": {},
   "source": [
    "Given an array nums of integers, return true if and only if it is a valid mountain array.  \n",
    "Recall that A is a mountain array if and only if:\n",
    "- A.length >= 3\n",
    "- There exists some i with 0 < i < A.length - 1 such that:  \n",
    "    A[0] < A[1] < ... A[i-1] < A[i]  \n",
    "    A[i] > A[i+1] > ... > A[A.length - 1]"
   ]
  },
  {
   "cell_type": "code",
   "execution_count": null,
   "metadata": {},
   "outputs": [],
   "source": [
    "nums = [0, 3, 2, 1]\n",
    "\n",
    "def valid_mountain_array(nums: List[int]) -> bool:\n",
    "    n = len(nums)\n",
    "    i = 0\n",
    "    \n",
    "    # Ascending\n",
    "    while i + 1 < n and nums[i + 1] > nums[i]:\n",
    "        i += 1\n",
    "        \n",
    "    # Peak\n",
    "    if i == 0 or i == n - 1:\n",
    "        return False\n",
    "    \n",
    "    # Descending\n",
    "    while i + 1 < n and nums[i + 1] < nums[i]:\n",
    "        i += 1\n",
    "        \n",
    "    return i == n - 1\n",
    "        \n",
    "valid_mountain_array(nums)"
   ]
  },
  {
   "cell_type": "markdown",
   "metadata": {},
   "source": [
    "Time Complexity: O(n)  \n",
    "Space Complexity: O(1)"
   ]
  },
  {
   "cell_type": "markdown",
   "metadata": {},
   "source": [
    "## In-Place Operations"
   ]
  },
  {
   "cell_type": "markdown",
   "metadata": {},
   "source": [
    "#### **Replace Elements with Greatest Element on Right Side**"
   ]
  },
  {
   "cell_type": "markdown",
   "metadata": {},
   "source": [
    "Given an array nums, replace every element in that array with the greatest element among the elements to its right, and replace the last element with -1."
   ]
  },
  {
   "cell_type": "code",
   "execution_count": null,
   "metadata": {},
   "outputs": [],
   "source": [
    "nums = [17, 18, 5, 4, 6, 1]\n",
    "\n",
    "def replace_elements(nums: List[int]) -> List[int]:\n",
    "    max_right = -1\n",
    "    for i in range(len(nums) -1, -1, -1):\n",
    "        tmp = max(nums[i], max_right)\n",
    "        nums[i] = max_right\n",
    "        max_right = tmp\n",
    "    \n",
    "    return nums\n",
    "\n",
    "replace_elements(nums)"
   ]
  },
  {
   "cell_type": "markdown",
   "metadata": {},
   "source": [
    "Time Complexity: O(n)  \n",
    "Space Complexity: O(1)"
   ]
  },
  {
   "cell_type": "markdown",
   "metadata": {},
   "source": [
    "#### **Remove Duplicates from Sorted Array**"
   ]
  },
  {
   "cell_type": "markdown",
   "metadata": {},
   "source": [
    "Given a sorted array nums, remove the duplicates in-place such that each element appear only once and return the new length.\n",
    "\n",
    "Do not allocate extra space for another array, you must do this by modifying the input array in-place with O(1) extra memory."
   ]
  },
  {
   "cell_type": "markdown",
   "metadata": {},
   "source": [
    "- Approach 1: Two pointers (same as solved before)"
   ]
  },
  {
   "cell_type": "code",
   "execution_count": null,
   "metadata": {},
   "outputs": [],
   "source": [
    "nums = [0, 0, 1, 1, 1, 2, 2, 3, 3, 4]\n",
    "\n",
    "def remove_duplicates(nums: List[int]) -> int:\n",
    "    i = 0\n",
    "    for j in range(len(nums)):\n",
    "        if nums[j] != nums[i]:\n",
    "            i += 1\n",
    "            nums[i] = nums[j]\n",
    "            \n",
    "    return i + 1\n",
    "\n",
    "remove_duplicates(nums)"
   ]
  },
  {
   "cell_type": "markdown",
   "metadata": {},
   "source": [
    "Time Complexity: O(n)  \n",
    "Space Complexity: O(1)"
   ]
  },
  {
   "cell_type": "markdown",
   "metadata": {},
   "source": [
    "- Approach 2: Actually deleting elements"
   ]
  },
  {
   "cell_type": "code",
   "execution_count": null,
   "metadata": {},
   "outputs": [],
   "source": [
    "nums = [0, 0, 1, 1, 1, 2, 2, 3, 3, 4]\n",
    "\n",
    "def remove_duplicates(nums: List[int]) -> int:\n",
    "    i = 0\n",
    "    while i < len(nums) - 1:\n",
    "        if nums[i] == nums[i + 1]:\n",
    "            del nums[i]\n",
    "        else:\n",
    "            i += 1\n",
    "    return i + 1\n",
    "\n",
    "remove_duplicates(nums)"
   ]
  },
  {
   "cell_type": "markdown",
   "metadata": {},
   "source": [
    "Time Complexity: O(n)  \n",
    "Space Complexity: O(1)"
   ]
  },
  {
   "cell_type": "markdown",
   "metadata": {},
   "source": [
    "#### **Move Zeroes**"
   ]
  },
  {
   "cell_type": "markdown",
   "metadata": {},
   "source": [
    "Given an array nums, write a function to move all 0's to the end of it while maintaining the relative order of the non-zero elements."
   ]
  },
  {
   "cell_type": "code",
   "execution_count": null,
   "metadata": {},
   "outputs": [],
   "source": [
    "nums = [0, 1, 0, 3, 12]\n",
    "\n",
    "def move_zeros(nums: List[int]) -> None:\n",
    "    i = 0\n",
    "    for j in range(len(nums)):\n",
    "        if nums[j] != 0:\n",
    "            nums[i] = nums[j]\n",
    "            i += 1\n",
    "\n",
    "    # Fill rest with 0s\n",
    "    for i in range(i, len(nums)):\n",
    "        nums[i] = 0\n",
    "\n",
    "move_zeros(nums)\n",
    "print(nums)"
   ]
  },
  {
   "cell_type": "markdown",
   "metadata": {},
   "source": [
    "Time Complexity: O(n)  \n",
    "Space Complexity: O(1)"
   ]
  }
 ],
 "metadata": {
  "kernelspec": {
   "display_name": "Python 3.7.4 64-bit",
   "language": "python",
   "name": "python37464bit6fc5c9ee3ddc4409a96e8a8d945e3dcc"
  },
  "language_info": {
   "codemirror_mode": {
    "name": "ipython",
    "version": 3
   },
   "file_extension": ".py",
   "mimetype": "text/x-python",
   "name": "python",
   "nbconvert_exporter": "python",
   "pygments_lexer": "ipython3",
   "version": "3.7.4"
  }
 },
 "nbformat": 4,
 "nbformat_minor": 4
}
