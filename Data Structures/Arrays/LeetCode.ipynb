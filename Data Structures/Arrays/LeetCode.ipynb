{
 "cells": [
  {
   "cell_type": "code",
   "execution_count": null,
   "metadata": {},
   "outputs": [],
   "source": [
    "from typing import List"
   ]
  },
  {
   "cell_type": "markdown",
   "metadata": {},
   "source": [
    "# Arrays"
   ]
  },
  {
   "cell_type": "markdown",
   "metadata": {},
   "source": [
    "## Introduction"
   ]
  },
  {
   "cell_type": "markdown",
   "metadata": {},
   "source": [
    "#### **Max Consecutive Ones**"
   ]
  },
  {
   "cell_type": "markdown",
   "metadata": {},
   "source": [
    "Given a binary array, find the maximum number of consecutive 1s in this array."
   ]
  },
  {
   "cell_type": "code",
   "execution_count": null,
   "metadata": {},
   "outputs": [],
   "source": [
    "numbers = [1, 1, 0, 1, 1, 1]\n",
    "\n",
    "def find_max_consecutive_ones(numbers: List[int]) -> int:\n",
    "    max_so_far = 0\n",
    "    max_total = 0\n",
    "    \n",
    "    for num in numbers:\n",
    "        if num == 1:\n",
    "            max_so_far += 1\n",
    "        else:\n",
    "            max_total = max(max_so_far, max_total)\n",
    "            max_so_far = 0\n",
    "            \n",
    "    return max(max_so_far, max_total)\n",
    "\n",
    "find_max_consecutive_ones(array)"
   ]
  },
  {
   "cell_type": "markdown",
   "metadata": {},
   "source": [
    "Time Complexity: O(n)  \n",
    "Space Complexity: O(1)"
   ]
  },
  {
   "cell_type": "markdown",
   "metadata": {},
   "source": [
    "#### **Find Numbers with Even Number of Digits**"
   ]
  },
  {
   "cell_type": "markdown",
   "metadata": {},
   "source": [
    "Given an array nums of integers, return how many of them contain an even number of digits."
   ]
  },
  {
   "cell_type": "code",
   "execution_count": null,
   "metadata": {},
   "outputs": [],
   "source": [
    "numbers = [12, 345, 2, 6, 7896]\n",
    "\n",
    "def find_numbers(numbers: List[int]) -> int:\n",
    "    total_even_digits = 0\n",
    "    for num in numbers:\n",
    "        if len(str(num)) % 2 == 0:\n",
    "            total_even_digits += 1\n",
    "            \n",
    "    return total_even_digits\n",
    "\n",
    "find_numbers(numbers)"
   ]
  },
  {
   "cell_type": "markdown",
   "metadata": {},
   "source": [
    "Time Complexity: O(n)  \n",
    "Space Complexity: O(1)"
   ]
  },
  {
   "cell_type": "markdown",
   "metadata": {},
   "source": [
    "One liner version:"
   ]
  },
  {
   "cell_type": "code",
   "execution_count": null,
   "metadata": {},
   "outputs": [],
   "source": [
    "numbers = [12, 345, 2, 6, 7896]\n",
    "\n",
    "def find_numbers(numbers: List[int]) -> int:\n",
    "    return sum([1 for num in numbers if len(str(num)) % 2 == 0])\n",
    "\n",
    "find_numbers(numbers)"
   ]
  },
  {
   "cell_type": "markdown",
   "metadata": {},
   "source": [
    "Time Complexity: O(n)  \n",
    "Space Complexity: O(1)"
   ]
  },
  {
   "cell_type": "markdown",
   "metadata": {},
   "source": [
    "#### **Squares of a Sorted Array**"
   ]
  },
  {
   "cell_type": "markdown",
   "metadata": {},
   "source": [
    "Given an array of integers A sorted in non-decreasing order, return an array of the squares of each number, also in sorted non-decreasing order."
   ]
  },
  {
   "cell_type": "markdown",
   "metadata": {},
   "source": [
    "Approach 1: Sort"
   ]
  },
  {
   "cell_type": "code",
   "execution_count": null,
   "metadata": {},
   "outputs": [],
   "source": [
    "numbers = [-4, -1, 0, 3, 10]\n",
    "\n",
    "def sorted_squares(numbers):\n",
    "    return sorted([num ** 2 for num in numbers])\n",
    "\n",
    "sorted_squares(numbers)"
   ]
  },
  {
   "cell_type": "markdown",
   "metadata": {},
   "source": [
    "Time Complexity: O(n log n)  \n",
    "Space Complexity: O(n)"
   ]
  },
  {
   "cell_type": "markdown",
   "metadata": {},
   "source": [
    "Approach 2: Two Pointer"
   ]
  },
  {
   "cell_type": "code",
   "execution_count": null,
   "metadata": {},
   "outputs": [],
   "source": [
    "numbers = [-4, -1, 0, 3, 10]\n",
    "\n",
    "def sorted_squares(numbers):\n",
    "    # Detect negative and positive subarray\n",
    "    j = 0\n",
    "    while j < len(numbers) and numbers[j] < 0:\n",
    "        j += 1\n",
    "\n",
    "    i = j - 1\n",
    "    \n",
    "    result = []\n",
    "    while i >= 0 and j < len(numbers):\n",
    "        if (numbers[i] ** 2) < (numbers[j] ** 2):\n",
    "            result.append(numbers[i] ** 2)\n",
    "            i -= 1\n",
    "        else:\n",
    "            result.append(numbers[j] ** 2)\n",
    "            j += 1\n",
    "            \n",
    "    while i >= 0:\n",
    "        result.append(numbers[i] ** 2)\n",
    "        i -= 1\n",
    "        \n",
    "    while j < len(numbers):\n",
    "        result.append(numbers[j] ** 2)\n",
    "        j += 1\n",
    "    \n",
    "    return result\n",
    "    \n",
    "sorted_squares(numbers)"
   ]
  },
  {
   "cell_type": "markdown",
   "metadata": {},
   "source": [
    "Time Complexity: O(n)  \n",
    "Space Complexity: O(n)"
   ]
  },
  {
   "cell_type": "markdown",
   "metadata": {},
   "source": [
    "## Inserting Items Into an Array"
   ]
  },
  {
   "cell_type": "markdown",
   "metadata": {},
   "source": [
    "#### **Duplicate Zeros**"
   ]
  },
  {
   "cell_type": "code",
   "execution_count": null,
   "metadata": {},
   "outputs": [],
   "source": [
    "numbers = [1, 0, 2, 3, 0, 4, 5, 0]\n",
    "\n",
    "def duplicate_zeros(numbers: List[int]) -> None:\n",
    "    num_dups = 0\n",
    "    last_index = len(numbers)\n",
    "    i = 0\n",
    "    while i < last_index:\n",
    "        if numbers[i] == 0:\n",
    "            num_dups += 1\n",
    "            last_index -= 1\n",
    "            i += 2\n",
    "        else:\n",
    "            i += 1\n",
    "            \n",
    "    i = len(numbers) - 1\n",
    "    while num_dups:\n",
    "        numbers[i] = numbers[i - num_dups]\n",
    "        if numbers[i] == 0:\n",
    "            numbers[i - 1] = 0\n",
    "            i -= 2\n",
    "            num_dups -= 1\n",
    "        else:\n",
    "            i -= 1\n",
    "            \n",
    "duplicate_zeros(numbers)\n",
    "print(numbers)"
   ]
  },
  {
   "cell_type": "markdown",
   "metadata": {},
   "source": [
    "Time Complexity: O(n)  \n",
    "Space Complexity: O(1)"
   ]
  }
 ],
 "metadata": {
  "kernelspec": {
   "display_name": "Python 3.7.4 64-bit",
   "language": "python",
   "name": "python37464bit6fc5c9ee3ddc4409a96e8a8d945e3dcc"
  },
  "language_info": {
   "codemirror_mode": {
    "name": "ipython",
    "version": 3
   },
   "file_extension": ".py",
   "mimetype": "text/x-python",
   "name": "python",
   "nbconvert_exporter": "python",
   "pygments_lexer": "ipython3",
   "version": "3.7.4"
  }
 },
 "nbformat": 4,
 "nbformat_minor": 4
}
