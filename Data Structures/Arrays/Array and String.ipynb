{
 "cells": [
  {
   "cell_type": "code",
   "execution_count": null,
   "metadata": {},
   "outputs": [],
   "source": [
    "from typing import List"
   ]
  },
  {
   "cell_type": "markdown",
   "metadata": {},
   "source": [
    "# Array and String"
   ]
  },
  {
   "cell_type": "markdown",
   "metadata": {},
   "source": [
    "## Introduction to Array"
   ]
  },
  {
   "cell_type": "markdown",
   "metadata": {},
   "source": [
    "#### **Find Pivot Index**"
   ]
  },
  {
   "cell_type": "markdown",
   "metadata": {},
   "source": [
    "Given an array of integers nums, write a method that returns the \"pivot\" index of this array.  \n",
    "We define the pivot index as the index where the sum of all the numbers to the left of the index is equal to the sum of all the numbers to the right of the index.  \n",
    "If no such index exists, we should return -1. If there are multiple pivot indexes, you should return the left-most pivot index."
   ]
  },
  {
   "cell_type": "code",
   "execution_count": null,
   "metadata": {},
   "outputs": [],
   "source": [
    "nums = [1, 7, 3, 6, 5, 6]\n",
    "\n",
    "def pivot_index(nums: List[int]) -> int:\n",
    "    # Left sums\n",
    "    left_sums = [0]\n",
    "    for i in range(1, len(nums)):\n",
    "        left_sums.append(left_sums[-1] + nums[i - 1])\n",
    "\n",
    "    # Right sums\n",
    "    right_sums = [0]\n",
    "    for i in range(len(nums) - 2, -1, -1):\n",
    "        right_sums.insert(0, right_sums[0] + nums[i + 1])\n",
    "\n",
    "    # Find pivot\n",
    "    for i in range(len(nums)):\n",
    "        if left_sums[i] == right_sums[i]:\n",
    "            return i\n",
    "\n",
    "    return -1\n",
    "    \n",
    "pivot_index(nums)"
   ]
  },
  {
   "cell_type": "markdown",
   "metadata": {},
   "source": [
    "Time Complexity: O(n)  \n",
    "Space Complexity: O(1)"
   ]
  },
  {
   "cell_type": "markdown",
   "metadata": {},
   "source": [
    "- Shorter version:"
   ]
  },
  {
   "cell_type": "code",
   "execution_count": null,
   "metadata": {},
   "outputs": [],
   "source": [
    "nums = [1, 7, 3, 6, 5, 6]\n",
    "\n",
    "def pivot_index(nums: List[int]) -> int:\n",
    "    total_sum = sum(nums)\n",
    "    prefix_sum = 0\n",
    "\n",
    "    for i, num in enumerate(nums):\n",
    "        if prefix_sum == total_sum - prefix_sum - num:\n",
    "            return i\n",
    "        prefix_sum += num\n",
    "\n",
    "    return -1\n",
    "\n",
    "pivot_index(nums)"
   ]
  },
  {
   "cell_type": "markdown",
   "metadata": {},
   "source": [
    "Time Complexity: O(n)  \n",
    "Space Complexity: O(1)"
   ]
  }
 ],
 "metadata": {
  "kernelspec": {
   "display_name": "Python 3.7.4 64-bit",
   "language": "python",
   "name": "python37464bit6fc5c9ee3ddc4409a96e8a8d945e3dcc"
  },
  "language_info": {
   "codemirror_mode": {
    "name": "ipython",
    "version": 3
   },
   "file_extension": ".py",
   "mimetype": "text/x-python",
   "name": "python",
   "nbconvert_exporter": "python",
   "pygments_lexer": "ipython3",
   "version": "3.7.4"
  }
 },
 "nbformat": 4,
 "nbformat_minor": 4
}
