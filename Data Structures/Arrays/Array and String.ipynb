{
 "cells": [
  {
   "cell_type": "code",
   "execution_count": null,
   "metadata": {},
   "outputs": [],
   "source": [
    "from typing import List"
   ]
  },
  {
   "cell_type": "markdown",
   "metadata": {},
   "source": [
    "# Array and String"
   ]
  },
  {
   "cell_type": "markdown",
   "metadata": {},
   "source": [
    "## Introduction to Array"
   ]
  },
  {
   "cell_type": "markdown",
   "metadata": {},
   "source": [
    "#### **Find Pivot Index**"
   ]
  },
  {
   "cell_type": "markdown",
   "metadata": {},
   "source": [
    "Given an array of integers nums, write a method that returns the \"pivot\" index of this array.  \n",
    "We define the pivot index as the index where the sum of all the numbers to the left of the index is equal to the sum of all the numbers to the right of the index.  \n",
    "If no such index exists, we should return -1. If there are multiple pivot indexes, you should return the left-most pivot index."
   ]
  },
  {
   "cell_type": "code",
   "execution_count": null,
   "metadata": {},
   "outputs": [],
   "source": [
    "nums = [1, 7, 3, 6, 5, 6]\n",
    "\n",
    "def pivot_index(nums: List[int]) -> int:\n",
    "    # Left sums\n",
    "    left_sums = [0]\n",
    "    for i in range(1, len(nums)):\n",
    "        left_sums.append(left_sums[-1] + nums[i - 1])\n",
    "\n",
    "    # Right sums\n",
    "    right_sums = [0]\n",
    "    for i in range(len(nums) - 2, -1, -1):\n",
    "        right_sums.insert(0, right_sums[0] + nums[i + 1])\n",
    "\n",
    "    # Find pivot\n",
    "    for i in range(len(nums)):\n",
    "        if left_sums[i] == right_sums[i]:\n",
    "            return i\n",
    "\n",
    "    return -1\n",
    "    \n",
    "pivot_index(nums)"
   ]
  },
  {
   "cell_type": "markdown",
   "metadata": {},
   "source": [
    "Time Complexity: O(n)  \n",
    "Space Complexity: O(1)"
   ]
  },
  {
   "cell_type": "markdown",
   "metadata": {},
   "source": [
    "- Shorter version:"
   ]
  },
  {
   "cell_type": "code",
   "execution_count": null,
   "metadata": {},
   "outputs": [],
   "source": [
    "nums = [1, 7, 3, 6, 5, 6]\n",
    "\n",
    "def pivot_index(nums: List[int]) -> int:\n",
    "    total_sum = sum(nums)\n",
    "    prefix_sum = 0\n",
    "\n",
    "    for i, num in enumerate(nums):\n",
    "        if prefix_sum == total_sum - prefix_sum - num:\n",
    "            return i\n",
    "        prefix_sum += num\n",
    "\n",
    "    return -1\n",
    "\n",
    "pivot_index(nums)"
   ]
  },
  {
   "cell_type": "markdown",
   "metadata": {},
   "source": [
    "Time Complexity: O(n)  \n",
    "Space Complexity: O(1)"
   ]
  },
  {
   "cell_type": "markdown",
   "metadata": {},
   "source": [
    "#### **Largest Number At Least Twice of Others**"
   ]
  },
  {
   "cell_type": "markdown",
   "metadata": {},
   "source": [
    "In a given integer array nums, there is always exactly one largest element.  \n",
    "Find whether the largest element in the array is at least twice as much as every other number in the array.  \n",
    "If it is, return the index of the largest element, otherwise return -1."
   ]
  },
  {
   "cell_type": "code",
   "execution_count": null,
   "metadata": {},
   "outputs": [],
   "source": [
    "nums = [3, 6, 1, 0]\n",
    "nums = [1, 0]\n",
    "\n",
    "def dominant_index(nums: List[int]) -> int:\n",
    "    first = None\n",
    "    second = None\n",
    "    \n",
    "    for i, num in enumerate(nums):\n",
    "        if first == None or num > nums[first]:\n",
    "            second = first\n",
    "            first = i\n",
    "        elif second == None or num > nums[second]:\n",
    "            second = i\n",
    "    \n",
    "    if first != None:\n",
    "        if second == None or nums[first] >= nums[second] * 2:\n",
    "            return first\n",
    "    \n",
    "    return -1\n",
    "    \n",
    "dominant_index(nums)"
   ]
  },
  {
   "cell_type": "markdown",
   "metadata": {},
   "source": [
    "Time Complexity: O(n)  \n",
    "Space Complexity: O(1)"
   ]
  },
  {
   "cell_type": "markdown",
   "metadata": {},
   "source": [
    "#### **Plus One**"
   ]
  },
  {
   "cell_type": "markdown",
   "metadata": {},
   "source": [
    "Given a non-empty array of digits representing a non-negative integer, increment one to the integer.  \n",
    "The digits are stored such that the most significant digit is at the head of the list, and each element in the array contains a single digit.  \n",
    "You may assume the integer does not contain any leading zero, except the number 0 itself."
   ]
  },
  {
   "cell_type": "code",
   "execution_count": null,
   "metadata": {},
   "outputs": [],
   "source": [
    "digits = [1, 2, 3]\n",
    "\n",
    "def plus_one(digits: List[int]) -> List[int]:\n",
    "    for i in range(len(digits) - 1, -1, -1):\n",
    "        if digits[i] < 9:\n",
    "            digits[i] += 1\n",
    "            return digits \n",
    "        else:\n",
    "            digits[i] = 0\n",
    "            if i == 0:\n",
    "                return [1] + digits\n",
    "                \n",
    "plus_one(digits)"
   ]
  },
  {
   "cell_type": "markdown",
   "metadata": {},
   "source": [
    "Time Complexity: O(n)  \n",
    "Space Complexity: O(1)"
   ]
  },
  {
   "cell_type": "markdown",
   "metadata": {},
   "source": [
    "## Introduction to 2D Array"
   ]
  },
  {
   "cell_type": "markdown",
   "metadata": {},
   "source": [
    "#### **Diagonal Traverse**"
   ]
  },
  {
   "cell_type": "markdown",
   "metadata": {},
   "source": [
    "Given a matrix of M x N elements (M rows, N columns), return all elements of the matrix in diagonal order as shown in the below image."
   ]
  },
  {
   "cell_type": "code",
   "execution_count": null,
   "metadata": {},
   "outputs": [],
   "source": [
    "matrix = [\n",
    " [ 1, 2, 3 ],\n",
    " [ 4, 5, 6 ],\n",
    " [ 7, 8, 9 ]\n",
    "]\n",
    "\n",
    "def find_diagonal_order(matrix: List[List[int]]) -> List[int]:\n",
    "    d = {}\n",
    "    for i in range(len(matrix)):\n",
    "        for j in range(len(matrix[i])):\n",
    "            if i + j not in d:\n",
    "                d[i + j] = [matrix[i][j]]\n",
    "            else:\n",
    "                d[i + j].append(matrix[i][j])\n",
    "                \n",
    "    result = []\n",
    "    for diag in d.items():\n",
    "        if diag[0] % 2 == 0:\n",
    "            result.extend(diag[1][::-1])\n",
    "        else:\n",
    "            result.extend(diag[1])\n",
    "            \n",
    "    return result\n",
    "\n",
    "find_diagonal_order(matrix)"
   ]
  },
  {
   "cell_type": "markdown",
   "metadata": {},
   "source": [
    "Time Complexity: O(m + n)  \n",
    "Space Complexity: O(m + n)"
   ]
  },
  {
   "cell_type": "markdown",
   "metadata": {},
   "source": [
    "#### **Spiral Matrix**"
   ]
  },
  {
   "cell_type": "markdown",
   "metadata": {},
   "source": [
    "Given a matrix of m x n elements (m rows, n columns), return all elements of the matrix in spiral order."
   ]
  },
  {
   "cell_type": "code",
   "execution_count": null,
   "metadata": {},
   "outputs": [],
   "source": [
    "matrix = [\n",
    "    [1, 2, 3, 4],\n",
    "    [5, 6, 7, 8],\n",
    "    [9,10,11,12]\n",
    "]\n",
    "\n",
    "def spiral_order(matrix: List[List[int]]) -> List[int]:\n",
    "    if not matrix:\n",
    "        return []\n",
    "    \n",
    "    top = 0\n",
    "    bottom = len(matrix) - 1\n",
    "    left = 0\n",
    "    right = len(matrix[0]) - 1\n",
    "    \n",
    "    direction = 0\n",
    "    result = []\n",
    "    \n",
    "    while top <= bottom and left <= right:\n",
    "        if direction == 0:\n",
    "            for i in range(left, right + 1):\n",
    "                result.append(matrix[top][i])\n",
    "            top += 1\n",
    "            direction = 1\n",
    "        \n",
    "        elif direction == 1:\n",
    "            for i in range(top, bottom + 1):\n",
    "                result.append(matrix[i][right])\n",
    "            right -= 1\n",
    "            direction = 2\n",
    "        \n",
    "        elif direction == 2:\n",
    "            for i in range(right, left - 1, -1):\n",
    "                result.append(matrix[bottom][i])\n",
    "            bottom -= 1\n",
    "            direction = 3\n",
    "            \n",
    "        elif direction == 3:\n",
    "            for i in range(bottom, top - 1, -1):\n",
    "                result.append(matrix[i][left])\n",
    "            left += 1\n",
    "            direction = 0\n",
    "            \n",
    "    return result\n",
    "\n",
    "spiral_order(matrix)"
   ]
  },
  {
   "cell_type": "markdown",
   "metadata": {},
   "source": [
    "Time Complexity: O(n)  \n",
    "Space Complexity: O(n)"
   ]
  },
  {
   "cell_type": "markdown",
   "metadata": {},
   "source": [
    "#### **Pascal's Triangle**"
   ]
  },
  {
   "cell_type": "markdown",
   "metadata": {},
   "source": [
    "Given a non-negative integer num_rows, generate the first num_rows of Pascal's triangle."
   ]
  },
  {
   "cell_type": "code",
   "execution_count": null,
   "metadata": {},
   "outputs": [],
   "source": [
    "num_rows = 5\n",
    "\n",
    "def generate(num_rows: int) -> List[List[int]]:\n",
    "    triangle = []\n",
    "    for row_num in range(num_rows):\n",
    "        row = [None for _ in range(row_num + 1)]\n",
    "        row[0], row[-1] = 1, 1\n",
    "        \n",
    "        for j in range(1, len(row) - 1):\n",
    "            row[j] = triangle[row_num - 1][j - 1] + triangle[row_num - 1][j]\n",
    "            \n",
    "        triangle.append(row)\n",
    "        \n",
    "    return triangle\n",
    "\n",
    "generate(num_rows)"
   ]
  },
  {
   "cell_type": "markdown",
   "metadata": {},
   "source": [
    "Time Complexity: O(n<sup>2</sup>), where n is the number of rows  \n",
    "Space Complexity: O(n<sup>2</sup>), where n is the number of rows"
   ]
  },
  {
   "cell_type": "markdown",
   "metadata": {},
   "source": [
    "- Simpler version:"
   ]
  },
  {
   "cell_type": "code",
   "execution_count": null,
   "metadata": {},
   "outputs": [],
   "source": [
    "num_rows = 5\n",
    "\n",
    "def generate(num_rows: int) -> List[List[int]]:\n",
    "    if num_rows == 0:\n",
    "        return []\n",
    "    elif num_rows == 1:\n",
    "        return [[1]]\n",
    "\n",
    "    result = [[1]]\n",
    "\n",
    "    for i in range(1, num_rows):\n",
    "        row = [1]\n",
    "        for j in range(1, i):\n",
    "            row.append(result[i - 1][j - 1] + result[i - 1][j])\n",
    "        row.append(1)\n",
    "        result.append(row)\n",
    "\n",
    "    return result\n",
    "\n",
    "generate(num_rows)"
   ]
  },
  {
   "cell_type": "markdown",
   "metadata": {},
   "source": [
    "Time Complexity: O(n<sup>2</sup>), where n is the number of rows  \n",
    "Space Complexity: O(n<sup>2</sup>), where n is the number of rows"
   ]
  },
  {
   "cell_type": "markdown",
   "metadata": {},
   "source": [
    "## Introduction to String"
   ]
  },
  {
   "cell_type": "markdown",
   "metadata": {},
   "source": [
    "#### **Add Binary**"
   ]
  },
  {
   "cell_type": "markdown",
   "metadata": {},
   "source": [
    "Given two binary strings, return their sum (also a binary string).  \n",
    "The input strings are both non-empty and contain only characters 1 or 0."
   ]
  },
  {
   "cell_type": "markdown",
   "metadata": {},
   "source": [
    "- Approach 1: Bit-by-Bit Computation"
   ]
  },
  {
   "cell_type": "code",
   "execution_count": null,
   "metadata": {},
   "outputs": [],
   "source": [
    "a = '1010'\n",
    "b = '1011'\n",
    "\n",
    "def add_binary(a: str, b: str) -> str:\n",
    "    n = max(len(a), len(b))\n",
    "    a, b = a.zfill(n), b.zfill(n)\n",
    "\n",
    "    carry = 0\n",
    "    result = []\n",
    "    for i in range(n - 1, -1, -1):\n",
    "        carry += int(a[i]) + int(b[i])\n",
    "        result.append(str(carry % 2))\n",
    "        carry //= 2\n",
    "\n",
    "    if carry:\n",
    "        result.append('1')\n",
    "\n",
    "    result.reverse()\n",
    "\n",
    "    return ''.join(result)\n",
    "    \n",
    "    \n",
    "add_binary(a, b)"
   ]
  },
  {
   "cell_type": "markdown",
   "metadata": {},
   "source": [
    "Time Complexity: O(max(m, n)), where m and n are the lengths of the two inputs  \n",
    "Space Complexity: O(max(m, n)), where m and n are the lengths of the two inputs "
   ]
  },
  {
   "cell_type": "markdown",
   "metadata": {},
   "source": [
    "- Approach 2: Bit Manipulation"
   ]
  },
  {
   "cell_type": "code",
   "execution_count": null,
   "metadata": {},
   "outputs": [],
   "source": [
    "a = '1010'\n",
    "b = '1011'\n",
    "\n",
    "def add_binary(a: str, b: str) -> str:\n",
    "    x, y = int(a, 2), int(b, 2)\n",
    "    while y:\n",
    "        result = x ^ y\n",
    "        carry = (x & y) << 1\n",
    "        x, y = result, carry\n",
    "    return bin(x)[2:]\n",
    " \n",
    "add_binary(a, b)"
   ]
  },
  {
   "cell_type": "markdown",
   "metadata": {},
   "source": [
    "Time Complexity: O(max(m, n)), where m and n are the lengths of the two inputs  \n",
    "Space Complexity: O(max(m, n)), where m and n are the lengths of the two inputs "
   ]
  },
  {
   "cell_type": "markdown",
   "metadata": {},
   "source": [
    "#### **Implement strStr()**"
   ]
  },
  {
   "cell_type": "markdown",
   "metadata": {},
   "source": [
    "Return the index of the first occurrence of needle in haystack, or -1 if needle is not part of haystack."
   ]
  },
  {
   "cell_type": "markdown",
   "metadata": {},
   "source": [
    "- Approach 1: Substring: Linear Time Slice"
   ]
  },
  {
   "cell_type": "code",
   "execution_count": null,
   "metadata": {},
   "outputs": [],
   "source": [
    "haystack = \"hello\"\n",
    "needle = \"ll\"\n",
    "\n",
    "def str_str(haystack: str, needle: str) -> int:\n",
    "    m = len(haystack)\n",
    "    n = len(needle)\n",
    "    \n",
    "    for i in range(m - n + 1):\n",
    "        if haystack[i: i + n] == needle:\n",
    "            return i\n",
    "        \n",
    "    return -1\n",
    "\n",
    "str_str(haystack, needle)"
   ]
  },
  {
   "cell_type": "markdown",
   "metadata": {},
   "source": [
    "Time complexity: O((m - n)n), where m is the length of haystack and n is the length of needle  \n",
    "Space complexity: O(1)"
   ]
  },
  {
   "cell_type": "markdown",
   "metadata": {},
   "source": [
    "- Approach 2: Two Pointers: Linear Time Slice"
   ]
  },
  {
   "cell_type": "code",
   "execution_count": null,
   "metadata": {},
   "outputs": [],
   "source": [
    "haystack = \"hello\"\n",
    "needle = \"ll\"\n",
    "\n",
    "def str_str(haystack: str, needle: str) -> int:\n",
    "    m = len(haystack)\n",
    "    n = len(needle)\n",
    "    \n",
    "    if not n:\n",
    "        return 0\n",
    "    \n",
    "    i = 0\n",
    "    while i < m - n + 1:\n",
    "        if haystack[i] == needle[0]:\n",
    "            j = 0\n",
    "            while j < n and haystack[i + j] == needle[j]:\n",
    "                j += 1\n",
    "            if j == n:\n",
    "                return i\n",
    "        i += 1\n",
    "\n",
    "    return -1\n",
    "\n",
    "str_str(haystack, needle)"
   ]
  },
  {
   "cell_type": "markdown",
   "metadata": {},
   "source": [
    "Time complexity: O((N−L)L) in the worst case of numerous almost complete false matches, O(N) in the best case of one single match\n",
    "\n",
    "Space complexity: O(1)"
   ]
  },
  {
   "cell_type": "markdown",
   "metadata": {},
   "source": [
    "- Approach 3: Rabin Karp: Constant Time Slice"
   ]
  },
  {
   "cell_type": "code",
   "execution_count": null,
   "metadata": {},
   "outputs": [],
   "source": [
    "haystack = \"hello\"\n",
    "needle = \"ll\"\n",
    "\n",
    "def str_str(haystack: str, needle: str) -> int:\n",
    "    m, n = len(haystack), len(needle)\n",
    "    if n > m:\n",
    "        return -1\n",
    "    \n",
    "    # Base value for rolling hash\n",
    "    a = 26\n",
    "    modulus = 2**31\n",
    "\n",
    "    # Convert chars to int\n",
    "    h_to_int = lambda i : ord(haystack[i]) - ord('a')\n",
    "    needle_to_int = lambda i : ord(needle[i]) - ord('a')\n",
    "\n",
    "    # Hash of strings haystack[:n] and needle[:n]\n",
    "    h = ref_h = 0\n",
    "    for i in range(n):\n",
    "        h = (h * a + h_to_int(i)) % modulus\n",
    "        ref_h = (ref_h * a + needle_to_int(i)) % modulus\n",
    "\n",
    "    if h == ref_h:\n",
    "        return 0\n",
    "\n",
    "    aN = pow(a, n, modulus)\n",
    "    for start in range(1, m - n + 1):\n",
    "        # Compute rolling hash\n",
    "        h = (h * a - h_to_int(start - 1) * aN + h_to_int(start + n - 1)) % modulus\n",
    "        if h == ref_h:\n",
    "            return start\n",
    "\n",
    "    return -1\n",
    "\n",
    "str_str(haystack, needle)"
   ]
  },
  {
   "cell_type": "markdown",
   "metadata": {},
   "source": [
    "Time complexity: O(N), one computes the reference hash of the needle string in O(L) time, and then runs a loop of (N - L) steps with constant time operations in it  \n",
    "Space complexity: O(1)"
   ]
  },
  {
   "cell_type": "markdown",
   "metadata": {},
   "source": [
    "#### **Longest Common Prefix**"
   ]
  },
  {
   "cell_type": "markdown",
   "metadata": {},
   "source": [
    "Write a function to find the longest common prefix string amongst an array of strings.\n",
    "\n",
    "If there is no common prefix, return an empty string \"\"."
   ]
  },
  {
   "cell_type": "markdown",
   "metadata": {},
   "source": [
    "- Approach 1: Horizontal scan"
   ]
  },
  {
   "cell_type": "code",
   "execution_count": null,
   "metadata": {},
   "outputs": [],
   "source": [
    "strings = [\"flower\", \"flow\", \"flight\"]\n",
    "strings = [\"b\", \"a\", \"c\"]\n",
    "\n",
    "def longest_common_prefix(strings: List[str]) -> str:\n",
    "    if not strs:\n",
    "        return ''\n",
    "        \n",
    "    prefix = strs[0]\n",
    "    for i in range(1, len(strs)):\n",
    "        while strs[i].find(prefix) != 0:\n",
    "            prefix = prefix[:-1]\n",
    "            if not prefix:\n",
    "                return ''\n",
    "    return prefix\n",
    "\n",
    "longest_common_prefix(strings)"
   ]
  },
  {
   "cell_type": "markdown",
   "metadata": {},
   "source": [
    "Time complexity: O(S), where S is the sum of all characters in all strings  \n",
    "Space complexity: O(1)"
   ]
  }
 ],
 "metadata": {
  "kernelspec": {
   "display_name": "Python 3.7.4 64-bit",
   "language": "python",
   "name": "python37464bit6fc5c9ee3ddc4409a96e8a8d945e3dcc"
  },
  "language_info": {
   "codemirror_mode": {
    "name": "ipython",
    "version": 3
   },
   "file_extension": ".py",
   "mimetype": "text/x-python",
   "name": "python",
   "nbconvert_exporter": "python",
   "pygments_lexer": "ipython3",
   "version": "3.7.4"
  }
 },
 "nbformat": 4,
 "nbformat_minor": 4
}
