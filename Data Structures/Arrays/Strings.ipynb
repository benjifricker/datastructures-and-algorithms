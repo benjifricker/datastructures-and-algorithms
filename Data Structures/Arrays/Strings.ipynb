{
 "cells": [
  {
   "cell_type": "code",
   "execution_count": null,
   "metadata": {},
   "outputs": [],
   "source": [
    "from typing import List"
   ]
  },
  {
   "cell_type": "markdown",
   "metadata": {},
   "source": [
    "# Strings"
   ]
  },
  {
   "cell_type": "markdown",
   "metadata": {},
   "source": [
    "#### **Interconvert Strings and Integers**"
   ]
  },
  {
   "cell_type": "markdown",
   "metadata": {},
   "source": [
    "Implement an integer to string conversion function, and a string to integer conversion function. For example, if the input to the first function is the integer 314, it should return the string \"314\" and if the input to the second function is the string \"314\" it should return the integer 314."
   ]
  },
  {
   "cell_type": "code",
   "execution_count": null,
   "metadata": {},
   "outputs": [],
   "source": [
    "def int_to_string(i: int):\n",
    "    result = []\n",
    "    # If int is below 0 make it positive for easier manipulation \n",
    "    # and append '-' to result\n",
    "    if i < 0:\n",
    "        result.append('-')\n",
    "        i *= -1\n",
    "    while i > 0:\n",
    "        result.append(str(i % 10))\n",
    "        i //= 10\n",
    "        \n",
    "    return ''.join(result)\n",
    "\n",
    "int_to_string(-314)"
   ]
  },
  {
   "cell_type": "code",
   "execution_count": null,
   "metadata": {},
   "outputs": [],
   "source": [
    "def string_to_int(s: str):\n",
    "    result = 0\n",
    "    n = len(s)\n",
    "    for i in range(n - 1, -1, -1):\n",
    "        if s[i] == '-':\n",
    "            result *= -1\n",
    "        else:\n",
    "            # Add the integer at index i multiplied by a power of\n",
    "            # ten based on it's position\n",
    "            result += int(s[i]) * (10 ** (n - 1 - i))\n",
    "            \n",
    "    return result\n",
    "\n",
    "string_to_int('-314')"
   ]
  },
  {
   "cell_type": "markdown",
   "metadata": {},
   "source": [
    "#### **Base Conversion**"
   ]
  },
  {
   "cell_type": "markdown",
   "metadata": {},
   "source": [
    "Write a program that performs base conversion. The input is a string, an integer b1, and another integer b2. The string represents an integer in base b1. The output should be the string representing the integer in base b2. Assume 2 ≤ b1,b2 ≤ 16. Use \"A\" to represent 10, \"B\" for 11,..., and \"F\" for 15. (For example, if the string is \"615\", b1 is 7 and b2 is 13, then the result should be \"1A7\", since 6 * 7<sup>2</sup> + 1 * 7 + 5 = 1 * 13<sup>2</sup> + 10 * 13 + 7.)"
   ]
  },
  {
   "cell_type": "code",
   "execution_count": null,
   "metadata": {},
   "outputs": [],
   "source": [
    "import string\n",
    "from functools import reduce\n",
    "\n",
    "num = '123'\n",
    "b1 = 10\n",
    "b2 = 2\n",
    "\n",
    "def convert_base(num_as_string: str, b1: int, b2: int) -> str:\n",
    "    def construct_from_base(num_as_int, base):\n",
    "        return ('' if num_as_int == 0 else\n",
    "                construct_from_base(num_as_int // base, base) +\n",
    "                string.hexdigits[num_as_int % base].upper())\n",
    "    \n",
    "    is_negative = num_as_string[0] == '-'\n",
    "    num_as_int = reduce(\n",
    "        lambda x, c: x * b1 + string.hexdigits.index(c.lower()),\n",
    "        num_as_string[is_negative:], 0)\n",
    "    \n",
    "    return ('-' if is_negative else '') + ('0' if num_as_int == 0 else\n",
    "                                           construct_from_base(num_as_int, b2))\n",
    "\n",
    "convert_base(num, b1, b2)"
   ]
  },
  {
   "cell_type": "markdown",
   "metadata": {},
   "source": [
    "#### **Compute the Spreadsheet Column Encoding**"
   ]
  },
  {
   "cell_type": "markdown",
   "metadata": {},
   "source": [
    "Spreadsheets often use an alpabetical encoding of the successive columns. Specifically, columns are identified by \"A\",\"B\",\"C\",...,\"X\",\"Y\",\"Z\",\"AA\",\"AB\",...,\"ZZ\",\"AAA\",\"AAB\",....\n",
    "Implement a function that converts a spreadsheet column id to the corresponding integer, with \"A\" corresponding to 1. For example, you should return 4 for \"D\", 27 for \"AA\", 702 for \"ZZ\",etc. How yould you test your code?"
   ]
  },
  {
   "cell_type": "code",
   "execution_count": null,
   "metadata": {},
   "outputs": [],
   "source": [
    "column = 'ZZ'\n",
    "\n",
    "def ss_decode_col_id(col):\n",
    "    result = 0\n",
    "    for i in range(len(col) - 1, -1, -1):\n",
    "        # Get ASCII of letter and calibrate so 'A' starts at 1\n",
    "        letter_num = ord(col[i]) - 64\n",
    "        # Add letter's number multiplied by corresponding position in \n",
    "        # string to result\n",
    "        result += letter_num * (26 ** (len(col) - 1 - i))\n",
    "        \n",
    "    return result\n",
    "\n",
    "ss_decode_col_id(column)"
   ]
  },
  {
   "cell_type": "markdown",
   "metadata": {},
   "source": [
    "Time complexity: O(n)"
   ]
  },
  {
   "cell_type": "markdown",
   "metadata": {},
   "source": [
    "- Shorter version with reduce():"
   ]
  },
  {
   "cell_type": "code",
   "execution_count": null,
   "metadata": {},
   "outputs": [],
   "source": [
    "import functools\n",
    "\n",
    "column = 'ZZ'\n",
    "\n",
    "def ss_decode_col_id(col: str) -> int:\n",
    "    return functools.reduce(\n",
    "        lambda result, c: result * 26 + ord(c) - ord('A') + 1, col, 0)\n",
    "\n",
    "ss_decode_col_id(column)"
   ]
  },
  {
   "cell_type": "markdown",
   "metadata": {},
   "source": [
    "Time complexity: O(n)  \n",
    "Space complexity: O(1)"
   ]
  },
  {
   "cell_type": "markdown",
   "metadata": {},
   "source": [
    "#### **Replace and Remove**"
   ]
  },
  {
   "cell_type": "markdown",
   "metadata": {},
   "source": [
    "Write a program which takes as input an array of characters, and removes each 'b' and replaces each 'a' by two 'd's. Specifically, along with the array, you are provided an integer-valued size. Size denotes the number of entries of the array that the operation is to be applied to. You do not have to worry about preserving subsequent entries. For example, if the array is <a,b,a,c,> and the size is 4, then you can return <d,d,d,d,c>. You can assume there is enough space in teh array to hold the final result."
   ]
  },
  {
   "cell_type": "code",
   "execution_count": null,
   "metadata": {},
   "outputs": [],
   "source": [
    "size = 0\n",
    "string = ['a','b','b','a','c']\n",
    "\n",
    "def replace_and_remove(size: int, s: str) -> int:\n",
    "    n = len(s)\n",
    "    \n",
    "    # Forward iteration: Remove 'b's and count 'a's\n",
    "    num_a = 0\n",
    "    i = 0\n",
    "    for j in range(n):\n",
    "        if s[j] != 'b':\n",
    "            s[i] = s[j]\n",
    "            i += 1\n",
    "        if s[j] == 'a':\n",
    "            num_a += 1\n",
    "    \n",
    "    # Backward iteration:\n",
    "    # Last valid index after removing 'b's\n",
    "    cur_idx = i - 1\n",
    "    # Last index if 'a's are replaced with 'dd'\n",
    "    i += num_a - 1\n",
    "    final_size = i + 1\n",
    "    while cur_idx >= 0:\n",
    "        if s[cur_idx] == 'a':\n",
    "            s[i - 1:i + 1] = 'dd'\n",
    "            i -= 2\n",
    "        else:\n",
    "            s[i] = s[cur_idx]\n",
    "            i -= 1\n",
    "        cur_idx -= 1\n",
    "    return final_size\n",
    "\n",
    "final_size = replace_and_remove(size, string)\n",
    "print(string[:final_size])"
   ]
  },
  {
   "cell_type": "markdown",
   "metadata": {},
   "source": [
    "Time complexity: O(n)  \n",
    "Space complexity: O(1)"
   ]
  },
  {
   "cell_type": "markdown",
   "metadata": {},
   "source": [
    "#### **Test Palindromicity**"
   ]
  },
  {
   "cell_type": "markdown",
   "metadata": {},
   "source": [
    "For the purpose of this problem, define a palindromic string to be a string which when all the nonalphanumeric are removed it reads the same front to back ignoring case. Implement a function which takes as input a string s and retums true if s is a palindromic string."
   ]
  },
  {
   "cell_type": "code",
   "execution_count": null,
   "metadata": {},
   "outputs": [],
   "source": [
    "import string\n",
    "\n",
    "s = 'Able was I, ere I saw Elba!'\n",
    "\n",
    "def is_palindrome(s: str) -> bool:\n",
    "    left = 0\n",
    "    right = len(s) - 1\n",
    "    \n",
    "    while left < right:\n",
    "        # Skip all non-alpanumeric characters with left pointer\n",
    "        while not s[left].isalnum() and left < right:\n",
    "            left += 1\n",
    "        # Skip all non-alpanumeric characters with right pointer  \n",
    "        while not s[right].isalnum() and right > left:\n",
    "            right -= 1\n",
    "        # String is not palindrome if corresponding characters don't match\n",
    "        if s[left].lower() != s[right].lower():\n",
    "            return False\n",
    "        left += 1\n",
    "        right -= 1\n",
    "    \n",
    "    return True\n",
    "\n",
    "is_palindrome(s)"
   ]
  },
  {
   "cell_type": "markdown",
   "metadata": {},
   "source": [
    "Time complexity: O(n)  \n",
    "Space complexity: O(1)"
   ]
  },
  {
   "cell_type": "markdown",
   "metadata": {},
   "source": [
    "#### **Reverse All the Words in a Sentence**"
   ]
  },
  {
   "cell_type": "markdown",
   "metadata": {},
   "source": [
    "Implement a function for reversing the words in a string s. For example, \"Alice likes Bob\" transforms to \"Bob likes Alice\". We do not need to keep the original string."
   ]
  },
  {
   "cell_type": "code",
   "execution_count": null,
   "metadata": {},
   "outputs": [],
   "source": [
    "# Assume s is a string encoded as bytearray\n",
    "s = bytearray('Alice likes Bob', 'utf-8')\n",
    "\n",
    "def reverse_words(s) -> None:\n",
    "    # Helper function to reverse any range of a string\n",
    "    def reverse_range(s, start, end):\n",
    "        while start < end:\n",
    "            s[start], s[end] = s[end], s[start]\n",
    "            start += 1\n",
    "            end -= 1\n",
    "            \n",
    "    # Reverse the whole string to get words in relative order\n",
    "    s.reverse()\n",
    "            \n",
    "    # Find individual words by locating spaces\n",
    "    start = 0\n",
    "    while True:\n",
    "        # Find first space after start index\n",
    "        end = s.find(b' ', start)\n",
    "        if end < 0:\n",
    "            break\n",
    "        # Reverse each word in between start and end\n",
    "        reverse_range(s, start, end - 1)\n",
    "        start = end + 1\n",
    "        \n",
    "    # Reverse last word\n",
    "    reverse_range(s, start, len(s) - 1)\n",
    "\n",
    "reverse_words(s)\n",
    "s.decode()"
   ]
  },
  {
   "cell_type": "markdown",
   "metadata": {},
   "source": [
    "Time complexity: O(n)  \n",
    "Space complexity: O(1)"
   ]
  },
  {
   "cell_type": "markdown",
   "metadata": {},
   "source": [
    "#### **Compute all Mnemonics for a Phone Number**"
   ]
  },
  {
   "cell_type": "markdown",
   "metadata": {},
   "source": [
    "Write a program which takes as input a phone number, specified as a string of digits, and returns all possible character sequences that correspond to the phone number. The cell phone keypad is specified by a mapping that takes a digit and returns the corresponding set of characters. The character sequences do not have to be legal words or phrases."
   ]
  },
  {
   "cell_type": "code",
   "execution_count": null,
   "metadata": {},
   "outputs": [],
   "source": [
    "# The napping from digit to corresponding characters.\n",
    "MAPPING = ('0', '1', 'ABC', 'DEF', 'GHI', 'JKL', 'MNO', 'PQRS', 'TUV', 'WXYZ')\n",
    "\n",
    "phone_number = '2276696'\n",
    "\n",
    "def phone_mnemonic(phone_number: str) -> List[str]:\n",
    "    def phone_mnemonic_helper(idx):\n",
    "        if idx == len(phone_number):\n",
    "            # All digits are processed, so add partial_mnemonic to mnemonics as a copy \n",
    "            # since partial_mnemonic will be modified\n",
    "            mnemonics.append(''.join(partial_mnemonic))\n",
    "        else:\n",
    "            # Try all possible characters for this digit\n",
    "            for c in MAPPING[int(phone_number[idx])]:\n",
    "                partial_mnemonic[idx] = c\n",
    "                phone_mnemonic_helper(idx + 1)\n",
    "    \n",
    "    mnemonics = []\n",
    "    partial_mnemonic = [0] * len(phone_number)\n",
    "    # Call helper with first index\n",
    "    phone_mnemonic_helper(0)\n",
    "    \n",
    "    return mnemonics\n",
    "\n",
    "phone_mnemonic(phone_number)"
   ]
  },
  {
   "cell_type": "markdown",
   "metadata": {},
   "source": [
    "Time Complexity: O(4<sup>n</sup>n)"
   ]
  }
 ],
 "metadata": {
  "kernelspec": {
   "display_name": "Python 3.7.4 64-bit",
   "language": "python",
   "name": "python37464bit6fc5c9ee3ddc4409a96e8a8d945e3dcc"
  },
  "language_info": {
   "codemirror_mode": {
    "name": "ipython",
    "version": 3
   },
   "file_extension": ".py",
   "mimetype": "text/x-python",
   "name": "python",
   "nbconvert_exporter": "python",
   "pygments_lexer": "ipython3",
   "version": "3.7.4"
  }
 },
 "nbformat": 4,
 "nbformat_minor": 4
}
