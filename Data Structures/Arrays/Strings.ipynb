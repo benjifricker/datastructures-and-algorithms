{
 "cells": [
  {
   "cell_type": "code",
   "execution_count": null,
   "metadata": {},
   "outputs": [],
   "source": [
    "from typing import List"
   ]
  },
  {
   "cell_type": "markdown",
   "metadata": {},
   "source": [
    "# Strings"
   ]
  },
  {
   "cell_type": "markdown",
   "metadata": {},
   "source": [
    "#### **Interconvert Strings and Integers**"
   ]
  },
  {
   "cell_type": "markdown",
   "metadata": {},
   "source": [
    "Implement an integer to string conversion function, and a string to integer conversion function. For example, if the input to the first function is the integer 314, it should return the string \"314\" and if the input to the second function is the string \"314\" it should return the integer 314."
   ]
  },
  {
   "cell_type": "code",
   "execution_count": null,
   "metadata": {},
   "outputs": [],
   "source": [
    "def int_to_string(i: int):\n",
    "    result = []\n",
    "    # If int is below 0 make it positive for easier manipulation \n",
    "    # and append '-' to result\n",
    "    if i < 0:\n",
    "        result.append('-')\n",
    "        i *= -1\n",
    "    while i > 0:\n",
    "        result.append(str(i % 10))\n",
    "        i //= 10\n",
    "        \n",
    "    return ''.join(result)\n",
    "\n",
    "int_to_string(-314)"
   ]
  },
  {
   "cell_type": "code",
   "execution_count": null,
   "metadata": {},
   "outputs": [],
   "source": [
    "def string_to_int(s: str):\n",
    "    result = 0\n",
    "    n = len(s)\n",
    "    for i in range(n - 1, -1, -1):\n",
    "        if s[i] == '-':\n",
    "            result *= -1\n",
    "        else:\n",
    "            # Add the integer at index i multiplied by a power of\n",
    "            # ten based on it's position\n",
    "            result += int(s[i]) * (10 ** (n - 1 - i))\n",
    "            \n",
    "    return result\n",
    "\n",
    "string_to_int('-314')"
   ]
  },
  {
   "cell_type": "markdown",
   "metadata": {},
   "source": [
    "#### **Base Conversion**"
   ]
  },
  {
   "cell_type": "markdown",
   "metadata": {},
   "source": [
    "Write a program that performs base conversion. The input is a string, an integer b1, and another integer b2. The string represents an integer in base b1. The output should be the string representing the integer in base b2. Assume 2 ≤ b1,b2 ≤ 16. Use \"A\" to represent 10, \"B\" for 11,..., and \"F\" for 15. (For example, if the string is \"615\", b1 is 7 and b2 is 13, then the result should be \"1A7\", since 6 * 7<sup>2</sup> + 1 * 7 + 5 = 1 * 13<sup>2</sup> + 10 * 13 + 7.)"
   ]
  },
  {
   "cell_type": "code",
   "execution_count": null,
   "metadata": {},
   "outputs": [],
   "source": [
    "import string\n",
    "from functools import reduce\n",
    "\n",
    "num = '123'\n",
    "b1 = 10\n",
    "b2 = 2\n",
    "\n",
    "def convert_base(num_as_string: str, b1: int, b2: int) -> str:\n",
    "    def construct_from_base(num_as_int, base):\n",
    "        return ('' if num_as_int == 0 else\n",
    "                construct_from_base(num_as_int // base, base) +\n",
    "                string.hexdigits[num_as_int % base].upper())\n",
    "    \n",
    "    is_negative = num_as_string[0] == '-'\n",
    "    num_as_int = reduce(\n",
    "        lambda x, c: x * b1 + string.hexdigits.index(c.lower()),\n",
    "        num_as_string[is_negative:], 0)\n",
    "    \n",
    "    return ('-' if is_negative else '') + ('0' if num_as_int == 0 else\n",
    "                                           construct_from_base(num_as_int, b2))\n",
    "\n",
    "convert_base(num, b1, b2)"
   ]
  },
  {
   "cell_type": "markdown",
   "metadata": {},
   "source": [
    "#### **Compute the Spreadsheet Column Encoding**"
   ]
  },
  {
   "cell_type": "markdown",
   "metadata": {},
   "source": [
    "Spreadsheets often use an alpabetical encoding of the successive columns. Specifically, columns are identified by \"A\",\"B\",\"C\",...,\"X\",\"Y\",\"Z\",\"AA\",\"AB\",...,\"ZZ\",\"AAA\",\"AAB\",....\n",
    "Implement a function that converts a spreadsheet column id to the corresponding integer, with \"A\" corresponding to 1. For example, you should return 4 for \"D\", 27 for \"AA\", 702 for \"ZZ\",etc. How yould you test your code?"
   ]
  },
  {
   "cell_type": "code",
   "execution_count": null,
   "metadata": {},
   "outputs": [],
   "source": [
    "column = 'ZZ'\n",
    "\n",
    "def ss_decode_col_id(col):\n",
    "    result = 0\n",
    "    for i in range(len(col) - 1, -1, -1):\n",
    "        # Get ASCII of letter and calibrate so 'A' starts at 1\n",
    "        letter_num = ord(col[i]) - 64\n",
    "        # Add letter's number multiplied by corresponding position in \n",
    "        # string to result\n",
    "        result += letter_num * (26 ** (len(col) - 1 - i))\n",
    "        \n",
    "    return result\n",
    "\n",
    "ss_decode_col_id(column)"
   ]
  },
  {
   "cell_type": "markdown",
   "metadata": {},
   "source": [
    "Time complexity: O(n)"
   ]
  },
  {
   "cell_type": "markdown",
   "metadata": {},
   "source": [
    "- Shorter version with reduce():"
   ]
  },
  {
   "cell_type": "code",
   "execution_count": null,
   "metadata": {},
   "outputs": [],
   "source": [
    "import functools\n",
    "\n",
    "column = 'ZZ'\n",
    "\n",
    "def ss_decode_col_id(col: str) -> int:\n",
    "    return functools.reduce(\n",
    "        lambda result, c: result * 26 + ord(c) - ord('A') + 1, col, 0)\n",
    "\n",
    "ss_decode_col_id(column)"
   ]
  },
  {
   "cell_type": "markdown",
   "metadata": {},
   "source": [
    "Time complexity: O(n)  \n",
    "Space complexity: O(1)"
   ]
  },
  {
   "cell_type": "markdown",
   "metadata": {},
   "source": [
    "#### **Replace and Remove**"
   ]
  },
  {
   "cell_type": "markdown",
   "metadata": {},
   "source": [
    "Write a program which takes as input an array of characters, and removes each 'b' and replaces each 'a' by two 'd's. Specifically, along with the array, you are provided an integer-valued size. Size denotes the number of entries of the array that the operation is to be applied to. You do not have to worry about preserving subsequent entries. For example, if the array is <a,b,a,c,> and the size is 4, then you can return <d,d,d,d,c>. You can assume there is enough space in teh array to hold the final result."
   ]
  },
  {
   "cell_type": "code",
   "execution_count": null,
   "metadata": {},
   "outputs": [],
   "source": [
    "size = 0\n",
    "string = ['a','b','b','a','c']\n",
    "\n",
    "def replace_and_remove(size: int, s: str) -> int:\n",
    "    n = len(s)\n",
    "    \n",
    "    # Forward iteration: Remove 'b's and count 'a's\n",
    "    num_a = 0\n",
    "    i = 0\n",
    "    for j in range(n):\n",
    "        if s[j] != 'b':\n",
    "            s[i] = s[j]\n",
    "            i += 1\n",
    "        if s[j] == 'a':\n",
    "            num_a += 1\n",
    "    \n",
    "    # Backward iteration:\n",
    "    # Last valid index after removing 'b's\n",
    "    cur_idx = i - 1\n",
    "    # Last index if 'a's are replaced with 'dd'\n",
    "    i += num_a - 1\n",
    "    final_size = i + 1\n",
    "    while cur_idx >= 0:\n",
    "        if s[cur_idx] == 'a':\n",
    "            s[i - 1:i + 1] = 'dd'\n",
    "            i -= 2\n",
    "        else:\n",
    "            s[i] = s[cur_idx]\n",
    "            i -= 1\n",
    "        cur_idx -= 1\n",
    "    return final_size\n",
    "\n",
    "final_size = replace_and_remove(size, string)\n",
    "print(string[:final_size])"
   ]
  },
  {
   "cell_type": "markdown",
   "metadata": {},
   "source": [
    "Time complexity: O(n)  \n",
    "Space complexity: O(1)"
   ]
  },
  {
   "cell_type": "markdown",
   "metadata": {},
   "source": [
    "#### **Test Palindromicity**"
   ]
  },
  {
   "cell_type": "markdown",
   "metadata": {},
   "source": [
    "For the purpose of this problem, define a palindromic string to be a string which when all the nonalphanumeric are removed it reads the same front to back ignoring case. Implement a function which takes as input a string s and retums true if s is a palindromic string."
   ]
  },
  {
   "cell_type": "code",
   "execution_count": null,
   "metadata": {},
   "outputs": [],
   "source": [
    "import string\n",
    "\n",
    "s = 'Able was I, ere I saw Elba!'\n",
    "\n",
    "def is_palindrome(s: str) -> bool:\n",
    "    left = 0\n",
    "    right = len(s) - 1\n",
    "    \n",
    "    while left < right:\n",
    "        # Skip all non-alpanumeric characters with left pointer\n",
    "        while not s[left].isalnum() and left < right:\n",
    "            left += 1\n",
    "        # Skip all non-alpanumeric characters with right pointer  \n",
    "        while not s[right].isalnum() and right > left:\n",
    "            right -= 1\n",
    "        # String is not palindrome if corresponding characters don't match\n",
    "        if s[left].lower() != s[right].lower():\n",
    "            return False\n",
    "        left += 1\n",
    "        right -= 1\n",
    "    \n",
    "    return True\n",
    "\n",
    "is_palindrome(s)"
   ]
  },
  {
   "cell_type": "markdown",
   "metadata": {},
   "source": [
    "Time complexity: O(n)  \n",
    "Space complexity: O(1)"
   ]
  },
  {
   "cell_type": "markdown",
   "metadata": {},
   "source": [
    "#### **Reverse All the Words in a Sentence**"
   ]
  },
  {
   "cell_type": "markdown",
   "metadata": {},
   "source": [
    "Implement a function for reversing the words in a string s. For example, \"Alice likes Bob\" transforms to \"Bob likes Alice\". We do not need to keep the original string."
   ]
  },
  {
   "cell_type": "code",
   "execution_count": null,
   "metadata": {},
   "outputs": [],
   "source": [
    "# Assume s is a string encoded as bytearray\n",
    "s = bytearray('Alice likes Bob', 'utf-8')\n",
    "\n",
    "def reverse_words(s) -> None:\n",
    "    # Helper function to reverse any range of a string\n",
    "    def reverse_range(s, start, end):\n",
    "        while start < end:\n",
    "            s[start], s[end] = s[end], s[start]\n",
    "            start += 1\n",
    "            end -= 1\n",
    "            \n",
    "    # Reverse the whole string to get words in relative order\n",
    "    s.reverse()\n",
    "            \n",
    "    # Find individual words by locating spaces\n",
    "    start = 0\n",
    "    while True:\n",
    "        # Find first space after start index\n",
    "        end = s.find(b' ', start)\n",
    "        if end < 0:\n",
    "            break\n",
    "        # Reverse each word in between start and end\n",
    "        reverse_range(s, start, end - 1)\n",
    "        start = end + 1\n",
    "        \n",
    "    # Reverse last word\n",
    "    reverse_range(s, start, len(s) - 1)\n",
    "\n",
    "reverse_words(s)\n",
    "s.decode()"
   ]
  },
  {
   "cell_type": "markdown",
   "metadata": {},
   "source": [
    "Time complexity: O(n)  \n",
    "Space complexity: O(1)"
   ]
  },
  {
   "cell_type": "markdown",
   "metadata": {},
   "source": [
    "#### **Compute all Mnemonics for a Phone Number**"
   ]
  },
  {
   "cell_type": "markdown",
   "metadata": {},
   "source": [
    "Write a program which takes as input a phone number, specified as a string of digits, and returns all possible character sequences that correspond to the phone number. The cell phone keypad is specified by a mapping that takes a digit and returns the corresponding set of characters. The character sequences do not have to be legal words or phrases."
   ]
  },
  {
   "cell_type": "code",
   "execution_count": null,
   "metadata": {},
   "outputs": [],
   "source": [
    "# The napping from digit to corresponding characters.\n",
    "MAPPING = ('0', '1', 'ABC', 'DEF', 'GHI', 'JKL', 'MNO', 'PQRS', 'TUV', 'WXYZ')\n",
    "\n",
    "phone_number = '2276696'\n",
    "\n",
    "def phone_mnemonic(phone_number: str) -> List[str]:\n",
    "    def phone_mnemonic_helper(idx):\n",
    "        if idx == len(phone_number):\n",
    "            # All digits are processed, so add partial_mnemonic to mnemonics as a copy \n",
    "            # since partial_mnemonic will be modified\n",
    "            mnemonics.append(''.join(partial_mnemonic))\n",
    "        else:\n",
    "            # Try all possible characters for this digit\n",
    "            for c in MAPPING[int(phone_number[idx])]:\n",
    "                partial_mnemonic[idx] = c\n",
    "                phone_mnemonic_helper(idx + 1)\n",
    "    \n",
    "    mnemonics = []\n",
    "    partial_mnemonic = [0] * len(phone_number)\n",
    "    # Call helper with first index\n",
    "    phone_mnemonic_helper(0)\n",
    "    \n",
    "    return mnemonics\n",
    "\n",
    "phone_mnemonic(phone_number)"
   ]
  },
  {
   "cell_type": "markdown",
   "metadata": {},
   "source": [
    "Time Complexity: O(4<sup>n</sup>n)"
   ]
  },
  {
   "cell_type": "markdown",
   "metadata": {},
   "source": [
    "#### **The Look-And-Say Problem**"
   ]
  },
  {
   "cell_type": "markdown",
   "metadata": {},
   "source": [
    "The look-and-say sequence starts with 1. Subsequent numbers are derived by describing the previous number in terms of consecutive digits. Specifically, to generate an entry of the sequence from the previous entry, read off the digits of the previous entry, counting the number of digits in groups of the same digit. \n",
    "For example, 1; one 1; two 1s; one 2 then one 1; one 1, then one 2, then two 1s; three 1s, then two 2s, then one 1. \n",
    "The first eight numbers in the look-and-say sequence are <1, 11, 21, 1211, 111221, 312211, 13112221, 1113213211>.\n",
    "\n",
    "Write a Program that takes as input an integer n and returns the nth integer in the look-and-say sequence. Return the result as a string."
   ]
  },
  {
   "cell_type": "code",
   "execution_count": null,
   "metadata": {},
   "outputs": [],
   "source": [
    "from collections import defaultdict\n",
    "\n",
    "n = 5\n",
    "\n",
    "def look_and_say(n: int) -> str:\n",
    "    # First look-and-say number\n",
    "    s = '1'\n",
    "    for _ in range(1, n):\n",
    "        result = []\n",
    "        i = 0\n",
    "        while i < len(s):\n",
    "            count = 1\n",
    "            # Count adjacent equal numbers and add the count and number to result\n",
    "            while i + 1 < len(s) and s[i] == s[i + 1]:\n",
    "                i += 1\n",
    "                count += 1\n",
    "            result.append(str(count) + s[i])\n",
    "            i += 1\n",
    "        # Replace s with current look-and-say number\n",
    "        s = ''.join(result)\n",
    "    return s\n",
    "        \n",
    "look_and_say(n)"
   ]
  },
  {
   "cell_type": "markdown",
   "metadata": {},
   "source": [
    "Time complexity: O(n2<sup>n</sup>)"
   ]
  },
  {
   "cell_type": "markdown",
   "metadata": {},
   "source": [
    "#### **Convert From Roman to Decimal**"
   ]
  },
  {
   "cell_type": "markdown",
   "metadata": {},
   "source": [
    "Write a program which takes as input a valid Roman number string s and returns the integer it corresponds to."
   ]
  },
  {
   "cell_type": "code",
   "execution_count": null,
   "metadata": {},
   "outputs": [],
   "source": [
    "s = 'IXX'\n",
    "\n",
    "def roman_to_integer(s: str):\n",
    "    T = {'I': 1, 'V': 5, 'X': 10, 'L': 50, 'C': 100, 'D': 500, 'M': 1000}\n",
    "    result = 0\n",
    "    # Add last roman number to result\n",
    "    result += T[s[-1]]\n",
    "    for i in range(len(s) - 2, -1, -1):\n",
    "        # Current roman number is smaller than following\n",
    "        # and needs to be subtracted\n",
    "        if T[s[i]] < T[s[i + 1]]:\n",
    "            result -= T[s[i]]\n",
    "        else:\n",
    "            result += T[s[i]]\n",
    "    \n",
    "    return result\n",
    "\n",
    "roman_to_integer(s)"
   ]
  },
  {
   "cell_type": "markdown",
   "metadata": {},
   "source": [
    "Time complexity: O(n)  \n",
    "Space complexity: O(1)"
   ]
  },
  {
   "cell_type": "markdown",
   "metadata": {},
   "source": [
    "- Same algorithm utilizing functools"
   ]
  },
  {
   "cell_type": "code",
   "execution_count": null,
   "metadata": {},
   "outputs": [],
   "source": [
    "import functools\n",
    "\n",
    "s = 'IXX'\n",
    "\n",
    "def roman_to_integer(s: str):\n",
    "    T = {'I': 1, 'V': 5, 'X': 10, 'L': 50, 'C': 100, 'D': 500, 'M': 1000}\n",
    "    \n",
    "    return functools.reduce(\n",
    "        lambda val, i: val + (-T[s[i]] if T[s[i]] < T[s[i + 1]] else T[s[i]]),\n",
    "        reversed(range(len(s) - 1)), T[s[-1]])\n",
    "\n",
    "roman_to_integer(s)"
   ]
  },
  {
   "cell_type": "markdown",
   "metadata": {},
   "source": [
    "Time complexity: O(n)  \n",
    "Space complexity: O(1)"
   ]
  },
  {
   "cell_type": "markdown",
   "metadata": {},
   "source": [
    "#### **Compute All Valid IP Addresses**"
   ]
  },
  {
   "cell_type": "markdown",
   "metadata": {},
   "source": [
    "Write a Program that determines where to add periods to a decimal string so that the resulting string is a valid IP address. There may be more than one valid IP address corresponding to a string, in which case you should print all possibilities.\n",
    "For example, if the mangled string is \"19216811\" then two corresponding IP addresses are 192.168.1.1 and 19.216.81.1. (There are seven other possible IP addresses for this string.)"
   ]
  },
  {
   "cell_type": "code",
   "execution_count": null,
   "metadata": {},
   "outputs": [],
   "source": [
    "s = '19216811'\n",
    "\n",
    "def get_valid_ip_address(s):\n",
    "    def is_valid_part(s):\n",
    "        # Any substring with length 1 is valid. Else, no 0 \n",
    "        # can be prepended and substring has to be less than or equal to 255\n",
    "        return len(s) == 1 or (s[0] != 0 and int(s) <= 255)\n",
    "    \n",
    "    result = []\n",
    "    parts = [None] * 4\n",
    "    \n",
    "    for i in range(1, min(len(s), 4)):\n",
    "        parts[0] = s[:i]\n",
    "        if is_valid_part(parts[0]):\n",
    "            for j in range(1, min(len(s) - i, 4)):\n",
    "                parts[1] = s[i:i + j]\n",
    "                if is_valid_part(parts[1]):\n",
    "                    for k in range(1, min(len(s) - i - j, 4)):\n",
    "                        parts[2] = s[i + j:i + j + k]\n",
    "                        parts[3] = s[i + j + k:]\n",
    "                        if is_valid_part(parts[2]) and is_valid_part(parts[3]):\n",
    "                            result.append('.'.join(parts))\n",
    "                            \n",
    "    return result\n",
    "\n",
    "get_valid_ip_address(s)"
   ]
  },
  {
   "cell_type": "markdown",
   "metadata": {},
   "source": [
    "Time complexity: O(1), since all IPs have 2<sup>32</sup> possibilities  \n",
    "Space complexity: O(1)"
   ]
  },
  {
   "cell_type": "markdown",
   "metadata": {},
   "source": [
    "#### **Write A String Sinusoidally**"
   ]
  },
  {
   "cell_type": "markdown",
   "metadata": {},
   "source": [
    "Define the snakestring of s to be the left-right top-to-bottom sequence in which characters appear when s is written in sinusoidal fashion. For example, the snakestring string for \"Hello World!\" is \"e lHloWrdlo!\".\n",
    "\n",
    "Write a program which takes as input a string s and retums the snakestring of s."
   ]
  },
  {
   "cell_type": "code",
   "execution_count": null,
   "metadata": {},
   "outputs": [],
   "source": [
    "s = 'Hello World!'\n",
    "\n",
    "def snake_string(s: str) -> str:\n",
    "    n = len(s)\n",
    "    result = []\n",
    "    \n",
    "    # Top row: Every 4 indices starting at 1\n",
    "    for i in range(1, n, 4):\n",
    "        result.append(s[i])\n",
    "    # Middle row: Even indices\n",
    "    for i in range(0, n, 2):\n",
    "        result.append(s[i])\n",
    "    # Bottom row: Every 4 indices starting at 3\n",
    "    for i in range(3, n, 4):\n",
    "        result.append(s[i])\n",
    "    \n",
    "    return ''.join(result)\n",
    "\n",
    "snake_string(s)"
   ]
  },
  {
   "cell_type": "markdown",
   "metadata": {},
   "source": [
    "Time complexity: O(n)  \n",
    "Space complexity: O(n)"
   ]
  },
  {
   "cell_type": "markdown",
   "metadata": {},
   "source": [
    "- Pythonic version: Slicing"
   ]
  },
  {
   "cell_type": "code",
   "execution_count": null,
   "metadata": {},
   "outputs": [],
   "source": [
    "s = 'Hello World!'\n",
    "\n",
    "def snake_string(s: str) -> str:\n",
    "    return s[1::4] + s[::2] + s[3::4]\n",
    "    \n",
    "snake_string(s)"
   ]
  },
  {
   "cell_type": "markdown",
   "metadata": {},
   "source": [
    "Time complexity: O(n)  \n",
    "Space complexity: O(n)"
   ]
  },
  {
   "cell_type": "markdown",
   "metadata": {},
   "source": [
    "#### **Implement Run-Length Encoding**"
   ]
  },
  {
   "cell_type": "markdown",
   "metadata": {},
   "source": [
    "Implement run-length encoding and decoding functions. Assume the string to be encoded consists of letters of the alphabet, with no digits, and the string to be decoded is a valid encoding. For example, the RLE of \"aaaabcccaa\" is \"4a1b3c2a\"."
   ]
  },
  {
   "cell_type": "code",
   "execution_count": null,
   "metadata": {},
   "outputs": [],
   "source": [
    "s = '4a1b3c2a'\n",
    "\n",
    "def decoding(s: str) -> str:\n",
    "    result, count = [], 0\n",
    "    for c in s:\n",
    "        # Character is a number\n",
    "        if c.isdigit():\n",
    "            # Incase of multi-digit number, account for decimal position by multiplying by 10\n",
    "            count = count * 10 + int(c)\n",
    "        # Character is not a number\n",
    "        else:\n",
    "            result.append(count * c)\n",
    "            count = 0\n",
    "    \n",
    "    return ''.join(result)\n",
    "    \n",
    "decoding(s)"
   ]
  },
  {
   "cell_type": "code",
   "execution_count": null,
   "metadata": {},
   "outputs": [],
   "source": [
    "s = 'aaaabcccaa'\n",
    "\n",
    "def encoding(s: str) -> str:\n",
    "    result, count = [], 1\n",
    "    for i in range(1, len(s) + 1):\n",
    "        if i == len(s) or s[i] != s[i - 1]:\n",
    "            # Found new character, write previous count and reset\n",
    "            result.append(str(count) + s[i - 1])\n",
    "            count = 1\n",
    "        else:\n",
    "            count += 1\n",
    "    \n",
    "    return ''.join(result)\n",
    "    \n",
    "encoding(s)"
   ]
  },
  {
   "cell_type": "markdown",
   "metadata": {},
   "source": [
    "Time complexity: O(n)  \n",
    "Space complexity: O(n)"
   ]
  }
 ],
 "metadata": {
  "kernelspec": {
   "display_name": "Python 3.7.4 64-bit",
   "language": "python",
   "name": "python37464bit6fc5c9ee3ddc4409a96e8a8d945e3dcc"
  },
  "language_info": {
   "codemirror_mode": {
    "name": "ipython",
    "version": 3
   },
   "file_extension": ".py",
   "mimetype": "text/x-python",
   "name": "python",
   "nbconvert_exporter": "python",
   "pygments_lexer": "ipython3",
   "version": "3.7.4"
  }
 },
 "nbformat": 4,
 "nbformat_minor": 4
}
