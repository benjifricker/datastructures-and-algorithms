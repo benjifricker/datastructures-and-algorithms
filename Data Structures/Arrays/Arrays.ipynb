{
 "cells": [
  {
   "cell_type": "code",
   "execution_count": null,
   "metadata": {},
   "outputs": [],
   "source": [
    "from typing import List"
   ]
  },
  {
   "cell_type": "markdown",
   "metadata": {},
   "source": [
    "# Arrays"
   ]
  },
  {
   "cell_type": "markdown",
   "metadata": {},
   "source": [
    "#### **even_odd_array.py**"
   ]
  },
  {
   "cell_type": "code",
   "execution_count": null,
   "metadata": {},
   "outputs": [],
   "source": [
    "A = [2, 3, 5, 7, 9, 11, 13, 17]\n",
    "\n",
    "def even_odd(A: List[int]) -> None:\n",
    "    next_even, next_odd = 0, len(A) - 1\n",
    "    while next_even < next_odd:\n",
    "        if A[next_even] % 2 == 0:\n",
    "            next_even += 1\n",
    "        else:\n",
    "            A[next_even], A[next_odd] = A[next_odd], A[next_even]\n",
    "            next_odd -= 1\n",
    "            \n",
    "even_odd(A)\n",
    "print(A)"
   ]
  },
  {
   "cell_type": "markdown",
   "metadata": {},
   "source": [
    "Time complexity: O(n)  \n",
    "Space complexity: O(1)"
   ]
  },
  {
   "cell_type": "markdown",
   "metadata": {},
   "source": [
    "#### **The Dutch National Flag Problem**"
   ]
  },
  {
   "cell_type": "markdown",
   "metadata": {},
   "source": [
    "Write a program that takes an array A and an index i into A, and rearranges the elements such that all elements less than A[i] (the 'pivot') appear first, followed by elements equal to the pivot, followed by elements greater than the pivot."
   ]
  },
  {
   "cell_type": "markdown",
   "metadata": {},
   "source": [
    "- Approach 1: Two passes with nested loops"
   ]
  },
  {
   "cell_type": "code",
   "execution_count": null,
   "metadata": {},
   "outputs": [],
   "source": [
    "A = [0, 1, 2, 0, 2, 1, 1]\n",
    "\n",
    "def dutch_flag_partition(pivot_idx: int, A: List[int]) -> None:\n",
    "    pivot = A[pivot_idx]\n",
    "    # First pass: group elements smaller than pivot.\n",
    "    for i in range(len(A)):\n",
    "        # Look for a smaller element.\n",
    "        for j in range(i + 1, len(A)):\n",
    "            if A[j] < pivot:\n",
    "                A[i], A[j] = A[j], A[i]\n",
    "                break\n",
    "                \n",
    "    # Second pass: group elements larger than pivot\n",
    "    for i in reversed(range(len(A))):\n",
    "        # Look for a larger element. Stop when we reach an element less than\n",
    "        # pivot, since first pass has moved them to the start of A.\n",
    "        for j in reversed(range(i)):\n",
    "            if A[j] > pivot:\n",
    "                A[i], A[j] = A[j], A[i]\n",
    "                break\n",
    "                \n",
    "dutch_flag_partition(2, A)\n",
    "print(A)"
   ]
  },
  {
   "cell_type": "markdown",
   "metadata": {},
   "source": [
    "Time complexity: O(n<sup>2</sup>)<br>\n",
    "Space complexity: O(1)"
   ]
  },
  {
   "cell_type": "markdown",
   "metadata": {},
   "source": [
    "- Approach 2: A single pass from the left (smaller elements) and a single pass from the right (larger elements)"
   ]
  },
  {
   "cell_type": "code",
   "execution_count": null,
   "metadata": {},
   "outputs": [],
   "source": [
    "A = [0, 1, 2, 0, 2, 1, 1]\n",
    "\n",
    "def dutch_flag_partition(pivot_idx: int, A: List[int]) -> None:\n",
    "    pivot = A[pivot_idx]\n",
    "    smaller = 0\n",
    "    # Smaller elements\n",
    "    for i in range(len(A)):\n",
    "        if A[i] < pivot:\n",
    "            A[i], A[smaller] = A[smaller], A[i]\n",
    "            smaller += 1\n",
    "    # Greater elements\n",
    "    greater = len(A) - 1\n",
    "    for i in reversed(range(len(A))):\n",
    "        if A[i] > pivot:\n",
    "            A[i], A[greater] = A[greater], A[i]\n",
    "            greater -= 1\n",
    "                \n",
    "dutch_flag_partition(2, A)\n",
    "print(A)"
   ]
  },
  {
   "cell_type": "markdown",
   "metadata": {},
   "source": [
    "Time complexity: O(n)  \n",
    "Space complexity: O(1)"
   ]
  },
  {
   "cell_type": "markdown",
   "metadata": {},
   "source": [
    "- Approach 3: Classify into smaller, equal and larger segments"
   ]
  },
  {
   "cell_type": "code",
   "execution_count": null,
   "metadata": {},
   "outputs": [],
   "source": [
    "A = [0, 1, 2, 0, 2, 1, 1]\n",
    "\n",
    "def dutch_flag_partition(pivot_idx: int, A: List[int]) -> None:\n",
    "    pivot = A[pivot_idx]\n",
    "    smaller, equal, larger = 0, 0, len(A)\n",
    "    # Keep iterating as long as there is an unclassified element\n",
    "    while equal < larger:\n",
    "        if A[equal] < pivot:\n",
    "            A[smaller], A[equal] = A[equal], A[smaller]\n",
    "            smaller += 1\n",
    "            equal += 1\n",
    "        elif A[equal] == pivot:\n",
    "            equal += 1\n",
    "        else:\n",
    "            larger -= 1\n",
    "            A[equal], A[larger] = A[larger], A[equal]\n",
    "                \n",
    "dutch_flag_partition(2, A)\n",
    "print(A)"
   ]
  },
  {
   "cell_type": "markdown",
   "metadata": {},
   "source": [
    "Time complexity: O(n)  \n",
    "Space complexity: O(1)"
   ]
  },
  {
   "cell_type": "markdown",
   "metadata": {},
   "source": [
    "#### **Increment an Arbitrary-Precision Integer**"
   ]
  },
  {
   "cell_type": "markdown",
   "metadata": {},
   "source": [
    "Write a program which takes as input an array of digits encoding a nonnegative decimal integer and updates the array to represent the integer D + 1. For example, if the input is <1, 2, 9> then you should update the array to <1, 3, 0>."
   ]
  },
  {
   "cell_type": "code",
   "execution_count": null,
   "metadata": {},
   "outputs": [],
   "source": [
    "A = [1, 2, 3]\n",
    "\n",
    "def plus_one(A: List[int]) -> List[int]:\n",
    "    A[-1] += 1\n",
    "    for i in range(len(A) - 1, 0, -1):\n",
    "        if A[i] != 10:\n",
    "            break\n",
    "        A[i] = 0\n",
    "        A[i - 1] += 1\n",
    "        \n",
    "    if A[0] == 10:\n",
    "        # Add digit due to carry-out\n",
    "        # Trick: Append 0 and and update first entry to 1\n",
    "        A[0] = 1\n",
    "        A.append(0)\n",
    "        \n",
    "    return A\n",
    "    \n",
    "plus_one(A)"
   ]
  },
  {
   "cell_type": "markdown",
   "metadata": {},
   "source": [
    "Time complexity: O(n)  \n",
    "Space complexity: O(1)"
   ]
  },
  {
   "cell_type": "markdown",
   "metadata": {},
   "source": [
    "#### **Variant: Write a program which takes as input two strings s and t of bits encoding binary numbers B<sub>s</sub> and B<sub>t</sub>, respectively, and returns a new string of bits representing the numbers B<sub>s</sub> + B<sub>t</sub>.**"
   ]
  },
  {
   "cell_type": "markdown",
   "metadata": {},
   "source": [
    "- Approach 1: Bit-by-Bit Computation"
   ]
  },
  {
   "cell_type": "code",
   "execution_count": null,
   "metadata": {},
   "outputs": [],
   "source": [
    "a = '1010'\n",
    "b = '0110'\n",
    "\n",
    "def add_binary(a: str, b: str) -> str:\n",
    "    # Make both strings equal length by prepending 0s\n",
    "    n = max(len(a), len(b))\n",
    "    a, b = a.zfill(n), b.zfill(n)\n",
    "    \n",
    "    result = []\n",
    "    carry = 0\n",
    "    for i in range(n - 1, -1, -1):\n",
    "        carry += int(a[i]) + int(b[i])\n",
    "        result.append(str(carry % 2))\n",
    "        carry //= 2\n",
    "        \n",
    "    if carry:\n",
    "        result.append('1')\n",
    "        \n",
    "    result.reverse()\n",
    "    \n",
    "    return ''.join(result)\n",
    "\n",
    "add_binary(a, b)"
   ]
  },
  {
   "cell_type": "markdown",
   "metadata": {},
   "source": [
    "Time Complexity: O(max(m, n)), where m and n are the lengths of the two inputs  \n",
    "Space Complexity: O(max(m, n)), where m and n are the lengths of the two inputs "
   ]
  },
  {
   "cell_type": "markdown",
   "metadata": {},
   "source": [
    "- Approach 2: Bit Manipulation"
   ]
  },
  {
   "cell_type": "code",
   "execution_count": null,
   "metadata": {},
   "outputs": [],
   "source": [
    "a = '1010'\n",
    "b = '0110'\n",
    "\n",
    "def add_binary(a: str, b: str) -> str:\n",
    "    # Convert strings to base-10 ints\n",
    "    x, y = int(a, 2), int(b, 2)\n",
    "    # Iterate as long as there is a carry from the bit-wise AND\n",
    "    while y:\n",
    "        result = x ^ y\n",
    "        carry = (x & y) << 1\n",
    "        x, y = result, carry\n",
    "        \n",
    "    return bin(x)[2:]\n",
    "\n",
    "add_binary(a, b)"
   ]
  },
  {
   "cell_type": "markdown",
   "metadata": {},
   "source": [
    "Time Complexity: O(max(m, n)), where m and n are the lengths of the two inputs  \n",
    "Space Complexity: O(max(m, n)), where m and n are the lengths of the two inputs "
   ]
  },
  {
   "cell_type": "markdown",
   "metadata": {},
   "source": [
    "#### **Multiply Two Arbitrary-Precision Integers**"
   ]
  },
  {
   "cell_type": "markdown",
   "metadata": {},
   "source": [
    "Write a program that takes two arrays representing integers, and return an integer representing their product."
   ]
  },
  {
   "cell_type": "code",
   "execution_count": null,
   "metadata": {},
   "outputs": [],
   "source": [
    "num1 = [1, 9, 3, 7, 0, 7, 7, 2, 1]\n",
    "num2 = [-7, 6, 1, 8, 3, 8, 2, 5, 7, 2, 8, 7]\n",
    "\n",
    "def multiply(num1: List[int], num2: List[int]) -> List[int]:\n",
    "    # Determine sign of result and make first digits absolute\n",
    "    sign = -1 if (num1[0] < 0) or (num2[0] < 0) else 1\n",
    "    num1[0], num2[0] = abs(num1[0]), abs(num2[0])\n",
    "    \n",
    "    # Max length of result array is the sum of the input arrays\n",
    "    result = [0 for _ in range(len(num1) + len(num2))]\n",
    "    for i in range(len(num1) - 1, -1, -1):\n",
    "        for j in range(len(num2) - 1, -1, -1):\n",
    "            result[i + j + 1] += num1[i] * num2[j]\n",
    "            result[i + j] += result[i + j + 1] // 10\n",
    "            result[i + j + 1] %= 10\n",
    "    \n",
    "    # Remove the leading zeros\n",
    "    result = result[next((i for i, x in enumerate(result) if x != 0), len(result)):] or [0]  \n",
    "    # Add sign\n",
    "    result[0] *= sign\n",
    "    \n",
    "    return result\n",
    "\n",
    "multiply(num1, num2)"
   ]
  },
  {
   "cell_type": "markdown",
   "metadata": {},
   "source": [
    "Time Complexity: O(nm)  \n",
    "Space Complexity: O(n+m)"
   ]
  },
  {
   "cell_type": "markdown",
   "metadata": {},
   "source": [
    "#### **Advancing Through an Array**"
   ]
  },
  {
   "cell_type": "markdown",
   "metadata": {},
   "source": [
    "Write a program that takes an array of n integers, where A[i] denotes the maximum you can advance from index i, and returns whether it is possible to advance to the last index starting from the beginning of the array."
   ]
  },
  {
   "cell_type": "markdown",
   "metadata": {},
   "source": [
    "- Approach 1: Recursive solution"
   ]
  },
  {
   "cell_type": "code",
   "execution_count": null,
   "metadata": {},
   "outputs": [],
   "source": [
    "A = [3, 3, 1, 0, 2, 0, 1]\n",
    "\n",
    "def can_reach_end(A: List[int]) -> bool:\n",
    "    def can_reach_end(A: List[int], i):\n",
    "        if i == len(A) - 1:\n",
    "            return True\n",
    "        for j in range(A[i]):\n",
    "            if can_reach_end(A, i + j + 1):\n",
    "                return True\n",
    "            \n",
    "        return False\n",
    "    \n",
    "    return can_reach_end(A, 0)\n",
    "\n",
    "can_reach_end(A)"
   ]
  },
  {
   "cell_type": "markdown",
   "metadata": {},
   "source": [
    "Time Complexity: O(nm), where m is the average magnitude of the individual steps  \n",
    "Space Complexity: O(nm), where m is the average magnitude of the individual steps"
   ]
  },
  {
   "cell_type": "markdown",
   "metadata": {},
   "source": [
    "- Approach 2: Linear solution"
   ]
  },
  {
   "cell_type": "code",
   "execution_count": null,
   "metadata": {},
   "outputs": [],
   "source": [
    "A = [3, 3, 1, 0, 2, 0, 1]\n",
    "\n",
    "def can_reach_end(A: List[int]) -> bool:\n",
    "    furthest_reach_so_far, last_idx = 0, len(A) - 1\n",
    "    i = 0\n",
    "    while i <= furthest_reach_so_far and furthest_reach_so_far < last_idx:\n",
    "        furthest_reach_so_far = max(furthest_reach_so_far, i + A[i])\n",
    "        i += 1\n",
    "        \n",
    "    return furthest_reach_so_far >= last_idx\n",
    "\n",
    "can_reach_end(A)"
   ]
  },
  {
   "cell_type": "markdown",
   "metadata": {},
   "source": [
    "Time Complexity: O(n)\n",
    "Space Complexity: "
   ]
  }
 ],
 "metadata": {
  "kernelspec": {
   "display_name": "Python 3.7.4 64-bit",
   "language": "python",
   "name": "python37464bit6fc5c9ee3ddc4409a96e8a8d945e3dcc"
  },
  "language_info": {
   "codemirror_mode": {
    "name": "ipython",
    "version": 3
   },
   "file_extension": ".py",
   "mimetype": "text/x-python",
   "name": "python",
   "nbconvert_exporter": "python",
   "pygments_lexer": "ipython3",
   "version": "3.7.4"
  }
 },
 "nbformat": 4,
 "nbformat_minor": 4
}
