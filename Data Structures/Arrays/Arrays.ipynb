{
 "cells": [
  {
   "cell_type": "code",
   "execution_count": null,
   "metadata": {},
   "outputs": [],
   "source": [
    "from typing import List, Dict, Iterator"
   ]
  },
  {
   "cell_type": "markdown",
   "metadata": {},
   "source": [
    "# Arrays"
   ]
  },
  {
   "cell_type": "markdown",
   "metadata": {},
   "source": [
    "#### **even_odd_array.py**"
   ]
  },
  {
   "cell_type": "code",
   "execution_count": null,
   "metadata": {},
   "outputs": [],
   "source": [
    "A = [2, 3, 5, 7, 9, 11, 13, 17]\n",
    "\n",
    "def even_odd(A: List[int]) -> None:\n",
    "    next_even, next_odd = 0, len(A) - 1\n",
    "    while next_even < next_odd:\n",
    "        if A[next_even] % 2 == 0:\n",
    "            next_even += 1\n",
    "        else:\n",
    "            A[next_even], A[next_odd] = A[next_odd], A[next_even]\n",
    "            next_odd -= 1\n",
    "            \n",
    "even_odd(A)\n",
    "print(A)"
   ]
  },
  {
   "cell_type": "markdown",
   "metadata": {},
   "source": [
    "Time complexity: O(n)  \n",
    "Space complexity: O(1)"
   ]
  },
  {
   "cell_type": "markdown",
   "metadata": {},
   "source": [
    "#### **The Dutch National Flag Problem**"
   ]
  },
  {
   "cell_type": "markdown",
   "metadata": {},
   "source": [
    "Write a program that takes an array A and an index i into A, and rearranges the elements such that all elements less than A[i] (the 'pivot') appear first, followed by elements equal to the pivot, followed by elements greater than the pivot."
   ]
  },
  {
   "cell_type": "markdown",
   "metadata": {},
   "source": [
    "- Approach 1: Two passes with nested loops"
   ]
  },
  {
   "cell_type": "code",
   "execution_count": null,
   "metadata": {},
   "outputs": [],
   "source": [
    "A = [0, 1, 2, 0, 2, 1, 1]\n",
    "\n",
    "def dutch_flag_partition(pivot_idx: int, A: List[int]) -> None:\n",
    "    pivot = A[pivot_idx]\n",
    "    # First pass: group elements smaller than pivot.\n",
    "    for i in range(len(A)):\n",
    "        # Look for a smaller element.\n",
    "        for j in range(i + 1, len(A)):\n",
    "            if A[j] < pivot:\n",
    "                A[i], A[j] = A[j], A[i]\n",
    "                break\n",
    "                \n",
    "    # Second pass: group elements larger than pivot\n",
    "    for i in reversed(range(len(A))):\n",
    "        # Look for a larger element. Stop when we reach an element less than\n",
    "        # pivot, since first pass has moved them to the start of A.\n",
    "        for j in reversed(range(i)):\n",
    "            if A[j] > pivot:\n",
    "                A[i], A[j] = A[j], A[i]\n",
    "                break\n",
    "                \n",
    "dutch_flag_partition(2, A)\n",
    "print(A)"
   ]
  },
  {
   "cell_type": "markdown",
   "metadata": {},
   "source": [
    "Time complexity: O(n<sup>2</sup>)<br>\n",
    "Space complexity: O(1)"
   ]
  },
  {
   "cell_type": "markdown",
   "metadata": {},
   "source": [
    "- Approach 2: A single pass from the left (smaller elements) and a single pass from the right (larger elements)"
   ]
  },
  {
   "cell_type": "code",
   "execution_count": null,
   "metadata": {},
   "outputs": [],
   "source": [
    "A = [0, 1, 2, 0, 2, 1, 1]\n",
    "\n",
    "def dutch_flag_partition(pivot_idx: int, A: List[int]) -> None:\n",
    "    pivot = A[pivot_idx]\n",
    "    smaller = 0\n",
    "    # Smaller elements\n",
    "    for i in range(len(A)):\n",
    "        if A[i] < pivot:\n",
    "            A[i], A[smaller] = A[smaller], A[i]\n",
    "            smaller += 1\n",
    "    # Greater elements\n",
    "    greater = len(A) - 1\n",
    "    for i in reversed(range(len(A))):\n",
    "        if A[i] > pivot:\n",
    "            A[i], A[greater] = A[greater], A[i]\n",
    "            greater -= 1\n",
    "                \n",
    "dutch_flag_partition(2, A)\n",
    "print(A)"
   ]
  },
  {
   "cell_type": "markdown",
   "metadata": {},
   "source": [
    "Time complexity: O(n)  \n",
    "Space complexity: O(1)"
   ]
  },
  {
   "cell_type": "markdown",
   "metadata": {},
   "source": [
    "- Approach 3: Classify into smaller, equal and larger segments"
   ]
  },
  {
   "cell_type": "code",
   "execution_count": null,
   "metadata": {},
   "outputs": [],
   "source": [
    "A = [0, 1, 2, 0, 2, 1, 1]\n",
    "\n",
    "def dutch_flag_partition(pivot_idx: int, A: List[int]) -> None:\n",
    "    pivot = A[pivot_idx]\n",
    "    smaller, equal, larger = 0, 0, len(A)\n",
    "    # Keep iterating as long as there is an unclassified element\n",
    "    while equal < larger:\n",
    "        if A[equal] < pivot:\n",
    "            A[smaller], A[equal] = A[equal], A[smaller]\n",
    "            smaller += 1\n",
    "            equal += 1\n",
    "        elif A[equal] == pivot:\n",
    "            equal += 1\n",
    "        else:\n",
    "            larger -= 1\n",
    "            A[equal], A[larger] = A[larger], A[equal]\n",
    "                \n",
    "dutch_flag_partition(2, A)\n",
    "print(A)"
   ]
  },
  {
   "cell_type": "markdown",
   "metadata": {},
   "source": [
    "Time complexity: O(n)  \n",
    "Space complexity: O(1)"
   ]
  },
  {
   "cell_type": "markdown",
   "metadata": {},
   "source": [
    "#### **Increment an Arbitrary-Precision Integer**"
   ]
  },
  {
   "cell_type": "markdown",
   "metadata": {},
   "source": [
    "Write a program which takes as input an array of digits encoding a nonnegative decimal integer and updates the array to represent the integer D + 1. For example, if the input is <1, 2, 9> then you should update the array to <1, 3, 0>."
   ]
  },
  {
   "cell_type": "code",
   "execution_count": null,
   "metadata": {},
   "outputs": [],
   "source": [
    "A = [1, 2, 3]\n",
    "\n",
    "def plus_one(A: List[int]) -> List[int]:\n",
    "    A[-1] += 1\n",
    "    for i in range(len(A) - 1, 0, -1):\n",
    "        if A[i] != 10:\n",
    "            break\n",
    "        A[i] = 0\n",
    "        A[i - 1] += 1\n",
    "        \n",
    "    if A[0] == 10:\n",
    "        # Add digit due to carry-out\n",
    "        # Trick: Append 0 and and update first entry to 1\n",
    "        A[0] = 1\n",
    "        A.append(0)\n",
    "        \n",
    "    return A\n",
    "    \n",
    "plus_one(A)"
   ]
  },
  {
   "cell_type": "markdown",
   "metadata": {},
   "source": [
    "Time complexity: O(n)  \n",
    "Space complexity: O(1)"
   ]
  },
  {
   "cell_type": "markdown",
   "metadata": {},
   "source": [
    "#### **Variant: Write a program which takes as input two strings s and t of bits encoding binary numbers B<sub>s</sub> and B<sub>t</sub>, respectively, and returns a new string of bits representing the numbers B<sub>s</sub> + B<sub>t</sub>.**"
   ]
  },
  {
   "cell_type": "markdown",
   "metadata": {},
   "source": [
    "- Approach 1: Bit-by-Bit Computation"
   ]
  },
  {
   "cell_type": "code",
   "execution_count": null,
   "metadata": {},
   "outputs": [],
   "source": [
    "a = '1010'\n",
    "b = '0110'\n",
    "\n",
    "def add_binary(a: str, b: str) -> str:\n",
    "    # Make both strings equal length by prepending 0s\n",
    "    n = max(len(a), len(b))\n",
    "    a, b = a.zfill(n), b.zfill(n)\n",
    "    \n",
    "    result = []\n",
    "    carry = 0\n",
    "    for i in range(n - 1, -1, -1):\n",
    "        carry += int(a[i]) + int(b[i])\n",
    "        result.append(str(carry % 2))\n",
    "        carry //= 2\n",
    "        \n",
    "    if carry:\n",
    "        result.append('1')\n",
    "        \n",
    "    result.reverse()\n",
    "    \n",
    "    return ''.join(result)\n",
    "\n",
    "add_binary(a, b)"
   ]
  },
  {
   "cell_type": "markdown",
   "metadata": {},
   "source": [
    "Time Complexity: O(max(m, n)), where m and n are the lengths of the two inputs  \n",
    "Space Complexity: O(max(m, n)), where m and n are the lengths of the two inputs "
   ]
  },
  {
   "cell_type": "markdown",
   "metadata": {},
   "source": [
    "- Approach 2: Bit Manipulation"
   ]
  },
  {
   "cell_type": "code",
   "execution_count": null,
   "metadata": {},
   "outputs": [],
   "source": [
    "a = '1010'\n",
    "b = '0110'\n",
    "\n",
    "def add_binary(a: str, b: str) -> str:\n",
    "    # Convert strings to base-10 ints\n",
    "    x, y = int(a, 2), int(b, 2)\n",
    "    # Iterate as long as there is a carry from the bit-wise AND\n",
    "    while y:\n",
    "        result = x ^ y\n",
    "        carry = (x & y) << 1\n",
    "        x, y = result, carry\n",
    "        \n",
    "    return bin(x)[2:]\n",
    "\n",
    "add_binary(a, b)"
   ]
  },
  {
   "cell_type": "markdown",
   "metadata": {},
   "source": [
    "Time Complexity: O(max(m, n)), where m and n are the lengths of the two inputs  \n",
    "Space Complexity: O(max(m, n)), where m and n are the lengths of the two inputs "
   ]
  },
  {
   "cell_type": "markdown",
   "metadata": {},
   "source": [
    "#### **Multiply Two Arbitrary-Precision Integers**"
   ]
  },
  {
   "cell_type": "markdown",
   "metadata": {},
   "source": [
    "Write a program that takes two arrays representing integers, and return an integer representing their product."
   ]
  },
  {
   "cell_type": "code",
   "execution_count": null,
   "metadata": {},
   "outputs": [],
   "source": [
    "num1 = [1, 9, 3, 7, 0, 7, 7, 2, 1]\n",
    "num2 = [-7, 6, 1, 8, 3, 8, 2, 5, 7, 2, 8, 7]\n",
    "\n",
    "def multiply(num1: List[int], num2: List[int]) -> List[int]:\n",
    "    # Determine sign of result and make first digits absolute\n",
    "    sign = -1 if (num1[0] < 0) or (num2[0] < 0) else 1\n",
    "    num1[0], num2[0] = abs(num1[0]), abs(num2[0])\n",
    "    \n",
    "    # Max length of result array is the sum of the input arrays\n",
    "    result = [0 for _ in range(len(num1) + len(num2))]\n",
    "    for i in range(len(num1) - 1, -1, -1):\n",
    "        for j in range(len(num2) - 1, -1, -1):\n",
    "            result[i + j + 1] += num1[i] * num2[j]\n",
    "            result[i + j] += result[i + j + 1] // 10\n",
    "            result[i + j + 1] %= 10\n",
    "    \n",
    "    # Remove the leading zeros\n",
    "    result = result[next((i for i, x in enumerate(result) if x != 0), len(result)):] or [0]  \n",
    "    # Add sign\n",
    "    result[0] *= sign\n",
    "    \n",
    "    return result\n",
    "\n",
    "multiply(num1, num2)"
   ]
  },
  {
   "cell_type": "markdown",
   "metadata": {},
   "source": [
    "Time Complexity: O(nm)  \n",
    "Space Complexity: O(n+m)"
   ]
  },
  {
   "cell_type": "markdown",
   "metadata": {},
   "source": [
    "#### **Advancing Through an Array**"
   ]
  },
  {
   "cell_type": "markdown",
   "metadata": {},
   "source": [
    "Write a program that takes an array of n integers, where A[i] denotes the maximum you can advance from index i, and returns whether it is possible to advance to the last index starting from the beginning of the array."
   ]
  },
  {
   "cell_type": "markdown",
   "metadata": {},
   "source": [
    "- Approach 1: Recursive solution"
   ]
  },
  {
   "cell_type": "code",
   "execution_count": null,
   "metadata": {},
   "outputs": [],
   "source": [
    "A = [3, 3, 1, 0, 2, 0, 1]\n",
    "\n",
    "def can_reach_end(A: List[int]) -> bool:\n",
    "    def can_reach_end(A: List[int], i):\n",
    "        if i == len(A) - 1:\n",
    "            return True\n",
    "        for j in range(A[i]):\n",
    "            if can_reach_end(A, i + j + 1):\n",
    "                return True\n",
    "            \n",
    "        return False\n",
    "    \n",
    "    return can_reach_end(A, 0)\n",
    "\n",
    "can_reach_end(A)"
   ]
  },
  {
   "cell_type": "markdown",
   "metadata": {},
   "source": [
    "Time Complexity: O(nm), where m is the average magnitude of the individual steps  \n",
    "Space Complexity: O(nm), where m is the average magnitude of the individual steps"
   ]
  },
  {
   "cell_type": "markdown",
   "metadata": {},
   "source": [
    "- Approach 2: Linear solution"
   ]
  },
  {
   "cell_type": "code",
   "execution_count": null,
   "metadata": {},
   "outputs": [],
   "source": [
    "A = [3, 3, 1, 0, 2, 0, 1]\n",
    "\n",
    "def can_reach_end(A: List[int]) -> bool:\n",
    "    furthest_reach_so_far, last_idx = 0, len(A) - 1\n",
    "    i = 0\n",
    "    while i <= furthest_reach_so_far and furthest_reach_so_far < last_idx:\n",
    "        furthest_reach_so_far = max(furthest_reach_so_far, i + A[i])\n",
    "        i += 1\n",
    "        \n",
    "    return furthest_reach_so_far >= last_idx\n",
    "\n",
    "can_reach_end(A)"
   ]
  },
  {
   "cell_type": "markdown",
   "metadata": {},
   "source": [
    "Time Complexity: O(n)  \n",
    "Space Complexity: O(1)"
   ]
  },
  {
   "cell_type": "markdown",
   "metadata": {},
   "source": [
    "#### **Delete Duplicates From a Sorted Array**"
   ]
  },
  {
   "cell_type": "code",
   "execution_count": null,
   "metadata": {},
   "outputs": [],
   "source": [
    "A = [2, 3, 5, 5, 7, 11, 11, 11, 13]\n",
    "\n",
    "def delete_duplicates(A: List[int]) -> int:\n",
    "    i = 0\n",
    "    for j in range(len(A)):\n",
    "        if A[j] != A[i]:\n",
    "            i += 1\n",
    "            A[i], A[j] = A[j], A[i]\n",
    "            \n",
    "    return i + 1\n",
    "            \n",
    "n = delete_duplicates(A)\n",
    "print(A[:n])"
   ]
  },
  {
   "cell_type": "markdown",
   "metadata": {},
   "source": [
    "Time Complexity: O(n)  \n",
    "Space Complexity: O(1)"
   ]
  },
  {
   "cell_type": "markdown",
   "metadata": {},
   "source": [
    "#### **Variant: Implement a function which takes as input an array and a key, and updates the array so that all occurrences of the input key have been removed and the remaining elements have been shifted left to fill the emptied indices. Return the number of remaining elements. There are no requirements as to the values stored beyond the last valid element.**"
   ]
  },
  {
   "cell_type": "code",
   "execution_count": null,
   "metadata": {},
   "outputs": [],
   "source": [
    "A = [2, 3, 5, 5, 7, 11, 11, 11, 13]\n",
    "val = 5\n",
    "\n",
    "def remove_element(A: List[int], val: int) -> int:\n",
    "    i = 0\n",
    "    for j in range(len(A)):\n",
    "        if A[j] != val:\n",
    "            A[i] = A[j]\n",
    "            i += 1\n",
    "            \n",
    "    return i\n",
    "            \n",
    "remove_element(A, val)"
   ]
  },
  {
   "cell_type": "markdown",
   "metadata": {},
   "source": [
    "Time Complexity: O(n)  \n",
    "Space Complexity: O(1)"
   ]
  },
  {
   "cell_type": "markdown",
   "metadata": {},
   "source": [
    "#### **Buy and Sell Stock Once**"
   ]
  },
  {
   "cell_type": "markdown",
   "metadata": {},
   "source": [
    "Design an algorithm that determines the maximum profit that could have been made by buying and then selling a single share over a given day range, subject to the constraint that the buy and the sell have to take place at the start of the day; the sell must occur on a later day."
   ]
  },
  {
   "cell_type": "markdown",
   "metadata": {},
   "source": [
    "- Brute-force approach"
   ]
  },
  {
   "cell_type": "code",
   "execution_count": null,
   "metadata": {},
   "outputs": [],
   "source": [
    "prices = [310, 315, 275, 295, 260, 270, 290, 230, 255, 250]\n",
    "\n",
    "def max_profit(prices: List[int]) -> int:\n",
    "    result = 0\n",
    "    for i in range(len(prices)):\n",
    "        max_so_far = 0\n",
    "        for j in range(i, len(prices)):\n",
    "            max_so_far = max(max_so_far, prices[j] - prices[i])\n",
    "        result = max(result, max_so_far)\n",
    "        \n",
    "    return result\n",
    "\n",
    "max_profit(prices)"
   ]
  },
  {
   "cell_type": "markdown",
   "metadata": {},
   "source": [
    "Time Complexity: O(n<sup>2</sup>)<br>\n",
    "Space Complexity: O(1)"
   ]
  },
  {
   "cell_type": "markdown",
   "metadata": {},
   "source": [
    "- Linear approach"
   ]
  },
  {
   "cell_type": "code",
   "execution_count": null,
   "metadata": {},
   "outputs": [],
   "source": [
    "prices = [310, 315, 275, 295, 260, 270, 290, 230, 255, 250]\n",
    "\n",
    "def max_profit(prices: List[int]) -> int:\n",
    "    min_so_far = float('inf')\n",
    "    max_profit = 0\n",
    "    for price in prices:\n",
    "        min_so_far = min(min_so_far, price)\n",
    "        max_profit = max(result, price - min_so_far)\n",
    "        \n",
    "    return result\n",
    "\n",
    "max_profit(prices)"
   ]
  },
  {
   "cell_type": "markdown",
   "metadata": {},
   "source": [
    "Time Complexity: O(n)  \n",
    "Space Complexity: O(1)"
   ]
  },
  {
   "cell_type": "markdown",
   "metadata": {},
   "source": [
    "#### **Variant: Write a program that takes an array of integers and finds the length of a longest substring all of whose entries are equal.**"
   ]
  },
  {
   "cell_type": "code",
   "execution_count": null,
   "metadata": {},
   "outputs": [],
   "source": [
    "A = [1, 2, 2, 2, 2, 3, 3, 1, 1, 1]\n",
    "\n",
    "def longest_substring(A: List[int]) -> int:\n",
    "    # Start of subarray pointer\n",
    "    i = 0\n",
    "    \n",
    "    result = 0\n",
    "    for j in range(len(A)):\n",
    "        if A[j] != A[i]:\n",
    "            result = max(result, j - i)\n",
    "            i = j\n",
    "    \n",
    "    return result\n",
    "\n",
    "longest_substring(A)"
   ]
  },
  {
   "cell_type": "markdown",
   "metadata": {},
   "source": [
    "Time Complexity: O(n)  \n",
    "Space Complexity: O(1)"
   ]
  },
  {
   "cell_type": "markdown",
   "metadata": {},
   "source": [
    "#### **Buy and Sell a Stock Twice**"
   ]
  },
  {
   "cell_type": "markdown",
   "metadata": {},
   "source": [
    "Write a program that computes the maximum profit that can be made by buying and selling a share at most twice. The second buy muys be made after the first sale."
   ]
  },
  {
   "cell_type": "code",
   "execution_count": null,
   "metadata": {},
   "outputs": [],
   "source": [
    "prices = [12, 11, 13, 9, 12, 8, 14, 13, 15]\n",
    "\n",
    "def buy_and_sell_stock_twice(prices: List[int]) -> int:\n",
    "    max_profit = 0\n",
    "    min_so_far = float('inf')\n",
    "    first_sell_max = []\n",
    "    \n",
    "    # Forward phase. For each day, we record maximum profit if we sell on that day.\n",
    "    for price in prices:\n",
    "        min_so_far = min(min_so_far, price)\n",
    "        max_profit = max(max_profit, price - min_so_far)\n",
    "        first_sell_max.append(max_profit)\n",
    "    \n",
    "    # Backward phase. For each day, find the maximum profit if we make the second\n",
    "    # buy on that day.\n",
    "    max_so_far = float('-inf')\n",
    "    for i, price in reversed(list(enumerate(prices[1:], 1))):\n",
    "        max_so_far = max(max_so_far, price)\n",
    "        max_profit = max(max_profit, max_so_far - price + first_sell_max[i])\n",
    "        \n",
    "    return max_profit\n",
    "    \n",
    "buy_and_sell_stock_twice(prices)"
   ]
  },
  {
   "cell_type": "markdown",
   "metadata": {},
   "source": [
    "Time Complexity: O(n)  \n",
    "Space Complexity: O(n)"
   ]
  },
  {
   "cell_type": "markdown",
   "metadata": {},
   "source": [
    "#### **Computing an Alternation**"
   ]
  },
  {
   "cell_type": "markdown",
   "metadata": {},
   "source": [
    "Write a program that computes that takes an array A of n numbers, and rearranges A's elements to get a new array B having the property that B[0]≤B[1]≥B[2]≤B[3]≥B[4]≤B[5]..."
   ]
  },
  {
   "cell_type": "code",
   "execution_count": null,
   "metadata": {},
   "outputs": [],
   "source": [
    "A = [3, 2, 4, 1, 5, 6]\n",
    "\n",
    "def rearrange(A: List[int]) -> None:\n",
    "    for i in range(len(A) - 1):\n",
    "        # Switch if i is even and A[i] > A[i + 1] or\n",
    "        # if i is odd and A[i] < A[i + 1]\n",
    "        A[i:i + 2] = sorted(A[i:i + 2], reverse=bool(i % 2))\n",
    "    \n",
    "rearrange(A)\n",
    "print(A)"
   ]
  },
  {
   "cell_type": "markdown",
   "metadata": {},
   "source": [
    "Time Complexity: O(n)  \n",
    "Space Complexity: O(1)"
   ]
  },
  {
   "cell_type": "markdown",
   "metadata": {},
   "source": [
    "#### **Enumerate All Primes to n**"
   ]
  },
  {
   "cell_type": "markdown",
   "metadata": {},
   "source": [
    "Write a program that takes an integer argument and returns all the primes between 1 and that integer."
   ]
  },
  {
   "cell_type": "code",
   "execution_count": null,
   "metadata": {},
   "outputs": [],
   "source": [
    "n = 18\n",
    "\n",
    "def generate_primes(n: int) -> List[int]:\n",
    "    primes = []\n",
    "    # Boolean array initially set to all be possible primes except 0 and 1\n",
    "    is_prime = [False, False] + [True] * (n - 1)\n",
    "    for i in range(2, n + 1):\n",
    "        if is_prime[i]:\n",
    "            primes.append(i)\n",
    "            # Remove i's multiples from boolean array since those entries have i as a divisor\n",
    "            for j in range(i * 2, n + 1, i):\n",
    "                is_prime[j] = False\n",
    "                \n",
    "    return primes\n",
    "        \n",
    "generate_primes(n)"
   ]
  },
  {
   "cell_type": "markdown",
   "metadata": {},
   "source": [
    "Time Complexity: O(n log log n)  \n",
    "Space Complexity: O(n)"
   ]
  },
  {
   "cell_type": "markdown",
   "metadata": {},
   "source": [
    "- Improve runtime by sieving p's multiples from p<sup>2</sup> instead of p\n",
    "- Improve storage by ignoring even numbers"
   ]
  },
  {
   "cell_type": "code",
   "execution_count": null,
   "metadata": {},
   "outputs": [],
   "source": [
    "n = 18\n",
    "\n",
    "def generate_primes(n: int) -> List[int]:\n",
    "    if n < 2:\n",
    "        return []\n",
    "    size = (n - 3) // 2 + 1\n",
    "    primes = [2] #Stores the primes from 1 to n.\n",
    "    # is_prime[i] represents (2i + 3) is prime or not.\n",
    "    # For example, is_prime[0] represents 3 is prime or not, is_prime[1] represents 5.\n",
    "    # Initially set each to true. Then use sieving to eliminate nonprimes.\n",
    "    is_prime = [True] * size\n",
    "    for i in range(size):\n",
    "        if is_prime[i]:\n",
    "            # Formula for ith prime\n",
    "            p = i * 2 + 3\n",
    "            primes.append(p)\n",
    "            # p^2 = 4i^2 + 12i + 9\n",
    "            # The index in is_prime is (2i^2 + 6i + 3) because is_prime[i] represents 2i + 3.\n",
    "            for j in range(2 * i**2 + 6 * i + 3, size, p):\n",
    "                is_prime[j] = False\n",
    "                \n",
    "    return primes\n",
    "        \n",
    "generate_primes(n)"
   ]
  },
  {
   "cell_type": "markdown",
   "metadata": {},
   "source": [
    "Time Complexity: O(n log log n)  \n",
    "Space Complexity: O(n)"
   ]
  },
  {
   "cell_type": "markdown",
   "metadata": {},
   "source": [
    "#### **Given an array A of n elements and a permutation P, apply P to A**"
   ]
  },
  {
   "cell_type": "code",
   "execution_count": null,
   "metadata": {},
   "outputs": [],
   "source": [
    "P = [2, 0, 1, 3]\n",
    "A = ['a', 'b', 'c', 'd']\n",
    "\n",
    "def apply_permutation(P: List[int], A: List[int]) -> None:\n",
    "    for i in range(len(A)):\n",
    "        while P[i] != i:\n",
    "            A[P[i]], A[i] = A[i], A[P[i]]\n",
    "            P[P[i]], P[i] = P[i], P[P[i]]\n",
    "\n",
    "apply_permutation(P, A)\n",
    "print(A)"
   ]
  },
  {
   "cell_type": "markdown",
   "metadata": {},
   "source": [
    "Time Complexity: O(n)  \n",
    "Space Complexity: O(1)"
   ]
  },
  {
   "cell_type": "markdown",
   "metadata": {},
   "source": [
    "#### **Compute the Next Permutation**"
   ]
  },
  {
   "cell_type": "markdown",
   "metadata": {},
   "source": [
    "Write a program that takes as input an array of integers, and returns the next array under lexicographical ordering, from the set of all arrays that are permutations of the input array. For example, if the input is <1,2,3,1>, you should return <1,3,1,2>; if the input is <2,2,4,1,3>, you should return <2,2,4,3,1>. If there is no such array, e.g., the input is <3,2,1,1>, return the empty array."
   ]
  },
  {
   "cell_type": "code",
   "execution_count": null,
   "metadata": {},
   "outputs": [],
   "source": [
    "A = [1, 2, 3, 1]\n",
    "\n",
    "def next_permutation(A: List[int]) -> List[int]:\n",
    "    # Find the first entry, k, from the right which is smaller than the entry to it's right.\n",
    "    k = len(A) - 2\n",
    "    while k >= 0 and A[k] > A[k + 1]:\n",
    "        k -= 1\n",
    "    # If i is smaller than 0 -> the array is in sorted descending order \n",
    "    # and there is no next permutation.\n",
    "    if k == -1:\n",
    "        return []\n",
    "    \n",
    "    for i in range(len(A) - 1, k, -1):\n",
    "        # Since we search in reverse order, the first element greater than the inversion point is\n",
    "        # the element that i tshould be swapped with.\n",
    "        if A[i] > A[k]:\n",
    "            A[k], A[i] = A[i], A[k]\n",
    "            break\n",
    "            \n",
    "    # Reverse the sequence after k\n",
    "    A[k + 1:] = reversed(A[k + 1:])\n",
    "    \n",
    "    return A\n",
    "\n",
    "next_permutation(A)"
   ]
  },
  {
   "cell_type": "markdown",
   "metadata": {},
   "source": [
    "Time Complexity: O(n)  \n",
    "Space Complexity: O(1)"
   ]
  },
  {
   "cell_type": "markdown",
   "metadata": {},
   "source": [
    "#### **Sample Offline Data**"
   ]
  },
  {
   "cell_type": "markdown",
   "metadata": {},
   "source": [
    "Implement an algorithm that takes as input an array of distinct elements and a size, and returns a subset of the given size of the array elements. All subsets should be equally likely. Return the result in the input array itself."
   ]
  },
  {
   "cell_type": "code",
   "execution_count": null,
   "metadata": {},
   "outputs": [],
   "source": [
    "import random\n",
    "\n",
    "A = [3, 7, 5, 11]\n",
    "\n",
    "def random_sampling(k: int, A: List[int]) -> None:\n",
    "    for i in range(k):\n",
    "        # Generate a random index between i and len(A) - 1\n",
    "        r = random.randint(i, len(A) - 1)\n",
    "        A[i], A[r] = A[r], A[i]\n",
    "\n",
    "random_sampling(3, A)\n",
    "print(A)"
   ]
  },
  {
   "cell_type": "markdown",
   "metadata": {},
   "source": [
    "Time Complexity: O(k)  \n",
    "Space Complexity: O(1)  \n",
    "If k were greater than n/2 --> Optimize algorithm by removing elements from array instead"
   ]
  },
  {
   "cell_type": "markdown",
   "metadata": {},
   "source": [
    "#### **Sample Online Data**"
   ]
  },
  {
   "cell_type": "markdown",
   "metadata": {},
   "source": [
    "Design a program that takes as input a size k, and reads packets, continuously maintaining a uniform random subset of size k of the read packets."
   ]
  },
  {
   "cell_type": "code",
   "execution_count": null,
   "metadata": {},
   "outputs": [],
   "source": [
    "import random\n",
    "\n",
    "stream = ['p', 'q', 'r', 't', 'u', 'v']\n",
    "k = 2\n",
    "\n",
    "# Assumption: there are at least k elements in the stream.\n",
    "def online_random_sample(stream: Iterator[int], k: int) -> List[int]:\n",
    "    # Stores the first k elements.\n",
    "    running_sample = list(itertools.islice(stream, k))\n",
    "    \n",
    "    # Have read the first k elements.\n",
    "    num_seen_so_far = k\n",
    "    for x in stream:\n",
    "        num_seen_so_far += 1\n",
    "        # Generate a random number in [0, num_seen_so_far - 1], and if this\n",
    "        # number is in [0, k - 1], we replace that element from the sample with\n",
    "        # x.\n",
    "        idx_to_replace = random.randrange(num_seen_so_far)\n",
    "        if idx_to_replace < k:\n",
    "            running_sample[idx_to_replace] = x\n",
    "            \n",
    "    return running_sample\n",
    "    \n",
    "online_random_sample(stream, k)"
   ]
  },
  {
   "cell_type": "markdown",
   "metadata": {},
   "source": [
    "Time Complexity: O(n)  \n",
    "Space Complexity: O(k)"
   ]
  },
  {
   "cell_type": "markdown",
   "metadata": {},
   "source": [
    "#### **Compute a Random Permutation**"
   ]
  },
  {
   "cell_type": "markdown",
   "metadata": {},
   "source": [
    "Design an algorithm that creates uniformly random permutations of {0,1,...,n-1}. You are given a random number generator that returns integers in the set {0,1,...,n-1} with equal probability; use as few calls to it as possible."
   ]
  },
  {
   "cell_type": "code",
   "execution_count": null,
   "metadata": {},
   "outputs": [],
   "source": [
    "import random\n",
    "\n",
    "n = 4\n",
    "\n",
    "def compute_random_permutation(n: int) -> List[int]:\n",
    "    permutation = list(range(n))\n",
    "    # Switch every element with a random element after its position\n",
    "    for i in range(n):\n",
    "        r = random.randint(i, n - 1)\n",
    "        permutation[i], permutation[r] = permutation[r], permutation[i]\n",
    "        \n",
    "    return permutation\n",
    "\n",
    "compute_random_permutation(n)"
   ]
  },
  {
   "cell_type": "markdown",
   "metadata": {},
   "source": [
    "Time Complexity: O(n)  \n",
    "Space Complexity: O(n)"
   ]
  },
  {
   "cell_type": "markdown",
   "metadata": {},
   "source": [
    "#### **Compute a Random Subset**"
   ]
  },
  {
   "cell_type": "markdown",
   "metadata": {},
   "source": [
    "Write a program that takes as input a positive integer n and a size k ≤ n, and returns a size-k subset of {0,1,2,...,n-1}. The subset should be represented as an array. All subsets should be equally likely and, in addition, all permutations of elements of the array should be equally likely. You may assume you have a function which takes as input a nonnegative integer t and returns an integer in the set {0,1,...,t-1} with uniform probability. "
   ]
  },
  {
   "cell_type": "code",
   "execution_count": null,
   "metadata": {},
   "outputs": [],
   "source": [
    "import random\n",
    "\n",
    "n = 100\n",
    "k = 4\n",
    "\n",
    "def random_subset(n: int, k: int) -> List[int]:\n",
    "    changed_elements: Dict[int, int] = {}\n",
    "    for i in range(k):\n",
    "        # Generate random index between i and n - 1, inclusive\n",
    "        r = random.randrange(i, n)\n",
    "        # Get mapped r from dict or leave as r if no entry\n",
    "        r_mapped = changed_elements.get(r, r)\n",
    "        # Get mapped i from dict or leave as i if no entry\n",
    "        i_mapped = changed_elements.get(i, i)\n",
    "        # Map random index r to index i and vice versa\n",
    "        changed_elements[r] = i_mapped\n",
    "        changed_elements[i] = r_mapped\n",
    "        \n",
    "    return changed_elements\n",
    "\n",
    "random_subset(n, k)"
   ]
  },
  {
   "cell_type": "markdown",
   "metadata": {},
   "source": [
    "Time Complexity: O(k)  \n",
    "Space Complexity: O(k)"
   ]
  },
  {
   "cell_type": "markdown",
   "metadata": {},
   "source": [
    "#### **Generate Nonuniform Random Numbers**"
   ]
  },
  {
   "cell_type": "markdown",
   "metadata": {},
   "source": [
    "You are given n numbers as well as probabilities p0,p1,...,pn-1, which sum up to 1. Given a random number generator that produces values in [0,1) uniformly, how would you generate one of the n numbers according to the specified probabilities?"
   ]
  },
  {
   "cell_type": "code",
   "execution_count": null,
   "metadata": {},
   "outputs": [],
   "source": [
    "import random, bisect, itertools\n",
    "\n",
    "V = [3, 5, 7, 11]\n",
    "P = [9/18, 6/18, 2/18, 1/18]\n",
    "\n",
    "def nonuniform_random_number_generator(V: List[int], P: List[float]) -> int:\n",
    "    prefix_sum_of_probabilities = list(itertools.accumulate(P))\n",
    "    interval_idx = bisect.bisect(prefix_sum_of_probabilities, random.random())\n",
    "    return V[interval_idx]\n",
    "    \n",
    "nonuniform_random_number_generator(V, P)"
   ]
  },
  {
   "cell_type": "markdown",
   "metadata": {},
   "source": [
    "Time Complexity: O(n)  \n",
    "Space Complexity: O(n)"
   ]
  },
  {
   "cell_type": "markdown",
   "metadata": {},
   "source": [
    "#### **The Sudoku Checker Problem**"
   ]
  },
  {
   "cell_type": "markdown",
   "metadata": {},
   "source": [
    "Check whether a 9 x 9 2D array representing a partially completed Sudoku is valid. Specifically, check that no row, column, or 3 x 3 2D subarray contains duplicates. A 0-value in the 2D array indicates that entry is blank; every other entry is in [1,9]."
   ]
  },
  {
   "cell_type": "code",
   "execution_count": null,
   "metadata": {},
   "outputs": [],
   "source": [
    "import math\n",
    "\n",
    "sudoku = [[5,3,0,0,7,0,0,0,0],\n",
    "          [6,0,0,1,9,5,0,0,0],\n",
    "          [0,9,8,0,0,0,0,6,0],\n",
    "          [8,0,0,0,6,0,0,0,3],\n",
    "          [4,0,0,8,0,3,0,0,1],\n",
    "          [7,0,0,0,2,0,0,0,6],\n",
    "          [0,6,0,0,0,0,2,8,0],\n",
    "          [0,0,0,4,1,9,0,0,5],\n",
    "          [0,0,0,0,8,0,0,7,9]\n",
    "         ]\n",
    "\n",
    "def is_valid_sudoku(sudoku: List[List[int]]) -> bool:\n",
    "    # Helper function to determine dublicates in a block\n",
    "    def has_duplicate(block):\n",
    "        block = list(filter(lambda x: x != 0, block))\n",
    "        return len(block) != len(set(block))\n",
    "    \n",
    "    n = len(sudoku)\n",
    "    # Check rows and columns\n",
    "    if any(\n",
    "            has_duplicate([sudoku[i][j] for j in range(n)])\n",
    "            or has_duplicate([sudoku[j][i] for j in range(n)])\n",
    "            for i in range(n)):\n",
    "        return False\n",
    "    \n",
    "    # Check subgrid\n",
    "    region_size = int(math.sqrt(n))\n",
    "    return all(\n",
    "            not has_duplicate([\n",
    "                sudoku[a][b]\n",
    "                for a in range(region_size * i, region_size * (i + 1))\n",
    "                for b in range(region_size * j, region_size * (j + 1))\n",
    "            ]) for i in range(region_size) for j in range(region_size))\n",
    "        \n",
    "is_valid_sudoku(sudoku)"
   ]
  },
  {
   "cell_type": "markdown",
   "metadata": {},
   "source": [
    "Time Complexity: O(n<sup>2</sup>)\\\n",
    "Space Complexity: O(n<sup>2</sup>)"
   ]
  },
  {
   "cell_type": "markdown",
   "metadata": {},
   "source": [
    "- Pythonic solution with list comprehensions"
   ]
  },
  {
   "cell_type": "code",
   "execution_count": null,
   "metadata": {},
   "outputs": [],
   "source": [
    "import math\n",
    "import collections\n",
    "\n",
    "sudoku = [[5,3,0,0,7,0,0,0,0],\n",
    "          [6,0,0,1,9,5,0,0,0],\n",
    "          [0,9,8,0,0,0,0,6,0],\n",
    "          [8,0,0,0,6,0,0,0,3],\n",
    "          [4,0,0,8,0,3,0,0,1],\n",
    "          [7,0,0,0,2,0,0,0,6],\n",
    "          [0,6,0,0,0,0,2,8,0],\n",
    "          [0,0,0,4,1,9,0,0,5],\n",
    "          [0,0,0,0,8,0,0,7,9]\n",
    "         ]\n",
    "\n",
    "def is_valid_sudoku(sudoku: List[List[int]]) -> bool:\n",
    "    region_size = int(math.sqrt(len(sudoku)))\n",
    "    return max(collections.Counter(\n",
    "        k for i, row in enumerate(sudoku)\n",
    "        for j, c in enumerate(row) if c != 0\n",
    "        for k in ((i, str(c)), (str(c), j),\n",
    "                 (i // region_size, j // region_size, str(c)))).values(),\n",
    "              default=0) <= 1\n",
    "\n",
    "is_valid_sudoku(sudoku)"
   ]
  },
  {
   "cell_type": "markdown",
   "metadata": {},
   "source": [
    "Time Complexity: O(n<sup>2</sup>)\\\n",
    "Space Complexity: O(n<sup>2</sup>)"
   ]
  },
  {
   "cell_type": "markdown",
   "metadata": {},
   "source": [
    "#### **Compute the Spiral Ordering of a 2D Array**"
   ]
  },
  {
   "cell_type": "markdown",
   "metadata": {},
   "source": [
    "Write a program which takes an n x n 2D array and returns the spiral ordering of the array."
   ]
  },
  {
   "cell_type": "code",
   "execution_count": null,
   "metadata": {},
   "outputs": [],
   "source": [
    "matrix = [[1,2,3],[4,5,6],[7,8,9]]\n",
    "\n",
    "def matrix_in_spiral_order(matrix: List[List[int]]) -> List[int]:\n",
    "    # All possible shifts (right, down, left, up)\n",
    "    shift = ((0, 1), (1, 0), (0, -1), (-1, 0))\n",
    "    direction = x = y = 0\n",
    "    \n",
    "    spiral_ordering = []\n",
    "    for _ in range(len(matrix) ** 2):\n",
    "        spiral_ordering.append(matrix[x][y])\n",
    "        # Set visited index to 0\n",
    "        matrix[x][y] = 0\n",
    "        # Next index based on direction\n",
    "        next_x, next_y = x + shift[direction][0], y + shift[direction][1]\n",
    "        if (next_x not in range(len(matrix)) \n",
    "                or next_y not in range(len(matrix))\n",
    "                or matrix[next_x][next_y] == 0):\n",
    "            # Increment direction or start over if direction == 3\n",
    "            direction = (direction + 1) & 3\n",
    "            next_x, next_y = x + shift[direction][0], y + shift[direction][1]\n",
    "        x, y = next_x, next_y\n",
    "    \n",
    "    return spiral_ordering\n",
    "\n",
    "matrix_in_spiral_order(matrix)"
   ]
  },
  {
   "cell_type": "markdown",
   "metadata": {},
   "source": [
    "Time Complexity: O(n<sup>2</sup>)\\\n",
    "Space Complexity: O(n)"
   ]
  },
  {
   "cell_type": "markdown",
   "metadata": {},
   "source": [
    "#### **Rotate a 2D Array**"
   ]
  },
  {
   "cell_type": "markdown",
   "metadata": {},
   "source": [
    "Write a function that takes as input an n x n 2D array, and rotates the array by 90 degrees clockwise."
   ]
  },
  {
   "cell_type": "markdown",
   "metadata": {},
   "source": [
    "- Brute-force: Turn rows into columns"
   ]
  },
  {
   "cell_type": "code",
   "execution_count": null,
   "metadata": {},
   "outputs": [],
   "source": [
    "matrix = [[1,2,3,4],[5,6,7,8],[9,10,11,12],[13,14,15,16]]\n",
    "\n",
    "def rotate_matrix(matrix: List[List[int]]) -> None:\n",
    "    n = len(matrix)\n",
    "    result = []\n",
    "    for j in range(n):\n",
    "        row = []\n",
    "        for i in range(n - 1, -1, -1):\n",
    "            row.append(matrix[i][j])\n",
    "        result.append(row)\n",
    "        \n",
    "    matrix[:] = result\n",
    "\n",
    "rotate_matrix(matrix)\n",
    "print(matrix)"
   ]
  },
  {
   "cell_type": "markdown",
   "metadata": {},
   "source": [
    "Time Complexity: O(n<sup>2</sup>)\\\n",
    "Space Complexity: O(n<sup>2</sup>)"
   ]
  }
 ],
 "metadata": {
  "kernelspec": {
   "display_name": "Python 3.7.4 64-bit",
   "language": "python",
   "name": "python37464bit6fc5c9ee3ddc4409a96e8a8d945e3dcc"
  },
  "language_info": {
   "codemirror_mode": {
    "name": "ipython",
    "version": 3
   },
   "file_extension": ".py",
   "mimetype": "text/x-python",
   "name": "python",
   "nbconvert_exporter": "python",
   "pygments_lexer": "ipython3",
   "version": "3.7.4"
  }
 },
 "nbformat": 4,
 "nbformat_minor": 4
}
