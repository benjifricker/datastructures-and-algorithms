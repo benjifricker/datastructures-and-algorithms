{
 "cells": [
  {
   "cell_type": "markdown",
   "metadata": {},
   "source": [
    "# Strings"
   ]
  },
  {
   "cell_type": "markdown",
   "metadata": {},
   "source": [
    "#### **Interconvert Strings and Integers**"
   ]
  },
  {
   "cell_type": "markdown",
   "metadata": {},
   "source": [
    "Implement an integer to string conversion function, and a string to integer conversion function. For example, if the input to the first function is the integer 314, it should return the string \"314\" and if the input to the second function is the string \"314\" it should return the integer 314."
   ]
  },
  {
   "cell_type": "code",
   "execution_count": null,
   "metadata": {},
   "outputs": [],
   "source": [
    "def int_to_string(i: int):\n",
    "    result = []\n",
    "    # If int is below 0 make it positive for easier manipulation \n",
    "    # and append '-' to result\n",
    "    if i < 0:\n",
    "        result.append('-')\n",
    "        i *= -1\n",
    "    while i > 0:\n",
    "        result.append(str(i % 10))\n",
    "        i //= 10\n",
    "        \n",
    "    return ''.join(result)\n",
    "\n",
    "int_to_string(-314)"
   ]
  },
  {
   "cell_type": "code",
   "execution_count": null,
   "metadata": {},
   "outputs": [],
   "source": [
    "def string_to_int(s: str):\n",
    "    result = 0\n",
    "    n = len(s)\n",
    "    for i in range(n - 1, -1, -1):\n",
    "        if s[i] == '-':\n",
    "            result *= -1\n",
    "        else:\n",
    "            # Add the integer at index i multiplied by a power of\n",
    "            # ten based on it's position\n",
    "            result += int(s[i]) * (10 ** (n - 1 - i))\n",
    "            \n",
    "    return result\n",
    "\n",
    "string_to_int('-314')"
   ]
  }
 ],
 "metadata": {
  "kernelspec": {
   "display_name": "Python 3.7.4 64-bit",
   "language": "python",
   "name": "python37464bit6fc5c9ee3ddc4409a96e8a8d945e3dcc"
  },
  "language_info": {
   "codemirror_mode": {
    "name": "ipython",
    "version": 3
   },
   "file_extension": ".py",
   "mimetype": "text/x-python",
   "name": "python",
   "nbconvert_exporter": "python",
   "pygments_lexer": "ipython3",
   "version": "3.7.4"
  }
 },
 "nbformat": 4,
 "nbformat_minor": 4
}
